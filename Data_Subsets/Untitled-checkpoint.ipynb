{
 "cells": [
  {
   "cell_type": "code",
   "execution_count": 1,
   "id": "cb0af5b4-01b0-4e14-a481-d16ec5f78df9",
   "metadata": {
    "scrolled": true
   },
   "outputs": [
    {
     "name": "stderr",
     "output_type": "stream",
     "text": [
      "[nltk_data] Downloading package vader_lexicon to C:\\Users\\Marlon\n",
      "[nltk_data]     Dominguez\\AppData\\Roaming\\nltk_data...\n",
      "[nltk_data]   Package vader_lexicon is already up-to-date!\n"
     ]
    }
   ],
   "source": [
    "#Import necessary packages and modules \n",
    "\n",
    "import yfinance as yf\n",
    "import feedparser\n",
    "import pandas as pd\n",
    "import datetime\n",
    "import concurrent.futures\n",
    "\n",
    "import nltk\n",
    "nltk.download('vader_lexicon') \n",
    "from nltk.sentiment.vader import SentimentIntensityAnalyzer\n"
   ]
  },
  {
   "cell_type": "code",
   "execution_count": 2,
   "id": "ae302b9a-17d4-4aff-ab52-be8ae05e3f3c",
   "metadata": {},
   "outputs": [
    {
     "name": "stdout",
     "output_type": "stream",
     "text": [
      "MMM\n",
      "AOS\n",
      "ABT\n",
      "ABBV\n",
      "ACN\n",
      "ADBE\n",
      "AMD\n",
      "AES\n",
      "AFL\n",
      "A\n",
      "APD\n",
      "ABNB\n",
      "AKAM\n",
      "ALB\n",
      "ARE\n",
      "ALGN\n",
      "ALLE\n",
      "LNT\n",
      "ALL\n",
      "GOOGL\n",
      "GOOG\n",
      "MO\n",
      "AMZN\n",
      "AMCR\n",
      "AEE\n",
      "AEP\n",
      "AXP\n",
      "AIG\n",
      "AMT\n",
      "AWK\n",
      "AMP\n",
      "AME\n",
      "AMGN\n",
      "APH\n",
      "ADI\n",
      "ANSS\n",
      "AON\n",
      "APA\n",
      "APO\n",
      "AAPL\n",
      "AMAT\n",
      "APTV\n",
      "ACGL\n",
      "ADM\n",
      "ANET\n",
      "AJG\n",
      "AIZ\n",
      "T\n",
      "ATO\n",
      "ADSK\n",
      "ADP\n",
      "AZO\n",
      "AVB\n",
      "AVY\n",
      "AXON\n",
      "BKR\n",
      "BALL\n",
      "BAC\n",
      "BAX\n",
      "BDX\n",
      "BRK.B\n",
      "BBY\n",
      "TECH\n",
      "BIIB\n",
      "BLK\n",
      "BX\n",
      "BK\n",
      "BA\n",
      "BKNG\n",
      "BSX\n",
      "BMY\n",
      "AVGO\n",
      "BR\n",
      "BRO\n",
      "BF.B\n",
      "BLDR\n",
      "BG\n",
      "BXP\n",
      "CHRW\n",
      "CDNS\n",
      "CZR\n",
      "CPT\n",
      "CPB\n",
      "COF\n",
      "CAH\n",
      "KMX\n",
      "CCL\n",
      "CARR\n",
      "CAT\n",
      "CBOE\n",
      "CBRE\n",
      "CDW\n",
      "COR\n",
      "CNC\n",
      "CNP\n",
      "CF\n",
      "CRL\n",
      "SCHW\n",
      "CHTR\n",
      "CVX\n",
      "CMG\n",
      "CB\n",
      "CHD\n",
      "CI\n",
      "CINF\n",
      "CTAS\n",
      "CSCO\n",
      "C\n",
      "CFG\n",
      "CLX\n",
      "CME\n",
      "CMS\n",
      "KO\n",
      "CTSH\n",
      "CL\n",
      "CMCSA\n",
      "CAG\n",
      "COP\n",
      "ED\n",
      "STZ\n",
      "CEG\n",
      "COO\n",
      "CPRT\n",
      "GLW\n",
      "CPAY\n",
      "CTVA\n",
      "CSGP\n",
      "COST\n",
      "CTRA\n",
      "CRWD\n",
      "CCI\n",
      "CSX\n",
      "CMI\n",
      "CVS\n",
      "DHR\n",
      "DRI\n",
      "DVA\n",
      "DAY\n",
      "DECK\n",
      "DE\n",
      "DELL\n",
      "DAL\n",
      "DVN\n",
      "DXCM\n",
      "FANG\n",
      "DLR\n",
      "DFS\n",
      "DG\n",
      "DLTR\n",
      "D\n",
      "DPZ\n",
      "DASH\n",
      "DOV\n",
      "DOW\n",
      "DHI\n",
      "DTE\n",
      "DUK\n",
      "DD\n",
      "EMN\n",
      "ETN\n",
      "EBAY\n",
      "ECL\n",
      "EIX\n",
      "EW\n",
      "EA\n",
      "ELV\n",
      "EMR\n",
      "ENPH\n",
      "ETR\n",
      "EOG\n",
      "EPAM\n",
      "EQT\n",
      "EFX\n",
      "EQIX\n",
      "EQR\n",
      "ERIE\n",
      "ESS\n",
      "EL\n",
      "EG\n",
      "EVRG\n",
      "ES\n",
      "EXC\n",
      "EXE\n",
      "EXPE\n",
      "EXPD\n",
      "EXR\n",
      "XOM\n",
      "FFIV\n",
      "FDS\n",
      "FICO\n",
      "FAST\n",
      "FRT\n",
      "FDX\n",
      "FIS\n",
      "FITB\n",
      "FSLR\n",
      "FE\n",
      "FI\n",
      "F\n",
      "FTNT\n",
      "FTV\n",
      "FOXA\n",
      "FOX\n",
      "BEN\n",
      "FCX\n",
      "GRMN\n",
      "IT\n",
      "GE\n",
      "GEHC\n",
      "GEV\n",
      "GEN\n",
      "GNRC\n",
      "GD\n",
      "GIS\n",
      "GM\n",
      "GPC\n",
      "GILD\n",
      "GPN\n",
      "GL\n",
      "GDDY\n",
      "GS\n",
      "HAL\n",
      "HIG\n",
      "HAS\n",
      "HCA\n",
      "DOC\n",
      "HSIC\n",
      "HSY\n",
      "HES\n",
      "HPE\n",
      "HLT\n",
      "HOLX\n",
      "HD\n",
      "HON\n",
      "HRL\n",
      "HST\n",
      "HWM\n",
      "HPQ\n",
      "HUBB\n",
      "HUM\n",
      "HBAN\n",
      "HII\n",
      "IBM\n",
      "IEX\n",
      "IDXX\n",
      "ITW\n",
      "INCY\n",
      "IR\n",
      "PODD\n",
      "INTC\n",
      "ICE\n",
      "IFF\n",
      "IP\n",
      "IPG\n",
      "INTU\n",
      "ISRG\n",
      "IVZ\n",
      "INVH\n",
      "IQV\n",
      "IRM\n",
      "JBHT\n",
      "JBL\n",
      "JKHY\n",
      "J\n",
      "JNJ\n",
      "JCI\n",
      "JPM\n",
      "JNPR\n",
      "K\n",
      "KVUE\n",
      "KDP\n",
      "KEY\n",
      "KEYS\n",
      "KMB\n",
      "KIM\n",
      "KMI\n",
      "KKR\n",
      "KLAC\n",
      "KHC\n",
      "KR\n",
      "LHX\n",
      "LH\n",
      "LRCX\n",
      "LW\n",
      "LVS\n",
      "LDOS\n",
      "LEN\n",
      "LII\n",
      "LLY\n",
      "LIN\n",
      "LYV\n",
      "LKQ\n",
      "LMT\n",
      "L\n",
      "LOW\n",
      "LULU\n",
      "LYB\n",
      "MTB\n",
      "MPC\n",
      "MKTX\n",
      "MAR\n",
      "MMC\n",
      "MLM\n",
      "MAS\n",
      "MA\n",
      "MTCH\n",
      "MKC\n",
      "MCD\n",
      "MCK\n",
      "MDT\n",
      "MRK\n",
      "META\n",
      "MET\n",
      "MTD\n",
      "MGM\n",
      "MCHP\n",
      "MU\n",
      "MSFT\n",
      "MAA\n",
      "MRNA\n",
      "MHK\n",
      "MOH\n",
      "TAP\n",
      "MDLZ\n",
      "MPWR\n",
      "MNST\n",
      "MCO\n",
      "MS\n",
      "MOS\n",
      "MSI\n",
      "MSCI\n",
      "NDAQ\n",
      "NTAP\n",
      "NFLX\n",
      "NEM\n",
      "NWSA\n",
      "NWS\n",
      "NEE\n",
      "NKE\n",
      "NI\n",
      "NDSN\n",
      "NSC\n",
      "NTRS\n",
      "NOC\n",
      "NCLH\n",
      "NRG\n",
      "NUE\n",
      "NVDA\n",
      "NVR\n",
      "NXPI\n",
      "ORLY\n",
      "OXY\n",
      "ODFL\n",
      "OMC\n",
      "ON\n",
      "OKE\n",
      "ORCL\n",
      "OTIS\n",
      "PCAR\n",
      "PKG\n",
      "PLTR\n",
      "PANW\n",
      "PARA\n",
      "PH\n",
      "PAYX\n",
      "PAYC\n",
      "PYPL\n",
      "PNR\n",
      "PEP\n",
      "PFE\n",
      "PCG\n",
      "PM\n",
      "PSX\n",
      "PNW\n",
      "PNC\n",
      "POOL\n",
      "PPG\n",
      "PPL\n",
      "PFG\n",
      "PG\n",
      "PGR\n",
      "PLD\n",
      "PRU\n",
      "PEG\n",
      "PTC\n",
      "PSA\n",
      "PHM\n",
      "PWR\n",
      "QCOM\n",
      "DGX\n",
      "RL\n",
      "RJF\n",
      "RTX\n",
      "O\n",
      "REG\n",
      "REGN\n",
      "RF\n",
      "RSG\n",
      "RMD\n",
      "RVTY\n",
      "ROK\n",
      "ROL\n",
      "ROP\n",
      "ROST\n",
      "RCL\n",
      "SPGI\n",
      "CRM\n",
      "SBAC\n",
      "SLB\n",
      "STX\n",
      "SRE\n",
      "NOW\n",
      "SHW\n",
      "SPG\n",
      "SWKS\n",
      "SJM\n",
      "SW\n",
      "SNA\n",
      "SOLV\n",
      "SO\n",
      "LUV\n",
      "SWK\n",
      "SBUX\n",
      "STT\n",
      "STLD\n",
      "STE\n",
      "SYK\n",
      "SMCI\n",
      "SYF\n",
      "SNPS\n",
      "SYY\n",
      "TMUS\n",
      "TROW\n",
      "TTWO\n",
      "TPR\n",
      "TRGP\n",
      "TGT\n",
      "TEL\n",
      "TDY\n",
      "TER\n",
      "TSLA\n",
      "TXN\n",
      "TPL\n",
      "TXT\n",
      "TMO\n",
      "TJX\n",
      "TKO\n",
      "TSCO\n",
      "TT\n",
      "TDG\n",
      "TRV\n",
      "TRMB\n",
      "TFC\n",
      "TYL\n",
      "TSN\n",
      "USB\n",
      "UBER\n",
      "UDR\n",
      "ULTA\n",
      "UNP\n",
      "UAL\n",
      "UPS\n",
      "URI\n",
      "UNH\n",
      "UHS\n",
      "VLO\n",
      "VTR\n",
      "VLTO\n",
      "VRSN\n",
      "VRSK\n",
      "VZ\n",
      "VRTX\n",
      "VTRS\n",
      "VICI\n",
      "V\n",
      "VST\n",
      "VMC\n",
      "WRB\n",
      "GWW\n",
      "WAB\n",
      "WBA\n",
      "WMT\n",
      "DIS\n",
      "WBD\n",
      "WM\n",
      "WAT\n",
      "WEC\n",
      "WFC\n",
      "WELL\n",
      "WST\n",
      "WDC\n",
      "WY\n",
      "WSM\n",
      "WMB\n",
      "WTW\n",
      "WDAY\n",
      "WYNN\n",
      "XEL\n",
      "XYL\n",
      "YUM\n",
      "ZBRA\n",
      "ZBH\n",
      "ZTS\n"
     ]
    }
   ],
   "source": [
    "#First retrieve compnies in S&P500 \n",
    "\n",
    "url = \"https://en.wikipedia.org/wiki/List_of_S%26P_500_companies\"\n",
    "tables = pd.read_html(url)\n",
    "\n",
    "#The first table has the company abbreviations\n",
    "sp500_tickers = tables[0]['Symbol'].tolist()\n",
    "\n",
    "#Show the companies \n",
    "for ticker in sp500_tickers:\n",
    "    print(ticker)\n",
    "\n"
   ]
  },
  {
   "cell_type": "code",
   "execution_count": 3,
   "id": "10d6254a-6629-4002-8795-35fe4e2099dc",
   "metadata": {},
   "outputs": [
    {
     "name": "stdout",
     "output_type": "stream",
     "text": [
      "YF.download() has changed argument auto_adjust default to True\n"
     ]
    },
    {
     "name": "stderr",
     "output_type": "stream",
     "text": [
      "[*********************100%***********************]  1 of 1 completed\n"
     ]
    },
    {
     "name": "stdout",
     "output_type": "stream",
     "text": [
      "Data for MMM saved as MMM_30_years.csv\n",
      "Price          Close      High       Low      Open   Volume News_Sentiment\n",
      "Ticker           MMM       MMM       MMM       MMM      MMM               \n",
      "Date                                                                      \n",
      "1994-03-28  8.531572  8.584895  8.467586  8.542237  2287230           None\n",
      "1994-03-29  8.392931  8.531569  8.382267  8.531569  3337797           None\n",
      "1994-03-30  8.446255  8.574228  8.446255  8.446255  3446394           None\n",
      "1994-03-31  8.446255  8.520906  8.446255  8.446255  2582403           None\n",
      "1994-04-04  8.360941  8.424928  8.339612  8.360941  2718747           None\n"
     ]
    },
    {
     "name": "stderr",
     "output_type": "stream",
     "text": [
      "[*********************100%***********************]  1 of 1 completed\n"
     ]
    },
    {
     "name": "stdout",
     "output_type": "stream",
     "text": [
      "Data for AOS saved as AOS_30_years.csv\n",
      "Price          Close      High       Low      Open  Volume News_Sentiment\n",
      "Ticker           AOS       AOS       AOS       AOS     AOS               \n",
      "Date                                                                     \n",
      "1994-03-28  2.212154  2.235604  2.196521  2.219971  147600           None\n",
      "1994-03-29  2.196521  2.243422  2.196521  2.219971  876600           None\n",
      "1994-03-30  1.962016  2.196521  1.954200  2.196521  550800           None\n",
      "1994-03-31  2.016735  2.032368  1.876032  1.946383  358200           None\n",
      "1994-04-04  2.040184  2.079268  2.001100  2.001100  321300           None\n"
     ]
    },
    {
     "name": "stderr",
     "output_type": "stream",
     "text": [
      "[*********************100%***********************]  1 of 1 completed\n"
     ]
    },
    {
     "name": "stdout",
     "output_type": "stream",
     "text": [
      "Data for ABT saved as ABT_30_years.csv\n",
      "Price          Close      High       Low      Open   Volume News_Sentiment\n",
      "Ticker           ABT       ABT       ABT       ABT      ABT               \n",
      "Date                                                                      \n",
      "1994-03-28  2.873631  2.899873  2.834266  2.847387  3817324           None\n",
      "1994-03-29  2.912997  2.912997  2.860510  2.860510  5189564           None\n",
      "1994-03-30  2.886752  2.912996  2.860509  2.899874  7082187           None\n",
      "1994-03-31  2.794901  2.886752  2.689928  2.847387  8320322           None\n",
      "1994-04-04  2.742415  2.755537  2.663686  2.716172  8886149           None\n"
     ]
    },
    {
     "name": "stderr",
     "output_type": "stream",
     "text": [
      "[*********************100%***********************]  1 of 1 completed\n"
     ]
    },
    {
     "name": "stdout",
     "output_type": "stream",
     "text": [
      "Data for ABBV saved as ABBV_30_years.csv\n",
      "Price           Close       High        Low       Open    Volume  \\\n",
      "Ticker           ABBV       ABBV       ABBV       ABBV      ABBV   \n",
      "Date                                                               \n",
      "2013-01-02  21.427116  21.597949  20.804802  21.305094  13767900   \n",
      "2013-01-03  21.250181  21.353899  20.841405  21.353899  16739300   \n",
      "2013-01-04  20.981733  21.286789  20.896318  21.122059  21372100   \n",
      "2013-01-07  21.024448  21.628460  20.835315  20.835315  17897100   \n",
      "2013-01-08  20.566860  21.134264  20.353322  20.920726  17863300   \n",
      "\n",
      "Price      News_Sentiment  \n",
      "Ticker                     \n",
      "Date                       \n",
      "2013-01-02           None  \n",
      "2013-01-03           None  \n",
      "2013-01-04           None  \n",
      "2013-01-07           None  \n",
      "2013-01-08           None  \n"
     ]
    },
    {
     "name": "stderr",
     "output_type": "stream",
     "text": [
      "[*********************100%***********************]  1 of 1 completed\n"
     ]
    },
    {
     "name": "stdout",
     "output_type": "stream",
     "text": [
      "Data for ACN saved as ACN_30_years.csv\n",
      "Price           Close       High        Low       Open    Volume  \\\n",
      "Ticker            ACN        ACN        ACN        ACN       ACN   \n",
      "Date                                                               \n",
      "2001-07-19  10.754755  10.839829  10.634234  10.705129  34994300   \n",
      "2001-07-20  10.641322  10.669680  10.492443  10.669680   9238500   \n",
      "2001-07-23  10.634234  10.641324  10.315208  10.634234   7501000   \n",
      "2001-07-24  10.534983  10.612968  10.421551  10.598788   3537300   \n",
      "2001-07-25  10.598785  10.598785  10.386101  10.421548   4208100   \n",
      "\n",
      "Price      News_Sentiment  \n",
      "Ticker                     \n",
      "Date                       \n",
      "2001-07-19           None  \n",
      "2001-07-20           None  \n",
      "2001-07-23           None  \n",
      "2001-07-24           None  \n",
      "2001-07-25           None  \n"
     ]
    },
    {
     "name": "stderr",
     "output_type": "stream",
     "text": [
      "[*********************100%***********************]  1 of 1 completed\n"
     ]
    },
    {
     "name": "stdout",
     "output_type": "stream",
     "text": [
      "Data for ADBE saved as ADBE_30_years.csv\n",
      "Price          Close      High       Low      Open    Volume News_Sentiment\n",
      "Ticker          ADBE      ADBE      ADBE      ADBE      ADBE               \n",
      "Date                                                                       \n",
      "1994-03-28  2.978423  3.205207  2.963304  3.144731  12571200           None\n",
      "1994-03-29  2.978423  3.023780  2.842353  2.993542  10259200           None\n",
      "1994-03-30  2.963305  3.054018  2.933067  2.993543   6580000           None\n",
      "1994-03-31  2.933068  2.993543  2.872592  2.933068   8630400           None\n",
      "1994-04-04  2.872591  2.933067  2.691164  2.781878   8761600           None\n"
     ]
    },
    {
     "name": "stderr",
     "output_type": "stream",
     "text": [
      "[*********************100%***********************]  1 of 1 completed\n"
     ]
    },
    {
     "name": "stdout",
     "output_type": "stream",
     "text": [
      "Data for AMD saved as AMD_30_years.csv\n",
      "Price         Close     High      Low     Open   Volume News_Sentiment\n",
      "Ticker          AMD      AMD      AMD      AMD      AMD               \n",
      "Date                                                                  \n",
      "1994-03-28  14.5625  14.8125  13.8750  14.8125  4231400           None\n",
      "1994-03-29  14.6250  14.8750  14.6250  14.8750  4552400           None\n",
      "1994-03-30  15.4375  15.5000  14.6875  14.7500  4935600           None\n",
      "1994-03-31  15.6250  15.7500  14.3750  15.5625  4938400           None\n",
      "1994-04-04  15.5000  15.8125  14.8750  15.3125  5397200           None\n"
     ]
    },
    {
     "name": "stderr",
     "output_type": "stream",
     "text": [
      "[*********************100%***********************]  1 of 1 completed\n"
     ]
    },
    {
     "name": "stdout",
     "output_type": "stream",
     "text": [
      "Data for AES saved as AES_30_years.csv\n",
      "Price          Close      High       Low      Open  Volume News_Sentiment\n",
      "Ticker           AES       AES       AES       AES     AES               \n",
      "Date                                                                     \n",
      "1994-03-28  3.679748  3.721563  3.637932  3.721563  274000           None\n",
      "1994-03-29  3.596117  3.721562  3.554301  3.637932  622000           None\n",
      "1994-03-30  3.512487  3.637933  3.512487  3.596118  400000           None\n",
      "1994-03-31  3.345226  3.596118  3.261596  3.596118  397200           None\n",
      "1994-04-04  3.303410  3.345225  3.219779  3.219779  227200           None\n"
     ]
    },
    {
     "name": "stderr",
     "output_type": "stream",
     "text": [
      "[*********************100%***********************]  1 of 1 completed\n"
     ]
    },
    {
     "name": "stdout",
     "output_type": "stream",
     "text": [
      "Data for AFL saved as AFL_30_years.csv\n",
      "Price          Close      High       Low      Open    Volume News_Sentiment\n",
      "Ticker           AFL       AFL       AFL       AFL       AFL               \n",
      "Date                                                                       \n",
      "1994-03-28  1.466301  1.478222  1.454380  1.472262  14884800           None\n",
      "1994-03-29  1.472262  1.472262  1.454380  1.466301   1171200           None\n",
      "1994-03-30  1.466301  1.466301  1.442459  1.454380   3325200           None\n",
      "1994-03-31  1.466301  1.466301  1.442459  1.460340   4623600           None\n",
      "1994-04-04  1.424577  1.448419  1.424577  1.430537   3591600           None\n"
     ]
    },
    {
     "name": "stderr",
     "output_type": "stream",
     "text": [
      "[*********************100%***********************]  1 of 1 completed\n"
     ]
    },
    {
     "name": "stdout",
     "output_type": "stream",
     "text": [
      "Data for A saved as A_30_years.csv\n",
      "Price           Close       High        Low       Open    Volume  \\\n",
      "Ticker              A          A          A          A         A   \n",
      "Date                                                               \n",
      "1999-11-18  26.511744  30.126983  24.101585  27.415552  62546380   \n",
      "1999-11-19  24.327532  25.909197  23.988603  25.871537  15234146   \n",
      "1999-11-22  26.511744  26.511744  24.139243  24.892418   6577870   \n",
      "1999-11-23  24.101580  26.285786  24.101580  25.607928   5975611   \n",
      "1999-11-24  24.741781  25.269004  24.101582  24.176900   4843231   \n",
      "\n",
      "Price      News_Sentiment  \n",
      "Ticker                     \n",
      "Date                       \n",
      "1999-11-18           None  \n",
      "1999-11-19           None  \n",
      "1999-11-22           None  \n",
      "1999-11-23           None  \n",
      "1999-11-24           None  \n"
     ]
    },
    {
     "name": "stderr",
     "output_type": "stream",
     "text": [
      "[*********************100%***********************]  1 of 1 completed\n",
      "[*********************100%***********************]  1 of 1 completed"
     ]
    },
    {
     "name": "stdout",
     "output_type": "stream",
     "text": [
      "Data for APD saved as APD_30_years.csv\n",
      "Price           Close       High        Low       Open  Volume News_Sentiment\n",
      "Ticker            APD        APD        APD        APD     APD               \n",
      "Date                                                                         \n",
      "1994-03-28  10.711416  10.913519  10.567057  10.913519  731405           None\n",
      "1994-03-29  10.480444  10.711418  10.480444  10.653674  559309           None\n",
      "1994-03-30  10.278344  10.480447  10.249472  10.249472  521474           None\n",
      "1994-03-31  10.307213  10.336084  10.191726  10.278341  533798           None\n",
      "1994-04-04  10.047363  10.220594  10.018492  10.162851  554553           None\n",
      "Data for ABNB saved as ABNB_30_years.csv\n",
      "Price            Close        High         Low        Open    Volume  \\\n",
      "Ticker            ABNB        ABNB        ABNB        ABNB      ABNB   \n",
      "Date                                                                   \n",
      "2020-12-10  144.710007  165.000000  141.250000  146.000000  70447500   \n",
      "2020-12-11  139.250000  151.500000  135.100006  146.550003  26980800   \n",
      "2020-12-14  130.000000  135.300003  125.160004  135.000000  16966100   \n",
      "2020-12-15  124.800003  127.599998  121.500000  126.690002  10914400   \n",
      "2020-12-16  137.990005  142.000000  124.910004  125.830002  20409600   \n",
      "\n",
      "Price      News_Sentiment  \n",
      "Ticker                     \n",
      "Date                       \n",
      "2020-12-10           None  \n",
      "2020-12-11           None  \n",
      "2020-12-14           None  \n",
      "2020-12-15           None  \n",
      "2020-12-16           None  \n"
     ]
    },
    {
     "name": "stderr",
     "output_type": "stream",
     "text": [
      "\n",
      "[*********************100%***********************]  1 of 1 completed\n"
     ]
    },
    {
     "name": "stdout",
     "output_type": "stream",
     "text": [
      "Data for AKAM saved as AKAM_30_years.csv\n",
      "Price          Close      High      Low     Open    Volume News_Sentiment\n",
      "Ticker          AKAM      AKAM     AKAM     AKAM      AKAM               \n",
      "Date                                                                     \n",
      "1999-10-29  145.1875  165.0000  110.000  110.000  11474900           None\n",
      "1999-11-01  174.3125  179.0000  143.000  144.000   5103800           None\n",
      "1999-11-02  192.7500  199.0000  175.000  178.000   3979400           None\n",
      "1999-11-03  190.8750  204.0000  185.125  200.500   1545100           None\n",
      "1999-11-04  173.2500  191.9375  171.000  191.875   1596900           None\n"
     ]
    },
    {
     "name": "stderr",
     "output_type": "stream",
     "text": [
      "[*********************100%***********************]  1 of 1 completed\n"
     ]
    },
    {
     "name": "stdout",
     "output_type": "stream",
     "text": [
      "Data for ALB saved as ALB_30_years.csv\n",
      "Price          Close      High       Low      Open   Volume News_Sentiment\n",
      "Ticker           ALB       ALB       ALB       ALB      ALB               \n",
      "Date                                                                      \n",
      "1994-03-28  4.552932  4.590251  4.552932  4.590251  1116200           None\n",
      "1994-03-29  4.478295  4.590252  4.478295  4.552933   595800           None\n",
      "1994-03-30  4.403654  4.478292  4.366335  4.478292   653000           None\n",
      "1994-03-31  4.403654  4.440973  4.329016  4.403654   448400           None\n",
      "1994-04-04  4.403654  4.403654  4.254378  4.254378   386600           None\n"
     ]
    },
    {
     "name": "stderr",
     "output_type": "stream",
     "text": [
      "[*********************100%***********************]  1 of 1 completed\n"
     ]
    },
    {
     "name": "stdout",
     "output_type": "stream",
     "text": [
      "Data for ARE saved as ARE_30_years.csv\n",
      "Price          Close      High       Low      Open   Volume News_Sentiment\n",
      "Ticker           ARE       ARE       ARE       ARE      ARE               \n",
      "Date                                                                      \n",
      "1997-05-28  7.757596  7.896125  7.619068  7.619068  1862700           None\n",
      "1997-05-29  7.896124  7.896124  7.757596  7.757596   296800           None\n",
      "1997-05-30  8.127001  8.173177  7.803768  7.803768   220400           None\n",
      "1997-06-02  8.127001  8.219353  7.942296  8.173177    66800           None\n",
      "1997-06-03  8.173181  8.173181  7.988476  8.034652   180000           None\n"
     ]
    },
    {
     "name": "stderr",
     "output_type": "stream",
     "text": [
      "[*********************100%***********************]  1 of 1 completed\n",
      "[*********************100%***********************]  1 of 1 completed"
     ]
    },
    {
     "name": "stdout",
     "output_type": "stream",
     "text": [
      "Data for ALGN saved as ALGN_30_years.csv\n",
      "Price         Close     High      Low     Open   Volume News_Sentiment\n",
      "Ticker         ALGN     ALGN     ALGN     ALGN     ALGN               \n",
      "Date                                                                  \n",
      "2001-01-30  16.8750  18.1875  16.2500  18.1250   812300           None\n",
      "2001-01-31  13.5000  17.1875  13.4375  17.1250  1212700           None\n",
      "2001-02-01  14.1875  14.3750  13.0000  13.1250   669100           None\n",
      "2001-02-02  14.1250  14.5625  13.7500  14.0000   775000           None\n",
      "2001-02-05  14.1250  14.5000  13.8750  14.4375   489400           None\n",
      "Data for ALLE saved as ALLE_30_years.csv\n",
      "Price           Close       High        Low       Open   Volume News_Sentiment\n",
      "Ticker           ALLE       ALLE       ALLE       ALLE     ALLE               \n",
      "Date                                                                          \n",
      "2013-11-18  43.411861  44.772960  42.525359  44.549095   587100           None\n",
      "2013-11-19  41.012024  43.877494  40.564294  43.868540  1682000           None\n",
      "2013-11-20  39.982231  41.191099  39.391229  41.173189  1106900           None\n",
      "2013-11-21  39.212158  40.429983  38.540564  39.847933   730200           None\n",
      "2013-11-22  39.391228  39.489725  38.728587  39.310636   947600           None\n"
     ]
    },
    {
     "name": "stderr",
     "output_type": "stream",
     "text": [
      "\n",
      "[*********************100%***********************]  1 of 1 completed\n"
     ]
    },
    {
     "name": "stdout",
     "output_type": "stream",
     "text": [
      "Data for LNT saved as LNT_30_years.csv\n",
      "Price          Close      High       Low      Open Volume News_Sentiment\n",
      "Ticker           LNT       LNT       LNT       LNT    LNT               \n",
      "Date                                                                    \n",
      "1994-03-28  3.569368  3.569368  3.539747  3.539747  26000           None\n",
      "1994-03-29  3.584177  3.613799  3.554556  3.613799  22600           None\n",
      "1994-03-30  3.554559  3.569369  3.510127  3.554559  18400           None\n",
      "1994-03-31  3.510128  3.554560  3.450885  3.554560  18000           None\n",
      "1994-04-04  3.406451  3.450883  3.376830  3.450883  24400           None\n"
     ]
    },
    {
     "name": "stderr",
     "output_type": "stream",
     "text": [
      "[*********************100%***********************]  1 of 1 completed\n"
     ]
    },
    {
     "name": "stdout",
     "output_type": "stream",
     "text": [
      "Data for ALL saved as ALL_30_years.csv\n",
      "Price          Close      High       Low      Open   Volume News_Sentiment\n",
      "Ticker           ALL       ALL       ALL       ALL      ALL               \n",
      "Date                                                                      \n",
      "1994-03-28  5.769954  5.769954  5.648481  5.648481  3313800           None\n",
      "1994-03-29  5.830691  5.830691  5.709218  5.739586   601400           None\n",
      "1994-03-30  5.800324  5.891429  5.739588  5.800324  1123200           None\n",
      "1994-03-31  5.830691  6.043268  5.800323  5.800323  1697400           None\n",
      "1994-04-04  5.709219  5.769955  5.678850  5.769955   373000           None\n"
     ]
    },
    {
     "name": "stderr",
     "output_type": "stream",
     "text": [
      "[*********************100%***********************]  1 of 1 completed\n"
     ]
    },
    {
     "name": "stdout",
     "output_type": "stream",
     "text": [
      "Data for GOOGL saved as GOOGL_30_years.csv\n",
      "Price          Close      High       Low      Open     Volume News_Sentiment\n",
      "Ticker         GOOGL     GOOGL     GOOGL     GOOGL      GOOGL               \n",
      "Date                                                                        \n",
      "2004-08-19  2.499063  2.591713  2.389974  2.490595  893181924           None\n",
      "2004-08-20  2.697563  2.716741  2.503048  2.515750  456686856           None\n",
      "2004-08-23  2.724711  2.826327  2.715994  2.758335  365122512           None\n",
      "2004-08-24  2.611887  2.779504  2.579509  2.770538  304946748           None\n",
      "2004-08-25  2.640031  2.689843  2.587231  2.614129  183772044           None\n"
     ]
    },
    {
     "name": "stderr",
     "output_type": "stream",
     "text": [
      "[*********************100%***********************]  1 of 1 completed\n"
     ]
    },
    {
     "name": "stdout",
     "output_type": "stream",
     "text": [
      "Data for GOOG saved as GOOG_30_years.csv\n",
      "Price          Close      High       Low      Open     Volume News_Sentiment\n",
      "Ticker          GOOG      GOOG      GOOG      GOOG       GOOG               \n",
      "Date                                                                        \n",
      "2004-08-19  2.487352  2.579567  2.378775  2.478922  897427216           None\n",
      "2004-08-20  2.684922  2.704009  2.491318  2.503960  458857488           None\n",
      "2004-08-23  2.711942  2.813082  2.703266  2.745408  366857939           None\n",
      "2004-08-24  2.599647  2.766478  2.567421  2.757554  306396159           None\n",
      "2004-08-25  2.627658  2.677237  2.575105  2.601877  184645512           None\n"
     ]
    },
    {
     "name": "stderr",
     "output_type": "stream",
     "text": [
      "[*********************100%***********************]  1 of 1 completed\n"
     ]
    },
    {
     "name": "stdout",
     "output_type": "stream",
     "text": [
      "Data for MO saved as MO_30_years.csv\n",
      "Price          Close      High       Low      Open    Volume News_Sentiment\n",
      "Ticker            MO        MO        MO        MO        MO               \n",
      "Date                                                                       \n",
      "1994-03-28  0.699078  0.707603  0.682027  0.705898   9996600           None\n",
      "1994-03-29  0.682027  0.697373  0.680322  0.695668   7527300           None\n",
      "1994-03-30  0.692258  0.702488  0.678617  0.688847   9177300           None\n",
      "1994-03-31  0.690552  0.699078  0.675207  0.692257   8626800           None\n",
      "1994-04-04  0.673501  0.675207  0.658156  0.661566  11006400           None\n"
     ]
    },
    {
     "name": "stderr",
     "output_type": "stream",
     "text": [
      "[*********************100%***********************]  1 of 1 completed\n",
      "[*********************100%***********************]  1 of 1 completed"
     ]
    },
    {
     "name": "stdout",
     "output_type": "stream",
     "text": [
      "Data for AMZN saved as AMZN_30_years.csv\n",
      "Price          Close      High       Low      Open      Volume News_Sentiment\n",
      "Ticker          AMZN      AMZN      AMZN      AMZN        AMZN               \n",
      "Date                                                                         \n",
      "1997-05-15  0.097917  0.125000  0.096354  0.121875  1443120000           None\n",
      "1997-05-16  0.086458  0.098958  0.085417  0.098438   294000000           None\n",
      "1997-05-19  0.085417  0.088542  0.081250  0.088021   122136000           None\n",
      "1997-05-20  0.081771  0.087500  0.081771  0.086458   109344000           None\n",
      "1997-05-21  0.071354  0.082292  0.068750  0.081771   377064000           None\n"
     ]
    },
    {
     "name": "stderr",
     "output_type": "stream",
     "text": [
      "\n"
     ]
    },
    {
     "name": "stdout",
     "output_type": "stream",
     "text": [
      "Data for AMCR saved as AMCR_30_years.csv\n",
      "Price          Close      High       Low      Open Volume News_Sentiment\n",
      "Ticker          AMCR      AMCR      AMCR      AMCR   AMCR               \n",
      "Date                                                                    \n",
      "2012-05-15  4.707316  4.707316  4.707316  4.707316      0           None\n",
      "2012-05-16  4.707316  4.707316  4.707316  4.707316      0           None\n",
      "2012-05-17  4.707316  4.707316  4.707316  4.707316      0           None\n",
      "2012-05-18  4.707316  4.707316  4.707316  4.707316      0           None\n",
      "2012-05-21  4.707316  4.707316  4.707316  4.707316      0           None\n"
     ]
    },
    {
     "name": "stderr",
     "output_type": "stream",
     "text": [
      "[*********************100%***********************]  1 of 1 completed\n"
     ]
    },
    {
     "name": "stdout",
     "output_type": "stream",
     "text": [
      "Data for AEE saved as AEE_30_years.csv\n",
      "Price           Close       High        Low       Open  Volume News_Sentiment\n",
      "Ticker            AEE        AEE        AEE        AEE     AEE               \n",
      "Date                                                                         \n",
      "1998-01-02  12.018901  12.089084  11.896080  12.071538  444000           None\n",
      "1998-01-05  11.931179  12.106638  11.808358  12.089092  564300           None\n",
      "1998-01-06  11.755717  11.843447  11.720626  11.825901  253600           None\n",
      "1998-01-07  11.650440  11.755715  11.474982  11.755715  358100           None\n",
      "1998-01-08  11.510066  11.667979  11.439883  11.667979  325100           None\n"
     ]
    },
    {
     "name": "stderr",
     "output_type": "stream",
     "text": [
      "[*********************100%***********************]  1 of 1 completed\n"
     ]
    },
    {
     "name": "stdout",
     "output_type": "stream",
     "text": [
      "Data for AEP saved as AEP_30_years.csv\n",
      "Price          Close      High       Low      Open  Volume News_Sentiment\n",
      "Ticker           AEP       AEP       AEP       AEP     AEP               \n",
      "Date                                                                     \n",
      "1994-03-28  7.564905  7.564905  7.418298  7.447620  340300           None\n",
      "1994-03-29  7.476933  7.564897  7.476933  7.535576  335300           None\n",
      "1994-03-30  7.301011  7.447617  7.301011  7.418296  384600           None\n",
      "1994-03-31  7.213047  7.388975  7.007798  7.359654  390100           None\n",
      "1994-04-04  7.066440  7.183725  7.066440  7.095761  460800           None\n"
     ]
    },
    {
     "name": "stderr",
     "output_type": "stream",
     "text": [
      "[*********************100%***********************]  1 of 1 completed\n"
     ]
    },
    {
     "name": "stdout",
     "output_type": "stream",
     "text": [
      "Data for AXP saved as AXP_30_years.csv\n",
      "Price          Close      High       Low      Open    Volume News_Sentiment\n",
      "Ticker           AXP       AXP       AXP       AXP       AXP               \n",
      "Date                                                                       \n",
      "1994-03-28  4.854349  4.936976  4.854349  4.916319   5378197           None\n",
      "1994-03-29  4.751064  4.875005  4.751064  4.875005   5844633           None\n",
      "1994-03-30  4.627125  4.792380  4.627125  4.751066   8581113           None\n",
      "1994-03-31  4.585811  4.689095  4.358587  4.627125  12081912           None\n",
      "1994-04-04  4.544122  4.606656  4.377365  4.419054   6876153           None\n"
     ]
    },
    {
     "name": "stderr",
     "output_type": "stream",
     "text": [
      "[*********************100%***********************]  1 of 1 completed\n"
     ]
    },
    {
     "name": "stdout",
     "output_type": "stream",
     "text": [
      "Data for AIG saved as AIG_30_years.csv\n",
      "Price            Close        High         Low        Open  Volume  \\\n",
      "Ticker             AIG         AIG         AIG         AIG     AIG   \n",
      "Date                                                                 \n",
      "1994-03-28  157.610367  157.610367  154.128543  154.824904  177377   \n",
      "1994-03-29  156.217682  159.699489  156.217682  157.842519  149913   \n",
      "1994-03-30  153.200058  158.074604  153.200058  155.521256  197153   \n",
      "1994-03-31  156.217682  157.842519  152.967971  154.128580  220662   \n",
      "1994-04-04  155.985550  157.610405  153.432219  153.664333  219649   \n",
      "\n",
      "Price      News_Sentiment  \n",
      "Ticker                     \n",
      "Date                       \n",
      "1994-03-28           None  \n",
      "1994-03-29           None  \n",
      "1994-03-30           None  \n",
      "1994-03-31           None  \n",
      "1994-04-04           None  \n"
     ]
    },
    {
     "name": "stderr",
     "output_type": "stream",
     "text": [
      "[*********************100%***********************]  1 of 1 completed\n"
     ]
    },
    {
     "name": "stdout",
     "output_type": "stream",
     "text": [
      "Data for AMT saved as AMT_30_years.csv\n",
      "Price           Close       High        Low       Open Volume News_Sentiment\n",
      "Ticker            AMT        AMT        AMT        AMT    AMT               \n",
      "Date                                                                        \n",
      "1998-02-27  13.150077  13.623101  13.150077  13.150077  50000           None\n",
      "1998-03-02  13.055474  13.055474  12.866265  13.055474  75000           None\n",
      "1998-03-03  12.960867  12.960867  12.677052  12.960867  35000           None\n",
      "1998-03-04  11.920213  11.920213  11.731003  11.920213  60000           None\n",
      "1998-03-05  12.204028  12.204028  12.204028  12.204028    400           None\n"
     ]
    },
    {
     "name": "stderr",
     "output_type": "stream",
     "text": [
      "[*********************100%***********************]  1 of 1 completed\n"
     ]
    },
    {
     "name": "stdout",
     "output_type": "stream",
     "text": [
      "Data for AWK saved as AWK_30_years.csv\n",
      "Price           Close       High        Low       Open    Volume  \\\n",
      "Ticker            AWK        AWK        AWK        AWK       AWK   \n",
      "Date                                                               \n",
      "2008-04-23  13.671356  14.235466  13.419165  13.671356  23402800   \n",
      "2008-04-24  13.810728  13.936823  13.478899  13.750999   4960900   \n",
      "2008-04-25  14.049640  14.102732  13.737721  13.936818   1956800   \n",
      "2008-04-28  13.936818  14.262010  13.810723  14.262010    709400   \n",
      "2008-04-29  13.983269  14.195639  13.817354  14.195639    859700   \n",
      "\n",
      "Price      News_Sentiment  \n",
      "Ticker                     \n",
      "Date                       \n",
      "2008-04-23           None  \n",
      "2008-04-24           None  \n",
      "2008-04-25           None  \n",
      "2008-04-28           None  \n",
      "2008-04-29           None  \n"
     ]
    },
    {
     "name": "stderr",
     "output_type": "stream",
     "text": [
      "[*********************100%***********************]  1 of 1 completed\n"
     ]
    },
    {
     "name": "stdout",
     "output_type": "stream",
     "text": [
      "Data for AMP saved as AMP_30_years.csv\n",
      "Price           Close       High        Low       Open   Volume News_Sentiment\n",
      "Ticker            AMP        AMP        AMP        AMP      AMP               \n",
      "Date                                                                          \n",
      "2005-09-15  25.026289  25.763351  25.019528  25.709256  1529800           None\n",
      "2005-09-16  24.749050  25.019533  24.749050  25.019533    62400           None\n",
      "2005-09-19  24.816668  24.816668  24.647617  24.749046  1162300           None\n",
      "2005-09-20  24.816668  25.019528  24.749046  24.749046   654900           None\n",
      "2005-09-21  24.613817  24.749056  24.343335  24.749056   424300           None\n"
     ]
    },
    {
     "name": "stderr",
     "output_type": "stream",
     "text": [
      "[*********************100%***********************]  1 of 1 completed\n"
     ]
    },
    {
     "name": "stdout",
     "output_type": "stream",
     "text": [
      "Data for AME saved as AME_30_years.csv\n",
      "Price          Close      High       Low      Open  Volume News_Sentiment\n",
      "Ticker           AME       AME       AME       AME     AME               \n",
      "Date                                                                     \n",
      "1994-03-28  1.450219  1.464577  1.435860  1.450219  481275           None\n",
      "1994-03-29  1.450219  1.493295  1.450219  1.464577  464400           None\n",
      "1994-03-30  1.392784  1.450219  1.392784  1.450219  234900           None\n",
      "1994-03-31  1.421501  1.421501  1.378426  1.378426  294300           None\n",
      "1994-04-04  1.392784  1.407143  1.378426  1.392784  202500           None\n"
     ]
    },
    {
     "name": "stderr",
     "output_type": "stream",
     "text": [
      "[*********************100%***********************]  1 of 1 completed\n"
     ]
    },
    {
     "name": "stdout",
     "output_type": "stream",
     "text": [
      "Data for AMGN saved as AMGN_30_years.csv\n",
      "Price          Close      High       Low      Open    Volume News_Sentiment\n",
      "Ticker          AMGN      AMGN      AMGN      AMGN      AMGN               \n",
      "Date                                                                       \n",
      "1994-03-28  3.411743  3.422643  3.313642  3.357242   8303200           None\n",
      "1994-03-29  3.422643  3.488044  3.400843  3.444444  10676000           None\n",
      "1994-03-30  3.357241  3.422642  3.357241  3.400842   8106400           None\n",
      "1994-03-31  3.335442  3.411743  3.313642  3.379043  13958400           None\n",
      "1994-04-04  3.270041  3.335442  3.204640  3.248241   7659200           None\n"
     ]
    },
    {
     "name": "stderr",
     "output_type": "stream",
     "text": [
      "[*********************100%***********************]  1 of 1 completed\n"
     ]
    },
    {
     "name": "stdout",
     "output_type": "stream",
     "text": [
      "Data for APH saved as APH_30_years.csv\n",
      "Price          Close      High       Low      Open    Volume News_Sentiment\n",
      "Ticker           APH       APH       APH       APH       APH               \n",
      "Date                                                                       \n",
      "1994-03-28  0.208076  0.214899  0.208076  0.214899  13510400           None\n",
      "1994-03-29  0.201254  0.209782  0.196137  0.208076  51552000           None\n",
      "1994-03-30  0.199549  0.199549  0.194432  0.197844  25056000           None\n",
      "1994-03-31  0.197843  0.204665  0.196137  0.199549  21638400           None\n",
      "1994-04-04  0.197843  0.199549  0.192726  0.196137   6464000           None\n"
     ]
    },
    {
     "name": "stderr",
     "output_type": "stream",
     "text": [
      "[*********************100%***********************]  1 of 1 completed\n"
     ]
    },
    {
     "name": "stdout",
     "output_type": "stream",
     "text": [
      "Data for ADI saved as ADI_30_years.csv\n",
      "Price          Close      High       Low      Open   Volume News_Sentiment\n",
      "Ticker           ADI       ADI       ADI       ADI      ADI               \n",
      "Date                                                                      \n",
      "1994-03-28  2.882050  2.972518  2.765734  2.972518  1499400           None\n",
      "1994-03-29  2.765734  2.882050  2.765734  2.882050  1030800           None\n",
      "1994-03-30  2.688191  2.739887  2.597723  2.739887  1524000           None\n",
      "1994-03-31  2.688191  2.714039  2.610647  2.701115  1779000           None\n",
      "1994-04-04  2.714038  2.739886  2.571874  2.610646   649800           None\n"
     ]
    },
    {
     "name": "stderr",
     "output_type": "stream",
     "text": [
      "[*********************100%***********************]  1 of 1 completed\n"
     ]
    },
    {
     "name": "stdout",
     "output_type": "stream",
     "text": [
      "Data for ANSS saved as ANSS_30_years.csv\n",
      "Price         Close     High      Low     Open    Volume News_Sentiment\n",
      "Ticker         ANSS     ANSS     ANSS     ANSS      ANSS               \n",
      "Date                                                                   \n",
      "1996-06-20  2.96875  3.12500  2.93750  3.00000  12638800           None\n",
      "1996-06-21  3.00000  3.09375  3.00000  3.03125   1881200           None\n",
      "1996-06-24  3.21875  3.21875  3.00000  3.06250   1606000           None\n",
      "1996-06-25  3.15625  3.28125  3.15625  3.21875   1895600           None\n",
      "1996-06-26  3.15625  3.18750  3.12500  3.18750    399200           None\n"
     ]
    },
    {
     "name": "stderr",
     "output_type": "stream",
     "text": [
      "[*********************100%***********************]  1 of 1 completed\n"
     ]
    },
    {
     "name": "stdout",
     "output_type": "stream",
     "text": [
      "Data for AON saved as AON_30_years.csv\n",
      "Price          Close      High       Low      Open  Volume News_Sentiment\n",
      "Ticker           AON       AON       AON       AON     AON               \n",
      "Date                                                                     \n",
      "1994-03-28  8.637402  8.724210  8.637402  8.659104   65475           None\n",
      "1994-03-29  8.442089  8.637408  8.376983  8.615706  254475           None\n",
      "1994-03-30  8.398681  8.463786  8.268469  8.333575  178875           None\n",
      "1994-03-31  8.333574  8.355276  8.246766  8.290170  328388           None\n",
      "1994-04-04  8.268468  8.311872  8.268468  8.290170  138713           None\n"
     ]
    },
    {
     "name": "stderr",
     "output_type": "stream",
     "text": [
      "[*********************100%***********************]  1 of 1 completed\n",
      "[*********************100%***********************]  1 of 1 completed"
     ]
    },
    {
     "name": "stdout",
     "output_type": "stream",
     "text": [
      "Data for APA saved as APA_30_years.csv\n",
      "Price          Close      High       Low      Open  Volume News_Sentiment\n",
      "Ticker           APA       APA       APA       APA     APA               \n",
      "Date                                                                     \n",
      "1994-03-28  7.243141  7.390960  7.095322  7.390960  909678           None\n",
      "1994-03-29  6.910549  7.243142  6.910549  7.243142  992607           None\n",
      "1994-03-30  6.984463  7.132282  6.688823  6.873598  465927           None\n",
      "1994-03-31  6.836641  6.984460  6.651867  6.910550  854469           None\n",
      "1994-04-04  6.725778  6.762733  6.577959  6.651869  831369           None\n",
      "Data for APO saved as APO_30_years.csv\n",
      "Price          Close      High       Low      Open    Volume News_Sentiment\n",
      "Ticker           APO       APO       APO       APO       APO               \n",
      "Date                                                                       \n",
      "2011-03-30  7.186796  7.502699  7.167052  7.384236  30086900           None\n",
      "2011-03-31  7.107818  7.340797  7.072279  7.127562   9582800           None\n",
      "2011-04-01  7.107818  7.198640  7.064381  7.111767   3199400           None\n",
      "2011-04-04  7.060432  7.170999  7.028842  7.135460   1846600           None\n",
      "2011-04-05  7.099923  7.119668  6.969613  7.060435   2353300           None\n"
     ]
    },
    {
     "name": "stderr",
     "output_type": "stream",
     "text": [
      "\n",
      "[*********************100%***********************]  1 of 1 completed\n"
     ]
    },
    {
     "name": "stdout",
     "output_type": "stream",
     "text": [
      "Data for AAPL saved as AAPL_30_years.csv\n",
      "Price          Close      High       Low      Open     Volume News_Sentiment\n",
      "Ticker          AAPL      AAPL      AAPL      AAPL       AAPL               \n",
      "Date                                                                        \n",
      "1994-03-28  0.244770  0.250291  0.241090  0.242930  282576000           None\n",
      "1994-03-29  0.241090  0.248451  0.237408  0.244770  213516800           None\n",
      "1994-03-30  0.239249  0.244770  0.233728  0.239249  169825600           None\n",
      "1994-03-31  0.244770  0.246610  0.231888  0.239249  209059200           None\n",
      "1994-04-04  0.244770  0.244770  0.233728  0.237408  168302400           None\n"
     ]
    },
    {
     "name": "stderr",
     "output_type": "stream",
     "text": [
      "[*********************100%***********************]  1 of 1 completed\n"
     ]
    },
    {
     "name": "stdout",
     "output_type": "stream",
     "text": [
      "Data for AMAT saved as AMAT_30_years.csv\n",
      "Price          Close      High       Low      Open    Volume News_Sentiment\n",
      "Ticker          AMAT      AMAT      AMAT      AMAT      AMAT               \n",
      "Date                                                                       \n",
      "1994-03-28  2.104325  2.121433  1.950350  2.121433  28043200           None\n",
      "1994-03-29  2.030189  2.132839  2.018783  2.121433  12550400           None\n",
      "1994-03-30  1.938945  2.041595  1.916133  1.984567  24308800           None\n",
      "1994-03-31  2.030189  2.041595  1.916133  1.927539  21324800           None\n",
      "1994-04-04  2.053000  2.110028  1.938944  1.938944  19721600           None\n"
     ]
    },
    {
     "name": "stderr",
     "output_type": "stream",
     "text": [
      "[*********************100%***********************]  1 of 1 completed\n"
     ]
    },
    {
     "name": "stdout",
     "output_type": "stream",
     "text": [
      "Data for APTV saved as APTV_30_years.csv\n",
      "Price           Close       High        Low       Open    Volume  \\\n",
      "Ticker           APTV       APTV       APTV       APTV      APTV   \n",
      "Date                                                               \n",
      "2011-11-17  16.338989  16.790934  16.277710  16.277710  20946098   \n",
      "2011-11-18  16.086203  16.492187  15.894701  16.354307   3243171   \n",
      "2011-11-21  15.549997  16.262386  15.335514  16.086204   2823115   \n",
      "2011-11-22  15.243595  15.864063  15.052092  15.549999   3565519   \n",
      "2011-11-23  15.036771  15.128693  14.722706  15.090392   1266250   \n",
      "\n",
      "Price      News_Sentiment  \n",
      "Ticker                     \n",
      "Date                       \n",
      "2011-11-17           None  \n",
      "2011-11-18           None  \n",
      "2011-11-21           None  \n",
      "2011-11-22           None  \n",
      "2011-11-23           None  \n"
     ]
    },
    {
     "name": "stderr",
     "output_type": "stream",
     "text": [
      "[*********************100%***********************]  1 of 1 completed\n"
     ]
    },
    {
     "name": "stdout",
     "output_type": "stream",
     "text": [
      "Data for ACGL saved as ACGL_30_years.csv\n",
      "Price          Close      High       Low      Open    Volume News_Sentiment\n",
      "Ticker          ACGL      ACGL      ACGL      ACGL      ACGL               \n",
      "Date                                                                       \n",
      "1995-09-14  2.245177  2.271591  2.165936  2.165936  12915900           None\n",
      "1995-09-15  2.245177  2.271591  2.192350  2.218763   3802500           None\n",
      "1995-09-18  2.245177  2.298005  2.218763  2.218763   1345500           None\n",
      "1995-09-19  2.218763  2.298005  2.218763  2.218763   1305000           None\n",
      "1995-09-20  2.245177  2.298005  2.218763  2.218763    648900           None\n"
     ]
    },
    {
     "name": "stderr",
     "output_type": "stream",
     "text": [
      "[*********************100%***********************]  1 of 1 completed\n",
      "[*********************100%***********************]  1 of 1 completed"
     ]
    },
    {
     "name": "stdout",
     "output_type": "stream",
     "text": [
      "Data for ADM saved as ADM_30_years.csv\n",
      "Price          Close      High       Low      Open   Volume News_Sentiment\n",
      "Ticker           ADM       ADM       ADM       ADM      ADM               \n",
      "Date                                                                      \n",
      "1994-03-28  5.998137  6.027831  5.938750  5.998137  1316634           None\n",
      "1994-03-29  5.849670  5.998139  5.819977  5.938751  3024425           None\n",
      "1994-03-30  5.671506  5.849668  5.582424  5.849668  2169865           None\n",
      "1994-03-31  5.701204  5.730898  5.612123  5.671511  1125156           None\n",
      "1994-04-04  5.582428  5.671509  5.463653  5.493346  1448054           None\n",
      "Data for ANET saved as ANET_30_years.csv\n",
      "Price         Close      High       Low      Open     Volume News_Sentiment\n",
      "Ticker         ANET      ANET      ANET      ANET       ANET               \n",
      "Date                                                                       \n",
      "2014-06-06  3.43750  3.750000  3.437500  3.453125  116081600           None\n",
      "2014-06-09  3.45000  3.562500  3.437500  3.515625   11470400           None\n",
      "2014-06-10  3.75000  3.750000  3.453125  3.453125   15788800           None\n",
      "2014-06-11  3.96875  3.968750  3.666250  3.750000   10568000           None\n",
      "2014-06-12  4.12500  4.239375  3.941875  3.978125   11668800           None\n"
     ]
    },
    {
     "name": "stderr",
     "output_type": "stream",
     "text": [
      "\n",
      "[*********************100%***********************]  1 of 1 completed\n"
     ]
    },
    {
     "name": "stdout",
     "output_type": "stream",
     "text": [
      "Data for AJG saved as AJG_30_years.csv\n",
      "Price          Close      High       Low      Open Volume News_Sentiment\n",
      "Ticker           AJG       AJG       AJG       AJG    AJG               \n",
      "Date                                                                    \n",
      "1994-03-28  2.855710  2.868072  2.855710  2.855710  61200           None\n",
      "1994-03-29  2.830984  2.868071  2.830984  2.868071  50400           None\n",
      "1994-03-30  2.830984  2.830984  2.818621  2.830984  12800           None\n",
      "1994-03-31  2.818623  2.843348  2.793898  2.818623  68000           None\n",
      "1994-04-04  2.806261  2.830985  2.781536  2.806261  21200           None\n"
     ]
    },
    {
     "name": "stderr",
     "output_type": "stream",
     "text": [
      "[*********************100%***********************]  1 of 1 completed\n"
     ]
    },
    {
     "name": "stdout",
     "output_type": "stream",
     "text": [
      "Data for AIZ saved as AIZ_30_years.csv\n",
      "Price           Close       High        Low       Open    Volume  \\\n",
      "Ticker            AIZ        AIZ        AIZ        AIZ       AIZ   \n",
      "Date                                                               \n",
      "2004-02-05  17.043541  17.209146  16.043009  16.388020  27565200   \n",
      "2004-02-06  17.147053  17.209155  16.664037  17.050449   5284400   \n",
      "2004-02-09  16.884850  17.043556  16.560539  16.974553   3252900   \n",
      "2004-02-10  16.802046  16.884848  16.595038  16.664041   1651600   \n",
      "2004-02-11  16.733046  16.905551  16.664043  16.753747   2010200   \n",
      "\n",
      "Price      News_Sentiment  \n",
      "Ticker                     \n",
      "Date                       \n",
      "2004-02-05           None  \n",
      "2004-02-06           None  \n",
      "2004-02-09           None  \n",
      "2004-02-10           None  \n",
      "2004-02-11           None  \n"
     ]
    },
    {
     "name": "stderr",
     "output_type": "stream",
     "text": [
      "[*********************100%***********************]  1 of 1 completed\n"
     ]
    },
    {
     "name": "stdout",
     "output_type": "stream",
     "text": [
      "Data for T saved as T_30_years.csv\n",
      "Price          Close      High       Low      Open   Volume News_Sentiment\n",
      "Ticker             T         T         T         T        T               \n",
      "Date                                                                      \n",
      "1994-03-28  2.266907  2.273839  2.246110  2.259975  1656059           None\n",
      "1994-03-29  2.266907  2.315434  2.246110  2.259975  2452578           None\n",
      "1994-03-30  2.176785  2.280772  2.176785  2.259974  4346692           None\n",
      "1994-03-31  2.239176  2.239176  2.169852  2.183717  2707845           None\n",
      "1994-04-04  2.170234  2.219398  2.170234  2.177258  2479852           None\n"
     ]
    },
    {
     "name": "stderr",
     "output_type": "stream",
     "text": [
      "[*********************100%***********************]  1 of 1 completed\n"
     ]
    },
    {
     "name": "stdout",
     "output_type": "stream",
     "text": [
      "Data for ATO saved as ATO_30_years.csv\n",
      "Price          Close      High       Low      Open Volume News_Sentiment\n",
      "Ticker           ATO       ATO       ATO       ATO    ATO               \n",
      "Date                                                                    \n",
      "1994-03-28  5.927934  5.927934  5.825729  5.851280   9900           None\n",
      "1994-03-29  5.876831  5.979036  5.851279  5.902382   8100           None\n",
      "1994-03-30  5.697970  5.825727  5.672419  5.825727   7650           None\n",
      "1994-03-31  5.468008  5.672420  5.468008  5.672420   8250           None\n",
      "1994-04-04  5.416906  5.468008  5.314699  5.442457  16950           None\n"
     ]
    },
    {
     "name": "stderr",
     "output_type": "stream",
     "text": [
      "[*********************100%***********************]  1 of 1 completed\n"
     ]
    },
    {
     "name": "stdout",
     "output_type": "stream",
     "text": [
      "Data for ADSK saved as ADSK_30_years.csv\n",
      "Price          Close      High       Low      Open   Volume News_Sentiment\n",
      "Ticker          ADSK      ADSK      ADSK      ADSK     ADSK               \n",
      "Date                                                                      \n",
      "1994-03-28  6.623590  6.710362  6.478971  6.710362  6377600           None\n",
      "1994-03-29  6.536819  6.739286  6.450047  6.652514  3986400           None\n",
      "1994-03-30  6.363273  6.493431  6.247577  6.450045  6928800           None\n",
      "1994-03-31  6.710361  6.710361  6.363274  6.450046  4532800           None\n",
      "1994-04-04  6.666307  6.753259  6.434435  6.463419  5164000           None\n"
     ]
    },
    {
     "name": "stderr",
     "output_type": "stream",
     "text": [
      "[*********************100%***********************]  1 of 1 completed\n"
     ]
    },
    {
     "name": "stdout",
     "output_type": "stream",
     "text": [
      "Data for ADP saved as ADP_30_years.csv\n",
      "Price          Close      High       Low      Open   Volume News_Sentiment\n",
      "Ticker           ADP       ADP       ADP       ADP      ADP               \n",
      "Date                                                                      \n",
      "1994-03-28  5.859833  5.928773  5.859833  5.914985  1025390           None\n",
      "1994-03-29  5.804684  5.914986  5.804684  5.914986   732349           None\n",
      "1994-03-30  5.666803  5.818470  5.653016  5.790894  1883833           None\n",
      "1994-03-31  5.653017  5.721956  5.570289  5.653017  2393249           None\n",
      "1994-04-04  5.570288  5.653015  5.515137  5.542713  2333229           None\n"
     ]
    },
    {
     "name": "stderr",
     "output_type": "stream",
     "text": [
      "[*********************100%***********************]  1 of 1 completed\n"
     ]
    },
    {
     "name": "stdout",
     "output_type": "stream",
     "text": [
      "Data for AZO saved as AZO_30_years.csv\n",
      "Price         Close     High      Low     Open  Volume News_Sentiment\n",
      "Ticker          AZO      AZO      AZO      AZO     AZO               \n",
      "Date                                                                 \n",
      "1994-03-28  28.3750  28.7500  28.3125  28.6250  244400           None\n",
      "1994-03-29  28.0000  28.3750  27.9375  28.3750  238000           None\n",
      "1994-03-30  27.3750  27.8750  27.3125  27.8750  515000           None\n",
      "1994-03-31  27.1250  27.4375  26.6875  27.4375  332400           None\n",
      "1994-04-04  26.5625  27.0000  26.3750  27.0000  600400           None\n"
     ]
    },
    {
     "name": "stderr",
     "output_type": "stream",
     "text": [
      "[*********************100%***********************]  1 of 1 completed\n"
     ]
    },
    {
     "name": "stdout",
     "output_type": "stream",
     "text": [
      "Data for AVB saved as AVB_30_years.csv\n",
      "Price          Close      High       Low      Open  Volume News_Sentiment\n",
      "Ticker           AVB       AVB       AVB       AVB     AVB               \n",
      "Date                                                                     \n",
      "1994-03-28  7.034798  7.034798  6.951546  6.993172  111200           None\n",
      "1994-03-29  6.868295  7.034799  6.868295  7.034799  101200           None\n",
      "1994-03-30  6.826674  6.909926  6.785048  6.868300  105000           None\n",
      "1994-03-31  6.868295  6.868295  6.826669  6.826669  108300           None\n",
      "1994-04-04  6.701791  6.785043  6.660165  6.785043   42300           None\n"
     ]
    },
    {
     "name": "stderr",
     "output_type": "stream",
     "text": [
      "[*********************100%***********************]  1 of 1 completed\n"
     ]
    },
    {
     "name": "stdout",
     "output_type": "stream",
     "text": [
      "Data for AVY saved as AVY_30_years.csv\n",
      "Price          Close      High       Low      Open  Volume News_Sentiment\n",
      "Ticker           AVY       AVY       AVY       AVY     AVY               \n",
      "Date                                                                     \n",
      "1994-03-28  6.824409  6.854341  6.764546  6.854341  196600           None\n",
      "1994-03-29  6.704685  6.824412  6.674754  6.764548  111200           None\n",
      "1994-03-30  6.525095  6.734616  6.525095  6.674753  109800           None\n",
      "1994-03-31  6.674752  6.674752  6.315572  6.525094  264000           None\n",
      "1994-04-04  6.734618  6.794481  6.555028  6.614891  325600           None\n"
     ]
    },
    {
     "name": "stderr",
     "output_type": "stream",
     "text": [
      "[*********************100%***********************]  1 of 1 completed\n"
     ]
    },
    {
     "name": "stdout",
     "output_type": "stream",
     "text": [
      "Data for AXON saved as AXON_30_years.csv\n",
      "Price          Close      High       Low      Open  Volume News_Sentiment\n",
      "Ticker          AXON      AXON      AXON      AXON    AXON               \n",
      "Date                                                                     \n",
      "2001-06-19  0.460000  0.508333  0.460000  0.508333  237600           None\n",
      "2001-06-20  0.445833  0.458333  0.445833  0.458333   56400           None\n",
      "2001-06-21  0.445833  0.445833  0.445833  0.445833    7200           None\n",
      "2001-06-22  0.479167  0.479167  0.445833  0.445833  142800           None\n",
      "2001-06-25  0.479167  0.483333  0.475000  0.479167   92400           None\n"
     ]
    },
    {
     "name": "stderr",
     "output_type": "stream",
     "text": [
      "[*********************100%***********************]  1 of 1 completed\n"
     ]
    },
    {
     "name": "stdout",
     "output_type": "stream",
     "text": [
      "Data for BKR saved as BKR_30_years.csv\n",
      "Price          Close      High       Low      Open   Volume News_Sentiment\n",
      "Ticker           BKR       BKR       BKR       BKR      BKR               \n",
      "Date                                                                      \n",
      "1994-03-28  7.714428  7.765857  7.405851  7.765857  1291300           None\n",
      "1994-03-29  7.611568  7.662998  7.560139  7.611568   265700           None\n",
      "1994-03-30  7.405852  7.560140  7.405852  7.508711   516100           None\n",
      "1994-03-31  7.302989  7.405848  6.994412  7.405848  1109800           None\n",
      "1994-04-04  7.302989  7.302989  7.097271  7.097271   536100           None\n"
     ]
    },
    {
     "name": "stderr",
     "output_type": "stream",
     "text": [
      "[*********************100%***********************]  1 of 1 completed\n"
     ]
    },
    {
     "name": "stdout",
     "output_type": "stream",
     "text": [
      "Data for BALL saved as BALL_30_years.csv\n",
      "Price          Close      High       Low      Open   Volume News_Sentiment\n",
      "Ticker          BALL      BALL      BALL      BALL     BALL               \n",
      "Date                                                                      \n",
      "1994-03-28  1.135820  1.157768  1.113872  1.141307  1121600           None\n",
      "1994-03-29  1.108384  1.141306  1.091923  1.141306   531200           None\n",
      "1994-03-30  1.113872  1.130332  1.097410  1.097410  1582400           None\n",
      "1994-03-31  1.124846  1.124846  1.108384  1.108384  1931200           None\n",
      "1994-04-04  1.119359  1.119359  1.102898  1.102898  2126400           None\n"
     ]
    },
    {
     "name": "stderr",
     "output_type": "stream",
     "text": [
      "[*********************100%***********************]  1 of 1 completed\n"
     ]
    },
    {
     "name": "stdout",
     "output_type": "stream",
     "text": [
      "Data for BAC saved as BAC_30_years.csv\n",
      "Price          Close      High       Low      Open   Volume News_Sentiment\n",
      "Ticker           BAC       BAC       BAC       BAC      BAC               \n",
      "Date                                                                      \n",
      "1994-03-28  5.128666  5.142453  5.045946  5.114879  2754400           None\n",
      "1994-03-29  5.087306  5.142453  5.073520  5.142453  2598400           None\n",
      "1994-03-30  5.045948  5.101095  4.977014  5.073522  5204400           None\n",
      "1994-03-31  5.045948  5.073522  4.894294  5.018375  3636000           None\n",
      "1994-04-04  4.935650  5.004584  4.908076  4.935650  6624800           None\n"
     ]
    },
    {
     "name": "stderr",
     "output_type": "stream",
     "text": [
      "[*********************100%***********************]  1 of 1 completed\n"
     ]
    },
    {
     "name": "stdout",
     "output_type": "stream",
     "text": [
      "Data for BAX saved as BAX_30_years.csv\n",
      "Price          Close      High       Low      Open   Volume News_Sentiment\n",
      "Ticker           BAX       BAX       BAX       BAX      BAX               \n",
      "Date                                                                      \n",
      "1994-03-28  3.086392  3.102722  3.004741  3.070062  2211777           None\n",
      "1994-03-29  3.021073  3.102723  3.004743  3.086393  2183426           None\n",
      "1994-03-30  2.988412  3.021073  2.972082  3.004742  2905834           None\n",
      "1994-03-31  2.955750  2.972080  2.841439  2.955750  3031391           None\n",
      "1994-04-04  2.874100  2.939420  2.825109  2.857770  3695623           None\n"
     ]
    },
    {
     "name": "stderr",
     "output_type": "stream",
     "text": [
      "[*********************100%***********************]  1 of 1 completed\n"
     ]
    },
    {
     "name": "stdout",
     "output_type": "stream",
     "text": [
      "Data for BDX saved as BDX_30_years.csv\n",
      "Price          Close      High       Low      Open  Volume News_Sentiment\n",
      "Ticker           BDX       BDX       BDX       BDX     BDX               \n",
      "Date                                                                     \n",
      "1994-03-28  6.100096  6.157826  6.061610  6.138583  369410           None\n",
      "1994-03-29  5.946149  6.100095  5.946149  6.080851  401800           None\n",
      "1994-03-30  5.869178  5.946151  5.830692  5.926907  441980           None\n",
      "1994-03-31  5.772962  5.869178  5.619017  5.869178  760960           None\n",
      "1994-04-04  5.542042  5.734474  5.503556  5.734474  711760           None\n"
     ]
    },
    {
     "name": "stderr",
     "output_type": "stream",
     "text": [
      "[*********************100%***********************]  1 of 1 completed\n",
      "\n",
      "1 Failed download:\n",
      "['BRK.B']: YFTzMissingError('possibly delisted; no timezone found')\n"
     ]
    },
    {
     "name": "stdout",
     "output_type": "stream",
     "text": [
      "Data for BRK.B saved as BRK.B_30_years.csv\n",
      "Empty DataFrame\n",
      "Columns: [(Adj Close, BRK.B), (Close, BRK.B), (High, BRK.B), (Low, BRK.B), (Open, BRK.B), (Volume, BRK.B), (News_Sentiment, )]\n",
      "Index: []\n"
     ]
    },
    {
     "name": "stderr",
     "output_type": "stream",
     "text": [
      "[*********************100%***********************]  1 of 1 completed\n"
     ]
    },
    {
     "name": "stdout",
     "output_type": "stream",
     "text": [
      "Data for BBY saved as BBY_30_years.csv\n",
      "Price          Close      High       Low      Open   Volume News_Sentiment\n",
      "Ticker           BBY       BBY       BBY       BBY      BBY               \n",
      "Date                                                                      \n",
      "1994-03-28  2.138339  2.186212  2.050571  2.186212  9977400           None\n",
      "1994-03-29  2.078497  2.134349  2.058549  2.134349  6109200           None\n",
      "1994-03-30  2.046582  2.082486  2.002698  2.066529  8271000           None\n",
      "1994-03-31  2.038602  2.062539  1.978760  2.042592  4969800           None\n",
      "1994-04-04  2.098444  2.098444  1.986740  2.006687  6361200           None\n"
     ]
    },
    {
     "name": "stderr",
     "output_type": "stream",
     "text": [
      "[*********************100%***********************]  1 of 1 completed\n"
     ]
    },
    {
     "name": "stdout",
     "output_type": "stream",
     "text": [
      "Data for TECH saved as TECH_30_years.csv\n",
      "Price          Close      High       Low      Open  Volume News_Sentiment\n",
      "Ticker          TECH      TECH      TECH      TECH    TECH               \n",
      "Date                                                                     \n",
      "1994-03-28  0.643541  0.643541  0.604141  0.630408  150400           None\n",
      "1994-03-29  0.604141  0.643541  0.604141  0.643541  110400           None\n",
      "1994-03-30  0.617274  0.617274  0.577874  0.604141  198400           None\n",
      "1994-03-31  0.604141  0.617274  0.564740  0.577874  241600           None\n",
      "1994-04-04  0.538473  0.551607  0.499073  0.499073  220800           None\n"
     ]
    },
    {
     "name": "stderr",
     "output_type": "stream",
     "text": [
      "[*********************100%***********************]  1 of 1 completed\n"
     ]
    },
    {
     "name": "stdout",
     "output_type": "stream",
     "text": [
      "Data for BIIB saved as BIIB_30_years.csv\n",
      "Price          Close      High       Low      Open  Volume News_Sentiment\n",
      "Ticker          BIIB      BIIB      BIIB      BIIB    BIIB               \n",
      "Date                                                                     \n",
      "1994-03-28  0.666667  0.708333  0.666667  0.708333  244200           None\n",
      "1994-03-29  0.666667  0.708333  0.656250  0.666667  114600           None\n",
      "1994-03-30  0.645833  0.687500  0.645833  0.687500  247800           None\n",
      "1994-03-31  0.645833  0.666667  0.645833  0.645833  106200           None\n",
      "1994-04-04  0.635417  0.666667  0.625000  0.666667  205200           None\n"
     ]
    },
    {
     "name": "stderr",
     "output_type": "stream",
     "text": [
      "[*********************100%***********************]  1 of 1 completed\n"
     ]
    },
    {
     "name": "stdout",
     "output_type": "stream",
     "text": [
      "Data for BLK saved as BLK_30_years.csv\n",
      "Price          Close      High       Low      Open   Volume News_Sentiment\n",
      "Ticker           BLK       BLK       BLK       BLK      BLK               \n",
      "Date                                                                      \n",
      "1999-10-01  8.579478  8.655403  8.503554  8.503554  3162400           None\n",
      "1999-10-04  8.503559  8.579484  8.503559  8.579484   533400           None\n",
      "1999-10-05  8.579478  8.579478  8.503554  8.503554   270600           None\n",
      "1999-10-06  9.035029  9.035029  8.579482  8.579482   205400           None\n",
      "1999-10-07  8.579478  9.035026  8.541516  9.035026   214200           None\n"
     ]
    },
    {
     "name": "stderr",
     "output_type": "stream",
     "text": [
      "[*********************100%***********************]  1 of 1 completed\n"
     ]
    },
    {
     "name": "stdout",
     "output_type": "stream",
     "text": [
      "Data for BX saved as BX_30_years.csv\n",
      "Price           Close       High        Low       Open     Volume  \\\n",
      "Ticker             BX         BX         BX         BX         BX   \n",
      "Date                                                                \n",
      "2007-06-22  13.756388  14.909946  13.438570  14.301778  113095700   \n",
      "2007-06-25  12.728389  14.034972  12.516511  14.023201   35668600   \n",
      "2007-06-26  12.065282  12.748001  11.896564  12.665603   29614000   \n",
      "2007-06-27  11.739615  12.065280  11.429645  11.927951   18087600   \n",
      "2007-06-28  11.649375  12.155528  11.590520  11.617986    8660300   \n",
      "\n",
      "Price      News_Sentiment  \n",
      "Ticker                     \n",
      "Date                       \n",
      "2007-06-22           None  \n",
      "2007-06-25           None  \n",
      "2007-06-26           None  \n",
      "2007-06-27           None  \n",
      "2007-06-28           None  \n"
     ]
    },
    {
     "name": "stderr",
     "output_type": "stream",
     "text": [
      "[*********************100%***********************]  1 of 1 completed\n"
     ]
    },
    {
     "name": "stdout",
     "output_type": "stream",
     "text": [
      "Data for BK saved as BK_30_years.csv\n",
      "Price          Close      High       Low      Open   Volume News_Sentiment\n",
      "Ticker            BK        BK        BK        BK       BK               \n",
      "Date                                                                      \n",
      "1994-03-28  3.304513  3.320324  3.272891  3.312419  2396236           None\n",
      "1994-03-29  3.264986  3.312419  3.257080  3.312419  2270198           None\n",
      "1994-03-30  3.225457  3.257080  3.217552  3.257080  1716988           None\n",
      "1994-03-31  3.225457  3.241269  3.154308  3.217552  2502652           None\n",
      "1994-04-04  3.170118  3.185929  3.154307  3.185929  1692837           None\n"
     ]
    },
    {
     "name": "stderr",
     "output_type": "stream",
     "text": [
      "[*********************100%***********************]  1 of 1 completed\n"
     ]
    },
    {
     "name": "stdout",
     "output_type": "stream",
     "text": [
      "Data for BA saved as BA_30_years.csv\n",
      "Price           Close       High        Low       Open   Volume News_Sentiment\n",
      "Ticker             BA         BA         BA         BA       BA               \n",
      "Date                                                                          \n",
      "1994-03-28  13.615990  13.653090  13.504687  13.578889  1227600           None\n",
      "1994-03-29  13.541784  13.690187  13.541784  13.615986  1634600           None\n",
      "1994-03-30  13.467584  13.578886  13.356281  13.541785  2121400           None\n",
      "1994-03-31  13.207873  13.467579  12.836866  13.467579  2720400           None\n",
      "1994-04-04  13.133679  13.244982  12.836873  13.207881  1890400           None\n"
     ]
    },
    {
     "name": "stderr",
     "output_type": "stream",
     "text": [
      "[*********************100%***********************]  1 of 1 completed\n"
     ]
    },
    {
     "name": "stdout",
     "output_type": "stream",
     "text": [
      "Data for BKNG saved as BKNG_30_years.csv\n",
      "Price            Close        High         Low        Open   Volume  \\\n",
      "Ticker            BKNG        BKNG        BKNG        BKNG     BKNG   \n",
      "Date                                                                  \n",
      "1999-03-31  491.872284  511.903282  433.263068  446.617066  1322933   \n",
      "1999-04-01  477.776398  546.030169  470.357510  544.546391   483233   \n",
      "1999-04-05  445.875214  498.549324  430.295547  495.581768   324917   \n",
      "1999-04-06  468.873749  478.889248  415.457752  447.358972   353900   \n",
      "1999-04-07  442.165710  482.227704  437.714378  475.550705   156617   \n",
      "\n",
      "Price      News_Sentiment  \n",
      "Ticker                     \n",
      "Date                       \n",
      "1999-03-31           None  \n",
      "1999-04-01           None  \n",
      "1999-04-05           None  \n",
      "1999-04-06           None  \n",
      "1999-04-07           None  \n"
     ]
    },
    {
     "name": "stderr",
     "output_type": "stream",
     "text": [
      "[*********************100%***********************]  1 of 1 completed\n"
     ]
    },
    {
     "name": "stdout",
     "output_type": "stream",
     "text": [
      "Data for BSX saved as BSX_30_years.csv\n",
      "Price         Close     High      Low     Open  Volume News_Sentiment\n",
      "Ticker          BSX      BSX      BSX      BSX     BSX               \n",
      "Date                                                                 \n",
      "1994-03-28  3.59375  3.59375  3.46875  3.59375  826000           None\n",
      "1994-03-29  3.53125  3.59375  3.50000  3.59375  193200           None\n",
      "1994-03-30  3.43750  3.53125  3.40625  3.53125  456800           None\n",
      "1994-03-31  3.37500  3.43750  3.25000  3.40625  692400           None\n",
      "1994-04-04  3.37500  3.43750  3.28125  3.34375  471200           None\n"
     ]
    },
    {
     "name": "stderr",
     "output_type": "stream",
     "text": [
      "[*********************100%***********************]  1 of 1 completed\n"
     ]
    },
    {
     "name": "stdout",
     "output_type": "stream",
     "text": [
      "Data for BMY saved as BMY_30_years.csv\n",
      "Price          Close      High       Low      Open   Volume News_Sentiment\n",
      "Ticker           BMY       BMY       BMY       BMY      BMY               \n",
      "Date                                                                      \n",
      "1994-03-28  4.233200  4.233200  4.152375  4.202891  5563488           None\n",
      "1994-03-29  4.202891  4.273612  4.202891  4.233200  4619990           None\n",
      "1994-03-30  4.182686  4.253408  4.172583  4.202893  4556530           None\n",
      "1994-03-31  4.162477  4.212993  4.041240  4.182683  6694425           None\n",
      "1994-04-04  4.122065  4.152374  4.051343  4.051343  6553216           None\n"
     ]
    },
    {
     "name": "stderr",
     "output_type": "stream",
     "text": [
      "[*********************100%***********************]  1 of 1 completed\n"
     ]
    },
    {
     "name": "stdout",
     "output_type": "stream",
     "text": [
      "Data for AVGO saved as AVGO_30_years.csv\n",
      "Price          Close      High       Low      Open     Volume News_Sentiment\n",
      "Ticker          AVGO      AVGO      AVGO      AVGO       AVGO               \n",
      "Date                                                                        \n",
      "2009-08-06  1.146604  1.198336  1.102668  1.169281  241978000           None\n",
      "2009-08-07  1.164321  1.187706  1.135975  1.144478   24543000           None\n",
      "2009-08-10  1.131723  1.178494  1.106211  1.178494   24210000           None\n",
      "2009-08-11  1.110463  1.133848  1.098415  1.132431   23054000           None\n",
      "2009-08-12  1.133849  1.148022  1.109754  1.144478   14513000           None\n"
     ]
    },
    {
     "name": "stderr",
     "output_type": "stream",
     "text": [
      "[*********************100%***********************]  1 of 1 completed\n"
     ]
    },
    {
     "name": "stdout",
     "output_type": "stream",
     "text": [
      "Data for BR saved as BR_30_years.csv\n",
      "Price           Close       High        Low       Open   Volume News_Sentiment\n",
      "Ticker             BR         BR         BR         BR       BR               \n",
      "Date                                                                          \n",
      "2007-03-22  14.001559  14.106048  12.538710  12.538710  2908400           None\n",
      "2007-03-23  14.161774  15.952022  13.966727  14.001557  3550900           None\n",
      "2007-03-26  14.398621  14.454348  14.036391  14.161778   859900           None\n",
      "2007-03-27  14.175709  14.510074  14.140878  14.454347   470400           None\n",
      "2007-03-28  13.862244  14.140881  13.722925  14.140881   324100           None\n"
     ]
    },
    {
     "name": "stderr",
     "output_type": "stream",
     "text": [
      "[*********************100%***********************]  1 of 1 completed\n",
      "[*********************100%***********************]  1 of 1 completed\n",
      "\n",
      "1 Failed download:\n",
      "['BF.B']: YFPricesMissingError('possibly delisted; no price data found  (1d 1994-03-28 -> 2024-03-28)')\n"
     ]
    },
    {
     "name": "stdout",
     "output_type": "stream",
     "text": [
      "Data for BRO saved as BRO_30_years.csv\n",
      "Price          Close      High       Low      Open  Volume News_Sentiment\n",
      "Ticker           BRO       BRO       BRO       BRO     BRO               \n",
      "Date                                                                     \n",
      "1994-03-28  0.560190  0.560190  0.560190  0.560190       0           None\n",
      "1994-03-29  0.531090  0.531090  0.531090  0.531090   19200           None\n",
      "1994-03-30  0.552915  0.552915  0.531089  0.531089   28800           None\n",
      "1994-03-31  0.538364  0.560190  0.531090  0.531090  708000           None\n",
      "1994-04-04  0.527452  0.545640  0.523814  0.531090  163200           None\n",
      "Data for BF.B saved as BF.B_30_years.csv\n",
      "Empty DataFrame\n",
      "Columns: [(Adj Close, BF.B), (Close, BF.B), (High, BF.B), (Low, BF.B), (Open, BF.B), (Volume, BF.B), (News_Sentiment, )]\n",
      "Index: []\n"
     ]
    },
    {
     "name": "stderr",
     "output_type": "stream",
     "text": [
      "[*********************100%***********************]  1 of 1 completed\n"
     ]
    },
    {
     "name": "stdout",
     "output_type": "stream",
     "text": [
      "Data for BLDR saved as BLDR_30_years.csv\n",
      "Price           Close   High        Low       Open  Volume News_Sentiment\n",
      "Ticker           BLDR   BLDR       BLDR       BLDR    BLDR               \n",
      "Date                                                                     \n",
      "2005-06-28  15.990000  15.99  15.200000  15.200000  521800           None\n",
      "2005-06-29  16.030001  16.08  15.800000  16.000000  230300           None\n",
      "2005-06-30  16.200001  16.25  15.900000  16.000000  479400           None\n",
      "2005-07-01  16.240000  16.40  16.139999  16.299999  148000           None\n",
      "2005-07-05  16.049999  16.25  16.000000  16.250000  336500           None\n"
     ]
    },
    {
     "name": "stderr",
     "output_type": "stream",
     "text": [
      "[*********************100%***********************]  1 of 1 completed\n"
     ]
    },
    {
     "name": "stdout",
     "output_type": "stream",
     "text": [
      "Data for BG saved as BG_30_years.csv\n",
      "Price           Close       High        Low       Open   Volume News_Sentiment\n",
      "Ticker             BG         BG         BG         BG       BG               \n",
      "Date                                                                          \n",
      "2001-08-02  10.059938  10.110238   9.531792  10.059938  9812900           None\n",
      "2001-08-03  10.059938  10.110238  10.059938  10.059938  2776400           None\n",
      "2001-08-06  10.059938  10.059938   9.934189  10.059938   416700           None\n",
      "2001-08-07  10.059938  10.059938   9.984489  10.059938  1651800           None\n",
      "2001-08-08  10.059938  10.059938   9.984489  10.034789   265800           None\n"
     ]
    },
    {
     "name": "stderr",
     "output_type": "stream",
     "text": [
      "[*********************100%***********************]  1 of 1 completed\n"
     ]
    },
    {
     "name": "stdout",
     "output_type": "stream",
     "text": [
      "Data for BXP saved as BXP_30_years.csv\n",
      "Price          Close      High       Low      Open   Volume News_Sentiment\n",
      "Ticker           BXP       BXP       BXP       BXP      BXP               \n",
      "Date                                                                      \n",
      "1997-06-18  7.392504  7.427048  7.219782  7.219782  7918300           None\n",
      "1997-06-19  7.357961  7.461594  7.323416  7.427050  1472400           None\n",
      "1997-06-20  7.288870  7.392503  7.254325  7.392503  1030200           None\n",
      "1997-06-23  7.219784  7.288873  7.219784  7.288873   628900           None\n",
      "1997-06-24  7.202512  7.254328  7.202512  7.237056   541800           None\n"
     ]
    },
    {
     "name": "stderr",
     "output_type": "stream",
     "text": [
      "[*********************100%***********************]  1 of 1 completed\n"
     ]
    },
    {
     "name": "stdout",
     "output_type": "stream",
     "text": [
      "Data for CHRW saved as CHRW_30_years.csv\n",
      "Price          Close      High       Low      Open   Volume News_Sentiment\n",
      "Ticker          CHRW      CHRW      CHRW      CHRW     CHRW               \n",
      "Date                                                                      \n",
      "1997-10-16  3.452731  3.528615  3.376847  3.528615  7436400           None\n",
      "1997-10-17  3.395816  3.490671  3.281989  3.433758  3390400           None\n",
      "1997-10-20  3.357875  3.414788  3.319933  3.338904  3068000           None\n",
      "1997-10-21  3.395816  3.452729  3.338903  3.376845  2382400           None\n",
      "1997-10-22  3.471703  3.490674  3.395818  3.452732  1525200           None\n"
     ]
    },
    {
     "name": "stderr",
     "output_type": "stream",
     "text": [
      "[*********************100%***********************]  1 of 1 completed\n",
      "[*********************100%***********************]  1 of 1 completed"
     ]
    },
    {
     "name": "stdout",
     "output_type": "stream",
     "text": [
      "Data for CDNS saved as CDNS_30_years.csv\n",
      "Price          Close      High       Low      Open   Volume News_Sentiment\n",
      "Ticker          CDNS      CDNS      CDNS      CDNS     CDNS               \n",
      "Date                                                                      \n",
      "1994-03-28  3.250000  3.277778  3.222222  3.250000  1080450           None\n",
      "1994-03-29  3.138889  3.250000  3.138889  3.222222  1946700           None\n",
      "1994-03-30  3.055556  3.138889  3.055556  3.083333  2508750           None\n",
      "1994-03-31  3.111111  3.111111  2.888889  3.083333  2047950           None\n",
      "1994-04-04  3.055556  3.111111  2.944444  3.000000  1216800           None\n",
      "Data for CZR saved as CZR_30_years.csv\n",
      "Price      Close  High   Low  Open  Volume News_Sentiment\n",
      "Ticker       CZR   CZR   CZR   CZR     CZR               \n",
      "Date                                                     \n",
      "2014-09-22  4.35  4.75  4.10  4.75   21900           None\n",
      "2014-09-23  4.26  4.45  3.90  4.45   81700           None\n",
      "2014-09-24  4.34  4.34  3.61  3.70   94400           None\n",
      "2014-09-25  4.00  4.44  3.80  4.35   29800           None\n",
      "2014-09-26  4.40  4.40  4.00  4.00  161500           None\n"
     ]
    },
    {
     "name": "stderr",
     "output_type": "stream",
     "text": [
      "\n",
      "[*********************100%***********************]  1 of 1 completed\n"
     ]
    },
    {
     "name": "stdout",
     "output_type": "stream",
     "text": [
      "Data for CPT saved as CPT_30_years.csv\n",
      "Price          Close      High       Low      Open Volume News_Sentiment\n",
      "Ticker           CPT       CPT       CPT       CPT    CPT               \n",
      "Date                                                                    \n",
      "1994-03-28  5.287770  5.287770  5.237886  5.287770   1200           None\n",
      "1994-03-29  5.187999  5.262826  5.187999  5.237884  10200           None\n",
      "1994-03-30  5.138114  5.187999  5.113172  5.187999  10600           None\n",
      "1994-03-31  5.063288  5.163057  5.063288  5.163057  12200           None\n",
      "1994-04-04  4.963519  5.013403  4.913634  5.013403  62200           None\n"
     ]
    },
    {
     "name": "stderr",
     "output_type": "stream",
     "text": [
      "[*********************100%***********************]  1 of 1 completed\n"
     ]
    },
    {
     "name": "stdout",
     "output_type": "stream",
     "text": [
      "Data for CPB saved as CPB_30_years.csv\n",
      "Price          Close      High       Low      Open  Volume News_Sentiment\n",
      "Ticker           CPB       CPB       CPB       CPB     CPB               \n",
      "Date                                                                     \n",
      "1994-03-28  8.239147  8.290642  7.904432  7.930179  509000           None\n",
      "1994-03-29  8.264897  8.290645  8.161908  8.161908  302400           None\n",
      "1994-03-30  8.239147  8.264895  8.136158  8.161905  515000           None\n",
      "1994-03-31  8.242250  8.242250  7.932197  8.190575  604600           None\n",
      "1994-04-04  7.983877  8.138904  7.958039  8.035553  282600           None\n"
     ]
    },
    {
     "name": "stderr",
     "output_type": "stream",
     "text": [
      "[*********************100%***********************]  1 of 1 completed\n"
     ]
    },
    {
     "name": "stdout",
     "output_type": "stream",
     "text": [
      "Data for COF saved as COF_30_years.csv\n",
      "Price          Close      High       Low      Open   Volume News_Sentiment\n",
      "Ticker           COF       COF       COF       COF      COF               \n",
      "Date                                                                      \n",
      "1994-11-16  3.762257  3.791649  3.762257  3.762257  8343900           None\n",
      "1994-11-17  3.821043  3.821043  3.732865  3.762257  4872000           None\n",
      "1994-11-18  3.879829  3.909222  3.821044  3.850436  1468800           None\n",
      "1994-11-21  3.791651  3.909221  3.791651  3.909221   348600           None\n",
      "1994-11-22  3.615293  3.791648  3.615293  3.762255   709800           None\n"
     ]
    },
    {
     "name": "stderr",
     "output_type": "stream",
     "text": [
      "[*********************100%***********************]  1 of 1 completed\n"
     ]
    },
    {
     "name": "stdout",
     "output_type": "stream",
     "text": [
      "Data for CAH saved as CAH_30_years.csv\n",
      "Price          Close      High       Low      Open  Volume News_Sentiment\n",
      "Ticker           CAH       CAH       CAH       CAH     CAH               \n",
      "Date                                                                     \n",
      "1994-03-28  5.103905  5.210793  5.077183  5.157349  410484           None\n",
      "1994-03-29  5.090542  5.130625  5.077181  5.130625  756844           None\n",
      "1994-03-30  5.023737  5.103903  5.023737  5.077181  342563           None\n",
      "1994-03-31  4.916849  5.037098  4.809961  5.023737  578391           None\n",
      "1994-04-04  4.863406  4.890128  4.809962  4.809962  516375           None\n"
     ]
    },
    {
     "name": "stderr",
     "output_type": "stream",
     "text": [
      "[*********************100%***********************]  1 of 1 completed\n"
     ]
    },
    {
     "name": "stdout",
     "output_type": "stream",
     "text": [
      "Data for KMX saved as KMX_30_years.csv\n",
      "Price         Close     High      Low     Open    Volume News_Sentiment\n",
      "Ticker          KMX      KMX      KMX      KMX       KMX               \n",
      "Date                                                                   \n",
      "1997-02-04  10.5625  11.0000  10.3125  11.0000  26677600           None\n",
      "1997-02-05  10.1250  10.7500  10.1250  10.6250   6762800           None\n",
      "1997-02-06  10.3125  10.3750  10.1250  10.1875   2238200           None\n",
      "1997-02-07  10.2500  10.3125  10.2500  10.2500   1405800           None\n",
      "1997-02-10  10.5000  10.6250  10.2500  10.2500   1666800           None\n"
     ]
    },
    {
     "name": "stderr",
     "output_type": "stream",
     "text": [
      "[*********************100%***********************]  1 of 1 completed\n",
      "[*********************100%***********************]  1 of 1 completed"
     ]
    },
    {
     "name": "stdout",
     "output_type": "stream",
     "text": [
      "Data for CCL saved as CCL_30_years.csv\n",
      "Price          Close      High       Low      Open   Volume News_Sentiment\n",
      "Ticker           CCL       CCL       CCL       CCL      CCL               \n",
      "Date                                                                      \n",
      "1994-03-28  6.752654  6.896327  6.716735  6.896327   702000           None\n",
      "1994-03-29  6.626942  6.752656  6.608982  6.752656  1471600           None\n",
      "1994-03-30  6.465305  6.626938  6.447346  6.591020   749200           None\n",
      "1994-03-31  6.375511  6.447347  6.160000  6.447347   612400           None\n",
      "1994-04-04  6.303679  6.465311  6.267760  6.357556   669200           None\n",
      "Data for CARR saved as CARR_30_years.csv\n",
      "Price           Close       High        Low       Open Volume News_Sentiment\n",
      "Ticker           CARR       CARR       CARR       CARR   CARR               \n",
      "Date                                                                        \n",
      "2020-03-19  11.256907  11.256907  11.256907  11.256907    100           None\n",
      "2020-03-20  11.960461  12.194979  11.256904  12.194979   2300           None\n",
      "2020-03-23  10.825389  11.960460  10.787866  11.960460  18700           None\n",
      "2020-03-24  10.975483  12.101173  10.787868  12.101173  96100           None\n",
      "2020-03-25  12.617115  12.617115  11.069291  11.069291  19200           None\n"
     ]
    },
    {
     "name": "stderr",
     "output_type": "stream",
     "text": [
      "\n",
      "[*********************100%***********************]  1 of 1 completed\n",
      "[*********************100%***********************]  1 of 1 completed"
     ]
    },
    {
     "name": "stdout",
     "output_type": "stream",
     "text": [
      "Data for CAT saved as CAT_30_years.csv\n",
      "Price          Close      High       Low      Open   Volume News_Sentiment\n",
      "Ticker           CAT       CAT       CAT       CAT      CAT               \n",
      "Date                                                                      \n",
      "1994-03-28  6.653428  6.770154  6.616950  6.770154  5883200           None\n",
      "1994-03-29  6.471045  6.668021  6.449158  6.653430  4104800           None\n",
      "1994-03-30  6.390794  6.529407  6.186522  6.471044  9201600           None\n",
      "1994-03-31  6.558590  6.573181  6.339727  6.390795  6145600           None\n",
      "1994-04-04  6.609662  6.653434  6.383503  6.558594  7996800           None\n"
     ]
    },
    {
     "name": "stderr",
     "output_type": "stream",
     "text": [
      "\n",
      "[*********************100%***********************]  1 of 1 completed"
     ]
    },
    {
     "name": "stdout",
     "output_type": "stream",
     "text": [
      "Data for CBOE saved as CBOE_30_years.csv\n",
      "Price           Close       High        Low       Open    Volume  \\\n",
      "Ticker           CBOE       CBOE       CBOE       CBOE      CBOE   \n",
      "Date                                                               \n",
      "2010-06-15  23.000315  23.892295  22.865810  23.219770  17022500   \n",
      "2010-06-16  22.702988  23.212689  22.632196  22.915365   2158800   \n",
      "2010-06-17  22.299471  22.993232  22.122491  22.901203   1467700   \n",
      "2010-06-18  21.952593  22.405661  21.775612  22.264077   1132200   \n",
      "2010-06-21  22.681751  23.361354  21.952595  22.412743   1066900   \n",
      "\n",
      "Price      News_Sentiment  \n",
      "Ticker                     \n",
      "Date                       \n",
      "2010-06-15           None  \n",
      "2010-06-16           None  \n",
      "2010-06-17           None  \n",
      "2010-06-18           None  \n",
      "2010-06-21           None  \n"
     ]
    },
    {
     "name": "stderr",
     "output_type": "stream",
     "text": [
      "\n",
      "[*********************100%***********************]  1 of 1 completed"
     ]
    },
    {
     "name": "stdout",
     "output_type": "stream",
     "text": [
      "Data for CBRE saved as CBRE_30_years.csv\n",
      "Price          Close      High       Low      Open    Volume News_Sentiment\n",
      "Ticker          CBRE      CBRE      CBRE      CBRE      CBRE               \n",
      "Date                                                                       \n",
      "2004-06-10  6.116667  6.336667  6.033333  6.333333  35097600           None\n",
      "2004-06-14  6.066667  6.126667  6.053333  6.083333   2313600           None\n",
      "2004-06-15  6.250000  6.250000  6.070000  6.070000   2499600           None\n",
      "2004-06-16  6.333333  6.366667  6.250000  6.250000   2810100           None\n",
      "2004-06-17  6.350000  6.366667  6.266667  6.353333   1390200           None\n",
      "Data for CDW saved as CDW_30_years.csv\n",
      "Price           Close       High        Low       Open   Volume News_Sentiment\n",
      "Ticker            CDW        CDW        CDW        CDW      CDW               \n",
      "Date                                                                          \n",
      "2013-06-27  16.257662  16.593965  15.381499  15.611602  8285800           None\n",
      "2013-06-28  16.478918  16.965674  16.266514  16.284214   717400           None\n",
      "2013-07-01  16.231113  16.726719  16.231113  16.505467   394200           None\n",
      "2013-07-02  17.009922  17.381627  16.160312  16.231113   223800           None\n",
      "2013-07-03  16.886021  17.001071  16.523166  16.806369   103700           None\n"
     ]
    },
    {
     "name": "stderr",
     "output_type": "stream",
     "text": [
      "\n",
      "[*********************100%***********************]  1 of 1 completed\n",
      "[*********************100%***********************]  1 of 1 completed"
     ]
    },
    {
     "name": "stdout",
     "output_type": "stream",
     "text": [
      "Data for COR saved as COR_30_years.csv\n",
      "Price          Close      High       Low      Open    Volume News_Sentiment\n",
      "Ticker           COR       COR       COR       COR       COR               \n",
      "Date                                                                       \n",
      "1995-04-04  2.225606  2.237382  2.119625  2.213830  40387200           None\n",
      "1995-04-05  2.143176  2.237382  2.143176  2.190279  12236800           None\n",
      "1995-04-06  2.178503  2.213830  2.143175  2.143175   3776000           None\n",
      "1995-04-07  2.143176  2.190279  2.143176  2.190279   1920800           None\n",
      "1995-04-10  2.166727  2.190278  2.143175  2.143175   2047200           None\n"
     ]
    },
    {
     "name": "stderr",
     "output_type": "stream",
     "text": [
      "\n"
     ]
    },
    {
     "name": "stdout",
     "output_type": "stream",
     "text": [
      "Data for CNC saved as CNC_30_years.csv\n",
      "Price          Close      High       Low      Open    Volume News_Sentiment\n",
      "Ticker           CNC       CNC       CNC       CNC       CNC               \n",
      "Date                                                                       \n",
      "2001-12-13  1.433333  1.475000  1.189167  1.189167  56373600           None\n",
      "2001-12-14  1.391667  1.440833  1.370833  1.434167  11307600           None\n",
      "2001-12-17  1.415000  1.425000  1.383333  1.391667   1756800           None\n",
      "2001-12-18  1.438333  1.447500  1.391667  1.408333   3585600           None\n",
      "2001-12-19  1.725833  1.775000  1.433333  1.437500   3352800           None\n"
     ]
    },
    {
     "name": "stderr",
     "output_type": "stream",
     "text": [
      "[*********************100%***********************]  1 of 1 completed\n"
     ]
    },
    {
     "name": "stdout",
     "output_type": "stream",
     "text": [
      "Data for CNP saved as CNP_30_years.csv\n",
      "Price          Close      High       Low      Open  Volume News_Sentiment\n",
      "Ticker           CNP       CNP       CNP       CNP     CNP               \n",
      "Date                                                                     \n",
      "1994-03-28  3.068928  3.068928  2.985703  3.006509  742349           None\n",
      "1994-03-29  3.016913  3.058525  3.016913  3.048122  536418           None\n",
      "1994-03-30  2.975299  3.048121  2.975299  3.016912  757770           None\n",
      "1994-03-31  2.954492  3.016911  2.892073  2.975299  905813           None\n",
      "1994-04-04  2.923285  2.954494  2.912881  2.933688  740925           None\n"
     ]
    },
    {
     "name": "stderr",
     "output_type": "stream",
     "text": [
      "[*********************100%***********************]  1 of 1 completed\n",
      "[*********************100%***********************]  1 of 1 completed"
     ]
    },
    {
     "name": "stdout",
     "output_type": "stream",
     "text": [
      "Data for CF saved as CF_30_years.csv\n",
      "Price          Close      High       Low      Open    Volume News_Sentiment\n",
      "Ticker            CF        CF        CF        CF        CF               \n",
      "Date                                                                       \n",
      "2005-08-11  2.269889  2.318929  2.241865  2.276894  76671500           None\n",
      "2005-08-12  2.512290  2.522098  2.276894  2.276894  29113500           None\n",
      "2005-08-15  2.424016  2.501080  2.418411  2.487068  10596500           None\n",
      "2005-08-16  2.402999  2.424016  2.367970  2.367970   5141000           None\n",
      "2005-08-17  2.360964  2.410005  2.353958  2.402999   6423500           None\n"
     ]
    },
    {
     "name": "stderr",
     "output_type": "stream",
     "text": [
      "\n"
     ]
    },
    {
     "name": "stdout",
     "output_type": "stream",
     "text": [
      "Data for CRL saved as CRL_30_years.csv\n",
      "Price         Close     High      Low     Open   Volume News_Sentiment\n",
      "Ticker          CRL      CRL      CRL      CRL      CRL               \n",
      "Date                                                                  \n",
      "2000-06-23  22.0000  23.6250  18.5000  19.5000  7986500           None\n",
      "2000-06-26  21.8750  21.8750  20.8750  21.7500  1005000           None\n",
      "2000-06-27  21.5625  21.9375  21.1250  21.9375   421000           None\n",
      "2000-06-28  21.5625  21.6875  20.6250  21.6250   567500           None\n",
      "2000-06-29  21.1875  21.5000  21.1875  21.5000   140300           None\n"
     ]
    },
    {
     "name": "stderr",
     "output_type": "stream",
     "text": [
      "[*********************100%***********************]  1 of 1 completed\n",
      "[*********************100%***********************]  1 of 1 completed"
     ]
    },
    {
     "name": "stdout",
     "output_type": "stream",
     "text": [
      "Data for SCHW saved as SCHW_30_years.csv\n",
      "Price          Close      High       Low      Open    Volume News_Sentiment\n",
      "Ticker          SCHW      SCHW      SCHW      SCHW      SCHW               \n",
      "Date                                                                       \n",
      "1994-03-28  1.026752  1.052967  1.018014  1.048597   7425675           None\n",
      "1994-03-29  0.969953  1.022382  0.969953  1.018014   5090850           None\n",
      "1994-03-30  0.952477  0.983061  0.948107  0.974322   6230925           None\n",
      "1994-03-31  0.939369  0.956846  0.917523  0.952477   7664625           None\n",
      "1994-04-04  0.904416  0.913154  0.882570  0.913154  12648150           None\n",
      "Data for CHTR saved as CHTR_30_years.csv\n",
      "Price      Close       High   Low       Open Volume News_Sentiment\n",
      "Ticker      CHTR       CHTR  CHTR       CHTR   CHTR               \n",
      "Date                                                              \n",
      "2010-01-05  35.0  35.000000  35.0  35.000000  10000           None\n",
      "2010-01-06  35.0  35.000000  35.0  35.000000      0           None\n",
      "2010-01-07  35.0  35.500000  35.0  35.250000   9800           None\n",
      "2010-01-08  33.5  34.549999  33.5  34.549999  32200           None\n",
      "2010-01-11  33.5  33.500000  33.5  33.500000   3700           None\n"
     ]
    },
    {
     "name": "stderr",
     "output_type": "stream",
     "text": [
      "\n",
      "[*********************100%***********************]  1 of 1 completed\n",
      "[*********************100%***********************]  1 of 1 completed"
     ]
    },
    {
     "name": "stdout",
     "output_type": "stream",
     "text": [
      "Data for CVX saved as CVX_30_years.csv\n",
      "Price          Close      High       Low      Open   Volume News_Sentiment\n",
      "Ticker           CVX       CVX       CVX       CVX      CVX               \n",
      "Date                                                                      \n",
      "1994-03-28  7.132149  7.192762  7.081638  7.192762  3943600           None\n",
      "1994-03-29  7.051330  7.142250  7.041228  7.122045  1433600           None\n",
      "1994-03-30  6.768469  7.031126  6.768469  7.031126  2850400           None\n",
      "1994-03-31  6.788671  6.849284  6.657343  6.829080  3136400           None\n",
      "1994-04-04  6.768469  6.808878  6.687652  6.758367  2580400           None\n"
     ]
    },
    {
     "name": "stderr",
     "output_type": "stream",
     "text": [
      "\n"
     ]
    },
    {
     "name": "stdout",
     "output_type": "stream",
     "text": [
      "Data for CMG saved as CMG_30_years.csv\n",
      "Price        Close    High     Low    Open     Volume News_Sentiment\n",
      "Ticker         CMG     CMG     CMG     CMG        CMG               \n",
      "Date                                                                \n",
      "2006-01-26  0.8800  0.9656  0.7902  0.9000  660930000           None\n",
      "2006-01-27  0.8440  0.8980  0.8350  0.8976   57540000           None\n",
      "2006-01-30  0.8960  0.9102  0.8250  0.8440   36790000           None\n",
      "2006-01-31  0.9504  0.9860  0.9076  0.9100   55560000           None\n",
      "2006-02-01  0.9312  0.9848  0.9050  0.9780   30335000           None\n"
     ]
    },
    {
     "name": "stderr",
     "output_type": "stream",
     "text": [
      "[*********************100%***********************]  1 of 1 completed\n"
     ]
    },
    {
     "name": "stdout",
     "output_type": "stream",
     "text": [
      "Data for CB saved as CB_30_years.csv\n",
      "Price          Close      High       Low      Open  Volume News_Sentiment\n",
      "Ticker            CB        CB        CB        CB      CB               \n",
      "Date                                                                     \n",
      "1994-03-28  4.867735  4.913441  4.867735  4.913441   91200           None\n",
      "1994-03-29  4.890586  4.936293  4.844880  4.844880  429600           None\n",
      "1994-03-30  4.890586  4.936293  4.890586  4.890586  401700           None\n",
      "1994-03-31  4.707761  4.890587  4.479230  4.890587  484500           None\n",
      "1994-04-04  4.639202  4.707762  4.616349  4.662056  302100           None\n"
     ]
    },
    {
     "name": "stderr",
     "output_type": "stream",
     "text": [
      "[*********************100%***********************]  1 of 1 completed\n"
     ]
    },
    {
     "name": "stdout",
     "output_type": "stream",
     "text": [
      "Data for CHD saved as CHD_30_years.csv\n",
      "Price          Close      High       Low      Open  Volume News_Sentiment\n",
      "Ticker           CHD       CHD       CHD       CHD     CHD               \n",
      "Date                                                                     \n",
      "1994-03-28  1.247648  1.254580  1.233786  1.254580  204000           None\n",
      "1994-03-29  1.247648  1.254580  1.226854  1.240717  369600           None\n",
      "1994-03-30  1.254580  1.254580  1.240716  1.247648  184800           None\n",
      "1994-03-31  1.233786  1.254580  1.219922  1.247648  370800           None\n",
      "1994-04-04  1.226854  1.233786  1.206060  1.219923  421200           None\n"
     ]
    },
    {
     "name": "stderr",
     "output_type": "stream",
     "text": [
      "[*********************100%***********************]  1 of 1 completed\n"
     ]
    },
    {
     "name": "stdout",
     "output_type": "stream",
     "text": [
      "Data for CI saved as CI_30_years.csv\n",
      "Price          Close      High       Low      Open   Volume News_Sentiment\n",
      "Ticker            CI        CI        CI        CI       CI               \n",
      "Date                                                                      \n",
      "1994-03-28  5.125330  5.135500  5.104992  5.125330   567000           None\n",
      "1994-03-29  5.054146  5.125331  5.054146  5.125331   604800           None\n",
      "1994-03-30  4.881264  5.043972  4.881264  5.043972  2102400           None\n",
      "1994-03-31  4.830420  4.840590  4.718558  4.840590  1943100           None\n",
      "1994-04-04  4.769404  4.799913  4.738896  4.799913  2245500           None\n"
     ]
    },
    {
     "name": "stderr",
     "output_type": "stream",
     "text": [
      "[*********************100%***********************]  1 of 1 completed\n"
     ]
    },
    {
     "name": "stdout",
     "output_type": "stream",
     "text": [
      "Data for CINF saved as CINF_30_years.csv\n",
      "Price          Close      High       Low      Open  Volume News_Sentiment\n",
      "Ticker          CINF      CINF      CINF      CINF    CINF               \n",
      "Date                                                                     \n",
      "1994-03-28  5.742722  5.848578  5.742722  5.742722   30995           None\n",
      "1994-03-29  5.848577  5.848577  5.742721  5.822113   72201           None\n",
      "1994-03-30  5.782414  5.822111  5.742718  5.742718  183420           None\n",
      "1994-03-31  5.531009  5.822115  5.531009  5.742722  207122           None\n",
      "1994-04-04  5.517775  5.557471  5.478079  5.531007  138203           None\n"
     ]
    },
    {
     "name": "stderr",
     "output_type": "stream",
     "text": [
      "[*********************100%***********************]  1 of 1 completed\n"
     ]
    },
    {
     "name": "stdout",
     "output_type": "stream",
     "text": [
      "Data for CTAS saved as CTAS_30_years.csv\n",
      "Price          Close      High       Low      Open   Volume News_Sentiment\n",
      "Ticker          CTAS      CTAS      CTAS      CTAS     CTAS               \n",
      "Date                                                                      \n",
      "1994-03-28  1.132713  1.141848  1.105308  1.141848   633600           None\n",
      "1994-03-29  1.128145  1.132713  1.105308  1.132713  4276800           None\n",
      "1994-03-30  1.128145  1.132713  1.105308  1.105308   712800           None\n",
      "1994-03-31  1.132713  1.132713  1.123578  1.123578  1267200           None\n",
      "1994-04-04  1.141848  1.141848  1.123578  1.132713  1090800           None\n"
     ]
    },
    {
     "name": "stderr",
     "output_type": "stream",
     "text": [
      "[*********************100%***********************]  1 of 1 completed\n"
     ]
    },
    {
     "name": "stdout",
     "output_type": "stream",
     "text": [
      "Data for CSCO saved as CSCO_30_years.csv\n",
      "Price          Close      High       Low      Open     Volume News_Sentiment\n",
      "Ticker          CSCO      CSCO      CSCO      CSCO       CSCO               \n",
      "Date                                                                        \n",
      "1994-03-28  1.215083  1.251904  1.159853  1.242699  103341600           None\n",
      "1994-03-29  1.178263  1.224289  1.169058  1.224289   59675400           None\n",
      "1994-03-30  1.196673  1.270315  1.141442  1.178263  106014600           None\n",
      "1994-03-31  1.261110  1.270315  1.178263  1.205878   91359000           None\n",
      "1994-04-04  1.219687  1.233494  1.187469  1.215084   92761200           None\n"
     ]
    },
    {
     "name": "stderr",
     "output_type": "stream",
     "text": [
      "[*********************100%***********************]  1 of 1 completed\n",
      "[*********************100%***********************]  1 of 1 completed"
     ]
    },
    {
     "name": "stdout",
     "output_type": "stream",
     "text": [
      "Data for C saved as C_30_years.csv\n",
      "Price           Close       High        Low       Open   Volume News_Sentiment\n",
      "Ticker              C          C          C          C        C               \n",
      "Date                                                                          \n",
      "1994-03-28  29.721943  30.439369  29.311986  30.439369  1057470           None\n",
      "1994-03-29  28.594547  29.619440  28.492058  29.516950   647651           None\n",
      "1994-03-30  28.287079  29.106994  28.184589  28.697036   587711           None\n",
      "1994-03-31  28.902014  29.004503  28.184588  28.492057   520120           None\n",
      "1994-04-04  28.492062  28.492062  27.672146  27.672146   678614           None\n"
     ]
    },
    {
     "name": "stderr",
     "output_type": "stream",
     "text": [
      "\n"
     ]
    },
    {
     "name": "stdout",
     "output_type": "stream",
     "text": [
      "Data for CFG saved as CFG_30_years.csv\n",
      "Price           Close       High        Low       Open    Volume  \\\n",
      "Ticker            CFG        CFG        CFG        CFG       CFG   \n",
      "Date                                                               \n",
      "2014-09-24  16.085497  16.183069  14.879782  14.984323  60450900   \n",
      "2014-09-25  16.064602  16.315503  15.646435  15.723099   8430000   \n",
      "2014-09-26  16.203985  16.287619  15.967024  16.155199   2504400   \n",
      "2014-09-29  16.190044  16.343373  15.967022  16.127319   4832600   \n",
      "2014-09-30  16.322462  16.427004  16.064592  16.106409   4103100   \n",
      "\n",
      "Price      News_Sentiment  \n",
      "Ticker                     \n",
      "Date                       \n",
      "2014-09-24           None  \n",
      "2014-09-25           None  \n",
      "2014-09-26           None  \n",
      "2014-09-29           None  \n",
      "2014-09-30           None  \n"
     ]
    },
    {
     "name": "stderr",
     "output_type": "stream",
     "text": [
      "[*********************100%***********************]  1 of 1 completed\n"
     ]
    },
    {
     "name": "stdout",
     "output_type": "stream",
     "text": [
      "Data for CLX saved as CLX_30_years.csv\n",
      "Price          Close      High       Low      Open  Volume News_Sentiment\n",
      "Ticker           CLX       CLX       CLX       CLX     CLX               \n",
      "Date                                                                     \n",
      "1994-03-28  5.686656  5.686656  5.589803  5.603639  322400           None\n",
      "1994-03-29  5.645150  5.672822  5.617477  5.658986  288000           None\n",
      "1994-03-30  5.645150  5.714330  5.603641  5.645150  427600           None\n",
      "1994-03-31  5.548296  5.631313  5.451443  5.617477  496000           None\n",
      "1994-04-04  5.548296  5.603641  5.492952  5.534460  296000           None\n"
     ]
    },
    {
     "name": "stderr",
     "output_type": "stream",
     "text": [
      "[*********************100%***********************]  1 of 1 completed\n"
     ]
    },
    {
     "name": "stdout",
     "output_type": "stream",
     "text": [
      "Data for CME saved as CME_30_years.csv\n",
      "Price          Close      High       Low      Open    Volume News_Sentiment\n",
      "Ticker           CME       CME       CME       CME       CME               \n",
      "Date                                                                       \n",
      "2002-12-06  4.266291  4.296126  3.868502  3.878447  27551000           None\n",
      "2002-12-09  4.178775  4.256344  4.091261  4.246399   3149500           None\n",
      "2002-12-10  4.251371  4.306067  4.141979  4.181758   1723000           None\n",
      "2002-12-11  4.481095  4.524852  4.206621  4.246400   2549000           None\n",
      "2002-12-12  4.366732  4.481096  4.335903  4.481096   1355500           None\n"
     ]
    },
    {
     "name": "stderr",
     "output_type": "stream",
     "text": [
      "[*********************100%***********************]  1 of 1 completed\n"
     ]
    },
    {
     "name": "stdout",
     "output_type": "stream",
     "text": [
      "Data for CMS saved as CMS_30_years.csv\n",
      "Price          Close      High       Low      Open  Volume News_Sentiment\n",
      "Ticker           CMS       CMS       CMS       CMS     CMS               \n",
      "Date                                                                     \n",
      "1994-03-28  8.524330  8.524330  8.383819  8.430656  124600           None\n",
      "1994-03-29  8.383819  8.477493  8.290145  8.477493  152200           None\n",
      "1994-03-30  8.336987  8.618010  8.243313  8.336987  115900           None\n",
      "1994-03-31  8.430658  8.430658  8.009125  8.290147  238700           None\n",
      "1994-04-04  8.290147  8.290147  8.149636  8.290147  146200           None\n"
     ]
    },
    {
     "name": "stderr",
     "output_type": "stream",
     "text": [
      "[*********************100%***********************]  1 of 1 completed\n"
     ]
    },
    {
     "name": "stdout",
     "output_type": "stream",
     "text": [
      "Data for KO saved as KO_30_years.csv\n",
      "Price          Close      High       Low      Open   Volume News_Sentiment\n",
      "Ticker            KO        KO        KO        KO       KO               \n",
      "Date                                                                      \n",
      "1994-03-28  4.872003  4.872003  4.756347  4.828632  3468800           None\n",
      "1994-03-29  4.843091  4.886462  4.828634  4.872005  5724400           None\n",
      "1994-03-30  4.741889  4.857545  4.741889  4.843088  7094000           None\n",
      "1994-03-31  4.698522  4.770807  4.640694  4.741893  8483600           None\n",
      "1994-04-04  4.655149  4.741891  4.597321  4.698520  9710800           None\n"
     ]
    },
    {
     "name": "stderr",
     "output_type": "stream",
     "text": [
      "[*********************100%***********************]  1 of 1 completed\n"
     ]
    },
    {
     "name": "stdout",
     "output_type": "stream",
     "text": [
      "Data for CTSH saved as CTSH_30_years.csv\n",
      "Price          Close      High       Low      Open    Volume News_Sentiment\n",
      "Ticker          CTSH      CTSH      CTSH      CTSH      CTSH               \n",
      "Date                                                                       \n",
      "1998-06-19  0.187044  0.196396  0.177692  0.187044  61454400           None\n",
      "1998-06-22  0.187044  0.189383  0.184706  0.185875   6979200           None\n",
      "1998-06-23  0.187044  0.189383  0.180030  0.186459   9638400           None\n",
      "1998-06-24  0.191721  0.191721  0.184706  0.187044   1732800           None\n",
      "1998-06-25  0.210425  0.219777  0.195228  0.196397  18417600           None\n"
     ]
    },
    {
     "name": "stderr",
     "output_type": "stream",
     "text": [
      "[*********************100%***********************]  1 of 1 completed\n"
     ]
    },
    {
     "name": "stdout",
     "output_type": "stream",
     "text": [
      "Data for CL saved as CL_30_years.csv\n",
      "Price          Close      High       Low      Open   Volume News_Sentiment\n",
      "Ticker            CL        CL        CL        CL       CL               \n",
      "Date                                                                      \n",
      "1994-03-28  3.828341  3.877007  3.779676  3.868896  3713600           None\n",
      "1994-03-29  3.779675  3.820230  3.747232  3.812119  3667200           None\n",
      "1994-03-30  3.755343  3.787787  3.714789  3.779676  4106400           None\n",
      "1994-03-31  3.755343  3.771565  3.609347  3.763454  3121600           None\n",
      "1994-04-04  3.714787  3.739120  3.633678  3.633678  3048000           None\n"
     ]
    },
    {
     "name": "stderr",
     "output_type": "stream",
     "text": [
      "[*********************100%***********************]  1 of 1 completed\n"
     ]
    },
    {
     "name": "stdout",
     "output_type": "stream",
     "text": [
      "Data for CMCSA saved as CMCSA_30_years.csv\n",
      "Price          Close      High       Low      Open   Volume News_Sentiment\n",
      "Ticker         CMCSA     CMCSA     CMCSA     CMCSA    CMCSA               \n",
      "Date                                                                      \n",
      "1994-03-28  2.277742  2.306574  2.205661  2.263326  1153200           None\n",
      "1994-03-29  2.220077  2.320990  2.205661  2.292157  2056200           None\n",
      "1994-03-30  2.133580  2.220076  2.133580  2.220076  1693200           None\n",
      "1994-03-31  2.090333  2.191246  2.018253  2.147997  3019800           None\n",
      "1994-04-04  2.047084  2.104748  2.003835  2.032668  1473600           None\n"
     ]
    },
    {
     "name": "stderr",
     "output_type": "stream",
     "text": [
      "[*********************100%***********************]  1 of 1 completed\n"
     ]
    },
    {
     "name": "stdout",
     "output_type": "stream",
     "text": [
      "Data for CAG saved as CAG_30_years.csv\n",
      "Price          Close      High       Low      Open   Volume News_Sentiment\n",
      "Ticker           CAG       CAG       CAG       CAG      CAG               \n",
      "Date                                                                      \n",
      "1994-03-28  3.761568  3.831551  3.744072  3.779064  2568972           None\n",
      "1994-03-29  3.761568  3.814055  3.761568  3.779064  1482633           None\n",
      "1994-03-30  3.744072  3.779064  3.726577  3.744072  1222806           None\n",
      "1994-03-31  3.744072  3.779064  3.726577  3.744072   969918           None\n",
      "1994-04-04  3.691584  3.779062  3.674088  3.709079  1620899           None\n"
     ]
    },
    {
     "name": "stderr",
     "output_type": "stream",
     "text": [
      "[*********************100%***********************]  1 of 1 completed\n"
     ]
    },
    {
     "name": "stdout",
     "output_type": "stream",
     "text": [
      "Data for COP saved as COP_30_years.csv\n",
      "Price          Close      High       Low      Open   Volume News_Sentiment\n",
      "Ticker           COP       COP       COP       COP      COP               \n",
      "Date                                                                      \n",
      "1994-03-28  4.027679  4.098966  4.027679  4.098966  1341175           None\n",
      "1994-03-29  4.009856  4.063321  3.974213  4.009856  1451366           None\n",
      "1994-03-30  3.920750  3.992037  3.760356  3.938572  2157371           None\n",
      "1994-03-31  3.795998  3.885106  3.635603  3.885106  3312272           None\n",
      "1994-04-04  3.885107  3.885107  3.706891  3.760356  1284243           None\n"
     ]
    },
    {
     "name": "stderr",
     "output_type": "stream",
     "text": [
      "[*********************100%***********************]  1 of 1 completed\n"
     ]
    },
    {
     "name": "stdout",
     "output_type": "stream",
     "text": [
      "Data for ED saved as ED_30_years.csv\n",
      "Price          Close      High       Low      Open  Volume News_Sentiment\n",
      "Ticker            ED        ED        ED        ED      ED               \n",
      "Date                                                                     \n",
      "1994-03-28  6.725551  6.725551  6.531010  6.586593  275200           None\n",
      "1994-03-29  6.531011  6.697760  6.531011  6.697760  343100           None\n",
      "1994-03-30  6.503220  6.558803  6.475429  6.531012  368400           None\n",
      "1994-03-31  6.475427  6.531010  6.419844  6.503219  413500           None\n",
      "1994-04-04  6.392054  6.447637  6.308679  6.336471  400800           None\n"
     ]
    },
    {
     "name": "stderr",
     "output_type": "stream",
     "text": [
      "[*********************100%***********************]  1 of 1 completed\n",
      "[*********************100%***********************]  1 of 1 completed"
     ]
    },
    {
     "name": "stdout",
     "output_type": "stream",
     "text": [
      "Data for STZ saved as STZ_30_years.csv\n",
      "Price          Close      High       Low      Open   Volume News_Sentiment\n",
      "Ticker           STZ       STZ       STZ       STZ      STZ               \n",
      "Date                                                                      \n",
      "1994-03-28  3.135990  3.326876  3.081451  3.245068  1463200           None\n",
      "1994-03-29  3.054181  3.190528  3.054181  3.135989   481600           None\n",
      "1994-03-30  2.972372  3.026911  2.945103  2.945103  1306400           None\n",
      "1994-03-31  2.999642  2.999642  2.836025  2.945103   965600           None\n",
      "1994-04-04  2.958738  2.972372  2.890564  2.945103   716000           None\n",
      "Data for CEG saved as CEG_30_years.csv\n",
      "Price           Close       High        Low       Open  Volume News_Sentiment\n",
      "Ticker            CEG        CEG        CEG        CEG     CEG               \n",
      "Date                                                                         \n",
      "2022-01-19  40.760620  41.731111  36.878656  36.878656  129900           None\n",
      "2022-01-20  43.672096  46.942650  39.741608  39.741608  153400           None\n",
      "2022-01-21  43.672096  48.476028  41.682590  41.731114  329500           None\n",
      "2022-01-24  41.536999  43.672079  40.644149  43.594438  110000           None\n",
      "2022-01-25  40.661625  43.594448  40.110389  41.245862   23500           None\n"
     ]
    },
    {
     "name": "stderr",
     "output_type": "stream",
     "text": [
      "\n",
      "[*********************100%***********************]  1 of 1 completed\n"
     ]
    },
    {
     "name": "stdout",
     "output_type": "stream",
     "text": [
      "Data for COO saved as COO_30_years.csv\n",
      "Price          Close      High       Low      Open  Volume News_Sentiment\n",
      "Ticker           COO       COO       COO       COO     COO               \n",
      "Date                                                                     \n",
      "1994-03-28  0.411457  0.411457  0.365740  0.411457  136800           None\n",
      "1994-03-29  0.365740  0.411457  0.365740  0.411457  850400           None\n",
      "1994-03-30  0.342881  0.365740  0.320022  0.342881  277600           None\n",
      "1994-03-31  0.365740  0.365740  0.342881  0.342881   99733           None\n",
      "1994-04-04  0.320022  0.342881  0.320022  0.342881  261600           None\n"
     ]
    },
    {
     "name": "stderr",
     "output_type": "stream",
     "text": [
      "[*********************100%***********************]  1 of 1 completed\n"
     ]
    },
    {
     "name": "stdout",
     "output_type": "stream",
     "text": [
      "Data for CPRT saved as CPRT_30_years.csv\n",
      "Price          Close      High       Low      Open   Volume News_Sentiment\n",
      "Ticker          CPRT      CPRT      CPRT      CPRT     CPRT               \n",
      "Date                                                                      \n",
      "1994-03-28  0.157552  0.166667  0.156250  0.166667  9676800           None\n",
      "1994-03-29  0.148438  0.158854  0.148438  0.158854  3398400           None\n",
      "1994-03-30  0.151042  0.153646  0.148438  0.148438  4579200           None\n",
      "1994-03-31  0.144531  0.149740  0.140625  0.149740  3945600           None\n",
      "1994-04-04  0.141927  0.143229  0.138021  0.143229  8323200           None\n"
     ]
    },
    {
     "name": "stderr",
     "output_type": "stream",
     "text": [
      "[*********************100%***********************]  1 of 1 completed\n",
      "[*********************100%***********************]  1 of 1 completed"
     ]
    },
    {
     "name": "stdout",
     "output_type": "stream",
     "text": [
      "Data for GLW saved as GLW_30_years.csv\n",
      "Price          Close      High       Low      Open   Volume News_Sentiment\n",
      "Ticker           GLW       GLW       GLW       GLW      GLW               \n",
      "Date                                                                      \n",
      "1994-03-28  5.538953  5.538953  5.434837  5.434837  2266500           None\n",
      "1994-03-29  5.538953  5.559776  5.497307  5.497307  1412700           None\n",
      "1994-03-30  5.351543  5.455659  5.351543  5.434836  1866300           None\n",
      "1994-03-31  5.372366  5.393190  5.184958  5.372366  1858800           None\n",
      "1994-04-04  5.372366  5.414013  5.143312  5.247428  1749600           None\n",
      "Data for CPAY saved as CPAY_30_years.csv\n",
      "Price           Close       High    Low   Open   Volume News_Sentiment\n",
      "Ticker           CPAY       CPAY   CPAY   CPAY     CPAY               \n",
      "Date                                                                  \n",
      "2010-12-15  27.250000  28.750000  24.50  25.00  8926100           None\n",
      "2010-12-16  27.350000  28.469999  26.84  26.84   464600           None\n",
      "2010-12-17  28.070000  28.139999  27.17  27.17    37200           None\n",
      "2010-12-20  28.530001  29.180000  28.16  28.74   450800           None\n",
      "2010-12-21  29.750000  30.000000  28.98  29.00   696600           None\n"
     ]
    },
    {
     "name": "stderr",
     "output_type": "stream",
     "text": [
      "\n",
      "[*********************100%***********************]  1 of 1 completed\n"
     ]
    },
    {
     "name": "stdout",
     "output_type": "stream",
     "text": [
      "Data for CTVA saved as CTVA_30_years.csv\n",
      "Price           Close       High        Low       Open  Volume News_Sentiment\n",
      "Ticker           CTVA       CTVA       CTVA       CTVA    CTVA               \n",
      "Date                                                                         \n",
      "2019-05-24  26.869852  29.649492  26.406579  27.564762   44000           None\n",
      "2019-05-28  26.652109  28.259668  26.415841  27.101485   61500           None\n",
      "2019-05-29  26.406570  27.703735  25.628271  27.703735  207800           None\n",
      "2019-05-30  26.684534  27.018091  26.147137  26.860578  666000           None\n",
      "2019-05-31  24.988960  26.489966  24.988960  26.406577  853800           None\n"
     ]
    },
    {
     "name": "stderr",
     "output_type": "stream",
     "text": [
      "[*********************100%***********************]  1 of 1 completed\n"
     ]
    },
    {
     "name": "stdout",
     "output_type": "stream",
     "text": [
      "Data for CSGP saved as CSGP_30_years.csv\n",
      "Price         Close    High      Low     Open   Volume News_Sentiment\n",
      "Ticker         CSGP    CSGP     CSGP     CSGP     CSGP               \n",
      "Date                                                                 \n",
      "1998-07-01  0.91875  0.9500  0.90000  0.90000  7524000           None\n",
      "1998-07-02  0.97500  0.9750  0.91875  0.93125   369000           None\n",
      "1998-07-06  1.00625  1.0625  0.97500  0.97500  1881000           None\n",
      "1998-07-07  1.02500  1.0500  1.02500  1.03750   201000           None\n",
      "1998-07-08  1.01250  1.0500  1.00000  1.01250   864000           None\n"
     ]
    },
    {
     "name": "stderr",
     "output_type": "stream",
     "text": [
      "[*********************100%***********************]  1 of 1 completed\n"
     ]
    },
    {
     "name": "stdout",
     "output_type": "stream",
     "text": [
      "Data for COST saved as COST_30_years.csv\n",
      "Price          Close      High       Low      Open   Volume News_Sentiment\n",
      "Ticker          COST      COST      COST      COST     COST               \n",
      "Date                                                                      \n",
      "1994-03-28  6.037412  6.288971  5.911632  6.247044  5464800           None\n",
      "1994-03-29  5.911633  6.121265  5.869707  6.079339  2672200           None\n",
      "1994-03-30  5.953559  5.995485  5.869706  5.869706  1209000           None\n",
      "1994-03-31  6.079339  6.079339  5.827780  5.911633  3402200           None\n",
      "1994-04-04  5.869706  6.037412  5.827780  5.995486  1410800           None\n"
     ]
    },
    {
     "name": "stderr",
     "output_type": "stream",
     "text": [
      "[*********************100%***********************]  1 of 1 completed\n",
      "[*********************100%***********************]  1 of 1 completed"
     ]
    },
    {
     "name": "stdout",
     "output_type": "stream",
     "text": [
      "Data for CTRA saved as CTRA_30_years.csv\n",
      "Price          Close      High       Low      Open  Volume News_Sentiment\n",
      "Ticker          CTRA      CTRA      CTRA      CTRA    CTRA               \n",
      "Date                                                                     \n",
      "1994-03-28  1.162170  1.176005  1.148335  1.176005  214800           None\n",
      "1994-03-29  1.134499  1.169088  1.134499  1.169088  352800           None\n",
      "1994-03-30  1.106829  1.134500  1.099911  1.134500  176400           None\n",
      "1994-03-31  1.079158  1.099911  1.058405  1.092993  886800           None\n",
      "1994-04-04  1.058405  1.079158  1.058405  1.065323  116400           None\n",
      "Data for CRWD saved as CRWD_30_years.csv\n",
      "Price           Close       High        Low       Open    Volume  \\\n",
      "Ticker           CRWD       CRWD       CRWD       CRWD      CRWD   \n",
      "Date                                                               \n",
      "2019-06-12  58.000000  67.000000  56.000000  63.500000  19449200   \n",
      "2019-06-13  67.559998  69.669998  61.599998  63.860001  10923900   \n",
      "2019-06-14  64.160004  70.790001  63.020000  69.779999   6264200   \n",
      "2019-06-17  70.010002  70.010002  62.000000  64.750000   3247500   \n",
      "2019-06-18  76.500000  78.699997  71.500000  73.000000   6612600   \n",
      "\n",
      "Price      News_Sentiment  \n",
      "Ticker                     \n",
      "Date                       \n",
      "2019-06-12           None  \n",
      "2019-06-13           None  \n",
      "2019-06-14           None  \n",
      "2019-06-17           None  \n",
      "2019-06-18           None  \n"
     ]
    },
    {
     "name": "stderr",
     "output_type": "stream",
     "text": [
      "\n",
      "[*********************100%***********************]  1 of 1 completed\n"
     ]
    },
    {
     "name": "stdout",
     "output_type": "stream",
     "text": [
      "Data for CCI saved as CCI_30_years.csv\n",
      "Price          Close      High       Low      Open   Volume News_Sentiment\n",
      "Ticker           CCI       CCI       CCI       CCI      CCI               \n",
      "Date                                                                      \n",
      "1998-08-18  8.317038  8.397009  8.237066  8.237066  5783000           None\n",
      "1998-08-19  8.317038  8.476981  8.317038  8.317038   388700           None\n",
      "1998-08-20  8.317038  8.476981  8.317038  8.397009   348500           None\n",
      "1998-08-21  8.317038  8.317038  8.317038  8.317038   804000           None\n",
      "1998-08-24  8.317038  8.317038  8.317038  8.317038   119700           None\n"
     ]
    },
    {
     "name": "stderr",
     "output_type": "stream",
     "text": [
      "[*********************100%***********************]  1 of 1 completed\n"
     ]
    },
    {
     "name": "stdout",
     "output_type": "stream",
     "text": [
      "Data for CSX saved as CSX_30_years.csv\n",
      "Price          Close      High       Low      Open    Volume News_Sentiment\n",
      "Ticker           CSX       CSX       CSX       CSX       CSX               \n",
      "Date                                                                       \n",
      "1994-03-28  1.307370  1.317011  1.286159  1.317011   9050400           None\n",
      "1994-03-29  1.261090  1.307369  1.261090  1.307369  13082400           None\n",
      "1994-03-30  1.259162  1.266876  1.249521  1.264947  12790800           None\n",
      "1994-03-31  1.264948  1.268804  1.243737  1.259163  12193200           None\n",
      "1994-04-04  1.236023  1.247593  1.228310  1.241808  10803600           None\n"
     ]
    },
    {
     "name": "stderr",
     "output_type": "stream",
     "text": [
      "[*********************100%***********************]  1 of 1 completed\n"
     ]
    },
    {
     "name": "stdout",
     "output_type": "stream",
     "text": [
      "Data for CMI saved as CMI_30_years.csv\n",
      "Price          Close      High       Low      Open   Volume News_Sentiment\n",
      "Ticker           CMI       CMI       CMI       CMI      CMI               \n",
      "Date                                                                      \n",
      "1994-03-28  6.343992  6.467476  6.343992  6.467476   663200           None\n",
      "1994-03-29  6.313120  6.374862  6.313120  6.359427   532400           None\n",
      "1994-03-30  6.019845  6.313120  5.927232  6.313120  1217200           None\n",
      "1994-03-31  6.081591  6.112462  5.742010  5.988978   743200           None\n",
      "1994-04-04  6.066154  6.112460  5.819185  5.973540   561600           None\n"
     ]
    },
    {
     "name": "stderr",
     "output_type": "stream",
     "text": [
      "[*********************100%***********************]  1 of 1 completed\n"
     ]
    },
    {
     "name": "stdout",
     "output_type": "stream",
     "text": [
      "Data for CVS saved as CVS_30_years.csv\n",
      "Price          Close      High       Low      Open   Volume News_Sentiment\n",
      "Ticker           CVS       CVS       CVS       CVS      CVS               \n",
      "Date                                                                      \n",
      "1994-03-28  4.839577  4.887812  4.807421  4.823499   575600           None\n",
      "1994-03-29  4.823504  4.839582  4.791347  4.807426  1054000           None\n",
      "1994-03-30  4.952129  4.968207  4.855659  4.855659  1319200           None\n",
      "1994-03-31  4.903894  4.936051  4.871738  4.936051  1018000           None\n",
      "1994-04-04  4.903894  4.984286  4.855659  4.855659  1108000           None\n"
     ]
    },
    {
     "name": "stderr",
     "output_type": "stream",
     "text": [
      "[*********************100%***********************]  1 of 1 completed\n"
     ]
    },
    {
     "name": "stdout",
     "output_type": "stream",
     "text": [
      "Data for DHR saved as DHR_30_years.csv\n",
      "Price          Close      High       Low      Open   Volume News_Sentiment\n",
      "Ticker           DHR       DHR       DHR       DHR      DHR               \n",
      "Date                                                                      \n",
      "1994-03-28  0.975331  0.984590  0.975331  0.981504   202345           None\n",
      "1994-03-29  0.966072  0.978417  0.966072  0.978417    30947           None\n",
      "1994-03-30  0.956812  0.966072  0.956812  0.966072   188062           None\n",
      "1994-03-31  0.916687  0.950639  0.901255  0.950639  1352142           None\n",
      "1994-04-04  0.913601  0.922861  0.904342  0.904342   559425           None\n"
     ]
    },
    {
     "name": "stderr",
     "output_type": "stream",
     "text": [
      "[*********************100%***********************]  1 of 1 completed\n"
     ]
    },
    {
     "name": "stdout",
     "output_type": "stream",
     "text": [
      "Data for DRI saved as DRI_30_years.csv\n",
      "Price          Close      High       Low      Open   Volume News_Sentiment\n",
      "Ticker           DRI       DRI       DRI       DRI      DRI               \n",
      "Date                                                                      \n",
      "1995-05-09  3.158357  3.239340  2.955898  2.955898  2629321           None\n",
      "1995-05-10  3.360815  3.441798  3.239339  3.239339  4705896           None\n",
      "1995-05-11  3.441797  3.482289  3.360814  3.360814  3039098           None\n",
      "1995-05-12  3.401306  3.482289  3.401306  3.441798  1584909           None\n",
      "1995-05-15  3.401306  3.441798  3.401306  3.401306  1119421           None\n"
     ]
    },
    {
     "name": "stderr",
     "output_type": "stream",
     "text": [
      "[*********************100%***********************]  1 of 1 completed\n",
      "[*********************100%***********************]  1 of 1 completed"
     ]
    },
    {
     "name": "stdout",
     "output_type": "stream",
     "text": [
      "Data for DVA saved as DVA_30_years.csv\n",
      "Price       Close   High    Low   Open    Volume News_Sentiment\n",
      "Ticker        DVA    DVA    DVA    DVA       DVA               \n",
      "Date                                                           \n",
      "1995-10-31  4.075  4.200  3.475  3.475  15479500           None\n",
      "1995-11-01  3.900  3.950  3.875  3.900   3056500           None\n",
      "1995-11-02  4.175  4.225  3.900  3.950   1185500           None\n",
      "1995-11-03  4.000  4.225  3.850  4.175   1823500           None\n",
      "1995-11-06  3.900  4.000  3.875  3.975    339500           None\n",
      "Data for DAY saved as DAY_30_years.csv\n",
      "Price           Close       High        Low       Open    Volume  \\\n",
      "Ticker            DAY        DAY        DAY        DAY       DAY   \n",
      "Date                                                               \n",
      "2018-04-26  31.209999  31.750000  28.650000  28.900000  13590200   \n",
      "2018-04-27  30.520000  31.500000  29.680000  30.950001   1744900   \n",
      "2018-04-30  31.580000  32.000000  30.209999  30.760000    638900   \n",
      "2018-05-01  31.480000  32.400002  31.260000  31.420000    858600   \n",
      "2018-05-02  32.750000  33.650002  31.480000  31.480000    845500   \n",
      "\n",
      "Price      News_Sentiment  \n",
      "Ticker                     \n",
      "Date                       \n",
      "2018-04-26           None  \n",
      "2018-04-27           None  \n",
      "2018-04-30           None  \n",
      "2018-05-01           None  \n",
      "2018-05-02           None  \n"
     ]
    },
    {
     "name": "stderr",
     "output_type": "stream",
     "text": [
      "\n",
      "[*********************100%***********************]  1 of 1 completed\n"
     ]
    },
    {
     "name": "stdout",
     "output_type": "stream",
     "text": [
      "Data for DECK saved as DECK_30_years.csv\n",
      "Price          Close      High       Low      Open   Volume News_Sentiment\n",
      "Ticker          DECK      DECK      DECK      DECK     DECK               \n",
      "Date                                                                      \n",
      "1994-03-28  1.069444  1.069444  1.027778  1.027778   612000           None\n",
      "1994-03-29  1.013889  1.069444  1.013889  1.013889  1764000           None\n",
      "1994-03-30  0.965278  1.041667  0.930556  1.027778   640800           None\n",
      "1994-03-31  0.916667  1.000000  0.916667  1.000000   210600           None\n",
      "1994-04-04  0.944444  0.986111  0.916667  0.972222   649800           None\n"
     ]
    },
    {
     "name": "stderr",
     "output_type": "stream",
     "text": [
      "[*********************100%***********************]  1 of 1 completed\n",
      "[*********************100%***********************]  1 of 1 completed"
     ]
    },
    {
     "name": "stdout",
     "output_type": "stream",
     "text": [
      "Data for DE saved as DE_30_years.csv\n",
      "Price          Close      High       Low      Open    Volume News_Sentiment\n",
      "Ticker            DE        DE        DE        DE        DE               \n",
      "Date                                                                       \n",
      "1994-03-28  7.668701  7.691124  7.500528  7.590220   2688600           None\n",
      "1994-03-29  7.332354  7.713547  7.332354  7.668701   2032800           None\n",
      "1994-03-30  7.455682  7.500528  7.175393  7.399624  22335600           None\n",
      "1994-03-31  7.567796  7.579008  7.209026  7.511738   4445400           None\n",
      "1994-04-04  7.500525  7.500525  7.332352  7.365987   3154800           None\n",
      "Data for DELL saved as DELL_30_years.csv\n",
      "Price           Close       High        Low       Open   Volume News_Sentiment\n",
      "Ticker           DELL       DELL       DELL       DELL     DELL               \n",
      "Date                                                                          \n",
      "2016-08-17  11.218980  11.479886  11.218980  11.349433   271519           None\n",
      "2016-08-18  11.153753  11.479886  11.088527  11.479886  1767366           None\n",
      "2016-08-19  11.349433  11.349433  11.127662  11.140708  4735900           None\n",
      "2016-08-22  11.388571  11.897338  11.114618  11.218981  2245909           None\n",
      "2016-08-23  11.740794  11.975610  11.349434  11.414660  1483020           None\n"
     ]
    },
    {
     "name": "stderr",
     "output_type": "stream",
     "text": [
      "\n",
      "[*********************100%***********************]  1 of 1 completed\n"
     ]
    },
    {
     "name": "stdout",
     "output_type": "stream",
     "text": [
      "Data for DAL saved as DAL_30_years.csv\n",
      "Price           Close       High        Low       Open   Volume News_Sentiment\n",
      "Ticker            DAL        DAL        DAL        DAL      DAL               \n",
      "Date                                                                          \n",
      "2007-05-03  18.075546  19.148565  17.927243  18.974090  8052800           None\n",
      "2007-05-04  18.302368  18.625147  18.058105  18.537909  5437300           None\n",
      "2007-05-07  17.761496  18.572802  17.621916  18.494288  2646300           None\n",
      "2007-05-08  17.124664  17.447443  16.836782  17.447443  4166100           None\n",
      "2007-05-09  17.264242  17.621915  17.124661  17.229346  7541100           None\n"
     ]
    },
    {
     "name": "stderr",
     "output_type": "stream",
     "text": [
      "[*********************100%***********************]  1 of 1 completed\n",
      "[*********************100%***********************]  1 of 1 completed"
     ]
    },
    {
     "name": "stdout",
     "output_type": "stream",
     "text": [
      "Data for DVN saved as DVN_30_years.csv\n",
      "Price          Close      High       Low      Open  Volume News_Sentiment\n",
      "Ticker           DVN       DVN       DVN       DVN     DVN               \n",
      "Date                                                                     \n",
      "1994-03-28  5.593355  5.778566  5.593355  5.704481   39400           None\n",
      "1994-03-29  5.556311  5.593353  5.556311  5.593353   13800           None\n",
      "1994-03-30  5.519270  5.556312  5.445186  5.556312   21600           None\n",
      "1994-03-31  5.259974  5.482226  5.259974  5.482226  129800           None\n",
      "1994-04-04  5.185890  5.259974  5.111806  5.185890   63200           None\n"
     ]
    },
    {
     "name": "stderr",
     "output_type": "stream",
     "text": [
      "\n"
     ]
    },
    {
     "name": "stdout",
     "output_type": "stream",
     "text": [
      "Data for DXCM saved as DXCM_30_years.csv\n",
      "Price        Close   High     Low    Open   Volume News_Sentiment\n",
      "Ticker        DXCM   DXCM    DXCM    DXCM     DXCM               \n",
      "Date                                                             \n",
      "2005-04-14  2.9350  3.050  2.7025  3.0200  7594000           None\n",
      "2005-04-15  2.5625  2.925  2.5575  2.9125  1129200           None\n",
      "2005-04-18  2.6250  2.705  2.6000  2.6250   213600           None\n",
      "2005-04-19  2.6450  2.750  2.6400  2.7500   549600           None\n",
      "2005-04-20  2.6500  2.675  2.6250  2.6375    34400           None\n"
     ]
    },
    {
     "name": "stderr",
     "output_type": "stream",
     "text": [
      "[*********************100%***********************]  1 of 1 completed\n"
     ]
    },
    {
     "name": "stdout",
     "output_type": "stream",
     "text": [
      "Data for FANG saved as FANG_30_years.csv\n",
      "Price           Close       High        Low       Open   Volume News_Sentiment\n",
      "Ticker           FANG       FANG       FANG       FANG     FANG               \n",
      "Date                                                                          \n",
      "2012-10-12  13.819206  14.435149  13.819206  14.071900  6467100           None\n",
      "2012-10-15  14.016631  14.079805  13.819214  13.858697   633100           None\n",
      "2012-10-16  14.048214  14.174561  13.621792  13.874486   180300           None\n",
      "2012-10-17  13.977145  14.269322  13.819211  13.977145   121000           None\n",
      "2012-10-18  13.977145  14.111389  13.835005  13.898178   146100           None\n"
     ]
    },
    {
     "name": "stderr",
     "output_type": "stream",
     "text": [
      "[*********************100%***********************]  1 of 1 completed\n",
      "[*********************100%***********************]  1 of 1 completed"
     ]
    },
    {
     "name": "stdout",
     "output_type": "stream",
     "text": [
      "Data for DLR saved as DLR_30_years.csv\n",
      "Price          Close      High       Low      Open   Volume News_Sentiment\n",
      "Ticker           DLR       DLR       DLR       DLR      DLR               \n",
      "Date                                                                      \n",
      "2004-10-29  5.281278  5.285679  5.281278  5.281278  5951800           None\n",
      "2004-11-01  5.281278  5.285679  5.281278  5.281278   764400           None\n",
      "2004-11-02  5.281278  5.285679  5.281278  5.281278   950100           None\n",
      "2004-11-03  5.347294  5.369300  5.285680  5.290081   433600           None\n",
      "2004-11-04  5.307684  5.360497  5.303283  5.360497   311200           None\n"
     ]
    },
    {
     "name": "stderr",
     "output_type": "stream",
     "text": [
      "\n"
     ]
    },
    {
     "name": "stdout",
     "output_type": "stream",
     "text": [
      "Data for DFS saved as DFS_30_years.csv\n",
      "Price           Close       High        Low       Open   Volume News_Sentiment\n",
      "Ticker            DFS        DFS        DFS        DFS      DFS               \n",
      "Date                                                                          \n",
      "2007-06-14  20.991228  22.268955  20.443631  20.443631  3279100           None\n",
      "2007-06-15  21.232178  21.757871  21.086151  21.538832   790100           None\n",
      "2007-06-18  21.852779  22.049915  21.392797  21.407400  1591000           None\n",
      "2007-06-19  21.684853  22.122929  21.611839  21.903891  1585100           None\n",
      "2007-06-20  21.765163  21.976902  21.589932  21.933094   855900           None\n"
     ]
    },
    {
     "name": "stderr",
     "output_type": "stream",
     "text": [
      "[*********************100%***********************]  1 of 1 completed\n"
     ]
    },
    {
     "name": "stdout",
     "output_type": "stream",
     "text": [
      "Data for DG saved as DG_30_years.csv\n",
      "Price           Close       High        Low       Open    Volume  \\\n",
      "Ticker             DG         DG         DG         DG        DG   \n",
      "Date                                                               \n",
      "2009-11-13  20.118488  20.445979  19.251084  19.472360  22079100   \n",
      "2009-11-16  20.445982  20.445982  19.587427  20.268960   2080000   \n",
      "2009-11-17  20.392874  20.507937  19.914915  20.384022   1328000   \n",
      "2009-11-18  19.959169  20.375171  19.914915  20.357468    918300   \n",
      "2009-11-19  20.242409  20.481386  19.711344  19.711344   1031500   \n",
      "\n",
      "Price      News_Sentiment  \n",
      "Ticker                     \n",
      "Date                       \n",
      "2009-11-13           None  \n",
      "2009-11-16           None  \n",
      "2009-11-17           None  \n",
      "2009-11-18           None  \n",
      "2009-11-19           None  \n"
     ]
    },
    {
     "name": "stderr",
     "output_type": "stream",
     "text": [
      "[*********************100%***********************]  1 of 1 completed\n"
     ]
    },
    {
     "name": "stdout",
     "output_type": "stream",
     "text": [
      "Data for DLTR saved as DLTR_30_years.csv\n",
      "Price          Close      High       Low      Open    Volume News_Sentiment\n",
      "Ticker          DLTR      DLTR      DLTR      DLTR      DLTR               \n",
      "Date                                                                       \n",
      "1995-03-07  1.168724  1.168724  1.053498  1.119342  33796744           None\n",
      "1995-03-08  1.086420  1.168724  1.069959  1.168724   6521513           None\n",
      "1995-03-09  1.111111  1.119342  1.086420  1.094650   2101950           None\n",
      "1995-03-10  1.160494  1.185185  1.111111  1.135802   2832469           None\n",
      "1995-03-13  1.152263  1.185185  1.152263  1.185185    982631           None\n"
     ]
    },
    {
     "name": "stderr",
     "output_type": "stream",
     "text": [
      "[*********************100%***********************]  1 of 1 completed\n"
     ]
    },
    {
     "name": "stdout",
     "output_type": "stream",
     "text": [
      "Data for D saved as D_30_years.csv\n",
      "Price          Close      High       Low      Open  Volume News_Sentiment\n",
      "Ticker             D         D         D         D       D               \n",
      "Date                                                                     \n",
      "1994-03-28  5.009792  5.009792  4.904164  4.919254  388800           None\n",
      "1994-03-29  4.964522  5.009791  4.949432  4.994701  238800           None\n",
      "1994-03-30  4.904162  4.949432  4.889073  4.934342  326000           None\n",
      "1994-03-31  4.828716  4.904164  4.783447  4.889075  791000           None\n",
      "1994-04-04  4.753268  4.828716  4.738178  4.813627  971200           None\n"
     ]
    },
    {
     "name": "stderr",
     "output_type": "stream",
     "text": [
      "[*********************100%***********************]  1 of 1 completed\n",
      "[*********************100%***********************]  1 of 1 completed\n"
     ]
    },
    {
     "name": "stdout",
     "output_type": "stream",
     "text": [
      "Data for DPZ saved as DPZ_30_years.csv\n",
      "Price          Close      High       Low      Open    Volume News_Sentiment\n",
      "Ticker           DPZ       DPZ       DPZ       DPZ       DPZ               \n",
      "Date                                                                       \n",
      "2004-07-13  6.099187  6.370263  6.094669  6.325083  14964100           None\n",
      "2004-07-14  6.072080  6.121777  5.832630  6.099187   2801000           None\n",
      "2004-07-15  6.252800  6.257318  6.031422  6.076601   1276200           None\n",
      "2004-07-16  6.248278  6.279903  6.103705  6.266350   1488200           None\n",
      "2004-07-19  6.108224  6.234726  6.031420  6.234726    966200           None\n",
      "Data for DASH saved as DASH_30_years.csv\n",
      "Price            Close        High         Low        Open    Volume  \\\n",
      "Ticker            DASH        DASH        DASH        DASH      DASH   \n",
      "Date                                                                   \n",
      "2020-12-09  189.509995  195.500000  163.800003  182.000000  25373700   \n",
      "2020-12-10  186.000000  187.695007  172.636002  179.710007   9307600   \n",
      "2020-12-11  175.000000  182.000000  168.250000  176.520004   4760600   \n",
      "2020-12-14  160.000000  170.000000  151.199997  169.100006   7859600   \n",
      "2020-12-15  158.889999  161.419998  153.759995  157.100006   5017000   \n",
      "\n",
      "Price      News_Sentiment  \n",
      "Ticker                     \n",
      "Date                       \n",
      "2020-12-09           None  \n",
      "2020-12-10           None  \n",
      "2020-12-11           None  \n",
      "2020-12-14           None  \n",
      "2020-12-15           None  \n"
     ]
    },
    {
     "name": "stderr",
     "output_type": "stream",
     "text": [
      "[*********************100%***********************]  1 of 1 completed\n",
      "[*********************100%***********************]  1 of 1 completed"
     ]
    },
    {
     "name": "stdout",
     "output_type": "stream",
     "text": [
      "Data for DOV saved as DOV_30_years.csv\n",
      "Price          Close      High       Low      Open  Volume News_Sentiment\n",
      "Ticker           DOV       DOV       DOV       DOV     DOV               \n",
      "Date                                                                     \n",
      "1994-03-28  6.229256  6.290208  6.217066  6.241447  233913           None\n",
      "1994-03-29  6.168302  6.278015  6.143921  6.253634  267329           None\n",
      "1994-03-30  5.900119  6.143925  5.839167  6.143925  631922           None\n",
      "1994-03-31  5.839165  5.912306  5.619739  5.912306  713076           None\n",
      "1994-04-04  5.900119  5.936689  5.766025  5.839167  822275           None\n",
      "Data for DOW saved as DOW_30_years.csv\n",
      "Price           Close       High        Low       Open   Volume News_Sentiment\n",
      "Ticker            DOW        DOW        DOW        DOW      DOW               \n",
      "Date                                                                          \n",
      "2019-03-20  36.016273  38.692182  35.799309  38.149768  2350800           None\n",
      "2019-03-21  35.423237  36.160920  34.859127  36.153689  1764700           None\n",
      "2019-03-22  35.148415  36.124761  34.830199  35.293059   844700           None\n",
      "2019-03-25  35.546181  35.726985  34.714479  35.148408   440900           None\n",
      "2019-03-26  35.329227  35.980125  34.844672  35.437711   504700           None\n"
     ]
    },
    {
     "name": "stderr",
     "output_type": "stream",
     "text": [
      "\n",
      "[*********************100%***********************]  1 of 1 completed\n"
     ]
    },
    {
     "name": "stdout",
     "output_type": "stream",
     "text": [
      "Data for DHI saved as DHI_30_years.csv\n",
      "Price          Close      High       Low      Open  Volume News_Sentiment\n",
      "Ticker           DHI       DHI       DHI       DHI     DHI               \n",
      "Date                                                                     \n",
      "1994-03-28  1.655074  1.739231  1.627022  1.739231  145208           None\n",
      "1994-03-29  1.655074  1.711178  1.627022  1.683126  114771           None\n",
      "1994-03-30  1.669099  1.711177  1.627022  1.655074  364605           None\n",
      "1994-03-31  1.570917  1.655073  1.458708  1.627021  685458           None\n",
      "1994-04-04  1.528839  1.570917  1.486762  1.542865   36778           None\n"
     ]
    },
    {
     "name": "stderr",
     "output_type": "stream",
     "text": [
      "[*********************100%***********************]  1 of 1 completed\n"
     ]
    },
    {
     "name": "stdout",
     "output_type": "stream",
     "text": [
      "Data for DTE saved as DTE_30_years.csv\n",
      "Price          Close      High       Low      Open  Volume News_Sentiment\n",
      "Ticker           DTE       DTE       DTE       DTE     DTE               \n",
      "Date                                                                     \n",
      "1994-03-28  5.589565  5.589565  5.487937  5.538751  509950           None\n",
      "1994-03-29  5.538754  5.564161  5.487940  5.564161  216318           None\n",
      "1994-03-30  5.437124  5.513346  5.437124  5.487939  206565           None\n",
      "1994-03-31  5.386310  5.462531  5.284682  5.462531  257090           None\n",
      "1994-04-04  5.335492  5.437120  5.310085  5.335492  203863           None\n"
     ]
    },
    {
     "name": "stderr",
     "output_type": "stream",
     "text": [
      "[*********************100%***********************]  1 of 1 completed\n"
     ]
    },
    {
     "name": "stdout",
     "output_type": "stream",
     "text": [
      "Data for DUK saved as DUK_30_years.csv\n",
      "Price          Close      High       Low      Open   Volume News_Sentiment\n",
      "Ticker           DUK       DUK       DUK       DUK      DUK               \n",
      "Date                                                                      \n",
      "1994-03-28  8.102582  8.102582  7.915393  8.022358   227958           None\n",
      "1994-03-29  7.888655  8.075844  7.888655  8.049102   274996           None\n",
      "1994-03-30  7.781688  7.835171  7.781688  7.808430  3706534           None\n",
      "1994-03-31  7.728209  7.781691  7.647985  7.754950   508805           None\n",
      "1994-04-04  7.594501  7.647984  7.541019  7.621242   343372           None\n"
     ]
    },
    {
     "name": "stderr",
     "output_type": "stream",
     "text": [
      "[*********************100%***********************]  1 of 1 completed\n"
     ]
    },
    {
     "name": "stdout",
     "output_type": "stream",
     "text": [
      "Data for DD saved as DD_30_years.csv\n",
      "Price           Close       High        Low       Open   Volume News_Sentiment\n",
      "Ticker             DD         DD         DD         DD       DD               \n",
      "Date                                                                          \n",
      "1994-03-28  11.213359  11.278934  11.169642  11.278934   742164           None\n",
      "1994-03-29  10.710614  11.213358  10.710614  11.213358  1269752           None\n",
      "1994-03-30  10.688756  10.907340  10.688756  10.688756  1915378           None\n",
      "1994-03-31  10.513894  10.841770  10.339027  10.710620  1716821           None\n",
      "1994-04-04  10.798055  10.798055  10.251594  10.273453  1613960           None\n"
     ]
    },
    {
     "name": "stderr",
     "output_type": "stream",
     "text": [
      "[*********************100%***********************]  1 of 1 completed\n"
     ]
    },
    {
     "name": "stdout",
     "output_type": "stream",
     "text": [
      "Data for EMN saved as EMN_30_years.csv\n",
      "Price          Close      High       Low      Open  Volume News_Sentiment\n",
      "Ticker           EMN       EMN       EMN       EMN     EMN               \n",
      "Date                                                                     \n",
      "1994-03-28  7.554728  7.554728  7.417784  7.509080  484600           None\n",
      "1994-03-29  7.554728  7.600375  7.531904  7.531904  313200           None\n",
      "1994-03-30  7.440609  7.554729  7.417785  7.509081  595000           None\n",
      "1994-03-31  7.349315  7.440611  7.326491  7.417787  674200           None\n",
      "1994-04-04  7.258018  7.303666  7.212371  7.235195  944200           None\n"
     ]
    },
    {
     "name": "stderr",
     "output_type": "stream",
     "text": [
      "[*********************100%***********************]  1 of 1 completed\n"
     ]
    },
    {
     "name": "stdout",
     "output_type": "stream",
     "text": [
      "Data for ETN saved as ETN_30_years.csv\n",
      "Price          Close      High       Low      Open   Volume News_Sentiment\n",
      "Ticker           ETN       ETN       ETN       ETN      ETN               \n",
      "Date                                                                      \n",
      "1994-03-28  5.069360  5.121838  5.006386  5.058864  1027083           None\n",
      "1994-03-29  4.890934  5.058862  4.880438  5.058862  1814452           None\n",
      "1994-03-30  4.806969  4.890933  4.785978  4.890933   599746           None\n",
      "1994-03-31  4.859447  4.859447  4.712509  4.806969   738504           None\n",
      "1994-04-04  4.702014  4.785979  4.649537  4.785979   893396           None\n"
     ]
    },
    {
     "name": "stderr",
     "output_type": "stream",
     "text": [
      "[*********************100%***********************]  1 of 1 completed\n"
     ]
    },
    {
     "name": "stdout",
     "output_type": "stream",
     "text": [
      "Data for EBAY saved as EBAY_30_years.csv\n",
      "Price          Close      High       Low      Open     Volume News_Sentiment\n",
      "Ticker          EBAY      EBAY      EBAY      EBAY       EBAY               \n",
      "Date                                                                        \n",
      "1998-09-24  0.747287  0.855732  0.697993  0.843901  518656090           None\n",
      "1998-09-25  0.707852  0.727569  0.648700  0.717711  121255834           None\n",
      "1998-09-28  0.761089  0.802495  0.725598  0.749259   89772883           None\n",
      "1998-09-29  0.770947  0.792636  0.753202  0.778834   39289536           None\n",
      "1998-09-30  0.710809  0.757145  0.682220  0.744328   44113766           None\n"
     ]
    },
    {
     "name": "stderr",
     "output_type": "stream",
     "text": [
      "[*********************100%***********************]  1 of 1 completed\n"
     ]
    },
    {
     "name": "stdout",
     "output_type": "stream",
     "text": [
      "Data for ECL saved as ECL_30_years.csv\n",
      "Price          Close      High       Low      Open  Volume News_Sentiment\n",
      "Ticker           ECL       ECL       ECL       ECL     ECL               \n",
      "Date                                                                     \n",
      "1994-03-28  3.606603  3.690968  3.564421  3.669877  224400           None\n",
      "1994-03-29  3.543331  3.606605  3.522240  3.606605  510400           None\n",
      "1994-03-30  3.522242  3.564425  3.522242  3.543333  550000           None\n",
      "1994-03-31  3.458966  3.522240  3.395692  3.522240  356800           None\n",
      "1994-04-04  3.395691  3.480056  3.374600  3.416783  318000           None\n"
     ]
    },
    {
     "name": "stderr",
     "output_type": "stream",
     "text": [
      "[*********************100%***********************]  1 of 1 completed\n"
     ]
    },
    {
     "name": "stdout",
     "output_type": "stream",
     "text": [
      "Data for EIX saved as EIX_30_years.csv\n",
      "Price          Close      High       Low      Open   Volume News_Sentiment\n",
      "Ticker           EIX       EIX       EIX       EIX      EIX               \n",
      "Date                                                                      \n",
      "1994-03-28  5.868904  5.868904  5.783847  5.783847   828400           None\n",
      "1994-03-29  5.811228  5.986002  5.767534  5.942308  1068700           None\n",
      "1994-03-30  5.767535  5.898616  5.680148  5.767535  1322500           None\n",
      "1994-03-31  5.767535  5.811229  5.636455  5.767535  1762500           None\n",
      "1994-04-04  5.723844  5.723844  5.549070  5.592763  1248900           None\n"
     ]
    },
    {
     "name": "stderr",
     "output_type": "stream",
     "text": [
      "[*********************100%***********************]  1 of 1 completed\n"
     ]
    },
    {
     "name": "stdout",
     "output_type": "stream",
     "text": [
      "Data for EW saved as EW_30_years.csv\n",
      "Price          Close      High       Low      Open    Volume News_Sentiment\n",
      "Ticker            EW        EW        EW        EW        EW               \n",
      "Date                                                                       \n",
      "2000-03-27  1.375000  1.385417  1.270833  1.270833  11026800           None\n",
      "2000-03-28  1.338542  1.375000  1.333333  1.375000   3232800           None\n",
      "2000-03-29  1.333333  1.343750  1.317708  1.333333   1311600           None\n",
      "2000-03-30  1.281250  1.333333  1.281250  1.333333   5650800           None\n",
      "2000-03-31  1.130208  1.244792  1.130208  1.244792  23794800           None\n"
     ]
    },
    {
     "name": "stderr",
     "output_type": "stream",
     "text": [
      "[*********************100%***********************]  1 of 1 completed\n"
     ]
    },
    {
     "name": "stdout",
     "output_type": "stream",
     "text": [
      "Data for EA saved as EA_30_years.csv\n",
      "Price          Close      High       Low      Open   Volume News_Sentiment\n",
      "Ticker            EA        EA        EA        EA       EA               \n",
      "Date                                                                      \n",
      "1994-03-28  6.767809  7.133636  6.645866  7.133636  3195600           None\n",
      "1994-03-29  6.280040  6.767810  6.280040  6.767810  4359600           None\n",
      "1994-03-30  6.219068  6.401981  6.097125  6.280039  6882400           None\n",
      "1994-03-31  6.401983  6.401983  5.975184  6.280040  7096000           None\n",
      "1994-04-04  6.280040  6.341012  6.036155  6.127612  3696000           None\n"
     ]
    },
    {
     "name": "stderr",
     "output_type": "stream",
     "text": [
      "[*********************100%***********************]  1 of 1 completed\n"
     ]
    },
    {
     "name": "stdout",
     "output_type": "stream",
     "text": [
      "Data for ELV saved as ELV_30_years.csv\n",
      "Price           Close       High        Low       Open    Volume  \\\n",
      "Ticker            ELV        ELV        ELV        ELV       ELV   \n",
      "Date                                                               \n",
      "2001-10-30  16.587297  16.587297  16.364240  16.425074  45441800   \n",
      "2001-10-31  16.984741  17.236186  16.631905  16.668405  11104400   \n",
      "2001-11-01  17.102352  17.276742  16.952296  17.134797   3901800   \n",
      "2001-11-02  17.398415  17.479525  17.041524  17.053690   4075000   \n",
      "2001-11-05  17.394358  17.641748  17.337580  17.641748   2763800   \n",
      "\n",
      "Price      News_Sentiment  \n",
      "Ticker                     \n",
      "Date                       \n",
      "2001-10-30           None  \n",
      "2001-10-31           None  \n",
      "2001-11-01           None  \n",
      "2001-11-02           None  \n",
      "2001-11-05           None  \n"
     ]
    },
    {
     "name": "stderr",
     "output_type": "stream",
     "text": [
      "[*********************100%***********************]  1 of 1 completed\n",
      "[*********************100%***********************]  1 of 1 completed"
     ]
    },
    {
     "name": "stdout",
     "output_type": "stream",
     "text": [
      "Data for EMR saved as EMR_30_years.csv\n",
      "Price          Close      High       Low      Open   Volume News_Sentiment\n",
      "Ticker           EMR       EMR       EMR       EMR      EMR               \n",
      "Date                                                                      \n",
      "1994-03-28  6.768679  6.782381  6.631661  6.768679  1146400           None\n",
      "1994-03-29  6.535750  6.823488  6.535750  6.823488  1145200           None\n",
      "1994-03-30  6.467240  6.535749  6.343924  6.522047  2191200           None\n",
      "1994-03-31  6.508342  6.508342  6.343921  6.467236  1670800           None\n",
      "1994-04-04  6.426137  6.453541  6.330225  6.426137  1619200           None\n",
      "Data for ENPH saved as ENPH_30_years.csv\n",
      "Price      Close  High   Low  Open   Volume News_Sentiment\n",
      "Ticker      ENPH  ENPH  ENPH  ENPH     ENPH               \n",
      "Date                                                      \n",
      "2012-03-30  7.34  8.24  7.06  7.50  5048600           None\n",
      "2012-04-02  7.81  8.20  7.40  7.65   495500           None\n",
      "2012-04-03  7.64  7.80  7.50  7.75   316600           None\n",
      "2012-04-04  7.45  7.77  7.31  7.77   165100           None\n",
      "2012-04-05  7.43  7.55  7.37  7.48   104300           None\n"
     ]
    },
    {
     "name": "stderr",
     "output_type": "stream",
     "text": [
      "\n",
      "[*********************100%***********************]  1 of 1 completed\n"
     ]
    },
    {
     "name": "stdout",
     "output_type": "stream",
     "text": [
      "Data for ETR saved as ETR_30_years.csv\n",
      "Price          Close      High       Low      Open   Volume News_Sentiment\n",
      "Ticker           ETR       ETR       ETR       ETR      ETR               \n",
      "Date                                                                      \n",
      "1994-03-28  2.214998  2.214998  2.156043  2.156043  1127800           None\n",
      "1994-03-29  2.164464  2.206575  2.164464  2.198153   631800           None\n",
      "1994-03-30  2.105511  2.156043  2.105511  2.147621   822600           None\n",
      "1994-03-31  2.139198  2.139198  2.097088  2.105510   673200           None\n",
      "1994-04-04  2.054978  2.113932  2.046556  2.105510  1165800           None\n"
     ]
    },
    {
     "name": "stderr",
     "output_type": "stream",
     "text": [
      "[*********************100%***********************]  1 of 1 completed\n",
      "[*********************100%***********************]  1 of 1 completed"
     ]
    },
    {
     "name": "stdout",
     "output_type": "stream",
     "text": [
      "Data for EOG saved as EOG_30_years.csv\n",
      "Price          Close      High       Low      Open   Volume News_Sentiment\n",
      "Ticker           EOG       EOG       EOG       EOG      EOG               \n",
      "Date                                                                      \n",
      "1994-03-28  3.656163  3.771731  3.656163  3.771731  1590400           None\n",
      "1994-03-29  3.530087  3.645655  3.530087  3.645655   617600           None\n",
      "1994-03-30  3.572115  3.582621  3.435534  3.519584   567200           None\n",
      "1994-03-31  3.593124  3.593124  3.540593  3.572112   148800           None\n",
      "1994-04-04  3.540594  3.572113  3.530088  3.572113   445600           None\n"
     ]
    },
    {
     "name": "stderr",
     "output_type": "stream",
     "text": [
      "\n"
     ]
    },
    {
     "name": "stdout",
     "output_type": "stream",
     "text": [
      "Data for EPAM saved as EPAM_30_years.csv\n",
      "Price       Close   High    Low   Open   Volume News_Sentiment\n",
      "Ticker       EPAM   EPAM   EPAM   EPAM     EPAM               \n",
      "Date                                                          \n",
      "2012-02-08  14.00  15.05  13.25  13.75  3336200           None\n",
      "2012-02-09  13.91  14.22  13.75  14.17   580500           None\n",
      "2012-02-10  13.96  14.03  13.77  14.00   336300           None\n",
      "2012-02-13  13.65  14.42  13.63  13.91   175900           None\n",
      "2012-02-14  13.44  13.79  13.30  13.60   122200           None\n"
     ]
    },
    {
     "name": "stderr",
     "output_type": "stream",
     "text": [
      "[*********************100%***********************]  1 of 1 completed\n"
     ]
    },
    {
     "name": "stdout",
     "output_type": "stream",
     "text": [
      "Data for EQT saved as EQT_30_years.csv\n",
      "Price          Close      High       Low      Open  Volume News_Sentiment\n",
      "Ticker           EQT       EQT       EQT       EQT     EQT               \n",
      "Date                                                                     \n",
      "1994-03-28  2.777012  2.777012  2.701190  2.777012  271141           None\n",
      "1994-03-29  2.710666  2.767534  2.710666  2.758056  341682           None\n",
      "1994-03-30  2.682234  2.710668  2.672757  2.710668  219705           None\n",
      "1994-03-31  2.634845  2.691712  2.596933  2.691712  151369           None\n",
      "1994-04-04  2.587453  2.615887  2.540064  2.615887  359317           None\n"
     ]
    },
    {
     "name": "stderr",
     "output_type": "stream",
     "text": [
      "[*********************100%***********************]  1 of 1 completed\n"
     ]
    },
    {
     "name": "stdout",
     "output_type": "stream",
     "text": [
      "Data for EFX saved as EFX_30_years.csv\n",
      "Price          Close      High       Low      Open  Volume News_Sentiment\n",
      "Ticker           EFX       EFX       EFX       EFX     EFX               \n",
      "Date                                                                     \n",
      "1994-03-28  4.889168  5.059437  4.816195  5.035113  366200           None\n",
      "1994-03-29  4.864842  4.889166  4.791869  4.889166  399600           None\n",
      "1994-03-30  4.743220  4.840517  4.718896  4.840517  641600           None\n",
      "1994-03-31  4.621600  4.718897  4.548627  4.718897  633800           None\n",
      "1994-04-04  4.670249  4.767546  4.499979  4.524304  573800           None\n"
     ]
    },
    {
     "name": "stderr",
     "output_type": "stream",
     "text": [
      "[*********************100%***********************]  1 of 1 completed\n"
     ]
    },
    {
     "name": "stdout",
     "output_type": "stream",
     "text": [
      "Data for EQIX saved as EQIX_30_years.csv\n",
      "Price            Close        High         Low        Open  Volume  \\\n",
      "Ticker            EQIX        EQIX        EQIX        EQIX    EQIX   \n",
      "Date                                                                 \n",
      "2000-08-11  317.624084  338.799023  290.399163  308.549111  792528   \n",
      "2000-08-14  290.399048  317.623959  290.399048  316.867711   80228   \n",
      "2000-08-15  293.424072  299.474053  290.399082  294.180320   48422   \n",
      "2000-08-16  299.473999  316.111443  291.911524  291.911524   42166   \n",
      "2000-08-17  290.399048  302.499008  288.886553  296.449028   47247   \n",
      "\n",
      "Price      News_Sentiment  \n",
      "Ticker                     \n",
      "Date                       \n",
      "2000-08-11           None  \n",
      "2000-08-14           None  \n",
      "2000-08-15           None  \n",
      "2000-08-16           None  \n",
      "2000-08-17           None  \n"
     ]
    },
    {
     "name": "stderr",
     "output_type": "stream",
     "text": [
      "[*********************100%***********************]  1 of 1 completed\n"
     ]
    },
    {
     "name": "stdout",
     "output_type": "stream",
     "text": [
      "Data for EQR saved as EQR_30_years.csv\n",
      "Price          Close      High       Low      Open  Volume News_Sentiment\n",
      "Ticker           EQR       EQR       EQR       EQR     EQR               \n",
      "Date                                                                     \n",
      "1994-03-28  3.301172  3.351571  3.275972  3.351571   73000           None\n",
      "1994-03-29  3.149971  3.301170  3.124772  3.301170  295800           None\n",
      "1994-03-30  3.074373  3.137373  2.998774  3.137373  358000           None\n",
      "1994-03-31  3.036573  3.099573  3.023973  3.086973  189000           None\n",
      "1994-04-04  2.998774  3.023974  2.872775  3.011374  491000           None\n"
     ]
    },
    {
     "name": "stderr",
     "output_type": "stream",
     "text": [
      "[*********************100%***********************]  1 of 1 completed\n"
     ]
    },
    {
     "name": "stdout",
     "output_type": "stream",
     "text": [
      "Data for ERIE saved as ERIE_30_years.csv\n",
      "Price          Close      High       Low      Open Volume News_Sentiment\n",
      "Ticker          ERIE      ERIE      ERIE      ERIE   ERIE               \n",
      "Date                                                                    \n",
      "1995-10-02  7.592812  7.592812  7.514535  7.514535   2400           None\n",
      "1995-10-03  8.140747  8.140747  7.592813  7.592813  21300           None\n",
      "1995-10-04  7.514538  8.140749  7.514538  8.140749   9600           None\n",
      "1995-10-05  8.062471  8.062471  7.827642  8.062471   9900           None\n",
      "1995-10-06  8.062471  8.062471  7.514536  8.062471  56700           None\n"
     ]
    },
    {
     "name": "stderr",
     "output_type": "stream",
     "text": [
      "[*********************100%***********************]  1 of 1 completed\n"
     ]
    },
    {
     "name": "stdout",
     "output_type": "stream",
     "text": [
      "Data for ESS saved as ESS_30_years.csv\n",
      "Price          Close      High       Low      Open   Volume News_Sentiment\n",
      "Ticker           ESS       ESS       ESS       ESS      ESS               \n",
      "Date                                                                      \n",
      "1994-06-07  5.570987  5.642870  5.499103  5.499103  1595400           None\n",
      "1994-06-08  5.535041  5.570983  5.499100  5.570983   162400           None\n",
      "1994-06-09  5.535041  5.535041  5.499100  5.535041    76200           None\n",
      "1994-06-10  5.499102  5.535044  5.463160  5.535044   110500           None\n",
      "1994-06-13  5.499102  5.499102  5.463160  5.499102    51200           None\n"
     ]
    },
    {
     "name": "stderr",
     "output_type": "stream",
     "text": [
      "[*********************100%***********************]  1 of 1 completed\n"
     ]
    },
    {
     "name": "stdout",
     "output_type": "stream",
     "text": [
      "Data for EL saved as EL_30_years.csv\n",
      "Price          Close      High       Low      Open    Volume News_Sentiment\n",
      "Ticker            EL        EL        EL        EL        EL               \n",
      "Date                                                                       \n",
      "1995-11-17  6.318035  6.386709  5.928881  5.951772  35659200           None\n",
      "1995-11-20  6.089120  6.455383  5.997555  6.295143   8434000           None\n",
      "1995-11-21  5.974661  6.066227  5.814421  6.043336   6440000           None\n",
      "1995-11-22  6.157793  6.249359  5.951770  5.951770   3480800           None\n",
      "1995-11-24  6.386710  6.386710  6.180687  6.203578   1279200           None\n"
     ]
    },
    {
     "name": "stderr",
     "output_type": "stream",
     "text": [
      "[*********************100%***********************]  1 of 1 completed\n"
     ]
    },
    {
     "name": "stdout",
     "output_type": "stream",
     "text": [
      "Data for EG saved as EG_30_years.csv\n",
      "Price           Close       High        Low       Open    Volume  \\\n",
      "Ticker             EG         EG         EG         EG        EG   \n",
      "Date                                                               \n",
      "1995-10-03  12.536958  12.696664  11.818279  11.977985  10364800   \n",
      "1995-10-04  11.977986  12.536959  11.977986  12.457106   1810800   \n",
      "1995-10-05  12.377241  12.457094  12.137682  12.217535   1216500   \n",
      "1995-10-06  12.696664  12.696664  12.377251  12.536957   1538100   \n",
      "1995-10-09  12.377241  12.696654  12.377241  12.696654    869200   \n",
      "\n",
      "Price      News_Sentiment  \n",
      "Ticker                     \n",
      "Date                       \n",
      "1995-10-03           None  \n",
      "1995-10-04           None  \n",
      "1995-10-05           None  \n",
      "1995-10-06           None  \n",
      "1995-10-09           None  \n"
     ]
    },
    {
     "name": "stderr",
     "output_type": "stream",
     "text": [
      "[*********************100%***********************]  1 of 1 completed\n"
     ]
    },
    {
     "name": "stdout",
     "output_type": "stream",
     "text": [
      "Data for EVRG saved as EVRG_30_years.csv\n",
      "Price          Close      High       Low      Open  Volume News_Sentiment\n",
      "Ticker          EVRG      EVRG      EVRG      EVRG    EVRG               \n",
      "Date                                                                     \n",
      "1994-03-28  6.260804  6.260804  6.180879  6.260804   41800           None\n",
      "1994-03-29  6.207516  6.314083  6.180874  6.260799   37200           None\n",
      "1994-03-30  6.127596  6.207522  6.074313  6.207522   85500           None\n",
      "1994-03-31  6.100953  6.127594  6.021027  6.100953   81300           None\n",
      "1994-04-04  6.047671  6.074313  5.994388  6.047671  199800           None\n"
     ]
    },
    {
     "name": "stderr",
     "output_type": "stream",
     "text": [
      "[*********************100%***********************]  1 of 1 completed\n"
     ]
    },
    {
     "name": "stdout",
     "output_type": "stream",
     "text": [
      "Data for ES saved as ES_30_years.csv\n",
      "Price          Close      High       Low      Open  Volume News_Sentiment\n",
      "Ticker            ES        ES        ES        ES      ES               \n",
      "Date                                                                     \n",
      "1994-03-28  8.262278  8.262278  8.176658  8.176658  122000           None\n",
      "1994-03-29  8.133850  8.305089  8.133850  8.262279  175600           None\n",
      "1994-03-30  8.133850  8.219470  8.091040  8.176660  246700           None\n",
      "1994-03-31  8.091041  8.176660  8.091041  8.133850  146200           None\n",
      "1994-04-04  8.005420  8.048229  7.962610  8.048229  223700           None\n"
     ]
    },
    {
     "name": "stderr",
     "output_type": "stream",
     "text": [
      "[*********************100%***********************]  1 of 1 completed\n"
     ]
    },
    {
     "name": "stdout",
     "output_type": "stream",
     "text": [
      "Data for EXC saved as EXC_30_years.csv\n",
      "Price          Close      High       Low      Open   Volume News_Sentiment\n",
      "Ticker           EXC       EXC       EXC       EXC      EXC               \n",
      "Date                                                                      \n",
      "1994-03-28  2.927244  2.940312  2.901108  2.914176   818768           None\n",
      "1994-03-29  2.914175  2.953379  2.914175  2.953379  1249462           None\n",
      "1994-03-30  2.874972  2.927244  2.874972  2.927244  1297972           None\n",
      "1994-03-31  2.901107  2.901107  2.822699  2.874971  1894102           None\n",
      "1994-04-04  2.861903  2.901107  2.809631  2.901107  1881484           None\n"
     ]
    },
    {
     "name": "stderr",
     "output_type": "stream",
     "text": [
      "[*********************100%***********************]  1 of 1 completed\n",
      "[*********************100%***********************]  1 of 1 completed"
     ]
    },
    {
     "name": "stdout",
     "output_type": "stream",
     "text": [
      "Data for EXE saved as EXE_30_years.csv\n",
      "Price           Close       High        Low       Open   Volume News_Sentiment\n",
      "Ticker            EXE        EXE        EXE        EXE      EXE               \n",
      "Date                                                                          \n",
      "2021-02-10  36.691490  40.777383  35.068549  35.068549  1836900           None\n",
      "2021-02-11  34.905441  37.082955  34.864665  37.082955  1652100           None\n",
      "2021-02-12  34.668930  35.476324  33.886005  35.076704  2088200           None\n",
      "2021-02-16  35.517097  37.140039  35.076701  36.047205  1369100           None\n",
      "2021-02-17  36.096142  36.373428  35.476327  35.908566  1910200           None\n"
     ]
    },
    {
     "name": "stderr",
     "output_type": "stream",
     "text": [
      "\n"
     ]
    },
    {
     "name": "stdout",
     "output_type": "stream",
     "text": [
      "Data for EXPE saved as EXPE_30_years.csv\n",
      "Price           Close       High        Low       Open  Volume News_Sentiment\n",
      "Ticker           EXPE       EXPE       EXPE       EXPE    EXPE               \n",
      "Date                                                                         \n",
      "2005-07-21  31.574564  32.336980  31.443112  31.692870  109200           None\n",
      "2005-07-22  32.678757  32.731336  31.482551  32.363274   56800           None\n",
      "2005-07-25  31.863764  32.731341  31.745458  32.731341   39600           None\n",
      "2005-07-26  31.548269  32.008349  31.219641  32.008349  102450           None\n",
      "2005-07-27  31.640293  31.706020  31.088198  31.548278   98100           None\n"
     ]
    },
    {
     "name": "stderr",
     "output_type": "stream",
     "text": [
      "[*********************100%***********************]  1 of 1 completed\n"
     ]
    },
    {
     "name": "stdout",
     "output_type": "stream",
     "text": [
      "Data for EXPD saved as EXPD_30_years.csv\n",
      "Price          Close      High       Low      Open   Volume News_Sentiment\n",
      "Ticker          EXPD      EXPD      EXPD      EXPD     EXPD               \n",
      "Date                                                                      \n",
      "1994-03-28  0.797821  0.833545  0.797821  0.833545   302400           None\n",
      "1994-03-29  0.821637  0.833545  0.797821  0.815683   142400           None\n",
      "1994-03-30  0.821637  0.821637  0.797821  0.821637   140800           None\n",
      "1994-03-31  0.845452  0.857360  0.809729  0.815683   601600           None\n",
      "1994-04-04  0.851407  0.857360  0.833545  0.833545  1044800           None\n"
     ]
    },
    {
     "name": "stderr",
     "output_type": "stream",
     "text": [
      "[*********************100%***********************]  1 of 1 completed\n"
     ]
    },
    {
     "name": "stdout",
     "output_type": "stream",
     "text": [
      "Data for EXR saved as EXR_30_years.csv\n",
      "Price          Close      High       Low      Open  Volume News_Sentiment\n",
      "Ticker           EXR       EXR       EXR       EXR     EXR               \n",
      "Date                                                                     \n",
      "2004-08-16  5.333797  5.346598  5.333797  5.333797  188800           None\n",
      "2004-08-17  5.338065  5.350866  5.333798  5.333798  153600           None\n",
      "2004-08-18  5.338065  5.397803  5.333798  5.333798  149800           None\n",
      "2004-08-19  5.346597  5.355131  5.333796  5.333796  126900           None\n",
      "2004-08-20  5.355131  5.372199  5.333796  5.346597  144900           None\n"
     ]
    },
    {
     "name": "stderr",
     "output_type": "stream",
     "text": [
      "[*********************100%***********************]  1 of 1 completed\n",
      "[*********************100%***********************]  1 of 1 completed"
     ]
    },
    {
     "name": "stdout",
     "output_type": "stream",
     "text": [
      "Data for XOM saved as XOM_30_years.csv\n",
      "Price          Close      High       Low      Open   Volume News_Sentiment\n",
      "Ticker           XOM       XOM       XOM       XOM      XOM               \n",
      "Date                                                                      \n",
      "1994-03-28  6.084329  6.119431  6.049227  6.096030  4301200           None\n",
      "1994-03-29  6.084329  6.119431  6.025826  6.060928  4134400           None\n",
      "1994-03-30  5.943919  6.084327  5.943919  6.037524  5869600           None\n",
      "1994-03-31  5.885418  5.967322  5.756711  5.955622  7746800           None\n",
      "1994-04-04  5.709908  5.815213  5.651404  5.768411  9793200           None\n"
     ]
    },
    {
     "name": "stderr",
     "output_type": "stream",
     "text": [
      "\n"
     ]
    },
    {
     "name": "stdout",
     "output_type": "stream",
     "text": [
      "Data for FFIV saved as FFIV_30_years.csv\n",
      "Price         Close       High     Low      Open   Volume News_Sentiment\n",
      "Ticker         FFIV       FFIV    FFIV      FFIV     FFIV               \n",
      "Date                                                                    \n",
      "1999-06-04  7.43750   7.921875  5.0625   5.12500  7386600           None\n",
      "1999-06-07  7.75000   8.312500  7.3125   7.90625  1234600           None\n",
      "1999-06-08  9.84375  10.187500  7.7500   7.81250  1477200           None\n",
      "1999-06-09  9.68750  10.593750  9.3125  10.00000  1332600           None\n",
      "1999-06-10  8.59375   9.843750  8.5000   9.68750   545600           None\n"
     ]
    },
    {
     "name": "stderr",
     "output_type": "stream",
     "text": [
      "[*********************100%***********************]  1 of 1 completed\n"
     ]
    },
    {
     "name": "stdout",
     "output_type": "stream",
     "text": [
      "Data for FDS saved as FDS_30_years.csv\n",
      "Price          Close      High       Low      Open   Volume News_Sentiment\n",
      "Ticker           FDS       FDS       FDS       FDS      FDS               \n",
      "Date                                                                      \n",
      "1996-06-28  3.478704  3.565672  3.196059  3.217801  7850250           None\n",
      "1996-07-01  3.500448  3.522190  3.435222  3.435222   663750           None\n",
      "1996-07-02  3.565669  3.609153  3.456960  3.456960  1340100           None\n",
      "1996-07-03  3.522189  3.587414  3.456963  3.587414   660600           None\n",
      "1996-07-05  3.456964  3.456964  3.369996  3.456964   502650           None\n"
     ]
    },
    {
     "name": "stderr",
     "output_type": "stream",
     "text": [
      "[*********************100%***********************]  1 of 1 completed\n"
     ]
    },
    {
     "name": "stdout",
     "output_type": "stream",
     "text": [
      "Data for FICO saved as FICO_30_years.csv\n",
      "Price          Close      High       Low      Open Volume News_Sentiment\n",
      "Ticker          FICO      FICO      FICO      FICO   FICO               \n",
      "Date                                                                    \n",
      "1994-03-28  3.788575  3.788575  3.648257  3.648257  68175           None\n",
      "1994-03-29  3.683337  3.683337  3.648257  3.648257   6075           None\n",
      "1994-03-30  3.648258  3.648258  3.648258  3.648258   5400           None\n",
      "1994-03-31  3.648258  3.753496  3.613179  3.648258  44550           None\n",
      "1994-04-04  3.543020  3.648258  3.543020  3.543020  35100           None\n"
     ]
    },
    {
     "name": "stderr",
     "output_type": "stream",
     "text": [
      "[*********************100%***********************]  1 of 1 completed\n"
     ]
    },
    {
     "name": "stdout",
     "output_type": "stream",
     "text": [
      "Data for FAST saved as FAST_30_years.csv\n",
      "Price          Close      High       Low      Open    Volume News_Sentiment\n",
      "Ticker          FAST      FAST      FAST      FAST      FAST               \n",
      "Date                                                                       \n",
      "1994-03-28  0.704971  0.729114  0.690486  0.719457   9702400           None\n",
      "1994-03-29  0.651857  0.704971  0.637371  0.704971  14169600           None\n",
      "1994-03-30  0.647028  0.647028  0.622886  0.642200   9363200           None\n",
      "1994-03-31  0.627714  0.647028  0.603572  0.647028  10006400           None\n",
      "1994-04-04  0.574600  0.603572  0.564943  0.598743  16742400           None\n"
     ]
    },
    {
     "name": "stderr",
     "output_type": "stream",
     "text": [
      "[*********************100%***********************]  1 of 1 completed\n"
     ]
    },
    {
     "name": "stdout",
     "output_type": "stream",
     "text": [
      "Data for FRT saved as FRT_30_years.csv\n",
      "Price          Close      High       Low      Open   Volume News_Sentiment\n",
      "Ticker           FRT       FRT       FRT       FRT      FRT               \n",
      "Date                                                                      \n",
      "1994-03-28  6.110778  6.342467  6.081817  6.342467    35400           None\n",
      "1994-03-29  6.023897  6.110780  5.994936  6.110780    22100           None\n",
      "1994-03-30  5.734290  5.965978  5.676368  5.965978  1191400           None\n",
      "1994-03-31  5.705327  5.792210  5.444677  5.792210   249200           None\n",
      "1994-04-04  5.502598  5.618442  5.444676  5.444676   209300           None\n"
     ]
    },
    {
     "name": "stderr",
     "output_type": "stream",
     "text": [
      "[*********************100%***********************]  1 of 1 completed\n"
     ]
    },
    {
     "name": "stdout",
     "output_type": "stream",
     "text": [
      "Data for FDX saved as FDX_30_years.csv\n",
      "Price           Close       High        Low       Open   Volume News_Sentiment\n",
      "Ticker            FDX        FDX        FDX        FDX      FDX               \n",
      "Date                                                                          \n",
      "1994-03-28  14.061902  14.342121  14.010953  14.189274   781600           None\n",
      "1994-03-29  13.985486  14.163807  13.858114  14.087384   976000           None\n",
      "1994-03-30  13.603369  13.883588  13.603369  13.858113  1171600           None\n",
      "1994-03-31  13.628847  13.654322  13.348628  13.654322   900000           None\n",
      "1994-04-04  13.501472  13.577896  13.399575  13.399575  1444800           None\n"
     ]
    },
    {
     "name": "stderr",
     "output_type": "stream",
     "text": [
      "[*********************100%***********************]  1 of 1 completed\n"
     ]
    },
    {
     "name": "stdout",
     "output_type": "stream",
     "text": [
      "Data for FIS saved as FIS_30_years.csv\n",
      "Price           Close       High       Low       Open  Volume News_Sentiment\n",
      "Ticker            FIS        FIS       FIS        FIS     FIS               \n",
      "Date                                                                        \n",
      "2001-06-20   9.120277   9.349238  9.120277   9.158438   11000           None\n",
      "2001-06-21   9.730838   9.730838  9.349236   9.349236   39300           None\n",
      "2001-06-22   9.768997   9.788077  9.730837   9.730837   33800           None\n",
      "2001-06-25  10.112441  10.112441  9.883480   9.883480    9100           None\n",
      "2001-06-26  10.093361  10.112441  9.978880  10.112441  109800           None\n"
     ]
    },
    {
     "name": "stderr",
     "output_type": "stream",
     "text": [
      "[*********************100%***********************]  1 of 1 completed\n"
     ]
    },
    {
     "name": "stdout",
     "output_type": "stream",
     "text": [
      "Data for FITB saved as FITB_30_years.csv\n",
      "Price          Close      High       Low      Open  Volume News_Sentiment\n",
      "Ticker          FITB      FITB      FITB      FITB    FITB               \n",
      "Date                                                                     \n",
      "1994-03-28  4.270826  4.270826  4.139416  4.183220  342225           None\n",
      "1994-03-29  4.237975  4.292728  4.237975  4.270827  285525           None\n",
      "1994-03-30  4.183217  4.248922  4.183217  4.227020  525994           None\n",
      "1994-03-31  4.205120  4.248923  4.161317  4.183219  495619           None\n",
      "1994-04-04  4.095611  4.161316  4.095611  4.139414  372600           None\n"
     ]
    },
    {
     "name": "stderr",
     "output_type": "stream",
     "text": [
      "[*********************100%***********************]  1 of 1 completed\n"
     ]
    },
    {
     "name": "stdout",
     "output_type": "stream",
     "text": [
      "Data for FSLR saved as FSLR_30_years.csv\n",
      "Price           Close       High        Low       Open    Volume  \\\n",
      "Ticker           FSLR       FSLR       FSLR       FSLR      FSLR   \n",
      "Date                                                               \n",
      "2006-11-17  24.740000  25.180000  23.500000  24.500000  18358000   \n",
      "2006-11-20  25.000000  25.670000  24.290001  24.690001   1689000   \n",
      "2006-11-21  24.600000  25.190001  24.309999  25.000000   1179900   \n",
      "2006-11-22  26.879999  26.879999  24.500000  24.570000   1260800   \n",
      "2006-11-24  27.750000  27.959999  26.879999  27.000000    350300   \n",
      "\n",
      "Price      News_Sentiment  \n",
      "Ticker                     \n",
      "Date                       \n",
      "2006-11-17           None  \n",
      "2006-11-20           None  \n",
      "2006-11-21           None  \n",
      "2006-11-22           None  \n",
      "2006-11-24           None  \n"
     ]
    },
    {
     "name": "stderr",
     "output_type": "stream",
     "text": [
      "[*********************100%***********************]  1 of 1 completed\n"
     ]
    },
    {
     "name": "stdout",
     "output_type": "stream",
     "text": [
      "Data for FE saved as FE_30_years.csv\n",
      "Price          Close      High       Low      Open   Volume News_Sentiment\n",
      "Ticker            FE        FE        FE        FE       FE               \n",
      "Date                                                                      \n",
      "1997-11-10  7.344522  7.508543  7.326297  7.508543   947200           None\n",
      "1997-11-11  7.380972  7.417421  7.326298  7.344523   514700           None\n",
      "1997-11-12  7.472097  7.544996  7.326300  7.362750   344700           None\n",
      "1997-11-13  7.544993  7.563218  7.453870  7.453870  1007700           None\n",
      "1997-11-14  7.581446  7.581446  7.490323  7.544997  1394900           None\n"
     ]
    },
    {
     "name": "stderr",
     "output_type": "stream",
     "text": [
      "[*********************100%***********************]  1 of 1 completed\n"
     ]
    },
    {
     "name": "stdout",
     "output_type": "stream",
     "text": [
      "Data for FI saved as FI_30_years.csv\n",
      "Price          Close      High       Low      Open   Volume News_Sentiment\n",
      "Ticker            FI        FI        FI        FI       FI               \n",
      "Date                                                                      \n",
      "1994-03-28  1.592593  1.666667  1.592593  1.629630   573750           None\n",
      "1994-03-29  1.500000  1.629630  1.500000  1.592593  1013850           None\n",
      "1994-03-30  1.500000  1.537037  1.500000  1.500000   719550           None\n",
      "1994-03-31  1.509259  1.537037  1.481481  1.537037  2056050           None\n",
      "1994-04-04  1.500000  1.500000  1.462963  1.500000   396900           None\n"
     ]
    },
    {
     "name": "stderr",
     "output_type": "stream",
     "text": [
      "[*********************100%***********************]  1 of 1 completed\n",
      "[*********************100%***********************]  1 of 1 completed"
     ]
    },
    {
     "name": "stdout",
     "output_type": "stream",
     "text": [
      "Data for F saved as F_30_years.csv\n",
      "Price          Close      High       Low      Open    Volume News_Sentiment\n",
      "Ticker             F         F         F         F         F               \n",
      "Date                                                                       \n",
      "1994-03-28  3.640085  3.677924  3.609815  3.632518  11455737           None\n",
      "1994-03-29  3.587111  3.677925  3.579544  3.662789   9084469           None\n",
      "1994-03-30  3.526570  3.624951  3.526570  3.624951  12954562           None\n",
      "1994-03-31  3.556841  3.571976  3.450893  3.541705  13973325           None\n",
      "1994-04-04  3.556841  3.571976  3.443325  3.496299  16935902           None\n"
     ]
    },
    {
     "name": "stderr",
     "output_type": "stream",
     "text": [
      "\n",
      "[*********************100%***********************]  1 of 1 completed"
     ]
    },
    {
     "name": "stdout",
     "output_type": "stream",
     "text": [
      "Data for FTNT saved as FTNT_30_years.csv\n",
      "Price       Close   High    Low   Open     Volume News_Sentiment\n",
      "Ticker       FTNT   FTNT   FTNT   FTNT       FTNT               \n",
      "Date                                                            \n",
      "2009-11-18  1.662  1.750  1.633  1.700  136704000           None\n",
      "2009-11-19  1.689  1.712  1.606  1.657   22173000           None\n",
      "2009-11-20  1.694  1.696  1.606  1.688   11390000           None\n",
      "2009-11-23  1.690  1.717  1.660  1.706   11858000           None\n",
      "2009-11-24  1.701  1.705  1.673  1.680    4677000           None\n",
      "Data for FTV saved as FTV_30_years.csv\n",
      "Price           Close       High        Low       Open   Volume News_Sentiment\n",
      "Ticker            FTV        FTV        FTV        FTV      FTV               \n",
      "Date                                                                          \n",
      "2016-07-05  39.229130  43.862362  39.063658  39.874877  7445687           None\n",
      "2016-07-06  38.543026  39.229131  37.364535  37.994140  8014268           None\n",
      "2016-07-07  38.534954  38.744820  38.216117  38.438092  6556726           None\n",
      "2016-07-08  40.520626  40.851569  38.365445  38.712534  5070983           None\n",
      "2016-07-11  41.263237  41.352026  39.535864  39.721515  7220549           None\n"
     ]
    },
    {
     "name": "stderr",
     "output_type": "stream",
     "text": [
      "\n",
      "[*********************100%***********************]  1 of 1 completed\n",
      "[*********************100%***********************]  1 of 1 completed\n"
     ]
    },
    {
     "name": "stdout",
     "output_type": "stream",
     "text": [
      "Data for FOXA saved as FOXA_30_years.csv\n",
      "Price           Close       High        Low       Open    Volume  \\\n",
      "Ticker           FOXA       FOXA       FOXA       FOXA      FOXA   \n",
      "Date                                                               \n",
      "2019-03-12  34.759541  34.759541  34.759541  34.759541     10000   \n",
      "2019-03-13  36.360306  36.497516  35.399846  35.674262  20477400   \n",
      "2019-03-14  37.183559  37.869603  36.360306  36.360306   6248600   \n",
      "2019-03-15  38.144012  38.299514  37.723240  37.851301   7107300   \n",
      "2019-03-18  38.144012  38.372694  37.549440  38.372694   4020900   \n",
      "\n",
      "Price      News_Sentiment  \n",
      "Ticker                     \n",
      "Date                       \n",
      "2019-03-12           None  \n",
      "2019-03-13           None  \n",
      "2019-03-14           None  \n",
      "2019-03-15           None  \n",
      "2019-03-18           None  \n",
      "Data for FOX saved as FOX_30_years.csv\n",
      "Price           Close       High        Low       Open   Volume News_Sentiment\n",
      "Ticker            FOX        FOX        FOX        FOX      FOX               \n",
      "Date                                                                          \n",
      "2019-03-13  35.673557  35.764560  34.581509  35.127531   306000           None\n",
      "2019-03-14  36.365185  36.993114  35.782760  35.946567   279700           None\n",
      "2019-03-15  37.329830  37.357130  36.856609  36.902110   164200           None\n",
      "2019-03-18  37.184219  37.975953  36.829304  37.975953   581700           None\n",
      "2019-03-19  35.992069  37.675645  35.537049  37.675645  2540200           None\n"
     ]
    },
    {
     "name": "stderr",
     "output_type": "stream",
     "text": [
      "[*********************100%***********************]  1 of 1 completed\n"
     ]
    },
    {
     "name": "stdout",
     "output_type": "stream",
     "text": [
      "Data for BEN saved as BEN_30_years.csv\n",
      "Price          Close      High       Low      Open   Volume News_Sentiment\n",
      "Ticker           BEN       BEN       BEN       BEN      BEN               \n",
      "Date                                                                      \n",
      "1994-03-28  2.496190  2.585340  2.489332  2.585340   917100           None\n",
      "1994-03-29  2.297316  2.503046  2.290458  2.503046  1753200           None\n",
      "1994-03-30  2.297316  2.324747  2.235597  2.269885  3240900           None\n",
      "1994-03-31  2.228740  2.290459  2.139591  2.283602  5821200           None\n",
      "1994-04-04  2.187594  2.194452  2.112160  2.146448  3173400           None\n"
     ]
    },
    {
     "name": "stderr",
     "output_type": "stream",
     "text": [
      "[*********************100%***********************]  1 of 1 completed\n"
     ]
    },
    {
     "name": "stdout",
     "output_type": "stream",
     "text": [
      "Data for FCX saved as FCX_30_years.csv\n",
      "Price          Close      High       Low      Open   Volume News_Sentiment\n",
      "Ticker           FCX       FCX       FCX       FCX      FCX               \n",
      "Date                                                                      \n",
      "1995-07-10  6.641410  6.641410  6.404217  6.404217  5438000           None\n",
      "1995-07-11  6.776946  6.810830  6.709176  6.810830  4907000           None\n",
      "1995-07-12  7.081911  7.081911  6.743063  6.776948  1055800           None\n",
      "1995-07-13  7.081911  7.115795  7.014141  7.048026  1373600           None\n",
      "1995-07-14  7.048027  7.081911  7.014142  7.048027   985600           None\n"
     ]
    },
    {
     "name": "stderr",
     "output_type": "stream",
     "text": [
      "[*********************100%***********************]  1 of 1 completed\n"
     ]
    },
    {
     "name": "stdout",
     "output_type": "stream",
     "text": [
      "Data for GRMN saved as GRMN_30_years.csv\n",
      "Price          Close      High       Low      Open    Volume News_Sentiment\n",
      "Ticker          GRMN      GRMN      GRMN      GRMN      GRMN               \n",
      "Date                                                                       \n",
      "2000-12-08  5.314768  6.078766  4.019293  4.201988  17149800           None\n",
      "2000-12-11  5.630332  6.045548  5.281550  6.028939   2919200           None\n",
      "2000-12-12  5.281550  5.646941  5.148681  5.638636   1077400           None\n",
      "2000-12-13  5.281550  5.547289  5.248333  5.514071    422400           None\n",
      "2000-12-14  5.347983  5.381201  5.281549  5.310614    265400           None\n"
     ]
    },
    {
     "name": "stderr",
     "output_type": "stream",
     "text": [
      "[*********************100%***********************]  1 of 1 completed\n"
     ]
    },
    {
     "name": "stdout",
     "output_type": "stream",
     "text": [
      "Data for IT saved as IT_30_years.csv\n",
      "Price          Close      High       Low      Open   Volume News_Sentiment\n",
      "Ticker            IT        IT        IT        IT       IT               \n",
      "Date                                                                      \n",
      "1994-03-28  4.358644  4.476446  4.358644  4.446995   171200           None\n",
      "1994-03-29  4.299744  4.417545  4.181943  4.358645   692800           None\n",
      "1994-03-30  3.975791  4.240843  3.769639  4.240843  1658400           None\n",
      "1994-03-31  4.005241  4.064142  3.916890  3.916890   495200           None\n",
      "1994-04-04  3.916890  3.975791  3.769639  3.946340  2156000           None\n"
     ]
    },
    {
     "name": "stderr",
     "output_type": "stream",
     "text": [
      "[*********************100%***********************]  1 of 1 completed\n",
      "[*********************100%***********************]  1 of 1 completed\n"
     ]
    },
    {
     "name": "stdout",
     "output_type": "stream",
     "text": [
      "Data for GE saved as GE_30_years.csv\n",
      "Price           Close       High        Low       Open   Volume News_Sentiment\n",
      "Ticker             GE         GE         GE         GE       GE               \n",
      "Date                                                                          \n",
      "1994-03-28  19.990620  19.990620  19.725046  19.773332  2217494           None\n",
      "1994-03-29  19.749184  20.014759  19.749184  19.966473  2166664           None\n",
      "1994-03-30  19.073175  19.604327  18.928316  19.604327  6627191           None\n",
      "1994-03-31  19.314608  19.338752  18.662739  19.242179  5752313           None\n",
      "1994-04-04  18.928320  19.000749  18.566170  18.735173  6783688           None\n",
      "Data for GEHC saved as GEHC_30_years.csv\n",
      "Price           Close       High        Low       Open   Volume News_Sentiment\n",
      "Ticker           GEHC       GEHC       GEHC       GEHC     GEHC               \n",
      "Date                                                                          \n",
      "2022-12-15  59.816563  62.807391  59.816563  62.807391  1318200           None\n",
      "2022-12-16  56.566528  59.816560  54.831846  59.816560  2307500           None\n",
      "2022-12-19  56.327255  58.809644  52.837956  52.837956   117200           None\n",
      "2022-12-20  57.035088  57.822673  56.586463  57.822673    22200           None\n",
      "2022-12-21  56.785858  66.077364  55.330323  58.819622   290700           None\n"
     ]
    },
    {
     "name": "stderr",
     "output_type": "stream",
     "text": [
      "[*********************100%***********************]  1 of 1 completed\n",
      "\n",
      "1 Failed download:\n",
      "['GEV']: YFPricesMissingError('possibly delisted; no price data found  (1d 1994-03-28 -> 2024-03-28) (Yahoo error = \"Data doesn\\'t exist for startDate = 764830800, endDate = 1711598400\")')\n"
     ]
    },
    {
     "name": "stdout",
     "output_type": "stream",
     "text": [
      "Data for GEV saved as GEV_30_years.csv\n",
      "Empty DataFrame\n",
      "Columns: [(Adj Close, GEV), (Close, GEV), (High, GEV), (Low, GEV), (Open, GEV), (Volume, GEV), (News_Sentiment, )]\n",
      "Index: []\n"
     ]
    },
    {
     "name": "stderr",
     "output_type": "stream",
     "text": [
      "[*********************100%***********************]  1 of 1 completed\n",
      "[*********************100%***********************]  1 of 1 completed"
     ]
    },
    {
     "name": "stdout",
     "output_type": "stream",
     "text": [
      "Data for GEN saved as GEN_30_years.csv\n",
      "Price          Close      High       Low      Open   Volume News_Sentiment\n",
      "Ticker           GEN       GEN       GEN       GEN      GEN               \n",
      "Date                                                                      \n",
      "1994-03-28  0.762184  0.801999  0.762184  0.790623  3594400           None\n",
      "1994-03-29  0.710992  0.767872  0.710992  0.767872  4323200           None\n",
      "1994-03-30  0.710992  0.722368  0.693928  0.705304  3505600           None\n",
      "1994-03-31  0.710992  0.716680  0.693928  0.716680  1586400           None\n",
      "1994-04-04  0.728056  0.745120  0.676865  0.688240  3666400           None\n"
     ]
    },
    {
     "name": "stderr",
     "output_type": "stream",
     "text": [
      "\n"
     ]
    },
    {
     "name": "stdout",
     "output_type": "stream",
     "text": [
      "Data for GNRC saved as GNRC_30_years.csv\n",
      "Price          Close      High       Low      Open   Volume News_Sentiment\n",
      "Ticker          GNRC      GNRC      GNRC      GNRC     GNRC               \n",
      "Date                                                                      \n",
      "2010-02-11  8.460629  8.730789  8.170700  8.566057  9627100           None\n",
      "2010-02-12  8.836218  8.836218  8.407915  8.407915   884000           None\n",
      "2010-02-16  8.776914  8.842807  8.506753  8.829628   166900           None\n",
      "2010-02-17  8.763736  9.224985  8.697843  8.711022   400400           None\n",
      "2010-02-18  8.585825  8.664896  8.467218  8.631950   402300           None\n"
     ]
    },
    {
     "name": "stderr",
     "output_type": "stream",
     "text": [
      "[*********************100%***********************]  1 of 1 completed\n"
     ]
    },
    {
     "name": "stdout",
     "output_type": "stream",
     "text": [
      "Data for GD saved as GD_30_years.csv\n",
      "Price          Close      High       Low      Open   Volume News_Sentiment\n",
      "Ticker            GD        GD        GD        GD       GD               \n",
      "Date                                                                      \n",
      "1994-03-28  5.554296  5.748050  5.538149  5.748050  8303200           None\n",
      "1994-03-29  5.368618  5.562372  5.352471  5.562372  1641600           None\n",
      "1994-03-30  5.417050  5.489708  5.320173  5.336319  1311200           None\n",
      "1994-03-31  5.481634  5.489707  5.392830  5.408976  1432800           None\n",
      "1994-04-04  5.287882  5.433198  5.271736  5.408978  2305600           None\n"
     ]
    },
    {
     "name": "stderr",
     "output_type": "stream",
     "text": [
      "[*********************100%***********************]  1 of 1 completed\n"
     ]
    },
    {
     "name": "stdout",
     "output_type": "stream",
     "text": [
      "Data for GIS saved as GIS_30_years.csv\n",
      "Price          Close      High       Low      Open   Volume News_Sentiment\n",
      "Ticker           GIS       GIS       GIS       GIS      GIS               \n",
      "Date                                                                      \n",
      "1994-03-28  4.474163  4.484194  4.393909  4.464131  1433515           None\n",
      "1994-03-29  4.514287  4.524319  4.454097  4.464129  1985723           None\n",
      "1994-03-30  4.444068  4.504259  4.444068  4.494227  1924259           None\n",
      "1994-03-31  4.464133  4.474165  4.373847  4.454101  2873321           None\n",
      "1994-04-04  4.340296  4.451586  4.330179  4.370648  2602783           None\n"
     ]
    },
    {
     "name": "stderr",
     "output_type": "stream",
     "text": [
      "[*********************100%***********************]  1 of 1 completed\n"
     ]
    },
    {
     "name": "stdout",
     "output_type": "stream",
     "text": [
      "Data for GM saved as GM_30_years.csv\n",
      "Price           Close       High        Low       Open     Volume  \\\n",
      "Ticker             GM         GM         GM         GM         GM   \n",
      "Date                                                                \n",
      "2010-11-18  25.694448  27.047186  25.468993  26.303180  457044300   \n",
      "2010-11-19  25.747057  25.927423  24.882811  25.664392  107842000   \n",
      "2010-11-22  25.611792  25.912398  25.408881  25.701973   36650600   \n",
      "2010-11-23  24.988022  25.544148  24.942930  25.514086   31170200   \n",
      "2010-11-24  25.160873  25.401359  24.965480  25.348753   26138000   \n",
      "\n",
      "Price      News_Sentiment  \n",
      "Ticker                     \n",
      "Date                       \n",
      "2010-11-18           None  \n",
      "2010-11-19           None  \n",
      "2010-11-22           None  \n",
      "2010-11-23           None  \n",
      "2010-11-24           None  \n"
     ]
    },
    {
     "name": "stderr",
     "output_type": "stream",
     "text": [
      "[*********************100%***********************]  1 of 1 completed\n"
     ]
    },
    {
     "name": "stdout",
     "output_type": "stream",
     "text": [
      "Data for GPC saved as GPC_30_years.csv\n",
      "Price          Close      High       Low      Open  Volume News_Sentiment\n",
      "Ticker           GPC       GPC       GPC       GPC     GPC               \n",
      "Date                                                                     \n",
      "1994-03-28  8.966177  9.058295  8.935471  8.996884  125850           None\n",
      "1994-03-29  8.843356  8.966180  8.812651  8.966180  144000           None\n",
      "1994-03-30  8.536294  8.843354  8.474881  8.843354  275100           None\n",
      "1994-03-31  8.597707  8.597707  8.290646  8.536296  178950           None\n",
      "1994-04-04  8.505588  8.567000  8.444176  8.505588  198300           None\n"
     ]
    },
    {
     "name": "stderr",
     "output_type": "stream",
     "text": [
      "[*********************100%***********************]  1 of 1 completed\n"
     ]
    },
    {
     "name": "stdout",
     "output_type": "stream",
     "text": [
      "Data for GILD saved as GILD_30_years.csv\n",
      "Price          Close      High       Low      Open   Volume News_Sentiment\n",
      "Ticker          GILD      GILD      GILD      GILD     GILD               \n",
      "Date                                                                      \n",
      "1994-03-28  0.238246  0.243786  0.227165  0.243786   646400           None\n",
      "1994-03-29  0.221624  0.238246  0.210543  0.238246  3273600           None\n",
      "1994-03-30  0.218854  0.227165  0.210543  0.221624   985600           None\n",
      "1994-03-31  0.238246  0.238246  0.216084  0.216084  8585600           None\n",
      "1994-04-04  0.227165  0.232705  0.221624  0.232705  2214400           None\n"
     ]
    },
    {
     "name": "stderr",
     "output_type": "stream",
     "text": [
      "[*********************100%***********************]  1 of 1 completed\n"
     ]
    },
    {
     "name": "stdout",
     "output_type": "stream",
     "text": [
      "Data for GPN saved as GPN_30_years.csv\n",
      "Price          Close      High       Low      Open  Volume News_Sentiment\n",
      "Ticker           GPN       GPN       GPN       GPN     GPN               \n",
      "Date                                                                     \n",
      "2001-01-16  3.468726  3.468726  3.468726  3.468726    3200           None\n",
      "2001-01-17  3.468726  3.468726  3.468726  3.468726  122800           None\n",
      "2001-01-18  3.815598  3.815598  3.584349  3.584349  167200           None\n",
      "2001-01-19  3.960130  3.960130  3.873412  3.873412   59600           None\n",
      "2001-01-22  4.220282  4.278094  3.931221  3.931221  146800           None\n"
     ]
    },
    {
     "name": "stderr",
     "output_type": "stream",
     "text": [
      "[*********************100%***********************]  1 of 1 completed\n",
      "[*********************100%***********************]  1 of 1 completed"
     ]
    },
    {
     "name": "stdout",
     "output_type": "stream",
     "text": [
      "Data for GL saved as GL_30_years.csv\n",
      "Price          Close      High       Low      Open  Volume News_Sentiment\n",
      "Ticker            GL        GL        GL        GL      GL               \n",
      "Date                                                                     \n",
      "1994-03-28  5.521760  5.588287  5.471865  5.471865  298350           None\n",
      "1994-03-29  5.538391  5.555023  5.488496  5.505127  452700           None\n",
      "1994-03-30  5.421969  5.521759  5.421969  5.505127  410400           None\n",
      "1994-03-31  5.355438  5.421966  5.255647  5.421966  815400           None\n",
      "1994-04-04  5.191976  5.309215  5.108235  5.309215  594900           None\n",
      "Data for GDDY saved as GDDY_30_years.csv\n",
      "Price           Close       High    Low       Open    Volume News_Sentiment\n",
      "Ticker           GDDY       GDDY   GDDY       GDDY      GDDY               \n",
      "Date                                                                       \n",
      "2015-03-31  20.000000  20.000000  20.00  20.000000         0           None\n",
      "2015-04-01  26.150000  26.840000  25.49  26.150000  23177400           None\n",
      "2015-04-02  26.500000  27.270000  25.83  26.719999   5166100           None\n",
      "2015-04-06  25.799999  26.799999  25.35  26.719999   2090200           None\n",
      "2015-04-07  25.240000  25.850000  25.16  25.840000    939400           None\n"
     ]
    },
    {
     "name": "stderr",
     "output_type": "stream",
     "text": [
      "\n",
      "[*********************100%***********************]  1 of 1 completed\n"
     ]
    },
    {
     "name": "stdout",
     "output_type": "stream",
     "text": [
      "Data for GS saved as GS_30_years.csv\n",
      "Price           Close       High        Low       Open    Volume  \\\n",
      "Ticker             GS         GS         GS         GS        GS   \n",
      "Date                                                               \n",
      "1999-05-04  49.445206  54.275554  49.181732  53.397309  22320900   \n",
      "1999-05-05  48.566963  49.093910  46.546999  49.093910   7565700   \n",
      "1999-05-06  47.732624  48.742606  47.117852  47.776536   2905700   \n",
      "1999-05-07  52.079918  52.606865  46.898273  47.732606   4862300   \n",
      "1999-05-10  49.664738  51.640788  49.357352  51.552964   2589400   \n",
      "\n",
      "Price      News_Sentiment  \n",
      "Ticker                     \n",
      "Date                       \n",
      "1999-05-04           None  \n",
      "1999-05-05           None  \n",
      "1999-05-06           None  \n",
      "1999-05-07           None  \n",
      "1999-05-10           None  \n"
     ]
    },
    {
     "name": "stderr",
     "output_type": "stream",
     "text": [
      "[*********************100%***********************]  1 of 1 completed\n"
     ]
    },
    {
     "name": "stdout",
     "output_type": "stream",
     "text": [
      "Data for HAL saved as HAL_30_years.csv\n",
      "Price          Close      High       Low      Open   Volume News_Sentiment\n",
      "Ticker           HAL       HAL       HAL       HAL      HAL               \n",
      "Date                                                                      \n",
      "1994-03-28  4.475495  4.583773  4.367217  4.583773  2764294           None\n",
      "1994-03-29  4.349171  4.403310  4.349171  4.403310  3211299           None\n",
      "1994-03-30  4.313078  4.367218  4.276986  4.349172  2363879           None\n",
      "1994-03-31  4.222846  4.331124  4.150660  4.313077  6378947           None\n",
      "1994-04-04  4.168705  4.168705  4.024334  4.132613  2167448           None\n"
     ]
    },
    {
     "name": "stderr",
     "output_type": "stream",
     "text": [
      "[*********************100%***********************]  1 of 1 completed\n"
     ]
    },
    {
     "name": "stdout",
     "output_type": "stream",
     "text": [
      "Data for HIG saved as HIG_30_years.csv\n",
      "Price           Close       High        Low       Open   Volume News_Sentiment\n",
      "Ticker            HIG        HIG        HIG        HIG      HIG               \n",
      "Date                                                                          \n",
      "1995-12-15  13.352350  13.352350  12.882670  12.882670  1283000           None\n",
      "1995-12-18  13.117499  13.452985  13.016854  13.352339  2710200           None\n",
      "1995-12-19  12.849114  13.117503  12.748469  13.117503  1096600           None\n",
      "1995-12-20  13.184603  13.251700  12.849117  12.849117  3904000           None\n",
      "1995-12-21  13.016856  13.251696  12.916210  13.151051  3891400           None\n"
     ]
    },
    {
     "name": "stderr",
     "output_type": "stream",
     "text": [
      "[*********************100%***********************]  1 of 1 completed\n"
     ]
    },
    {
     "name": "stdout",
     "output_type": "stream",
     "text": [
      "Data for HAS saved as HAS_30_years.csv\n",
      "Price          Close      High       Low      Open  Volume News_Sentiment\n",
      "Ticker           HAS       HAS       HAS       HAS     HAS               \n",
      "Date                                                                     \n",
      "1994-03-28  7.771800  7.853608  7.717261  7.799069  379125           None\n",
      "1994-03-29  7.662719  7.744527  7.662719  7.744527  470700           None\n",
      "1994-03-30  7.471832  7.635449  7.471832  7.635449  580050           None\n",
      "1994-03-31  7.580911  7.580911  7.335486  7.471833  911025           None\n",
      "1994-04-04  7.553638  7.553638  7.417290  7.444560  669600           None\n"
     ]
    },
    {
     "name": "stderr",
     "output_type": "stream",
     "text": [
      "[*********************100%***********************]  1 of 1 completed\n"
     ]
    },
    {
     "name": "stdout",
     "output_type": "stream",
     "text": [
      "Data for HCA saved as HCA_30_years.csv\n",
      "Price           Close       High        Low       Open    Volume  \\\n",
      "Ticker            HCA        HCA        HCA        HCA       HCA   \n",
      "Date                                                               \n",
      "2011-03-10  23.229866  23.589322  22.990229  23.364662  64599900   \n",
      "2011-03-11  23.304758  23.432066  22.840460  22.840460   9531600   \n",
      "2011-03-14  23.147488  23.252329  22.892873  23.184930   8663800   \n",
      "2011-03-15  23.469505  23.589324  22.735616  22.758081   7121200   \n",
      "2011-03-16  23.402109  23.926317  23.304757  23.402109   6157900   \n",
      "\n",
      "Price      News_Sentiment  \n",
      "Ticker                     \n",
      "Date                       \n",
      "2011-03-10           None  \n",
      "2011-03-11           None  \n",
      "2011-03-14           None  \n",
      "2011-03-15           None  \n",
      "2011-03-16           None  \n"
     ]
    },
    {
     "name": "stderr",
     "output_type": "stream",
     "text": [
      "[*********************100%***********************]  1 of 1 completed\n"
     ]
    },
    {
     "name": "stdout",
     "output_type": "stream",
     "text": [
      "Data for DOC saved as DOC_30_years.csv\n",
      "Price          Close      High       Low      Open  Volume News_Sentiment\n",
      "Ticker           DOC       DOC       DOC       DOC     DOC               \n",
      "Date                                                                     \n",
      "1994-03-28  2.032270  2.056561  2.007980  2.056561   72688           None\n",
      "1994-03-29  2.007981  2.032271  2.007981  2.016078   87401           None\n",
      "1994-03-30  1.999884  2.007981  1.975594  1.991787  158551           None\n",
      "1994-03-31  1.975595  1.999885  1.975595  1.999885  238486           None\n",
      "1994-04-04  1.951305  1.967498  1.910821  1.959401   92891           None\n"
     ]
    },
    {
     "name": "stderr",
     "output_type": "stream",
     "text": [
      "[*********************100%***********************]  1 of 1 completed\n"
     ]
    },
    {
     "name": "stdout",
     "output_type": "stream",
     "text": [
      "Data for HSIC saved as HSIC_30_years.csv\n",
      "Price          Close      High       Low      Open    Volume News_Sentiment\n",
      "Ticker          HSIC      HSIC      HSIC      HSIC      HSIC               \n",
      "Date                                                                       \n",
      "1995-11-03  4.460784  4.607843  3.995098  4.264706  24219900           None\n",
      "1995-11-06  4.485294  4.558824  4.362745  4.411765   3758190           None\n",
      "1995-11-07  4.411765  4.509804  4.362745  4.509804   3391500           None\n",
      "1995-11-08  4.362745  4.460784  4.313725  4.313725    851190           None\n",
      "1995-11-09  4.460784  4.509804  4.362745  4.362745    574770           None\n"
     ]
    },
    {
     "name": "stderr",
     "output_type": "stream",
     "text": [
      "[*********************100%***********************]  1 of 1 completed\n"
     ]
    },
    {
     "name": "stdout",
     "output_type": "stream",
     "text": [
      "Data for HSY saved as HSY_30_years.csv\n",
      "Price          Close      High       Low      Open  Volume News_Sentiment\n",
      "Ticker           HSY       HSY       HSY       HSY     HSY               \n",
      "Date                                                                     \n",
      "1994-03-28  5.818963  5.850332  5.756224  5.803278  795200           None\n",
      "1994-03-29  5.803282  5.850336  5.771913  5.818967  446400           None\n",
      "1994-03-30  5.787596  5.866018  5.787596  5.803280  724000           None\n",
      "1994-03-31  5.818963  5.834647  5.740540  5.787594  511200           None\n",
      "1994-04-04  5.771912  5.834650  5.756227  5.787596  620000           None\n"
     ]
    },
    {
     "name": "stderr",
     "output_type": "stream",
     "text": [
      "[*********************100%***********************]  1 of 1 completed\n",
      "[*********************100%***********************]  1 of 1 completed"
     ]
    },
    {
     "name": "stdout",
     "output_type": "stream",
     "text": [
      "Data for HES saved as HES_30_years.csv\n",
      "Price           Close       High        Low       Open   Volume News_Sentiment\n",
      "Ticker            HES        HES        HES        HES      HES               \n",
      "Date                                                                          \n",
      "1994-03-28  10.434684  10.600314  10.351869  10.600314   829500           None\n",
      "1994-03-29  10.213849  10.379479  10.213849  10.379479   792600           None\n",
      "1994-03-30   9.993007  10.158637   9.965402  10.158637   889800           None\n",
      "1994-03-31   9.882584  10.020608   9.854978  10.020608  1614600           None\n",
      "1994-04-04   9.772163   9.827373   9.716954   9.716954  1332600           None\n",
      "Data for HPE saved as HPE_30_years.csv\n",
      "Price          Close      High       Low      Open   Volume News_Sentiment\n",
      "Ticker           HPE       HPE       HPE       HPE      HPE               \n",
      "Date                                                                      \n",
      "2015-10-19  7.408923  8.281878  7.377586  8.281878  2721233           None\n",
      "2015-10-20  7.552175  7.579035  7.274620  7.274620  1220907           None\n",
      "2015-10-21  7.377584  7.767057  7.341772  7.722290   135236           None\n",
      "2015-10-22  7.587989  7.632756  7.270144  7.480548   189261           None\n",
      "2015-10-23  7.610373  7.722291  7.543223  7.722291   103061           None\n"
     ]
    },
    {
     "name": "stderr",
     "output_type": "stream",
     "text": [
      "\n",
      "[*********************100%***********************]  1 of 1 completed\n"
     ]
    },
    {
     "name": "stdout",
     "output_type": "stream",
     "text": [
      "Data for HLT saved as HLT_30_years.csv\n",
      "Price           Close       High        Low       Open    Volume  \\\n",
      "Ticker            HLT        HLT        HLT        HLT       HLT   \n",
      "Date                                                               \n",
      "2013-12-12  41.792847  42.609264  41.306883  41.404076  12935478   \n",
      "2013-12-13  42.959167  43.503445  41.890047  42.745344   1224854   \n",
      "2013-12-16  41.831738  50.054242  41.831738  44.864152   4717690   \n",
      "2013-12-17  42.395447  42.745342  41.948362  42.006676   2313840   \n",
      "2013-12-18  42.434326  43.114676  42.103872  42.434326   2857846   \n",
      "\n",
      "Price      News_Sentiment  \n",
      "Ticker                     \n",
      "Date                       \n",
      "2013-12-12           None  \n",
      "2013-12-13           None  \n",
      "2013-12-16           None  \n",
      "2013-12-17           None  \n",
      "2013-12-18           None  \n"
     ]
    },
    {
     "name": "stderr",
     "output_type": "stream",
     "text": [
      "[*********************100%***********************]  1 of 1 completed\n"
     ]
    },
    {
     "name": "stdout",
     "output_type": "stream",
     "text": [
      "Data for HOLX saved as HOLX_30_years.csv\n",
      "Price          Close      High       Low      Open  Volume News_Sentiment\n",
      "Ticker          HOLX      HOLX      HOLX      HOLX    HOLX               \n",
      "Date                                                                     \n",
      "1994-03-28  0.824219  0.828125  0.796875  0.804688  245600           None\n",
      "1994-03-29  0.828125  0.859375  0.812500  0.828125  297600           None\n",
      "1994-03-30  0.828125  0.859375  0.828125  0.828125  132000           None\n",
      "1994-03-31  0.859375  0.859375  0.828125  0.828125   77600           None\n",
      "1994-04-04  0.828125  0.859375  0.828125  0.859375   94400           None\n"
     ]
    },
    {
     "name": "stderr",
     "output_type": "stream",
     "text": [
      "[*********************100%***********************]  1 of 1 completed\n"
     ]
    },
    {
     "name": "stdout",
     "output_type": "stream",
     "text": [
      "Data for HD saved as HD_30_years.csv\n",
      "Price          Close      High       Low      Open    Volume News_Sentiment\n",
      "Ticker            HD        HD        HD        HD        HD               \n",
      "Date                                                                       \n",
      "1994-03-28  5.495249  5.608055  5.430789  5.591940   5032350           None\n",
      "1994-03-29  5.253521  5.511363  5.253521  5.511363   4596750           None\n",
      "1994-03-30  5.253521  5.350212  5.172946  5.269636  11243250           None\n",
      "1994-03-31  5.253521  5.285751  5.027910  5.253521   9322200           None\n",
      "1994-04-04  5.189061  5.221292  5.092371  5.124601   6144300           None\n"
     ]
    },
    {
     "name": "stderr",
     "output_type": "stream",
     "text": [
      "[*********************100%***********************]  1 of 1 completed\n"
     ]
    },
    {
     "name": "stdout",
     "output_type": "stream",
     "text": [
      "Data for HON saved as HON_30_years.csv\n",
      "Price          Close      High       Low      Open   Volume News_Sentiment\n",
      "Ticker           HON       HON       HON       HON      HON               \n",
      "Date                                                                      \n",
      "1994-03-28  9.190063  9.406664  9.004406  9.406664  2180686           None\n",
      "1994-03-29  9.035348  9.344778  9.035348  9.190063  1319321           None\n",
      "1994-03-30  8.478373  9.004404  8.478373  8.973461  2543820           None\n",
      "1994-03-31  9.035348  9.066290  8.571204  8.633088  2176071           None\n",
      "1994-04-04  9.004402  9.035345  8.571201  8.602143  1706369           None\n"
     ]
    },
    {
     "name": "stderr",
     "output_type": "stream",
     "text": [
      "[*********************100%***********************]  1 of 1 completed\n"
     ]
    },
    {
     "name": "stdout",
     "output_type": "stream",
     "text": [
      "Data for HRL saved as HRL_30_years.csv\n",
      "Price          Close      High       Low      Open  Volume News_Sentiment\n",
      "Ticker           HRL       HRL       HRL       HRL     HRL               \n",
      "Date                                                                     \n",
      "1994-03-28  1.356834  1.356834  1.340083  1.356834  233600           None\n",
      "1994-03-29  1.323332  1.356834  1.323332  1.356834  376000           None\n",
      "1994-03-30  1.314955  1.323331  1.306580  1.314955  370400           None\n",
      "1994-03-31  1.289830  1.323332  1.289830  1.306581  316000           None\n",
      "1994-04-04  1.340082  1.340082  1.306580  1.306580  283200           None\n"
     ]
    },
    {
     "name": "stderr",
     "output_type": "stream",
     "text": [
      "[*********************100%***********************]  1 of 1 completed\n",
      "[*********************100%***********************]  1 of 1 completed"
     ]
    },
    {
     "name": "stdout",
     "output_type": "stream",
     "text": [
      "Data for HST saved as HST_30_years.csv\n",
      "Price          Close      High       Low      Open   Volume News_Sentiment\n",
      "Ticker           HST       HST       HST       HST      HST               \n",
      "Date                                                                      \n",
      "1994-03-28  3.219849  3.293868  3.219849  3.293868   554430           None\n",
      "1994-03-29  3.108820  3.256859  3.108820  3.219849   664606           None\n",
      "1994-03-30  2.960781  3.108820  2.886762  3.108820  1279111           None\n",
      "1994-03-31  2.960781  2.997791  2.923771  2.923771   656122           None\n",
      "1994-04-04  2.997791  2.997791  2.812742  2.886761   978508           None\n",
      "Data for HWM saved as HWM_30_years.csv\n",
      "Price           Close       High        Low       Open Volume News_Sentiment\n",
      "Ticker            HWM        HWM        HWM        HWM    HWM               \n",
      "Date                                                                        \n",
      "2016-11-01  18.145199  21.712859  17.982160  21.329240      0           None\n",
      "2016-11-02  17.205334  18.193153  16.908027  18.087659      0           None\n",
      "2016-11-03  16.773758  17.310825  16.706625  17.003929      0           None\n",
      "2016-11-04  16.955978  17.071063  16.792940  16.879255      0           None\n",
      "2016-11-07  16.629902  17.262874  16.572359  17.166969      0           None\n"
     ]
    },
    {
     "name": "stderr",
     "output_type": "stream",
     "text": [
      "\n",
      "[*********************100%***********************]  1 of 1 completed\n"
     ]
    },
    {
     "name": "stdout",
     "output_type": "stream",
     "text": [
      "Data for HPQ saved as HPQ_30_years.csv\n",
      "Price          Close      High       Low      Open    Volume News_Sentiment\n",
      "Ticker           HPQ       HPQ       HPQ       HPQ       HPQ               \n",
      "Date                                                                       \n",
      "1994-03-28  2.054780  2.082423  2.027137  2.067066  10101014           None\n",
      "1994-03-29  1.971851  2.073208  1.965708  2.054780  16324747           None\n",
      "1994-03-30  1.965708  2.005637  1.931923  1.971851  27029990           None\n",
      "1994-03-31  2.017923  2.027137  1.941137  1.965709  16789810           None\n",
      "1994-04-04  1.990279  2.008708  1.965708  2.008708  19437494           None\n"
     ]
    },
    {
     "name": "stderr",
     "output_type": "stream",
     "text": [
      "[*********************100%***********************]  1 of 1 completed\n"
     ]
    },
    {
     "name": "stdout",
     "output_type": "stream",
     "text": [
      "Data for HUBB saved as HUBB_30_years.csv\n",
      "Price          Close      High       Low      Open Volume News_Sentiment\n",
      "Ticker          HUBB      HUBB      HUBB      HUBB   HUBB               \n",
      "Date                                                                    \n",
      "1994-03-28  1.008682  1.008682  1.008682  1.008682      0           None\n",
      "1994-03-29  1.008682  1.008682  1.008682  1.008682      0           None\n",
      "1994-03-30  1.008682  1.008682  1.008682  1.008682      0           None\n",
      "1994-03-31  1.008682  1.008682  1.008682  1.008682      0           None\n",
      "1994-04-04  1.008682  1.008682  1.008682  1.008682      0           None\n"
     ]
    },
    {
     "name": "stderr",
     "output_type": "stream",
     "text": [
      "[*********************100%***********************]  1 of 1 completed\n"
     ]
    },
    {
     "name": "stdout",
     "output_type": "stream",
     "text": [
      "Data for HUM saved as HUM_30_years.csv\n",
      "Price           Close       High        Low       Open   Volume News_Sentiment\n",
      "Ticker            HUM        HUM        HUM        HUM      HUM               \n",
      "Date                                                                          \n",
      "1994-03-28  18.070078  18.956953  17.848359  18.956953   329500           None\n",
      "1994-03-29  16.850630  18.070083  16.850630  18.070083   916600           None\n",
      "1994-03-30  16.296331  17.072347  16.185472  16.850628  2026400           None\n",
      "1994-03-31  16.407194  16.739772  15.076881  16.518054  1436800           None\n",
      "1994-04-04  16.185469  16.407187  15.409453  15.520312   762800           None\n"
     ]
    },
    {
     "name": "stderr",
     "output_type": "stream",
     "text": [
      "[*********************100%***********************]  1 of 1 completed\n"
     ]
    },
    {
     "name": "stdout",
     "output_type": "stream",
     "text": [
      "Data for HBAN saved as HBAN_30_years.csv\n",
      "Price          Close      High       Low      Open  Volume News_Sentiment\n",
      "Ticker          HBAN      HBAN      HBAN      HBAN    HBAN               \n",
      "Date                                                                     \n",
      "1994-03-28  3.890417  3.910786  3.829311  3.890417  156823           None\n",
      "1994-03-29  3.870046  3.910783  3.849677  3.849677  155213           None\n",
      "1994-03-30  3.808940  3.870046  3.788571  3.849677  318680           None\n",
      "1994-03-31  3.747835  3.849679  3.707098  3.829310  257480           None\n",
      "1994-04-04  3.666360  3.727466  3.645992  3.727466  144543           None\n"
     ]
    },
    {
     "name": "stderr",
     "output_type": "stream",
     "text": [
      "[*********************100%***********************]  1 of 1 completed\n"
     ]
    },
    {
     "name": "stdout",
     "output_type": "stream",
     "text": [
      "Data for HII saved as HII_30_years.csv\n",
      "Price           Close       High        Low       Open  Volume News_Sentiment\n",
      "Ticker            HII        HII        HII        HII     HII               \n",
      "Date                                                                         \n",
      "2011-03-22  30.427889  30.517165  27.595310  28.991309  491400           None\n",
      "2011-03-23  30.233080  30.679474  29.989593  30.086987  601200           None\n",
      "2011-03-24  30.233080  30.435986  30.151919  30.435986  230400           None\n",
      "2011-03-25  31.856354  31.856354  30.233100  30.436007  497400           None\n",
      "2011-03-28  30.638910  31.653444  30.638910  31.653444   53100           None\n"
     ]
    },
    {
     "name": "stderr",
     "output_type": "stream",
     "text": [
      "[*********************100%***********************]  1 of 1 completed\n"
     ]
    },
    {
     "name": "stdout",
     "output_type": "stream",
     "text": [
      "Data for IBM saved as IBM_30_years.csv\n",
      "Price          Close      High       Low      Open    Volume News_Sentiment\n",
      "Ticker           IBM       IBM       IBM       IBM       IBM               \n",
      "Date                                                                       \n",
      "1994-03-28  6.403997  6.523418  6.269647  6.493563  14043596           None\n",
      "1994-03-29  6.284577  6.493566  6.269650  6.403999  13241105           None\n",
      "1994-03-30  6.389071  6.568203  6.269648  6.269648  17290380           None\n",
      "1994-03-31  6.523420  6.523420  6.209938  6.448782  14478314           None\n",
      "1994-04-04  6.329362  6.389073  6.239796  6.329362  11568760           None\n"
     ]
    },
    {
     "name": "stderr",
     "output_type": "stream",
     "text": [
      "[*********************100%***********************]  1 of 1 completed\n"
     ]
    },
    {
     "name": "stdout",
     "output_type": "stream",
     "text": [
      "Data for IEX saved as IEX_30_years.csv\n",
      "Price          Close      High       Low      Open  Volume News_Sentiment\n",
      "Ticker           IEX       IEX       IEX       IEX     IEX               \n",
      "Date                                                                     \n",
      "1994-03-28  4.645668  4.676742  4.645668  4.676742   14175           None\n",
      "1994-03-29  4.630130  4.692279  4.630130  4.645667  128081           None\n",
      "1994-03-30  4.505829  4.661202  4.505829  4.630128  260719           None\n",
      "1994-03-31  4.334919  4.474756  4.288308  4.474756  134663           None\n",
      "1994-04-04  4.257236  4.303848  4.210624  4.303848   55181           None\n"
     ]
    },
    {
     "name": "stderr",
     "output_type": "stream",
     "text": [
      "[*********************100%***********************]  1 of 1 completed\n"
     ]
    },
    {
     "name": "stdout",
     "output_type": "stream",
     "text": [
      "Data for IDXX saved as IDXX_30_years.csv\n",
      "Price         Close     High       Low      Open   Volume News_Sentiment\n",
      "Ticker         IDXX     IDXX      IDXX      IDXX     IDXX               \n",
      "Date                                                                    \n",
      "1994-03-28  3.65625  3.68750  3.593750  3.625000  1056800           None\n",
      "1994-03-29  3.53125  3.65625  3.500000  3.609375  3572800           None\n",
      "1994-03-30  3.43750  3.50000  3.406250  3.500000   695200           None\n",
      "1994-03-31  3.37500  3.46875  3.375000  3.437500   561600           None\n",
      "1994-04-04  3.25000  3.31250  3.203125  3.281250   854400           None\n"
     ]
    },
    {
     "name": "stderr",
     "output_type": "stream",
     "text": [
      "[*********************100%***********************]  1 of 1 completed\n"
     ]
    },
    {
     "name": "stdout",
     "output_type": "stream",
     "text": [
      "Data for ITW saved as ITW_30_years.csv\n",
      "Price          Close      High       Low      Open  Volume News_Sentiment\n",
      "Ticker           ITW       ITW       ITW       ITW     ITW               \n",
      "Date                                                                     \n",
      "1994-03-28  5.932155  5.949349  5.880571  5.932155  498800           None\n",
      "1994-03-29  5.708622  5.932153  5.691428  5.897764  360800           None\n",
      "1994-03-30  5.553873  5.708624  5.519483  5.708624  808000           None\n",
      "1994-03-31  5.571065  5.571065  5.347535  5.519481  563200           None\n",
      "1994-04-04  5.450703  5.536676  5.416313  5.502287  495600           None\n"
     ]
    },
    {
     "name": "stderr",
     "output_type": "stream",
     "text": [
      "[*********************100%***********************]  1 of 1 completed\n",
      "[*********************100%***********************]  1 of 1 completed"
     ]
    },
    {
     "name": "stdout",
     "output_type": "stream",
     "text": [
      "Data for INCY saved as INCY_30_years.csv\n",
      "Price         Close     High      Low     Open Volume News_Sentiment\n",
      "Ticker         INCY     INCY     INCY     INCY   INCY               \n",
      "Date                                                                \n",
      "1994-03-28  2.37500  2.43750  2.37500  2.43750  16800           None\n",
      "1994-03-29  2.37500  2.37500  2.37500  2.37500  12400           None\n",
      "1994-03-30  2.31250  2.34375  2.28125  2.34375  28800           None\n",
      "1994-03-31  2.18750  2.34375  2.18750  2.34375  79600           None\n",
      "1994-04-04  2.21875  2.21875  2.21875  2.21875   1200           None\n",
      "Data for IR saved as IR_30_years.csv\n",
      "Price           Close       High        Low       Open    Volume  \\\n",
      "Ticker             IR         IR         IR         IR        IR   \n",
      "Date                                                               \n",
      "2017-05-12  21.008499  21.207631  20.182099  21.157848  10933700   \n",
      "2017-05-15  21.924503  22.203288  20.918883  20.918883   3487300   \n",
      "2017-05-16  22.004156  22.312811  21.954372  22.093766   1289300   \n",
      "2017-05-17  22.004156  22.412378  21.576021  22.053939   1583700   \n",
      "2017-05-18  22.402428  23.527527  21.884682  22.093773   4075200   \n",
      "\n",
      "Price      News_Sentiment  \n",
      "Ticker                     \n",
      "Date                       \n",
      "2017-05-12           None  \n",
      "2017-05-15           None  \n",
      "2017-05-16           None  \n",
      "2017-05-17           None  \n",
      "2017-05-18           None  \n"
     ]
    },
    {
     "name": "stderr",
     "output_type": "stream",
     "text": [
      "\n",
      "[*********************100%***********************]  1 of 1 completed\n"
     ]
    },
    {
     "name": "stdout",
     "output_type": "stream",
     "text": [
      "Data for PODD saved as PODD_30_years.csv\n",
      "Price       Close   High    Low   Open   Volume News_Sentiment\n",
      "Ticker       PODD   PODD   PODD   PODD     PODD               \n",
      "Date                                                          \n",
      "2007-05-15  15.96  17.00  15.77  17.00  4850000           None\n",
      "2007-05-16  15.45  15.97  15.03  15.95   357600           None\n",
      "2007-05-17  15.13  15.59  15.05  15.29   426700           None\n",
      "2007-05-18  15.18  15.29  15.05  15.05   140600           None\n",
      "2007-05-21  15.63  15.63  15.10  15.23   157200           None\n"
     ]
    },
    {
     "name": "stderr",
     "output_type": "stream",
     "text": [
      "[*********************100%***********************]  1 of 1 completed\n"
     ]
    },
    {
     "name": "stdout",
     "output_type": "stream",
     "text": [
      "Data for INTC saved as INTC_30_years.csv\n",
      "Price          Close      High       Low      Open    Volume News_Sentiment\n",
      "Ticker          INTC      INTC      INTC      INTC      INTC               \n",
      "Date                                                                       \n",
      "1994-03-28  2.405782  2.453985  2.375106  2.436456  62891200           None\n",
      "1994-03-29  2.322522  2.427692  2.313757  2.418928  49953600           None\n",
      "1994-03-30  2.322522  2.366343  2.287465  2.313757  83126400           None\n",
      "1994-03-31  2.366343  2.366343  2.278700  2.340050  66886400           None\n",
      "1994-04-04  2.357579  2.375107  2.278701  2.296229  67182400           None\n"
     ]
    },
    {
     "name": "stderr",
     "output_type": "stream",
     "text": [
      "[*********************100%***********************]  1 of 1 completed\n"
     ]
    },
    {
     "name": "stdout",
     "output_type": "stream",
     "text": [
      "Data for ICE saved as ICE_30_years.csv\n",
      "Price          Close      High       Low      Open    Volume News_Sentiment\n",
      "Ticker           ICE       ICE       ICE       ICE       ICE               \n",
      "Date                                                                       \n",
      "2005-11-16  6.777442  7.633904  6.658298  6.734274  97759000           None\n",
      "2005-11-17  6.086747  7.209126  5.870905  6.958749  34308500           None\n",
      "2005-11-18  6.043579  6.380293  5.967603  6.250787  12810000           None\n",
      "2005-11-21  6.198984  6.209345  6.012497  6.086747   6404000           None\n",
      "2005-11-22  6.034945  6.123008  5.922707  6.121282   6533000           None\n"
     ]
    },
    {
     "name": "stderr",
     "output_type": "stream",
     "text": [
      "[*********************100%***********************]  1 of 1 completed\n"
     ]
    },
    {
     "name": "stdout",
     "output_type": "stream",
     "text": [
      "Data for IFF saved as IFF_30_years.csv\n",
      "Price           Close       High        Low       Open  Volume News_Sentiment\n",
      "Ticker            IFF        IFF        IFF        IFF     IFF               \n",
      "Date                                                                         \n",
      "1994-03-28  17.337767  17.396143  17.221014  17.337767   90900           None\n",
      "1994-03-29  17.279392  17.396145  17.162640  17.337769  115400           None\n",
      "1994-03-30  16.929123  17.221004  16.753994  17.162628  189500           None\n",
      "1994-03-31  17.045877  17.045877  16.695620  16.870749  163800           None\n",
      "1994-04-04  16.929123  17.221004  16.637241  16.812370  124300           None\n"
     ]
    },
    {
     "name": "stderr",
     "output_type": "stream",
     "text": [
      "[*********************100%***********************]  1 of 1 completed\n"
     ]
    },
    {
     "name": "stdout",
     "output_type": "stream",
     "text": [
      "Data for IP saved as IP_30_years.csv\n",
      "Price           Close       High        Low       Open   Volume News_Sentiment\n",
      "Ticker             IP         IP         IP         IP       IP               \n",
      "Date                                                                          \n",
      "1994-03-28  11.780206  11.822965  11.673307  11.737446  1222193           None\n",
      "1994-03-29  11.716065  11.822964  11.716065  11.780205   953426           None\n",
      "1994-03-30  11.716065  11.865724  11.716065  11.758825  1523511           None\n",
      "1994-03-31  11.609169  11.737447  11.480891  11.716067  1676634           None\n",
      "1994-04-04  11.288474  11.502271  11.245715  11.416752   684659           None\n"
     ]
    },
    {
     "name": "stderr",
     "output_type": "stream",
     "text": [
      "[*********************100%***********************]  1 of 1 completed\n"
     ]
    },
    {
     "name": "stdout",
     "output_type": "stream",
     "text": [
      "Data for IPG saved as IPG_30_years.csv\n",
      "Price          Close      High       Low      Open  Volume News_Sentiment\n",
      "Ticker           IPG       IPG       IPG       IPG     IPG               \n",
      "Date                                                                     \n",
      "1994-03-28  5.788953  5.859550  5.741888  5.765420  154200           None\n",
      "1994-03-29  5.577164  5.788955  5.553631  5.765422  260400           None\n",
      "1994-03-30  5.624227  5.765421  5.553630  5.577163  514800           None\n",
      "1994-03-31  5.600695  5.741889  5.577163  5.694824  306600           None\n",
      "1994-04-04  5.530100  5.530100  5.365373  5.412438  945300           None\n"
     ]
    },
    {
     "name": "stderr",
     "output_type": "stream",
     "text": [
      "[*********************100%***********************]  1 of 1 completed\n"
     ]
    },
    {
     "name": "stdout",
     "output_type": "stream",
     "text": [
      "Data for INTU saved as INTU_30_years.csv\n",
      "Price          Close      High       Low      Open   Volume News_Sentiment\n",
      "Ticker          INTU      INTU      INTU      INTU     INTU               \n",
      "Date                                                                      \n",
      "1994-03-28  2.808778  2.975087  2.660947  2.975087  4868400           None\n",
      "1994-03-29  2.734862  2.882693  2.734862  2.827256  1794000           None\n",
      "1994-03-30  2.762580  2.771820  2.716383  2.753341  1491600           None\n",
      "1994-03-31  2.688665  2.790298  2.679425  2.753341  1246800           None\n",
      "1994-04-04  2.587032  2.623989  2.513116  2.623989  2362800           None\n"
     ]
    },
    {
     "name": "stderr",
     "output_type": "stream",
     "text": [
      "[*********************100%***********************]  1 of 1 completed\n"
     ]
    },
    {
     "name": "stdout",
     "output_type": "stream",
     "text": [
      "Data for ISRG saved as ISRG_30_years.csv\n",
      "Price          Close      High       Low      Open   Volume News_Sentiment\n",
      "Ticker          ISRG      ISRG      ISRG      ISRG     ISRG               \n",
      "Date                                                                      \n",
      "2000-06-16  2.027778  2.055556  2.000000  2.013889   521550           None\n",
      "2000-06-19  2.000000  2.055556  2.000000  2.027778  1363050           None\n",
      "2000-06-20  2.083333  2.180556  1.750000  2.006944  1177650           None\n",
      "2000-06-21  2.444444  2.472222  2.138889  2.222222  2342250           None\n",
      "2000-06-22  2.194444  2.472222  2.118056  2.458333   857700           None\n"
     ]
    },
    {
     "name": "stderr",
     "output_type": "stream",
     "text": [
      "[*********************100%***********************]  1 of 1 completed\n",
      "[*********************100%***********************]  1 of 1 completed"
     ]
    },
    {
     "name": "stdout",
     "output_type": "stream",
     "text": [
      "Data for IVZ saved as IVZ_30_years.csv\n",
      "Price          Close      High       Low      Open   Volume News_Sentiment\n",
      "Ticker           IVZ       IVZ       IVZ       IVZ      IVZ               \n",
      "Date                                                                      \n",
      "1995-08-25  2.899917  2.910578  2.867932  2.867932  3541000           None\n",
      "1995-08-28  2.857269  2.889254  2.835946  2.889254  1418500           None\n",
      "1995-08-29  2.857269  2.889254  2.825285  2.878592   879000           None\n",
      "1995-08-30  2.867932  2.867932  2.846609  2.857270   436500           None\n",
      "1995-08-31  2.857269  2.867931  2.835946  2.867931   606500           None\n",
      "Data for INVH saved as INVH_30_years.csv\n",
      "Price           Close       High        Low       Open    Volume  \\\n",
      "Ticker           INVH       INVH       INVH       INVH      INVH   \n",
      "Date                                                               \n",
      "2017-02-01  16.463003  16.808726  16.298372  16.545318  30833000   \n",
      "2017-02-02  16.652323  16.800490  16.495925  16.495925   4901200   \n",
      "2017-02-03  16.981585  17.121520  16.709945  16.751104   2631500   \n",
      "2017-02-06  17.063896  17.401387  16.915729  17.401387   1836800   \n",
      "2017-02-07  17.121523  17.170913  16.973357  17.080366   3521100   \n",
      "\n",
      "Price      News_Sentiment  \n",
      "Ticker                     \n",
      "Date                       \n",
      "2017-02-01           None  \n",
      "2017-02-02           None  \n",
      "2017-02-03           None  \n",
      "2017-02-06           None  \n",
      "2017-02-07           None  \n"
     ]
    },
    {
     "name": "stderr",
     "output_type": "stream",
     "text": [
      "\n",
      "[*********************100%***********************]  1 of 1 completed\n"
     ]
    },
    {
     "name": "stdout",
     "output_type": "stream",
     "text": [
      "Data for IQV saved as IQV_30_years.csv\n",
      "Price           Close       High        Low       Open    Volume  \\\n",
      "Ticker            IQV        IQV        IQV        IQV       IQV   \n",
      "Date                                                               \n",
      "2013-05-09  42.110001  44.330002  42.000000  43.759998  19153400   \n",
      "2013-05-10  42.389999  42.970001  41.779999  42.259998   2969700   \n",
      "2013-05-13  43.320000  43.369999  42.299999  42.299999   1053100   \n",
      "2013-05-14  44.430000  44.750000  43.900002  44.240002   2049800   \n",
      "2013-05-15  45.500000  45.740002  44.849998  45.200001   2380500   \n",
      "\n",
      "Price      News_Sentiment  \n",
      "Ticker                     \n",
      "Date                       \n",
      "2013-05-09           None  \n",
      "2013-05-10           None  \n",
      "2013-05-13           None  \n",
      "2013-05-14           None  \n",
      "2013-05-15           None  \n"
     ]
    },
    {
     "name": "stderr",
     "output_type": "stream",
     "text": [
      "[*********************100%***********************]  1 of 1 completed\n"
     ]
    },
    {
     "name": "stdout",
     "output_type": "stream",
     "text": [
      "Data for IRM saved as IRM_30_years.csv\n",
      "Price          Close      High       Low      Open    Volume News_Sentiment\n",
      "Ticker           IRM       IRM       IRM       IRM       IRM               \n",
      "Date                                                                       \n",
      "1996-02-01  1.200704  1.210011  1.191396  1.210011  13718164           None\n",
      "1996-02-02  1.210012  1.210012  1.191396  1.200704   3828860           None\n",
      "1996-02-05  1.191396  1.210011  1.191396  1.210011    908190           None\n",
      "1996-02-06  1.191396  1.210011  1.191396  1.191396    509419           None\n",
      "1996-02-07  1.191396  1.210011  1.191396  1.191396    366453           None\n"
     ]
    },
    {
     "name": "stderr",
     "output_type": "stream",
     "text": [
      "[*********************100%***********************]  1 of 1 completed\n"
     ]
    },
    {
     "name": "stdout",
     "output_type": "stream",
     "text": [
      "Data for JBHT saved as JBHT_30_years.csv\n",
      "Price          Close      High       Low      Open  Volume News_Sentiment\n",
      "Ticker          JBHT      JBHT      JBHT      JBHT    JBHT               \n",
      "Date                                                                     \n",
      "1994-03-28  4.441904  4.441904  4.348390  4.348390  310400           None\n",
      "1994-03-29  4.395148  4.441905  4.348391  4.395148  447200           None\n",
      "1994-03-30  4.301634  4.395148  4.208121  4.348391  404800           None\n",
      "1994-03-31  4.114606  4.301634  4.067849  4.208120  385200           None\n",
      "1994-04-04  4.044470  4.114606  3.974335  4.114606  233600           None\n"
     ]
    },
    {
     "name": "stderr",
     "output_type": "stream",
     "text": [
      "[*********************100%***********************]  1 of 1 completed\n"
     ]
    },
    {
     "name": "stdout",
     "output_type": "stream",
     "text": [
      "Data for JBL saved as JBL_30_years.csv\n",
      "Price          Close      High       Low      Open  Volume News_Sentiment\n",
      "Ticker           JBL       JBL       JBL       JBL     JBL               \n",
      "Date                                                                     \n",
      "1994-03-28  0.764562  0.800970  0.752426  0.752426  341600           None\n",
      "1994-03-29  0.752427  0.800970  0.752427  0.752427   45600           None\n",
      "1994-03-30  0.728155  0.776698  0.728155  0.728155   84800           None\n",
      "1994-03-31  0.691747  0.752426  0.679611  0.728155  208000           None\n",
      "1994-04-04  0.703883  0.716019  0.679611  0.679611  287200           None\n"
     ]
    },
    {
     "name": "stderr",
     "output_type": "stream",
     "text": [
      "[*********************100%***********************]  1 of 1 completed\n"
     ]
    },
    {
     "name": "stdout",
     "output_type": "stream",
     "text": [
      "Data for JKHY saved as JKHY_30_years.csv\n",
      "Price          Close      High       Low      Open  Volume News_Sentiment\n",
      "Ticker          JKHY      JKHY      JKHY      JKHY    JKHY               \n",
      "Date                                                                     \n",
      "1994-03-28  1.231999  1.275481  1.217505  1.231999  364800           None\n",
      "1994-03-29  1.246494  1.289976  1.217505  1.231999  114600           None\n",
      "1994-03-30  1.246494  1.275481  1.203011  1.217505  307200           None\n",
      "1994-03-31  1.203012  1.275482  1.188517  1.203012  139200           None\n",
      "1994-04-04  1.188516  1.246493  1.159529  1.246493   78000           None\n"
     ]
    },
    {
     "name": "stderr",
     "output_type": "stream",
     "text": [
      "[*********************100%***********************]  1 of 1 completed\n"
     ]
    },
    {
     "name": "stdout",
     "output_type": "stream",
     "text": [
      "Data for J saved as J_30_years.csv\n",
      "Price          Close      High       Low      Open  Volume News_Sentiment\n",
      "Ticker             J         J         J         J       J               \n",
      "Date                                                                     \n",
      "1994-03-28  4.817475  4.841684  4.769058  4.817475   57935           None\n",
      "1994-03-29  4.720641  4.841683  4.720641  4.793266   53626           None\n",
      "1994-03-30  4.623806  4.672224  4.599598  4.672224  479758           None\n",
      "1994-03-31  4.648015  4.648015  4.526974  4.599598  148907           None\n",
      "1994-04-04  4.623806  4.672224  4.599598  4.648015   82832           None\n"
     ]
    },
    {
     "name": "stderr",
     "output_type": "stream",
     "text": [
      "[*********************100%***********************]  1 of 1 completed\n"
     ]
    },
    {
     "name": "stdout",
     "output_type": "stream",
     "text": [
      "Data for JNJ saved as JNJ_30_years.csv\n",
      "Price          Close      High       Low      Open   Volume News_Sentiment\n",
      "Ticker           JNJ       JNJ       JNJ       JNJ      JNJ               \n",
      "Date                                                                      \n",
      "1994-03-28  4.608322  4.608322  4.578686  4.578686  3377200           None\n",
      "1994-03-29  4.504598  4.623140  4.504598  4.593504  5040000           None\n",
      "1994-03-30  4.400875  4.563870  4.400875  4.504599  6394000           None\n",
      "1994-03-31  4.474961  4.504597  4.267513  4.400873  7767600           None\n",
      "1994-04-04  4.371235  4.460141  4.326782  4.326782  7373200           None\n"
     ]
    },
    {
     "name": "stderr",
     "output_type": "stream",
     "text": [
      "[*********************100%***********************]  1 of 1 completed\n"
     ]
    },
    {
     "name": "stdout",
     "output_type": "stream",
     "text": [
      "Data for JCI saved as JCI_30_years.csv\n",
      "Price          Close      High       Low      Open  Volume News_Sentiment\n",
      "Ticker           JCI       JCI       JCI       JCI     JCI               \n",
      "Date                                                                     \n",
      "1994-03-28  6.398364  6.475267  6.382983  6.475267  399982           None\n",
      "1994-03-29  6.164127  6.333641  6.164127  6.333641  819175           None\n",
      "1994-03-30  6.179537  6.210358  6.148716  6.179537  473370           None\n",
      "1994-03-31  6.148717  6.179538  6.025435  6.164128  579417           None\n",
      "1994-04-04  5.948386  6.025438  5.871335  5.902156  844534           None\n"
     ]
    },
    {
     "name": "stderr",
     "output_type": "stream",
     "text": [
      "[*********************100%***********************]  1 of 1 completed\n"
     ]
    },
    {
     "name": "stdout",
     "output_type": "stream",
     "text": [
      "Data for JPM saved as JPM_30_years.csv\n",
      "Price          Close      High       Low      Open   Volume News_Sentiment\n",
      "Ticker           JPM       JPM       JPM       JPM      JPM               \n",
      "Date                                                                      \n",
      "1994-03-28  5.021488  5.089117  4.970766  5.072210  1930800           None\n",
      "1994-03-29  4.953858  5.021488  4.953858  5.004580  2843400           None\n",
      "1994-03-30  4.852036  5.005798  4.834952  4.920375  4096500           None\n",
      "1994-03-31  4.971630  5.039969  4.715361  4.852037  5024700           None\n",
      "1994-04-04  4.903289  4.954543  4.852035  4.886205  2387700           None\n"
     ]
    },
    {
     "name": "stderr",
     "output_type": "stream",
     "text": [
      "[*********************100%***********************]  1 of 1 completed\n"
     ]
    },
    {
     "name": "stdout",
     "output_type": "stream",
     "text": [
      "Data for JNPR saved as JNPR_30_years.csv\n",
      "Price           Close       High        Low       Open    Volume  \\\n",
      "Ticker           JNPR       JNPR       JNPR       JNPR      JNPR   \n",
      "Date                                                               \n",
      "1999-06-25  12.685792  13.599939  12.060322  13.471636  44833800   \n",
      "1999-06-28  12.717863  12.765976  11.563152  12.557487   9166200   \n",
      "1999-06-29  14.818798  17.288597  12.292867  12.557488  14730000   \n",
      "1999-06-30  19.116892  20.415942  15.267853  15.620684  16852800   \n",
      "1999-07-01  18.731987  20.784809  18.218784  20.255566   9501000   \n",
      "\n",
      "Price      News_Sentiment  \n",
      "Ticker                     \n",
      "Date                       \n",
      "1999-06-25           None  \n",
      "1999-06-28           None  \n",
      "1999-06-29           None  \n",
      "1999-06-30           None  \n",
      "1999-07-01           None  \n"
     ]
    },
    {
     "name": "stderr",
     "output_type": "stream",
     "text": [
      "[*********************100%***********************]  1 of 1 completed\n",
      "[*********************100%***********************]  1 of 1 completed\n"
     ]
    },
    {
     "name": "stdout",
     "output_type": "stream",
     "text": [
      "Data for K saved as K_30_years.csv\n",
      "Price          Close      High       Low      Open   Volume News_Sentiment\n",
      "Ticker             K         K         K         K        K               \n",
      "Date                                                                      \n",
      "1994-03-28  9.445321  9.445321  9.188781  9.328712   653910           None\n",
      "1994-03-29  9.398674  9.631892  9.398674  9.445318  1329546           None\n",
      "1994-03-30  9.165454  9.421993  9.165454  9.421993   907167           None\n",
      "1994-03-31  9.491962  9.515284  9.048848  9.188779   804501           None\n",
      "1994-04-04  9.258742  9.421994  9.212099  9.235421   893748           None\n",
      "Data for KVUE saved as KVUE_30_years.csv\n",
      "Price           Close       High        Low       Open    Volume  \\\n",
      "Ticker           KVUE       KVUE       KVUE       KVUE      KVUE   \n",
      "Date                                                               \n",
      "2023-05-04  25.134396  25.209145  23.592695  23.854318  77004200   \n",
      "2023-05-05  24.760653  25.255866  24.489686  24.910151  11289900   \n",
      "2023-05-08  24.769997  25.087681  24.209378  24.601811   6308300   \n",
      "2023-05-09  24.555090  25.078333  24.358873  24.769993   4684000   \n",
      "2023-05-10  24.527063  25.012933  24.302816  24.555095   9602400   \n",
      "\n",
      "Price      News_Sentiment  \n",
      "Ticker                     \n",
      "Date                       \n",
      "2023-05-04           None  \n",
      "2023-05-05           None  \n",
      "2023-05-08           None  \n",
      "2023-05-09           None  \n",
      "2023-05-10           None  \n"
     ]
    },
    {
     "name": "stderr",
     "output_type": "stream",
     "text": [
      "[*********************100%***********************]  1 of 1 completed\n"
     ]
    },
    {
     "name": "stdout",
     "output_type": "stream",
     "text": [
      "Data for KDP saved as KDP_30_years.csv\n",
      "Price          Close      High       Low      Open    Volume News_Sentiment\n",
      "Ticker           KDP       KDP       KDP       KDP       KDP               \n",
      "Date                                                                       \n",
      "2008-05-07  2.786319  2.819099  2.709831  2.753538  38943400           None\n",
      "2008-05-08  2.775392  2.822377  2.703276  2.795060  12468400           None\n",
      "2008-05-09  2.757909  2.775392  2.725129  2.742612   9747000           None\n",
      "2008-05-12  2.793967  2.933829  2.742611  2.743704   7921800           None\n",
      "2008-05-13  2.830027  2.832212  2.753540  2.773208   4518800           None\n"
     ]
    },
    {
     "name": "stderr",
     "output_type": "stream",
     "text": [
      "[*********************100%***********************]  1 of 1 completed\n",
      "[*********************100%***********************]  1 of 1 completed"
     ]
    },
    {
     "name": "stdout",
     "output_type": "stream",
     "text": [
      "Data for KEY saved as KEY_30_years.csv\n",
      "Price          Close      High       Low      Open   Volume News_Sentiment\n",
      "Ticker           KEY       KEY       KEY       KEY      KEY               \n",
      "Date                                                                      \n",
      "1994-03-28  5.354995  5.375832  5.292486  5.313322   879600           None\n",
      "1994-03-29  5.354995  5.417505  5.313322  5.354995   884200           None\n",
      "1994-03-30  5.125793  5.354995  5.125793  5.354995  1209600           None\n",
      "1994-03-31  5.000774  5.146630  4.917428  5.104957  1569200           None\n",
      "1994-04-04  5.084120  5.125793  4.917428  4.959101  1642000           None\n",
      "Data for KEYS saved as KEYS_30_years.csv\n",
      "Price           Close       High        Low       Open   Volume News_Sentiment\n",
      "Ticker           KEYS       KEYS       KEYS       KEYS     KEYS               \n",
      "Date                                                                          \n",
      "2014-10-20  28.250000  33.000000  27.320000  27.900000  1333600           None\n",
      "2014-10-21  28.309999  29.490000  28.299999  28.490000   697700           None\n",
      "2014-10-22  28.750000  28.910000  28.000000  28.469999   768800           None\n",
      "2014-10-23  29.250000  29.889999  28.600000  28.750000  1270700           None\n",
      "2014-10-24  29.750000  30.090000  29.110001  29.110001  1540700           None\n"
     ]
    },
    {
     "name": "stderr",
     "output_type": "stream",
     "text": [
      "\n",
      "[*********************100%***********************]  1 of 1 completed\n"
     ]
    },
    {
     "name": "stdout",
     "output_type": "stream",
     "text": [
      "Data for KMB saved as KMB_30_years.csv\n",
      "Price           Close       High        Low       Open  Volume News_Sentiment\n",
      "Ticker            KMB        KMB        KMB        KMB     KMB               \n",
      "Date                                                                         \n",
      "1994-03-28  10.138204  10.230161  10.115215  10.230161  600351           None\n",
      "1994-03-29  10.023256  10.138202   9.977277  10.092224  658967           None\n",
      "1994-03-30   9.747391  10.000271   9.701413   9.977282  959143           None\n",
      "1994-03-31   9.724398   9.770376   9.563473   9.770376  590129           None\n",
      "1994-04-04   9.862336   9.908315   9.540489   9.609456  744911           None\n"
     ]
    },
    {
     "name": "stderr",
     "output_type": "stream",
     "text": [
      "[*********************100%***********************]  1 of 1 completed\n"
     ]
    },
    {
     "name": "stdout",
     "output_type": "stream",
     "text": [
      "Data for KIM saved as KIM_30_years.csv\n",
      "Price          Close      High       Low      Open  Volume News_Sentiment\n",
      "Ticker           KIM       KIM       KIM       KIM     KIM               \n",
      "Date                                                                     \n",
      "1994-03-28  1.705832  1.711518  1.694459  1.694459   39600           None\n",
      "1994-03-29  1.705832  1.711518  1.705832  1.705832   26550           None\n",
      "1994-03-30  1.671716  1.694460  1.666030  1.694460  276300           None\n",
      "1994-03-31  1.631912  1.677401  1.631912  1.671715  419400           None\n",
      "1994-04-04  1.626226  1.637598  1.609168  1.620540   93150           None\n"
     ]
    },
    {
     "name": "stderr",
     "output_type": "stream",
     "text": [
      "[*********************100%***********************]  1 of 1 completed\n",
      "[*********************100%***********************]  1 of 1 completed"
     ]
    },
    {
     "name": "stdout",
     "output_type": "stream",
     "text": [
      "Data for KMI saved as KMI_30_years.csv\n",
      "Price           Close       High        Low       Open    Volume  \\\n",
      "Ticker            KMI        KMI        KMI        KMI       KMI   \n",
      "Date                                                               \n",
      "2011-02-11  15.752398  16.305381  15.600202  16.082160  50610600   \n",
      "2011-02-14  15.574831  15.879224  15.574831  15.752393   6275900   \n",
      "2011-02-15  15.696589  15.803126  15.590050  15.676295   4337800   \n",
      "2011-02-16  15.584989  15.950262  15.554549  15.752405   4627100   \n",
      "2011-02-17  15.498737  15.772693  15.478445  15.564690   3290700   \n",
      "\n",
      "Price      News_Sentiment  \n",
      "Ticker                     \n",
      "Date                       \n",
      "2011-02-11           None  \n",
      "2011-02-14           None  \n",
      "2011-02-15           None  \n",
      "2011-02-16           None  \n",
      "2011-02-17           None  \n"
     ]
    },
    {
     "name": "stderr",
     "output_type": "stream",
     "text": [
      "\n"
     ]
    },
    {
     "name": "stdout",
     "output_type": "stream",
     "text": [
      "Data for KKR saved as KKR_30_years.csv\n",
      "Price          Close      High       Low      Open   Volume News_Sentiment\n",
      "Ticker           KKR       KKR       KKR       KKR      KKR               \n",
      "Date                                                                      \n",
      "2010-07-15  5.880153  6.387461  5.880153  6.053099  8791400           None\n",
      "2010-07-16  5.586143  5.955093  5.418962  5.908975   428400           None\n",
      "2010-07-19  5.643793  5.747561  5.580380  5.736031   272600           None\n",
      "2010-07-20  5.332491  5.868623  5.090367  5.868623  3116500           None\n",
      "2010-07-21  5.073071  5.355549  4.980834  5.338255   746800           None\n"
     ]
    },
    {
     "name": "stderr",
     "output_type": "stream",
     "text": [
      "[*********************100%***********************]  1 of 1 completed\n"
     ]
    },
    {
     "name": "stdout",
     "output_type": "stream",
     "text": [
      "Data for KLAC saved as KLAC_30_years.csv\n",
      "Price          Close      High       Low      Open   Volume News_Sentiment\n",
      "Ticker          KLAC      KLAC      KLAC      KLAC     KLAC               \n",
      "Date                                                                      \n",
      "1994-03-28  4.582569  5.227768  4.532938  5.194681  6649200           None\n",
      "1994-03-29  4.698375  4.830723  4.499852  4.499852  3284800           None\n",
      "1994-03-30  4.599115  4.731464  4.599115  4.665290  2075600           None\n",
      "1994-03-31  4.731462  4.797636  4.599113  4.665287  1602800           None\n",
      "1994-04-04  4.896898  4.929985  4.615657  4.665288  3225200           None\n"
     ]
    },
    {
     "name": "stderr",
     "output_type": "stream",
     "text": [
      "[*********************100%***********************]  1 of 1 completed\n"
     ]
    },
    {
     "name": "stdout",
     "output_type": "stream",
     "text": [
      "Data for KHC saved as KHC_30_years.csv\n",
      "Price           Close       High        Low       Open   Volume News_Sentiment\n",
      "Ticker            KHC        KHC        KHC        KHC      KHC               \n",
      "Date                                                                          \n",
      "2015-07-06  48.088299  48.964910  46.796454  46.796454  3809700           None\n",
      "2015-07-07  49.188988  49.241717  48.088284  48.595797  5794300           None\n",
      "2015-07-08  49.696507  49.762416  48.800124  48.971492  4276600           None\n",
      "2015-07-09  49.301029  50.794560  49.103296  50.401733  4267100           None\n",
      "2015-07-10  50.955395  51.278360  49.432864  49.465821  4983000           None\n"
     ]
    },
    {
     "name": "stderr",
     "output_type": "stream",
     "text": [
      "[*********************100%***********************]  1 of 1 completed\n"
     ]
    },
    {
     "name": "stdout",
     "output_type": "stream",
     "text": [
      "Data for KR saved as KR_30_years.csv\n",
      "Price          Close      High       Low      Open   Volume News_Sentiment\n",
      "Ticker            KR        KR        KR        KR       KR               \n",
      "Date                                                                      \n",
      "1994-03-28  2.222794  2.267474  2.211624  2.256304  1884800           None\n",
      "1994-03-29  2.200455  2.245134  2.178115  2.233964  2747200           None\n",
      "1994-03-30  2.155775  2.200455  2.099926  2.200455  4156800           None\n",
      "1994-03-31  2.133437  2.155776  2.111097  2.144607  4011200           None\n",
      "1994-04-04  2.099927  2.111097  2.055247  2.099927  5226400           None\n"
     ]
    },
    {
     "name": "stderr",
     "output_type": "stream",
     "text": [
      "[*********************100%***********************]  1 of 1 completed\n"
     ]
    },
    {
     "name": "stdout",
     "output_type": "stream",
     "text": [
      "Data for LHX saved as LHX_30_years.csv\n",
      "Price          Close      High       Low      Open  Volume News_Sentiment\n",
      "Ticker           LHX       LHX       LHX       LHX     LHX               \n",
      "Date                                                                     \n",
      "1994-03-28  5.277354  5.473330  5.263356  5.473330  612193           None\n",
      "1994-03-29  5.137373  5.305353  5.123375  5.305353  895428           None\n",
      "1994-03-30  5.081381  5.137375  4.997392  5.137375  996190           None\n",
      "1994-03-31  5.277354  5.277354  5.025385  5.067380  961050           None\n",
      "1994-04-04  5.123377  5.193369  5.067384  5.193369  297629           None\n"
     ]
    },
    {
     "name": "stderr",
     "output_type": "stream",
     "text": [
      "[*********************100%***********************]  1 of 1 completed\n"
     ]
    },
    {
     "name": "stdout",
     "output_type": "stream",
     "text": [
      "Data for LH saved as LH_30_years.csv\n",
      "Price           Close       High        Low       Open  Volume News_Sentiment\n",
      "Ticker             LH         LH         LH         LH      LH               \n",
      "Date                                                                         \n",
      "1994-03-28  28.018682  28.275736  27.761630  28.018682  183633           None\n",
      "1994-03-29  27.925594  28.184165  27.925594  27.925594  253333           None\n",
      "1994-03-30  27.925594  28.184165  27.408456  27.925594  224885           None\n",
      "1994-03-31  27.667030  27.925599  26.632747  27.667030  177161           None\n",
      "1994-04-04  26.115602  27.667026  25.857032  27.408456  115143           None\n"
     ]
    },
    {
     "name": "stderr",
     "output_type": "stream",
     "text": [
      "[*********************100%***********************]  1 of 1 completed\n",
      "[*********************100%***********************]  1 of 1 completed"
     ]
    },
    {
     "name": "stdout",
     "output_type": "stream",
     "text": [
      "Data for LRCX saved as LRCX_30_years.csv\n",
      "Price          Close      High       Low      Open    Volume News_Sentiment\n",
      "Ticker          LRCX      LRCX      LRCX      LRCX      LRCX               \n",
      "Date                                                                       \n",
      "1994-03-28  0.500855  0.540924  0.500855  0.540924  23742000           None\n",
      "1994-03-29  0.468800  0.516882  0.468800  0.512876   9816000           None\n",
      "1994-03-30  0.468800  0.472807  0.444759  0.468800  21861000           None\n",
      "1994-03-31  0.496848  0.504862  0.472807  0.480821  28974000           None\n",
      "1994-04-04  0.484828  0.500855  0.472807  0.476814   7335000           None\n",
      "Data for LW saved as LW_30_years.csv\n",
      "Price           Close       High        Low       Open    Volume  \\\n",
      "Ticker             LW         LW         LW         LW        LW   \n",
      "Date                                                               \n",
      "2016-11-10  26.994339  28.792180  26.540428  28.516276  35019100   \n",
      "2016-11-11  26.602724  26.780729  25.677103  26.522622   6020100   \n",
      "2016-11-14  26.869730  27.083335  25.588099  26.113212   4481900   \n",
      "2016-11-15  27.083342  27.323648  26.362425  26.380224   3667200   \n",
      "2016-11-16  28.213663  28.516270  27.243540  27.385943   4342300   \n",
      "\n",
      "Price      News_Sentiment  \n",
      "Ticker                     \n",
      "Date                       \n",
      "2016-11-10           None  \n",
      "2016-11-11           None  \n",
      "2016-11-14           None  \n",
      "2016-11-15           None  \n",
      "2016-11-16           None  \n"
     ]
    },
    {
     "name": "stderr",
     "output_type": "stream",
     "text": [
      "\n",
      "[*********************100%***********************]  1 of 1 completed\n"
     ]
    },
    {
     "name": "stdout",
     "output_type": "stream",
     "text": [
      "Data for LVS saved as LVS_30_years.csv\n",
      "Price           Close       High        Low       Open    Volume  \\\n",
      "Ticker            LVS        LVS        LVS        LVS       LVS   \n",
      "Date                                                               \n",
      "2004-12-15  30.108809  31.977675  26.933674  27.095341  26246300   \n",
      "2004-12-16  31.757820  32.721353  30.975354  31.104685   7778200   \n",
      "2004-12-17  34.273350  34.435017  31.111149  31.757816   4755800   \n",
      "2004-12-20  31.428009  34.907077  31.253411  34.079345   6098000   \n",
      "2004-12-21  30.639076  31.803076  29.488008  31.428008   3209500   \n",
      "\n",
      "Price      News_Sentiment  \n",
      "Ticker                     \n",
      "Date                       \n",
      "2004-12-15           None  \n",
      "2004-12-16           None  \n",
      "2004-12-17           None  \n",
      "2004-12-20           None  \n",
      "2004-12-21           None  \n"
     ]
    },
    {
     "name": "stderr",
     "output_type": "stream",
     "text": [
      "[*********************100%***********************]  1 of 1 completed\n"
     ]
    },
    {
     "name": "stdout",
     "output_type": "stream",
     "text": [
      "Data for LDOS saved as LDOS_30_years.csv\n",
      "Price           Close       High        Low       Open   Volume News_Sentiment\n",
      "Ticker           LDOS       LDOS       LDOS       LDOS     LDOS               \n",
      "Date                                                                          \n",
      "2006-10-17  22.541159  22.679141  22.152303  22.666597  1741338           None\n",
      "2006-10-18  22.164846  22.879841  22.064495  22.879841  1484487           None\n",
      "2006-10-19  21.663095  22.315372  21.587833  22.164847  1481774           None\n",
      "2006-10-20  22.390627  22.453347  21.638002  21.826158  1440342           None\n",
      "2006-10-23  22.315369  22.704225  22.139755  22.704225  1152306           None\n"
     ]
    },
    {
     "name": "stderr",
     "output_type": "stream",
     "text": [
      "[*********************100%***********************]  1 of 1 completed\n"
     ]
    },
    {
     "name": "stdout",
     "output_type": "stream",
     "text": [
      "Data for LEN saved as LEN_30_years.csv\n",
      "Price          Close      High       Low      Open  Volume News_Sentiment\n",
      "Ticker           LEN       LEN       LEN       LEN     LEN               \n",
      "Date                                                                     \n",
      "1994-03-28  2.719099  2.759835  2.688548  2.759835  684230           None\n",
      "1994-03-29  2.698731  2.759835  2.698731  2.729283  421695           None\n",
      "1994-03-30  2.576526  2.678365  2.576526  2.678365  639792           None\n",
      "1994-03-31  2.525605  2.566341  2.484870  2.566341  632543           None\n",
      "1994-04-04  2.474686  2.505238  2.454319  2.505238  509942           None\n"
     ]
    },
    {
     "name": "stderr",
     "output_type": "stream",
     "text": [
      "[*********************100%***********************]  1 of 1 completed\n"
     ]
    },
    {
     "name": "stdout",
     "output_type": "stream",
     "text": [
      "Data for LII saved as LII_30_years.csv\n",
      "Price           Close       High        Low       Open   Volume News_Sentiment\n",
      "Ticker            LII        LII        LII        LII      LII               \n",
      "Date                                                                          \n",
      "1999-07-29  12.052681  12.775842  12.052681  12.293735  4780800           None\n",
      "1999-07-30  12.333910  12.333910  11.972330  12.213383  1036200           None\n",
      "1999-08-02  12.052681  12.213383  12.052681  12.213383   168800           None\n",
      "1999-08-03  12.052681  12.092857  11.731276  12.052681   246200           None\n",
      "1999-08-04  11.972330  12.052681  11.650925  12.052681   178200           None\n"
     ]
    },
    {
     "name": "stderr",
     "output_type": "stream",
     "text": [
      "[*********************100%***********************]  1 of 1 completed\n"
     ]
    },
    {
     "name": "stdout",
     "output_type": "stream",
     "text": [
      "Data for LLY saved as LLY_30_years.csv\n",
      "Price          Close      High       Low      Open   Volume News_Sentiment\n",
      "Ticker           LLY       LLY       LLY       LLY      LLY               \n",
      "Date                                                                      \n",
      "1994-03-28  5.677523  5.718764  5.677523  5.705017  1778800           None\n",
      "1994-03-29  5.608789  5.746260  5.595042  5.677525  1650000           None\n",
      "1994-03-30  5.471318  5.636282  5.471318  5.608788  2827200           None\n",
      "1994-03-31  5.485066  5.498813  5.333849  5.485066  5506400           None\n",
      "1994-04-04  5.430077  5.471318  5.347595  5.388836  1760400           None\n"
     ]
    },
    {
     "name": "stderr",
     "output_type": "stream",
     "text": [
      "[*********************100%***********************]  1 of 1 completed\n",
      "[*********************100%***********************]  1 of 1 completed"
     ]
    },
    {
     "name": "stdout",
     "output_type": "stream",
     "text": [
      "Data for LIN saved as LIN_30_years.csv\n",
      "Price          Close      High       Low      Open   Volume News_Sentiment\n",
      "Ticker           LIN       LIN       LIN       LIN      LIN               \n",
      "Date                                                                      \n",
      "1994-03-28  5.588633  5.662654  5.551622  5.625643  1566000           None\n",
      "1994-03-29  5.329558  5.588634  5.329558  5.588634  1531400           None\n",
      "1994-03-30  5.366567  5.477600  5.255535  5.329556  1589800           None\n",
      "1994-03-31  5.144502  5.366567  4.885427  5.329556  1561000           None\n",
      "1994-04-04  5.144502  5.181513  4.848416  4.922437   920800           None\n"
     ]
    },
    {
     "name": "stderr",
     "output_type": "stream",
     "text": [
      "\n"
     ]
    },
    {
     "name": "stdout",
     "output_type": "stream",
     "text": [
      "Data for LYV saved as LYV_30_years.csv\n",
      "Price       Close   High    Low   Open   Volume News_Sentiment\n",
      "Ticker        LYV    LYV    LYV    LYV      LYV               \n",
      "Date                                                          \n",
      "2005-12-21  10.85  11.05  10.55  11.00  5796900           None\n",
      "2005-12-22  10.60  11.12  10.59  10.60  4152500           None\n",
      "2005-12-23  11.95  12.78  10.90  10.90  8844700           None\n",
      "2005-12-27  12.50  12.79  12.13  12.20  3324100           None\n",
      "2005-12-28  13.30  14.00  12.25  12.25  3187700           None\n"
     ]
    },
    {
     "name": "stderr",
     "output_type": "stream",
     "text": [
      "[*********************100%***********************]  1 of 1 completed\n"
     ]
    },
    {
     "name": "stdout",
     "output_type": "stream",
     "text": [
      "Data for LKQ saved as LKQ_30_years.csv\n",
      "Price          Close      High       Low      Open   Volume News_Sentiment\n",
      "Ticker           LKQ       LKQ       LKQ       LKQ      LKQ               \n",
      "Date                                                                      \n",
      "2003-10-06  1.820122  1.831649  1.732516  1.748654  3068800           None\n",
      "2003-10-07  1.873146  1.913491  1.803984  1.803984  3391200           None\n",
      "2003-10-08  1.855856  1.884673  1.821274  1.884673  3191200           None\n",
      "2003-10-09  1.798220  1.855855  1.798220  1.833954  1222400           None\n",
      "2003-10-10  1.777471  1.837412  1.746348  1.798220  2668000           None\n"
     ]
    },
    {
     "name": "stderr",
     "output_type": "stream",
     "text": [
      "[*********************100%***********************]  1 of 1 completed\n"
     ]
    },
    {
     "name": "stdout",
     "output_type": "stream",
     "text": [
      "Data for LMT saved as LMT_30_years.csv\n",
      "Price          Close      High       Low      Open  Volume News_Sentiment\n",
      "Ticker           LMT       LMT       LMT       LMT     LMT               \n",
      "Date                                                                     \n",
      "1994-03-28  9.571460  9.571460  9.482506  9.500297  400002           None\n",
      "1994-03-29  9.500299  9.571462  9.482508  9.553671  385984           None\n",
      "1994-03-30  9.162271  9.393551  9.144480  9.393551  881830           None\n",
      "1994-03-31  9.144482  9.215645  8.699711  9.180063  292748           None\n",
      "1994-04-04  8.948782  8.984363  8.859828  8.895410  318502           None\n"
     ]
    },
    {
     "name": "stderr",
     "output_type": "stream",
     "text": [
      "[*********************100%***********************]  1 of 1 completed\n"
     ]
    },
    {
     "name": "stdout",
     "output_type": "stream",
     "text": [
      "Data for L saved as L_30_years.csv\n",
      "Price          Close      High       Low      Open   Volume News_Sentiment\n",
      "Ticker             L         L         L         L        L               \n",
      "Date                                                                      \n",
      "1994-03-28  6.062033  6.119068  6.045737  6.119068   819600           None\n",
      "1994-03-29  5.956111  6.045738  5.956111  6.045738  1035600           None\n",
      "1994-03-30  5.899075  5.931666  5.817595  5.931666  8151600           None\n",
      "1994-03-31  5.850189  5.899076  5.817597  5.890928  2176800           None\n",
      "1994-04-04  5.809448  5.817596  5.776857  5.801301  3034800           None\n"
     ]
    },
    {
     "name": "stderr",
     "output_type": "stream",
     "text": [
      "[*********************100%***********************]  1 of 1 completed\n"
     ]
    },
    {
     "name": "stdout",
     "output_type": "stream",
     "text": [
      "Data for LOW saved as LOW_30_years.csv\n",
      "Price          Close      High       Low      Open   Volume News_Sentiment\n",
      "Ticker           LOW       LOW       LOW       LOW      LOW               \n",
      "Date                                                                      \n",
      "1994-03-28  2.814916  2.820309  2.760991  2.820309  4478400           None\n",
      "1994-03-29  2.809525  2.831095  2.744814  2.787955  5969600           None\n",
      "1994-03-30  2.814916  2.841880  2.766384  2.814916  6990400           None\n",
      "1994-03-31  2.782561  2.831095  2.707065  2.820310  8835200           None\n",
      "1994-04-04  2.739423  2.771778  2.577646  2.728637  4832000           None\n"
     ]
    },
    {
     "name": "stderr",
     "output_type": "stream",
     "text": [
      "[*********************100%***********************]  1 of 1 completed\n"
     ]
    },
    {
     "name": "stdout",
     "output_type": "stream",
     "text": [
      "Data for LULU saved as LULU_30_years.csv\n",
      "Price        Close       High     Low   Open    Volume News_Sentiment\n",
      "Ticker        LULU       LULU    LULU   LULU      LULU               \n",
      "Date                                                                 \n",
      "2007-07-27  14.000  14.320000  12.460  12.50  29257200           None\n",
      "2007-07-30  14.990  15.925000  14.180  14.43   5767200           None\n",
      "2007-07-31  16.070  17.084999  15.105  16.00   4441600           None\n",
      "2007-08-01  15.540  16.625000  15.200  16.49   3063600           None\n",
      "2007-08-02  16.525  16.915001  15.990  16.00   1969400           None\n"
     ]
    },
    {
     "name": "stderr",
     "output_type": "stream",
     "text": [
      "[*********************100%***********************]  1 of 1 completed\n"
     ]
    },
    {
     "name": "stdout",
     "output_type": "stream",
     "text": [
      "Data for LYB saved as LYB_30_years.csv\n",
      "Price           Close       High       Low       Open   Volume News_Sentiment\n",
      "Ticker            LYB        LYB       LYB        LYB      LYB               \n",
      "Date                                                                         \n",
      "2010-04-28   9.693977   9.804136  9.561787   9.804136  5244400           None\n",
      "2010-04-29  10.134615  10.244774  9.649916   9.693980  8773600           None\n",
      "2010-04-30   9.826170  10.134615  9.804139  10.112584  1644400           None\n",
      "2010-05-03  10.046488  10.112584  9.980393  10.024456  3302700           None\n",
      "2010-05-04   9.473661  10.046487  9.473661  10.046487  2276500           None\n"
     ]
    },
    {
     "name": "stderr",
     "output_type": "stream",
     "text": [
      "[*********************100%***********************]  1 of 1 completed\n",
      "[*********************100%***********************]  1 of 1 completed"
     ]
    },
    {
     "name": "stdout",
     "output_type": "stream",
     "text": [
      "Data for MTB saved as MTB_30_years.csv\n",
      "Price          Close      High       Low      Open Volume News_Sentiment\n",
      "Ticker           MTB       MTB       MTB       MTB    MTB               \n",
      "Date                                                                    \n",
      "1994-03-28  6.800887  6.800887  6.800887  6.800887      0           None\n",
      "1994-03-29  6.806957  6.806957  6.806957  6.806957   2000           None\n",
      "1994-03-30  6.800887  6.800887  6.800887  6.800887   1000           None\n",
      "1994-03-31  6.764456  6.825178  6.764456  6.825178  21000           None\n",
      "1994-04-04  6.703730  6.752307  6.679441  6.752307  10000           None\n"
     ]
    },
    {
     "name": "stderr",
     "output_type": "stream",
     "text": [
      "\n"
     ]
    },
    {
     "name": "stdout",
     "output_type": "stream",
     "text": [
      "Data for MPC saved as MPC_30_years.csv\n",
      "Price           Close       High        Low       Open   Volume News_Sentiment\n",
      "Ticker            MPC        MPC        MPC        MPC      MPC               \n",
      "Date                                                                          \n",
      "2011-06-24  12.491398  13.128543  12.353909  12.994407  1675400           None\n",
      "2011-06-27  12.625531  12.726133  12.270071  12.303604   895200           None\n",
      "2011-06-28  12.977636  13.410225  12.642297  12.856914  4151800           None\n",
      "2011-06-29  13.437055  13.738861  12.977640  13.078241  3695200           None\n",
      "2011-06-30  13.883051  14.084254  13.473936  13.638252  3025600           None\n"
     ]
    },
    {
     "name": "stderr",
     "output_type": "stream",
     "text": [
      "[*********************100%***********************]  1 of 1 completed\n"
     ]
    },
    {
     "name": "stdout",
     "output_type": "stream",
     "text": [
      "Data for MKTX saved as MKTX_30_years.csv\n",
      "Price           Close       High        Low       Open   Volume News_Sentiment\n",
      "Ticker           MKTX       MKTX       MKTX       MKTX     MKTX               \n",
      "Date                                                                          \n",
      "2004-11-05  14.885607  14.987739  10.851429  10.851429  8150300           None\n",
      "2004-11-08  15.915431  16.068626  14.043027  14.579214  1113400           None\n",
      "2004-11-09  15.804786  16.681411  14.740920  15.949472   521600           None\n",
      "2004-11-10  17.149511  18.077202  15.336685  15.617546   709500           None\n",
      "2004-11-11  17.872948  20.775174  17.336760  17.617621  1757100           None\n"
     ]
    },
    {
     "name": "stderr",
     "output_type": "stream",
     "text": [
      "[*********************100%***********************]  1 of 1 completed\n"
     ]
    },
    {
     "name": "stdout",
     "output_type": "stream",
     "text": [
      "Data for MAR saved as MAR_30_years.csv\n",
      "Price           Close       High        Low       Open  Volume News_Sentiment\n",
      "Ticker            MAR        MAR        MAR        MAR     MAR               \n",
      "Date                                                                         \n",
      "1998-03-23  13.122768  13.122768  13.122768  13.122768    1073           None\n",
      "1998-03-24  13.623976  13.623976  13.305020  13.305020  116711           None\n",
      "1998-03-25  13.829022  13.829022  13.669544  13.806240   27891           None\n",
      "1998-03-26  13.760682  13.760682  13.601204  13.737899   76163           None\n",
      "1998-03-27  13.441716  13.715107  13.259455  13.715107  847444           None\n"
     ]
    },
    {
     "name": "stderr",
     "output_type": "stream",
     "text": [
      "[*********************100%***********************]  1 of 1 completed\n"
     ]
    },
    {
     "name": "stdout",
     "output_type": "stream",
     "text": [
      "Data for MMC saved as MMC_30_years.csv\n",
      "Price          Close      High       Low      Open   Volume News_Sentiment\n",
      "Ticker           MMC       MMC       MMC       MMC      MMC               \n",
      "Date                                                                      \n",
      "1994-03-28  6.653019  6.672674  6.623538  6.623538   487200           None\n",
      "1994-03-29  6.633364  6.682500  6.623537  6.682500   659400           None\n",
      "1994-03-30  6.535091  6.623536  6.495782  6.613708   778200           None\n",
      "1994-03-31  6.525263  6.554744  6.495781  6.535090   582000           None\n",
      "1994-04-04  6.397509  6.466299  6.387682  6.426990  1059600           None\n"
     ]
    },
    {
     "name": "stderr",
     "output_type": "stream",
     "text": [
      "[*********************100%***********************]  1 of 1 completed\n"
     ]
    },
    {
     "name": "stdout",
     "output_type": "stream",
     "text": [
      "Data for MLM saved as MLM_30_years.csv\n",
      "Price           Close       High        Low       Open  Volume News_Sentiment\n",
      "Ticker            MLM        MLM        MLM        MLM     MLM               \n",
      "Date                                                                         \n",
      "1994-03-28  15.957529  16.123753  15.791305  16.123753   67900           None\n",
      "1994-03-29  14.960185  15.957531  14.960185  15.874419  174400           None\n",
      "1994-03-30  14.710853  14.793965  14.627740  14.793965  198000           None\n",
      "1994-03-31  14.627738  14.877074  14.295289  14.793962  201000           None\n",
      "1994-04-04  14.295293  14.378405  13.962844  14.378405  206600           None\n"
     ]
    },
    {
     "name": "stderr",
     "output_type": "stream",
     "text": [
      "[*********************100%***********************]  1 of 1 completed\n"
     ]
    },
    {
     "name": "stdout",
     "output_type": "stream",
     "text": [
      "Data for MAS saved as MAS_30_years.csv\n",
      "Price          Close      High       Low      Open   Volume News_Sentiment\n",
      "Ticker           MAS       MAS       MAS       MAS      MAS               \n",
      "Date                                                                      \n",
      "1994-03-28  7.547361  7.547361  7.380875  7.519614   834609           None\n",
      "1994-03-29  7.075651  7.491865  7.075651  7.464118   857824           None\n",
      "1994-03-30  6.936910  7.186639  6.936910  7.075648  1595931           None\n",
      "1994-03-31  6.992405  7.020153  6.881415  6.936910  1003261           None\n",
      "1994-04-04  6.946653  7.030347  6.862958  6.918755  1283892           None\n"
     ]
    },
    {
     "name": "stderr",
     "output_type": "stream",
     "text": [
      "[*********************100%***********************]  1 of 1 completed\n"
     ]
    },
    {
     "name": "stdout",
     "output_type": "stream",
     "text": [
      "Data for MA saved as MA_30_years.csv\n",
      "Price          Close      High       Low      Open     Volume News_Sentiment\n",
      "Ticker            MA        MA        MA        MA         MA               \n",
      "Date                                                                        \n",
      "2006-05-25  4.197982  4.202545  3.668671  3.677797  395343000           None\n",
      "2006-05-26  4.100336  4.265517  4.025502  4.225363  103044000           None\n",
      "2006-05-30  4.015463  4.104898  3.910513  4.103986   49898000           None\n",
      "2006-05-31  4.101248  4.139578  4.047405  4.047405   30002000           None\n",
      "2006-06-01  4.335787  4.389631  4.097597  4.100335   62344000           None\n"
     ]
    },
    {
     "name": "stderr",
     "output_type": "stream",
     "text": [
      "[*********************100%***********************]  1 of 1 completed\n"
     ]
    },
    {
     "name": "stdout",
     "output_type": "stream",
     "text": [
      "Data for MTCH saved as MTCH_30_years.csv\n",
      "Price          Close      High       Low      Open   Volume News_Sentiment\n",
      "Ticker          MTCH      MTCH      MTCH      MTCH     MTCH               \n",
      "Date                                                                      \n",
      "1994-03-28  0.687672  0.736792  0.605807  0.622179  2516816           None\n",
      "1994-03-29  0.769538  0.867776  0.761351  0.769538  2694524           None\n",
      "1994-03-30  0.777725  0.802284  0.736792  0.785911   703610           None\n",
      "1994-03-31  0.736792  0.802284  0.736792  0.802284   366975           None\n",
      "1994-04-04  0.679486  0.736792  0.671299  0.736792   437770           None\n"
     ]
    },
    {
     "name": "stderr",
     "output_type": "stream",
     "text": [
      "[*********************100%***********************]  1 of 1 completed\n"
     ]
    },
    {
     "name": "stdout",
     "output_type": "stream",
     "text": [
      "Data for MKC saved as MKC_30_years.csv\n",
      "Price          Close      High       Low      Open   Volume News_Sentiment\n",
      "Ticker           MKC       MKC       MKC       MKC      MKC               \n",
      "Date                                                                      \n",
      "1994-03-28  2.886591  2.952195  2.853789  2.886591   852400           None\n",
      "1994-03-29  2.886591  2.919393  2.853789  2.919393  1271200           None\n",
      "1994-03-30  2.902993  2.919394  2.820987  2.820987   362000           None\n",
      "1994-03-31  2.853790  2.952196  2.820987  2.886592  1658000           None\n",
      "1994-04-04  2.656975  2.853788  2.624173  2.820986  1224000           None\n"
     ]
    },
    {
     "name": "stderr",
     "output_type": "stream",
     "text": [
      "[*********************100%***********************]  1 of 1 completed\n"
     ]
    },
    {
     "name": "stdout",
     "output_type": "stream",
     "text": [
      "Data for MCD saved as MCD_30_years.csv\n",
      "Price          Close      High       Low      Open   Volume News_Sentiment\n",
      "Ticker           MCD       MCD       MCD       MCD      MCD               \n",
      "Date                                                                      \n",
      "1994-03-28  7.653018  7.701867  7.555320  7.604169  2119600           None\n",
      "1994-03-29  7.522756  7.653020  7.457624  7.620454  4122400           None\n",
      "1994-03-30  7.262225  7.587885  7.229659  7.522753  7917200           None\n",
      "1994-03-31  7.408771  7.441337  7.099394  7.294790  5950400           None\n",
      "1994-04-04  7.441339  7.539037  7.197093  7.229659  4989600           None\n"
     ]
    },
    {
     "name": "stderr",
     "output_type": "stream",
     "text": [
      "[*********************100%***********************]  1 of 1 completed\n"
     ]
    },
    {
     "name": "stdout",
     "output_type": "stream",
     "text": [
      "Data for MCK saved as MCK_30_years.csv\n",
      "Price           Close       High        Low       Open  Volume News_Sentiment\n",
      "Ticker            MCK        MCK        MCK        MCK     MCK               \n",
      "Date                                                                         \n",
      "1994-11-10  12.627608  12.818936  12.627608  12.818936  728000           None\n",
      "1994-11-11  12.579776  12.627608  12.579776  12.579776  151800           None\n",
      "1994-11-14  12.531946  12.579778  12.531946  12.579778   36800           None\n",
      "1994-11-15  12.436283  12.531947  12.436283  12.531947  114800           None\n",
      "1994-11-16  12.436283  12.531947  12.436283  12.484115  751200           None\n"
     ]
    },
    {
     "name": "stderr",
     "output_type": "stream",
     "text": [
      "[*********************100%***********************]  1 of 1 completed\n"
     ]
    },
    {
     "name": "stdout",
     "output_type": "stream",
     "text": [
      "Data for MDT saved as MDT_30_years.csv\n",
      "Price          Close      High       Low      Open   Volume News_Sentiment\n",
      "Ticker           MDT       MDT       MDT       MDT      MDT               \n",
      "Date                                                                      \n",
      "1994-03-28  3.131608  3.193953  3.126812  3.169974  6080000           None\n",
      "1994-03-29  3.126813  3.165179  3.107630  3.126813  5025600           None\n",
      "1994-03-30  3.117219  3.174768  3.112424  3.126811  3945600           None\n",
      "1994-03-31  3.069264  3.107630  2.992533  3.107630  4020800           None\n",
      "1994-04-04  2.902785  3.013322  2.893173  3.008516  4763200           None\n"
     ]
    },
    {
     "name": "stderr",
     "output_type": "stream",
     "text": [
      "[*********************100%***********************]  1 of 1 completed\n"
     ]
    },
    {
     "name": "stdout",
     "output_type": "stream",
     "text": [
      "Data for MRK saved as MRK_30_years.csv\n",
      "Price          Close      High       Low      Open   Volume News_Sentiment\n",
      "Ticker           MRK       MRK       MRK       MRK      MRK               \n",
      "Date                                                                      \n",
      "1994-03-28  5.152956  5.152956  5.089339  5.152956  4526312           None\n",
      "1994-03-29  5.110543  5.195365  5.089337  5.152954  5246498           None\n",
      "1994-03-30  5.004516  5.131749  5.004516  5.131749  8783078           None\n",
      "1994-03-31  5.046927  5.068133  4.877283  5.004516  9476854           None\n",
      "1994-04-04  4.940901  5.046929  4.856079  4.898490  9862099           None\n"
     ]
    },
    {
     "name": "stderr",
     "output_type": "stream",
     "text": [
      "[*********************100%***********************]  1 of 1 completed\n"
     ]
    },
    {
     "name": "stdout",
     "output_type": "stream",
     "text": [
      "Data for META saved as META_30_years.csv\n",
      "Price           Close       High        Low       Open     Volume  \\\n",
      "Ticker           META       META       META       META       META   \n",
      "Date                                                                \n",
      "2012-05-18  38.050671  44.788914  37.821750  41.852752  573576400   \n",
      "2012-05-21  33.870369  36.488033  32.845202  36.358642  168192700   \n",
      "2012-05-22  30.854584  33.432435  30.794866  32.457032  101786600   \n",
      "2012-05-23  31.849892  32.347546  31.212894  31.222848   73600000   \n",
      "2012-05-24  32.875057  33.054213  31.620969  32.795434   50237200   \n",
      "\n",
      "Price      News_Sentiment  \n",
      "Ticker                     \n",
      "Date                       \n",
      "2012-05-18           None  \n",
      "2012-05-21           None  \n",
      "2012-05-22           None  \n",
      "2012-05-23           None  \n",
      "2012-05-24           None  \n"
     ]
    },
    {
     "name": "stderr",
     "output_type": "stream",
     "text": [
      "[*********************100%***********************]  1 of 1 completed\n"
     ]
    },
    {
     "name": "stdout",
     "output_type": "stream",
     "text": [
      "Data for MET saved as MET_30_years.csv\n",
      "Price          Close      High       Low      Open    Volume News_Sentiment\n",
      "Ticker           MET       MET       MET       MET       MET               \n",
      "Date                                                                       \n",
      "2000-04-05  7.781487  7.906994  7.185324  7.279455  77084766           None\n",
      "2000-04-06  7.812865  7.969750  7.655980  7.718734  17167722           None\n",
      "2000-04-07  7.687356  7.812864  7.593226  7.718734  15131516           None\n",
      "2000-04-10  7.750111  7.781488  7.655979  7.750111   6324938           None\n",
      "2000-04-11  7.593223  7.718730  7.561846  7.687353   6087860           None\n"
     ]
    },
    {
     "name": "stderr",
     "output_type": "stream",
     "text": [
      "[*********************100%***********************]  1 of 1 completed\n"
     ]
    },
    {
     "name": "stdout",
     "output_type": "stream",
     "text": [
      "Data for MTD saved as MTD_30_years.csv\n",
      "Price        Close    High      Low     Open   Volume News_Sentiment\n",
      "Ticker         MTD     MTD      MTD      MTD      MTD               \n",
      "Date                                                                \n",
      "1997-11-14  14.875  15.250  14.0625  14.0625  2233500           None\n",
      "1997-11-17  15.250  15.750  15.0000  15.7500   515000           None\n",
      "1997-11-18  15.000  15.500  15.0000  15.4375   257300           None\n",
      "1997-11-19  15.625  15.625  14.7500  15.0000   270100           None\n",
      "1997-11-20  16.375  16.375  15.5000  15.5000   185500           None\n"
     ]
    },
    {
     "name": "stderr",
     "output_type": "stream",
     "text": [
      "[*********************100%***********************]  1 of 1 completed\n"
     ]
    },
    {
     "name": "stdout",
     "output_type": "stream",
     "text": [
      "Data for MGM saved as MGM_30_years.csv\n",
      "Price          Close      High       Low      Open  Volume News_Sentiment\n",
      "Ticker           MGM       MGM       MGM       MGM     MGM               \n",
      "Date                                                                     \n",
      "1994-03-28  7.073273  7.190671  7.043923  7.102622  468800           None\n",
      "1994-03-29  6.897172  7.043921  6.897172  7.043921  726000           None\n",
      "1994-03-30  6.603677  6.867824  6.544978  6.867824  882400           None\n",
      "1994-03-31  6.515628  6.662376  6.456929  6.603677  529200           None\n",
      "1994-04-04  6.251481  6.456929  6.251481  6.339530  430000           None\n"
     ]
    },
    {
     "name": "stderr",
     "output_type": "stream",
     "text": [
      "[*********************100%***********************]  1 of 1 completed\n"
     ]
    },
    {
     "name": "stdout",
     "output_type": "stream",
     "text": [
      "Data for MCHP saved as MCHP_30_years.csv\n",
      "Price          Close      High       Low      Open    Volume News_Sentiment\n",
      "Ticker          MCHP      MCHP      MCHP      MCHP      MCHP               \n",
      "Date                                                                       \n",
      "1994-03-28  0.959611  1.002397  0.898490  0.996284  10821094           None\n",
      "1994-03-29  0.922938  0.959611  0.910714  0.959611   8538413           None\n",
      "1994-03-30  0.913770  0.947386  0.892377  0.910714   5597353           None\n",
      "1994-03-31  0.935162  0.953499  0.898489  0.929050   2881828           None\n",
      "1994-04-04  0.916826  0.922938  0.874041  0.886265   2745141           None\n"
     ]
    },
    {
     "name": "stderr",
     "output_type": "stream",
     "text": [
      "[*********************100%***********************]  1 of 1 completed\n"
     ]
    },
    {
     "name": "stdout",
     "output_type": "stream",
     "text": [
      "Data for MU saved as MU_30_years.csv\n",
      "Price          Close      High       Low      Open    Volume News_Sentiment\n",
      "Ticker            MU        MU        MU        MU        MU               \n",
      "Date                                                                       \n",
      "1994-03-28  8.005639  8.307967  7.715405  8.307967  21917000           None\n",
      "1994-03-29  7.618659  8.150756  7.558193  8.017732  13045000           None\n",
      "1994-03-30  7.787964  8.054012  7.437263  7.606567  16955000           None\n",
      "1994-03-31  8.054008  8.090288  7.521912  7.908892  17732000           None\n",
      "1994-04-04  8.344246  8.368432  7.800056  7.957267  14047000           None\n"
     ]
    },
    {
     "name": "stderr",
     "output_type": "stream",
     "text": [
      "[*********************100%***********************]  1 of 1 completed\n"
     ]
    },
    {
     "name": "stdout",
     "output_type": "stream",
     "text": [
      "Data for MSFT saved as MSFT_30_years.csv\n",
      "Price          Close      High       Low      Open     Volume News_Sentiment\n",
      "Ticker          MSFT      MSFT      MSFT      MSFT       MSFT               \n",
      "Date                                                                        \n",
      "1994-03-28  1.657673  1.688859  1.607295  1.679264  118403200           None\n",
      "1994-03-29  1.583306  1.660072  1.583306  1.660072   78339200           None\n",
      "1994-03-30  1.604897  1.631286  1.583307  1.588105   86860800           None\n",
      "1994-03-31  1.626487  1.645679  1.583306  1.602497   72297600           None\n",
      "1994-04-04  1.621689  1.645679  1.573710  1.583306   73996800           None\n"
     ]
    },
    {
     "name": "stderr",
     "output_type": "stream",
     "text": [
      "[*********************100%***********************]  1 of 1 completed\n",
      "[*********************100%***********************]  1 of 1 completed"
     ]
    },
    {
     "name": "stdout",
     "output_type": "stream",
     "text": [
      "Data for MAA saved as MAA_30_years.csv\n",
      "Price          Close      High       Low      Open Volume News_Sentiment\n",
      "Ticker           MAA       MAA       MAA       MAA    MAA               \n",
      "Date                                                                    \n",
      "1994-03-28  4.126249  4.148197  4.082353  4.148197  11500           None\n",
      "1994-03-29  4.082349  4.192089  4.082349  4.192089   4200           None\n",
      "1994-03-30  4.060406  4.060406  4.038458  4.060406  20600           None\n",
      "1994-03-31  4.060406  4.060406  4.038458  4.038458  14200           None\n",
      "1994-04-04  3.994558  4.060403  3.994558  4.038455  29900           None\n",
      "Data for MRNA saved as MRNA_30_years.csv\n",
      "Price           Close       High    Low       Open    Volume News_Sentiment\n",
      "Ticker           MRNA       MRNA   MRNA       MRNA      MRNA               \n",
      "Date                                                                       \n",
      "2018-12-07  18.600000  22.750000  18.51  22.000000  12995600           None\n",
      "2018-12-10  18.799999  19.438999  18.00  18.900000   4233300           None\n",
      "2018-12-11  18.010000  20.660000  17.99  20.549999   3435300           None\n",
      "2018-12-12  18.680000  19.480000  18.02  18.549999   2590700           None\n",
      "2018-12-13  18.760000  19.290001  18.68  19.250000   1608600           None\n"
     ]
    },
    {
     "name": "stderr",
     "output_type": "stream",
     "text": [
      "\n",
      "[*********************100%***********************]  1 of 1 completed\n"
     ]
    },
    {
     "name": "stdout",
     "output_type": "stream",
     "text": [
      "Data for MHK saved as MHK_30_years.csv\n",
      "Price           Close       High        Low       Open  Volume News_Sentiment\n",
      "Ticker            MHK        MHK        MHK        MHK     MHK               \n",
      "Date                                                                         \n",
      "1994-03-28  18.166668  19.666668  18.000000  19.333332  247500           None\n",
      "1994-03-29  18.166668  18.666668  18.000000  18.166668  121800           None\n",
      "1994-03-30  18.000000  18.666668  18.000000  18.166668  116850           None\n",
      "1994-03-31  18.166668  18.500000  17.666668  18.000000  309150           None\n",
      "1994-04-04  17.666668  17.833332  17.333332  17.666668   88950           None\n"
     ]
    },
    {
     "name": "stderr",
     "output_type": "stream",
     "text": [
      "[*********************100%***********************]  1 of 1 completed\n"
     ]
    },
    {
     "name": "stdout",
     "output_type": "stream",
     "text": [
      "Data for MOH saved as MOH_30_years.csv\n",
      "Price           Close       High        Low       Open   Volume News_Sentiment\n",
      "Ticker            MOH        MOH        MOH        MOH      MOH               \n",
      "Date                                                                          \n",
      "2003-07-02  13.333333  14.160000  13.333333  14.000000  8133000           None\n",
      "2003-07-03  13.733333  13.766667  13.433333  13.566667   434400           None\n",
      "2003-07-07  14.333333  14.333333  13.733333  13.733333  1237950           None\n",
      "2003-07-08  14.633333  15.066667  14.600000  14.800000   955350           None\n",
      "2003-07-09  15.000000  15.000000  14.400000  14.633333   454200           None\n"
     ]
    },
    {
     "name": "stderr",
     "output_type": "stream",
     "text": [
      "[*********************100%***********************]  1 of 1 completed\n"
     ]
    },
    {
     "name": "stdout",
     "output_type": "stream",
     "text": [
      "Data for TAP saved as TAP_30_years.csv\n",
      "Price          Close      High       Low      Open   Volume News_Sentiment\n",
      "Ticker           TAP       TAP       TAP       TAP      TAP               \n",
      "Date                                                                      \n",
      "1994-03-28  4.792158  4.889957  4.726958  4.824757   222000           None\n",
      "1994-03-29  4.824757  4.824757  4.759558  4.759558  1325800           None\n",
      "1994-03-30  4.596558  4.824756  4.596558  4.726957   203000           None\n",
      "1994-03-31  4.726958  4.792158  4.563960  4.596559   196600           None\n",
      "1994-04-04  4.889959  4.987758  4.563962  4.563962   914200           None\n"
     ]
    },
    {
     "name": "stderr",
     "output_type": "stream",
     "text": [
      "[*********************100%***********************]  1 of 1 completed\n",
      "[*********************100%***********************]  1 of 1 completed"
     ]
    },
    {
     "name": "stdout",
     "output_type": "stream",
     "text": [
      "Data for MDLZ saved as MDLZ_30_years.csv\n",
      "Price           Close       High        Low       Open    Volume  \\\n",
      "Ticker           MDLZ       MDLZ       MDLZ       MDLZ      MDLZ   \n",
      "Date                                                               \n",
      "2001-06-13  11.600937  11.879359  11.541540  11.693744  69567200   \n",
      "2001-06-14  11.192576  11.508122  10.951277  11.508122  31979800   \n",
      "2001-06-15  11.359631  11.415315  11.118331  11.136893  14369300   \n",
      "2001-06-18  11.255694  11.359639  11.159174  11.159174   4019800   \n",
      "2001-06-19  11.285387  11.400468  11.214853  11.359633   5690300   \n",
      "\n",
      "Price      News_Sentiment  \n",
      "Ticker                     \n",
      "Date                       \n",
      "2001-06-13           None  \n",
      "2001-06-14           None  \n",
      "2001-06-15           None  \n",
      "2001-06-18           None  \n",
      "2001-06-19           None  \n"
     ]
    },
    {
     "name": "stderr",
     "output_type": "stream",
     "text": [
      "\n"
     ]
    },
    {
     "name": "stdout",
     "output_type": "stream",
     "text": [
      "Data for MPWR saved as MPWR_30_years.csv\n",
      "Price          Close      High       Low      Open   Volume News_Sentiment\n",
      "Ticker          MPWR      MPWR      MPWR      MPWR     MPWR               \n",
      "Date                                                                      \n",
      "2004-11-19  8.494193  8.571884  7.337463  7.820873  3906200           None\n",
      "2004-11-22  8.304285  9.495544  8.209330  8.545990   728000           None\n",
      "2004-11-23  8.097111  8.416506  7.561907  8.200698   505800           None\n",
      "2004-11-24  8.442399  8.632310  8.200695  8.200695   319500           None\n",
      "2004-11-26  8.459667  8.589152  7.984890  8.028052    65600           None\n"
     ]
    },
    {
     "name": "stderr",
     "output_type": "stream",
     "text": [
      "[*********************100%***********************]  1 of 1 completed\n"
     ]
    },
    {
     "name": "stdout",
     "output_type": "stream",
     "text": [
      "Data for MNST saved as MNST_30_years.csv\n",
      "Price          Close      High       Low      Open   Volume News_Sentiment\n",
      "Ticker          MNST      MNST      MNST      MNST     MNST               \n",
      "Date                                                                      \n",
      "1994-03-28  0.031250  0.032552  0.031250  0.031250  2073600           None\n",
      "1994-03-29  0.032552  0.032552  0.030599  0.032552  1084800           None\n",
      "1994-03-30  0.028646  0.032552  0.028646  0.032552  1526400           None\n",
      "1994-03-31  0.028646  0.031250  0.028646  0.031250   403200           None\n",
      "1994-04-04  0.030599  0.031250  0.028646  0.031250   374400           None\n"
     ]
    },
    {
     "name": "stderr",
     "output_type": "stream",
     "text": [
      "[*********************100%***********************]  1 of 1 completed\n"
     ]
    },
    {
     "name": "stdout",
     "output_type": "stream",
     "text": [
      "Data for MCO saved as MCO_30_years.csv\n",
      "Price          Close      High       Low      Open   Volume News_Sentiment\n",
      "Ticker           MCO       MCO       MCO       MCO      MCO               \n",
      "Date                                                                      \n",
      "1994-10-31  6.505298  6.505298  6.407474  6.407474  1984200           None\n",
      "1994-11-01  6.456382  6.505294  6.407470  6.505294  2176400           None\n",
      "1994-11-02  6.407475  6.456387  6.407475  6.456387  2348200           None\n",
      "1994-11-03  6.407475  6.456387  6.358563  6.407475  2060800           None\n",
      "1994-11-04  6.358561  6.456385  6.358561  6.407473  2663800           None\n"
     ]
    },
    {
     "name": "stderr",
     "output_type": "stream",
     "text": [
      "[*********************100%***********************]  1 of 1 completed\n"
     ]
    },
    {
     "name": "stdout",
     "output_type": "stream",
     "text": [
      "Data for MS saved as MS_30_years.csv\n",
      "Price          Close      High       Low      Open   Volume News_Sentiment\n",
      "Ticker            MS        MS        MS        MS       MS               \n",
      "Date                                                                      \n",
      "1994-03-28  3.925916  4.084685  3.911483  4.084685  2742400           None\n",
      "1994-03-29  3.897051  3.983652  3.824883  3.940351  2925200           None\n",
      "1994-03-30  3.738282  3.925918  3.694981  3.897051  4060400           None\n",
      "1994-03-31  3.767150  3.810450  3.651682  3.767150  2400000           None\n",
      "1994-04-04  3.723848  3.738281  3.637247  3.651680  2350800           None\n"
     ]
    },
    {
     "name": "stderr",
     "output_type": "stream",
     "text": [
      "[*********************100%***********************]  1 of 1 completed\n"
     ]
    },
    {
     "name": "stdout",
     "output_type": "stream",
     "text": [
      "Data for MOS saved as MOS_30_years.csv\n",
      "Price           Close       High        Low       Open  Volume News_Sentiment\n",
      "Ticker            MOS        MOS        MOS        MOS     MOS               \n",
      "Date                                                                         \n",
      "1994-03-28  13.617432  13.702275  13.405322  13.575010  715000           None\n",
      "1994-03-29  13.532588  13.702276  13.447744  13.617432  532000           None\n",
      "1994-03-30  13.193210  13.532585  13.193210  13.532585  414600           None\n",
      "1994-03-31  13.405321  13.405321  13.065946  13.150790  191200           None\n",
      "1994-04-04  12.981106  13.150793  12.981106  13.108372  313800           None\n"
     ]
    },
    {
     "name": "stderr",
     "output_type": "stream",
     "text": [
      "[*********************100%***********************]  1 of 1 completed\n",
      "[*********************100%***********************]  1 of 1 completed"
     ]
    },
    {
     "name": "stdout",
     "output_type": "stream",
     "text": [
      "Data for MSI saved as MSI_30_years.csv\n",
      "Price           Close       High        Low       Open   Volume News_Sentiment\n",
      "Ticker            MSI        MSI        MSI        MSI      MSI               \n",
      "Date                                                                          \n",
      "1994-03-28  42.222858  42.222858  40.796754  41.866333  2104124           None\n",
      "1994-03-29  40.898628  42.171936  40.643966  42.121002  1660679           None\n",
      "1994-03-30  39.981834  41.102345  39.625309  40.440225  3239104           None\n",
      "1994-03-31  41.255135  41.255135  39.166913  40.338355  3077248           None\n",
      "1994-04-04  41.153301  41.713558  40.134656  40.287453  2813404           None\n"
     ]
    },
    {
     "name": "stderr",
     "output_type": "stream",
     "text": [
      "\n"
     ]
    },
    {
     "name": "stdout",
     "output_type": "stream",
     "text": [
      "Data for MSCI saved as MSCI_30_years.csv\n",
      "Price           Close       High        Low       Open    Volume  \\\n",
      "Ticker           MSCI       MSCI       MSCI       MSCI      MSCI   \n",
      "Date                                                               \n",
      "2007-11-15  23.237621  25.329898  19.640686  20.477597  11770500   \n",
      "2007-11-16  22.222637  23.130774  21.011789  23.130774   1242900   \n",
      "2007-11-19  22.925997  22.925997  21.839795  22.000053    469500   \n",
      "2007-11-20  24.323812  26.006535  22.489733  22.632186    522200   \n",
      "2007-11-21  23.727304  24.154663  23.095171  24.038920    167500   \n",
      "\n",
      "Price      News_Sentiment  \n",
      "Ticker                     \n",
      "Date                       \n",
      "2007-11-15           None  \n",
      "2007-11-16           None  \n",
      "2007-11-19           None  \n",
      "2007-11-20           None  \n",
      "2007-11-21           None  \n"
     ]
    },
    {
     "name": "stderr",
     "output_type": "stream",
     "text": [
      "[*********************100%***********************]  1 of 1 completed\n"
     ]
    },
    {
     "name": "stdout",
     "output_type": "stream",
     "text": [
      "Data for NDAQ saved as NDAQ_30_years.csv\n",
      "Price          Close      High       Low      Open Volume News_Sentiment\n",
      "Ticker          NDAQ      NDAQ      NDAQ      NDAQ   NDAQ               \n",
      "Date                                                                    \n",
      "2002-07-01  4.053308  4.053308  4.053308  4.053308   3900           None\n",
      "2002-07-02  4.088437  4.458639  4.053308  4.188419  21000           None\n",
      "2002-07-03  4.053308  4.323528  3.783087  3.783087  30600           None\n",
      "2002-07-05  4.053308  4.053308  4.053308  4.053308   1500           None\n",
      "2002-07-08  3.783087  3.783087  3.783087  3.783087    900           None\n"
     ]
    },
    {
     "name": "stderr",
     "output_type": "stream",
     "text": [
      "[*********************100%***********************]  1 of 1 completed\n"
     ]
    },
    {
     "name": "stdout",
     "output_type": "stream",
     "text": [
      "Data for NTAP saved as NTAP_30_years.csv\n",
      "Price          Close      High       Low      Open    Volume News_Sentiment\n",
      "Ticker          NTAP      NTAP      NTAP      NTAP      NTAP               \n",
      "Date                                                                       \n",
      "1995-11-21  0.964906  1.000208  0.811933  0.811933  51412800           None\n",
      "1995-11-22  1.176715  1.212016  0.953139  0.964906  11921600           None\n",
      "1995-11-24  1.270852  1.282619  1.176715  1.176715   2419200           None\n",
      "1995-11-27  1.188482  1.364989  1.153181  1.341455   6720000           None\n",
      "1995-11-28  1.200249  1.212016  1.176714  1.188482   3451200           None\n"
     ]
    },
    {
     "name": "stderr",
     "output_type": "stream",
     "text": [
      "[*********************100%***********************]  1 of 1 completed\n"
     ]
    },
    {
     "name": "stdout",
     "output_type": "stream",
     "text": [
      "Data for NFLX saved as NFLX_30_years.csv\n",
      "Price          Close      High       Low      Open     Volume News_Sentiment\n",
      "Ticker          NFLX      NFLX      NFLX      NFLX       NFLX               \n",
      "Date                                                                        \n",
      "2002-05-23  1.196429  1.242857  1.145714  1.156429  104790000           None\n",
      "2002-05-24  1.210000  1.225000  1.197143  1.214286   11104800           None\n",
      "2002-05-28  1.157143  1.232143  1.157143  1.213571    6609400           None\n",
      "2002-05-29  1.103571  1.164286  1.085714  1.164286    6757800           None\n",
      "2002-05-30  1.071429  1.107857  1.071429  1.107857   10154200           None\n"
     ]
    },
    {
     "name": "stderr",
     "output_type": "stream",
     "text": [
      "[*********************100%***********************]  1 of 1 completed\n",
      "[*********************100%***********************]  1 of 1 completed"
     ]
    },
    {
     "name": "stdout",
     "output_type": "stream",
     "text": [
      "Data for NEM saved as NEM_30_years.csv\n",
      "Price           Close       High        Low       Open   Volume News_Sentiment\n",
      "Ticker            NEM        NEM        NEM        NEM      NEM               \n",
      "Date                                                                          \n",
      "1994-03-28  29.363682  29.741756  29.237659  29.426695   457500           None\n",
      "1994-03-29  28.796558  29.552705  28.670534  29.237644  1056000           None\n",
      "1994-03-30  28.544518  28.985603  28.544518  28.922592   332875           None\n",
      "1994-03-31  28.922586  29.552708  28.670537  28.859573   917750           None\n",
      "1994-04-04  27.725368  28.733563  27.725368  28.733563   470625           None\n",
      "Data for NWSA saved as NWSA_30_years.csv\n",
      "Price           Close       High        Low       Open    Volume  \\\n",
      "Ticker           NWSA       NWSA       NWSA       NWSA      NWSA   \n",
      "Date                                                               \n",
      "2013-06-19  13.922672  14.319204  13.393963  13.464457  31981500   \n",
      "2013-06-20  13.482083  14.424949  13.438024  14.424949   9274200   \n",
      "2013-06-21  13.764061  13.922674  13.570201  13.834555   8323500   \n",
      "2013-06-24  13.684753  13.957920  13.393963  13.781684   4279700   \n",
      "2013-06-25  13.852179  13.869802  13.526141  13.702378   3577300   \n",
      "\n",
      "Price      News_Sentiment  \n",
      "Ticker                     \n",
      "Date                       \n",
      "2013-06-19           None  \n",
      "2013-06-20           None  \n",
      "2013-06-21           None  \n",
      "2013-06-24           None  \n",
      "2013-06-25           None  \n"
     ]
    },
    {
     "name": "stderr",
     "output_type": "stream",
     "text": [
      "\n",
      "[*********************100%***********************]  1 of 1 completed\n"
     ]
    },
    {
     "name": "stdout",
     "output_type": "stream",
     "text": [
      "Data for NWS saved as NWS_30_years.csv\n",
      "Price           Close       High        Low       Open   Volume News_Sentiment\n",
      "Ticker            NWS        NWS        NWS        NWS      NWS               \n",
      "Date                                                                          \n",
      "2013-06-19  13.726981  14.168932  13.223158  13.444133  7717000           None\n",
      "2013-06-20  13.647427  14.407581  13.576715  14.363387  1874600           None\n",
      "2013-06-21  13.965632  14.124734  13.665106  14.124734   635300           None\n",
      "2013-06-24  13.718140  13.956792  13.426452  13.956792   758300           None\n",
      "2013-06-25  13.841888  13.850728  13.567880  13.700464   564400           None\n"
     ]
    },
    {
     "name": "stderr",
     "output_type": "stream",
     "text": [
      "[*********************100%***********************]  1 of 1 completed\n"
     ]
    },
    {
     "name": "stdout",
     "output_type": "stream",
     "text": [
      "Data for NEE saved as NEE_30_years.csv\n",
      "Price          Close      High       Low      Open   Volume News_Sentiment\n",
      "Ticker           NEE       NEE       NEE       NEE      NEE               \n",
      "Date                                                                      \n",
      "1994-03-28  1.505374  1.510888  1.483317  1.488831  2947200           None\n",
      "1994-03-29  1.488830  1.516401  1.488830  1.510887  2155200           None\n",
      "1994-03-30  1.461259  1.483316  1.455745  1.472288  2349600           None\n",
      "1994-03-31  1.461259  1.472288  1.428174  1.461259  2406400           None\n",
      "1994-04-04  1.444718  1.466775  1.439204  1.444718  3453600           None\n"
     ]
    },
    {
     "name": "stderr",
     "output_type": "stream",
     "text": [
      "[*********************100%***********************]  1 of 1 completed\n"
     ]
    },
    {
     "name": "stdout",
     "output_type": "stream",
     "text": [
      "Data for NKE saved as NKE_30_years.csv\n",
      "Price          Close      High       Low      Open    Volume News_Sentiment\n",
      "Ticker           NKE       NKE       NKE       NKE       NKE               \n",
      "Date                                                                       \n",
      "1994-03-28  1.290103  1.301699  1.287204  1.293002   8620800           None\n",
      "1994-03-29  1.275607  1.295901  1.266910  1.293002  12377600           None\n",
      "1994-03-30  1.232121  1.275608  1.229222  1.275608  11590400           None\n",
      "1994-03-31  1.229222  1.249516  1.211827  1.249516  13334400           None\n",
      "1994-04-04  1.220524  1.235020  1.211828  1.217625  12649600           None\n"
     ]
    },
    {
     "name": "stderr",
     "output_type": "stream",
     "text": [
      "[*********************100%***********************]  1 of 1 completed\n"
     ]
    },
    {
     "name": "stdout",
     "output_type": "stream",
     "text": [
      "Data for NI saved as NI_30_years.csv\n",
      "Price          Close      High       Low      Open   Volume News_Sentiment\n",
      "Ticker            NI        NI        NI        NI       NI               \n",
      "Date                                                                      \n",
      "1994-03-28  1.662109  1.662109  1.648596  1.648596   603165           None\n",
      "1994-03-29  1.655353  1.662109  1.648596  1.662109   868863           None\n",
      "1994-03-30  1.662109  1.662109  1.655353  1.655353  1042941           None\n",
      "1994-03-31  1.635084  1.655353  1.628327  1.655353   948267           None\n",
      "1994-04-04  1.601300  1.635083  1.601300  1.621570   777752           None\n"
     ]
    },
    {
     "name": "stderr",
     "output_type": "stream",
     "text": [
      "[*********************100%***********************]  1 of 1 completed\n"
     ]
    },
    {
     "name": "stdout",
     "output_type": "stream",
     "text": [
      "Data for NDSN saved as NDSN_30_years.csv\n",
      "Price           Close       High        Low       Open  Volume News_Sentiment\n",
      "Ticker           NDSN       NDSN       NDSN       NDSN    NDSN               \n",
      "Date                                                                         \n",
      "1994-03-28  10.126905  10.228377  10.066022  10.228377  104400           None\n",
      "1994-03-29  10.066018  10.187784  10.066018  10.066018   45200           None\n",
      "1994-03-30  10.066018  10.147196   9.944252  10.066018   95200           None\n",
      "1994-03-31   9.863073   9.964545   9.781896   9.944251  237200           None\n",
      "1994-04-04   9.660132   9.741310   9.578955   9.619544   78800           None\n"
     ]
    },
    {
     "name": "stderr",
     "output_type": "stream",
     "text": [
      "[*********************100%***********************]  1 of 1 completed\n"
     ]
    },
    {
     "name": "stdout",
     "output_type": "stream",
     "text": [
      "Data for NSC saved as NSC_30_years.csv\n",
      "Price           Close       High        Low       Open   Volume News_Sentiment\n",
      "Ticker            NSC        NSC        NSC        NSC      NSC               \n",
      "Date                                                                          \n",
      "1994-03-28  10.989097  11.070799  10.886966  11.050374   627300           None\n",
      "1994-03-29  10.743984  10.968668  10.662280  10.948241   653400           None\n",
      "1994-03-30  10.621438  10.866548  10.621438  10.743993   905400           None\n",
      "1994-03-31  10.560158  10.682713  10.253770  10.682713   931500           None\n",
      "1994-04-04  10.294621  10.498879  10.233343  10.437602  1449600           None\n"
     ]
    },
    {
     "name": "stderr",
     "output_type": "stream",
     "text": [
      "[*********************100%***********************]  1 of 1 completed\n"
     ]
    },
    {
     "name": "stdout",
     "output_type": "stream",
     "text": [
      "Data for NTRS saved as NTRS_30_years.csv\n",
      "Price          Close      High       Low      Open  Volume News_Sentiment\n",
      "Ticker          NTRS      NTRS      NTRS      NTRS    NTRS               \n",
      "Date                                                                     \n",
      "1994-03-28  5.571668  5.637217  5.538894  5.637217   66400           None\n",
      "1994-03-29  5.637217  5.637217  5.538893  5.571668  116800           None\n",
      "1994-03-30  5.506122  5.571671  5.506122  5.538897  412400           None\n",
      "1994-03-31  5.440567  5.538891  5.440567  5.506116  329200           None\n",
      "1994-04-04  5.440567  5.506116  5.440567  5.440567  394000           None\n"
     ]
    },
    {
     "name": "stderr",
     "output_type": "stream",
     "text": [
      "[*********************100%***********************]  1 of 1 completed\n",
      "[*********************100%***********************]  1 of 1 completed"
     ]
    },
    {
     "name": "stdout",
     "output_type": "stream",
     "text": [
      "Data for NOC saved as NOC_30_years.csv\n",
      "Price          Close       High       Low       Open   Volume News_Sentiment\n",
      "Ticker           NOC        NOC       NOC        NOC      NOC               \n",
      "Date                                                                        \n",
      "1994-03-28  9.883742  10.201641  9.681443  10.201641   709463           None\n",
      "1994-03-29  9.450240   9.710339  9.305741   9.710339  1177643           None\n",
      "1994-03-30  9.450240   9.594740  9.421341   9.450240   632872           None\n",
      "1994-03-31  9.219046   9.508044  9.103447   9.508044   578639           None\n",
      "1994-04-04  8.698852   8.901151  8.583253   8.814451   725401           None\n",
      "Data for NCLH saved as NCLH_30_years.csv\n",
      "Price           Close       High        Low   Open    Volume News_Sentiment\n",
      "Ticker           NCLH       NCLH       NCLH   NCLH      NCLH               \n",
      "Date                                                                       \n",
      "2013-01-18  24.790001  25.490000  24.160000  25.10  17761800           None\n",
      "2013-01-22  26.950001  27.360001  24.850000  25.00   2072000           None\n",
      "2013-01-23  27.490000  28.860001  26.490000  28.00   1572200           None\n",
      "2013-01-24  27.350000  27.900000  26.639999  27.17    508700           None\n",
      "2013-01-25  27.350000  27.900000  26.280001  27.50    870700           None\n"
     ]
    },
    {
     "name": "stderr",
     "output_type": "stream",
     "text": [
      "\n",
      "[*********************100%***********************]  1 of 1 completed\n"
     ]
    },
    {
     "name": "stdout",
     "output_type": "stream",
     "text": [
      "Data for NRG saved as NRG_30_years.csv\n",
      "Price          Close      High       Low      Open  Volume News_Sentiment\n",
      "Ticker           NRG       NRG       NRG       NRG     NRG               \n",
      "Date                                                                     \n",
      "2003-12-02  7.275280  7.275280  7.180795  7.180795  160000           None\n",
      "2003-12-03  7.369761  7.369761  7.369761  7.369761  300000           None\n",
      "2003-12-04  7.653214  7.653214  7.653214  7.653214   50000           None\n",
      "2003-12-05  7.653214  7.653214  7.653214  7.653214       0           None\n",
      "2003-12-08  8.239014  8.239014  7.936665  7.936665  954000           None\n"
     ]
    },
    {
     "name": "stderr",
     "output_type": "stream",
     "text": [
      "[*********************100%***********************]  1 of 1 completed\n"
     ]
    },
    {
     "name": "stdout",
     "output_type": "stream",
     "text": [
      "Data for NUE saved as NUE_30_years.csv\n",
      "Price          Close      High       Low      Open   Volume News_Sentiment\n",
      "Ticker           NUE       NUE       NUE       NUE      NUE               \n",
      "Date                                                                      \n",
      "1994-03-28  7.765260  7.796197  7.641511  7.765260   786000           None\n",
      "1994-03-29  7.672447  7.749790  7.579635  7.687916   922000           None\n",
      "1994-03-30  7.502293  7.610573  7.440418  7.610573  1601600           None\n",
      "1994-03-31  7.502293  7.502293  7.177451  7.440418  1591200           None\n",
      "1994-04-04  7.332139  7.409482  7.254796  7.363076   901600           None\n"
     ]
    },
    {
     "name": "stderr",
     "output_type": "stream",
     "text": [
      "[*********************100%***********************]  1 of 1 completed\n"
     ]
    },
    {
     "name": "stdout",
     "output_type": "stream",
     "text": [
      "Data for NVDA saved as NVDA_30_years.csv\n",
      "Price          Close      High       Low      Open      Volume News_Sentiment\n",
      "Ticker          NVDA      NVDA      NVDA      NVDA        NVDA               \n",
      "Date                                                                         \n",
      "1999-01-22  0.037612  0.044775  0.035581  0.040119  2714688000           None\n",
      "1999-01-25  0.041552  0.042029  0.037612  0.040597   510480000           None\n",
      "1999-01-26  0.038328  0.042865  0.037731  0.042029   343200000           None\n",
      "1999-01-27  0.038209  0.039403  0.036298  0.038447   244368000           None\n",
      "1999-01-28  0.038089  0.038447  0.037850  0.038209   227520000           None\n"
     ]
    },
    {
     "name": "stderr",
     "output_type": "stream",
     "text": [
      "[*********************100%***********************]  1 of 1 completed\n",
      "[*********************100%***********************]  1 of 1 completed"
     ]
    },
    {
     "name": "stdout",
     "output_type": "stream",
     "text": [
      "Data for NVR saved as NVR_30_years.csv\n",
      "Price      Close   High    Low   Open  Volume News_Sentiment\n",
      "Ticker       NVR    NVR    NVR    NVR     NVR               \n",
      "Date                                                        \n",
      "1994-03-28  8.50  8.750  8.250  8.750  160900           None\n",
      "1994-03-29  8.00  8.250  7.875  8.250  141500           None\n",
      "1994-03-30  7.75  8.000  7.750  7.875   27200           None\n",
      "1994-03-31  7.50  7.875  7.500  7.750   69200           None\n",
      "1994-04-04  7.00  7.250  7.000  7.250   27000           None\n"
     ]
    },
    {
     "name": "stderr",
     "output_type": "stream",
     "text": [
      "\n"
     ]
    },
    {
     "name": "stdout",
     "output_type": "stream",
     "text": [
      "Data for NXPI saved as NXPI_30_years.csv\n",
      "Price           Close       High        Low       Open    Volume  \\\n",
      "Ticker           NXPI       NXPI       NXPI       NXPI      NXPI   \n",
      "Date                                                               \n",
      "2010-08-06  12.670270  12.742671  11.756200  11.765251  10678500   \n",
      "2010-08-09  12.670270  12.670270  12.398764  12.670270   1819500   \n",
      "2010-08-10  12.308263  12.525467  12.290162  12.462116   1579300   \n",
      "2010-08-11  11.538999  12.109161  11.267493  11.991508   2588200   \n",
      "2010-08-12  11.213195  11.321797  10.950739  11.095542   1780300   \n",
      "\n",
      "Price      News_Sentiment  \n",
      "Ticker                     \n",
      "Date                       \n",
      "2010-08-06           None  \n",
      "2010-08-09           None  \n",
      "2010-08-10           None  \n",
      "2010-08-11           None  \n",
      "2010-08-12           None  \n"
     ]
    },
    {
     "name": "stderr",
     "output_type": "stream",
     "text": [
      "[*********************100%***********************]  1 of 1 completed\n"
     ]
    },
    {
     "name": "stdout",
     "output_type": "stream",
     "text": [
      "Data for ORLY saved as ORLY_30_years.csv\n",
      "Price         Close     High       Low     Open  Volume News_Sentiment\n",
      "Ticker         ORLY     ORLY      ORLY     ORLY    ORLY               \n",
      "Date                                                                  \n",
      "1994-03-28  3.68750  3.68750  3.640625  3.68750  192800           None\n",
      "1994-03-29  3.59375  3.59375  3.593750  3.59375   16800           None\n",
      "1994-03-30  3.56250  3.65625  3.562500  3.56250   16000           None\n",
      "1994-03-31  3.50000  3.56250  3.406250  3.56250   89600           None\n",
      "1994-04-04  3.37500  3.40625  3.312500  3.37500   54400           None\n"
     ]
    },
    {
     "name": "stderr",
     "output_type": "stream",
     "text": [
      "[*********************100%***********************]  1 of 1 completed\n"
     ]
    },
    {
     "name": "stdout",
     "output_type": "stream",
     "text": [
      "Data for OXY saved as OXY_30_years.csv\n",
      "Price          Close      High       Low      Open   Volume News_Sentiment\n",
      "Ticker           OXY       OXY       OXY       OXY      OXY               \n",
      "Date                                                                      \n",
      "1994-03-28  3.179116  3.202153  3.156079  3.202153   708097           None\n",
      "1994-03-29  3.156080  3.179117  3.156080  3.179117   936683           None\n",
      "1994-03-30  2.971784  3.156081  2.971784  3.133044  3019639           None\n",
      "1994-03-31  2.971784  3.040895  2.971784  2.994821  3341331           None\n",
      "1994-04-04  2.925709  2.971783  2.902672  2.948746  2539086           None\n"
     ]
    },
    {
     "name": "stderr",
     "output_type": "stream",
     "text": [
      "[*********************100%***********************]  1 of 1 completed\n"
     ]
    },
    {
     "name": "stdout",
     "output_type": "stream",
     "text": [
      "Data for ODFL saved as ODFL_30_years.csv\n",
      "Price          Close      High       Low      Open Volume News_Sentiment\n",
      "Ticker          ODFL      ODFL      ODFL      ODFL   ODFL               \n",
      "Date                                                                    \n",
      "1994-03-28  0.732049  0.732049  0.732049  0.732049      0           None\n",
      "1994-03-29  0.705525  0.705525  0.705525  0.705525   2278           None\n",
      "1994-03-30  0.732049  0.732049  0.700220  0.700220  13669           None\n",
      "1994-03-31  0.700220  0.721439  0.700220  0.700220  38728           None\n",
      "1994-04-04  0.700220  0.700220  0.700220  0.700220   2278           None\n"
     ]
    },
    {
     "name": "stderr",
     "output_type": "stream",
     "text": [
      "[*********************100%***********************]  1 of 1 completed\n",
      "[*********************100%***********************]  1 of 1 completed"
     ]
    },
    {
     "name": "stdout",
     "output_type": "stream",
     "text": [
      "Data for OMC saved as OMC_30_years.csv\n",
      "Price          Close      High       Low      Open   Volume News_Sentiment\n",
      "Ticker           OMC       OMC       OMC       OMC      OMC               \n",
      "Date                                                                      \n",
      "1994-03-28  3.082069  3.138252  3.074043  3.122200   483200           None\n",
      "1994-03-29  3.049963  3.074042  3.033911  3.066016   731200           None\n",
      "1994-03-30  3.057992  3.066018  3.025887  3.033913   619200           None\n",
      "1994-03-31  3.066016  3.066016  3.057990  3.057990   513600           None\n",
      "1994-04-04  3.017857  3.041936  3.001805  3.001805  1041600           None\n"
     ]
    },
    {
     "name": "stderr",
     "output_type": "stream",
     "text": [
      "\n"
     ]
    },
    {
     "name": "stdout",
     "output_type": "stream",
     "text": [
      "Data for ON saved as ON_30_years.csv\n",
      "Price        Close     High      Low     Open   Volume News_Sentiment\n",
      "Ticker          ON       ON       ON       ON       ON               \n",
      "Date                                                                 \n",
      "2000-05-02  24.000  25.0625  22.3750  24.8750  2051300           None\n",
      "2000-05-03  22.500  23.7500  21.3125  23.6875  1734900           None\n",
      "2000-05-04  21.125  23.6250  20.5000  23.5625  1235300           None\n",
      "2000-05-05  20.875  22.0000  20.5000  20.7500  1164400           None\n",
      "2000-05-08  20.250  21.0625  20.0625  20.4375   750000           None\n"
     ]
    },
    {
     "name": "stderr",
     "output_type": "stream",
     "text": [
      "[*********************100%***********************]  1 of 1 completed\n"
     ]
    },
    {
     "name": "stdout",
     "output_type": "stream",
     "text": [
      "Data for OKE saved as OKE_30_years.csv\n",
      "Price          Close      High       Low      Open  Volume News_Sentiment\n",
      "Ticker           OKE       OKE       OKE       OKE     OKE               \n",
      "Date                                                                     \n",
      "1994-03-28  0.892941  0.918824  0.892941  0.912353  129297           None\n",
      "1994-03-29  0.880000  0.899412  0.873530  0.892941  131581           None\n",
      "1994-03-30  0.867059  0.880000  0.847647  0.880000  229354           None\n",
      "1994-03-31  0.886471  0.892941  0.847647  0.867059  454139           None\n",
      "1994-04-04  0.873530  0.880000  0.867059  0.880000  135236           None\n"
     ]
    },
    {
     "name": "stderr",
     "output_type": "stream",
     "text": [
      "[*********************100%***********************]  1 of 1 completed\n",
      "[*********************100%***********************]  1 of 1 completed"
     ]
    },
    {
     "name": "stdout",
     "output_type": "stream",
     "text": [
      "Data for ORCL saved as ORCL_30_years.csv\n",
      "Price          Close      High       Low      Open    Volume News_Sentiment\n",
      "Ticker          ORCL      ORCL      ORCL      ORCL      ORCL               \n",
      "Date                                                                       \n",
      "1994-03-28  1.281258  1.336098  1.236389  1.326127  63457425           None\n",
      "1994-03-29  1.246360  1.286244  1.226419  1.281258  44748450           None\n",
      "1994-03-30  1.291229  1.311171  1.206476  1.226419  80732700           None\n",
      "1994-03-31  1.281258  1.311171  1.221433  1.306186  49389750           None\n",
      "1994-04-04  1.226419  1.261316  1.216448  1.251346  38558025           None\n",
      "Data for OTIS saved as OTIS_30_years.csv\n",
      "Price           Close       High        Low       Open Volume News_Sentiment\n",
      "Ticker           OTIS       OTIS       OTIS       OTIS   OTIS               \n",
      "Date                                                                        \n",
      "2020-03-19  42.131195  42.829502  37.243045  37.243045   7000           None\n",
      "2020-03-20  41.898430  42.838815  41.898430  41.907739   3600           None\n",
      "2020-03-23  37.243050  39.105202  37.224428  39.105202  11900           None\n",
      "2020-03-24  37.243050  37.243050  36.311973  37.243050  77800           None\n",
      "2020-03-25  38.183430  41.712209  35.380892  37.243044   7000           None\n"
     ]
    },
    {
     "name": "stderr",
     "output_type": "stream",
     "text": [
      "\n",
      "[*********************100%***********************]  1 of 1 completed\n"
     ]
    },
    {
     "name": "stdout",
     "output_type": "stream",
     "text": [
      "Data for PCAR saved as PCAR_30_years.csv\n",
      "Price          Close      High       Low      Open   Volume News_Sentiment\n",
      "Ticker          PCAR      PCAR      PCAR      PCAR     PCAR               \n",
      "Date                                                                      \n",
      "1994-03-28  1.190636  1.229765  1.173866  1.218585  1819463           None\n",
      "1994-03-29  1.131943  1.196226  1.129148  1.190636  1523306           None\n",
      "1994-03-30  1.140328  1.151508  1.129148  1.129148  2659331           None\n",
      "1994-03-31  1.123557  1.145917  1.117968  1.140327  4618519           None\n",
      "1994-04-04  1.078839  1.112378  1.053685  1.112378  7534519           None\n"
     ]
    },
    {
     "name": "stderr",
     "output_type": "stream",
     "text": [
      "[*********************100%***********************]  1 of 1 completed\n",
      "[*********************100%***********************]  1 of 1 completed\n"
     ]
    },
    {
     "name": "stdout",
     "output_type": "stream",
     "text": [
      "Data for PKG saved as PKG_30_years.csv\n",
      "Price          Close      High       Low      Open    Volume News_Sentiment\n",
      "Ticker           PKG       PKG       PKG       PKG       PKG               \n",
      "Date                                                                       \n",
      "2000-01-28  5.899204  5.991379  5.899204  5.899204  11192000           None\n",
      "2000-01-31  5.929932  5.929932  5.899207  5.899207   1880900           None\n",
      "2000-02-01  5.899204  5.929929  5.899204  5.899204    367100           None\n",
      "2000-02-02  5.929932  5.929932  5.899207  5.899207    697400           None\n",
      "2000-02-03  5.899204  5.929929  5.899204  5.899204    579800           None\n",
      "Data for PLTR saved as PLTR_30_years.csv\n",
      "Price      Close   High   Low   Open     Volume News_Sentiment\n",
      "Ticker      PLTR   PLTR  PLTR   PLTR       PLTR               \n",
      "Date                                                          \n",
      "2020-09-30  9.50  11.41  9.11  10.00  338584400           None\n",
      "2020-10-01  9.46  10.10  9.23   9.69  124297600           None\n",
      "2020-10-02  9.20   9.28  8.94   9.06   55018300           None\n",
      "2020-10-05  9.03   9.49  8.92   9.43   36316900           None\n",
      "2020-10-06  9.90  10.18  8.90   9.04   90864000           None\n"
     ]
    },
    {
     "name": "stderr",
     "output_type": "stream",
     "text": [
      "[*********************100%***********************]  1 of 1 completed\n"
     ]
    },
    {
     "name": "stdout",
     "output_type": "stream",
     "text": [
      "Data for PANW saved as PANW_30_years.csv\n",
      "Price       Close       High       Low      Open    Volume News_Sentiment\n",
      "Ticker       PANW       PANW      PANW      PANW      PANW               \n",
      "Date                                                                     \n",
      "2012-07-20  8.855  10.345000  8.850000  9.191667  42096600           None\n",
      "2012-07-23  8.585   9.000000  8.516667  8.766667   4730400           None\n",
      "2012-07-24  9.250   9.333333  8.586667  8.666667   4300800           None\n",
      "2012-07-25  9.825   9.833333  9.216667  9.416667   3598200           None\n",
      "2012-07-26  9.980  10.308333  9.680000  9.963333   2566800           None\n"
     ]
    },
    {
     "name": "stderr",
     "output_type": "stream",
     "text": [
      "[*********************100%***********************]  1 of 1 completed\n"
     ]
    },
    {
     "name": "stdout",
     "output_type": "stream",
     "text": [
      "Data for PARA saved as PARA_30_years.csv\n",
      "Price           Close       High        Low       Open   Volume News_Sentiment\n",
      "Ticker           PARA       PARA       PARA       PARA     PARA               \n",
      "Date                                                                          \n",
      "2005-12-05  17.178467  19.301648  17.178467  19.301648  1087800           None\n",
      "2005-12-06  16.573677  17.274970  16.567243  17.274970  1743800           None\n",
      "2005-12-07  16.438564  16.728089  16.245548  16.728089  1536400           None\n",
      "2005-12-08  16.335625  16.567245  16.149043  16.425700  2100700           None\n",
      "2005-12-09  16.490042  16.695927  16.052539  16.342063  2414700           None\n"
     ]
    },
    {
     "name": "stderr",
     "output_type": "stream",
     "text": [
      "[*********************100%***********************]  1 of 1 completed\n"
     ]
    },
    {
     "name": "stdout",
     "output_type": "stream",
     "text": [
      "Data for PH saved as PH_30_years.csv\n",
      "Price          Close      High       Low      Open   Volume News_Sentiment\n",
      "Ticker            PH        PH        PH        PH       PH               \n",
      "Date                                                                      \n",
      "1994-03-28  6.664698  6.774676  6.554719  6.752680   581850           None\n",
      "1994-03-29  6.488733  6.686694  6.488733  6.664699   377663           None\n",
      "1994-03-30  6.378752  6.620704  6.378752  6.466735  1281825           None\n",
      "1994-03-31  6.224784  6.378755  6.158798  6.356759   785025           None\n",
      "1994-04-04  6.136803  6.158799  5.982833  6.158799   842400           None\n"
     ]
    },
    {
     "name": "stderr",
     "output_type": "stream",
     "text": [
      "[*********************100%***********************]  1 of 1 completed\n",
      "[*********************100%***********************]  1 of 1 completed"
     ]
    },
    {
     "name": "stdout",
     "output_type": "stream",
     "text": [
      "Data for PAYX saved as PAYX_30_years.csv\n",
      "Price          Close      High       Low      Open   Volume News_Sentiment\n",
      "Ticker          PAYX      PAYX      PAYX      PAYX     PAYX               \n",
      "Date                                                                      \n",
      "1994-03-28  1.440114  1.465923  1.424630  1.434953   742669           None\n",
      "1994-03-29  1.455600  1.486571  1.434953  1.455600   947700           None\n",
      "1994-03-30  1.476248  1.476248  1.455601  1.455601  1536595           None\n",
      "1994-03-31  1.481409  1.507218  1.476247  1.476247  2798677           None\n",
      "1994-04-04  1.465924  1.496894  1.445277  1.455601  2112961           None\n",
      "Data for PAYC saved as PAYC_30_years.csv\n",
      "Price           Close       High        Low       Open   Volume News_Sentiment\n",
      "Ticker           PAYC       PAYC       PAYC       PAYC     PAYC               \n",
      "Date                                                                          \n",
      "2014-04-15  15.126306  17.658853  14.929219  17.639144  3531700           None\n",
      "2014-04-16  15.392370  15.855521  14.988345  15.126305   266500           None\n",
      "2014-04-17  16.013189  16.308817  15.481059  15.717561   262100           None\n",
      "2014-04-21  15.865376  16.348235  15.776687  16.348235    78000           None\n",
      "2014-04-22  15.747125  16.445792  15.530331  15.963920    96100           None\n"
     ]
    },
    {
     "name": "stderr",
     "output_type": "stream",
     "text": [
      "\n",
      "[*********************100%***********************]  1 of 1 completed\n"
     ]
    },
    {
     "name": "stdout",
     "output_type": "stream",
     "text": [
      "Data for PYPL saved as PYPL_30_years.csv\n",
      "Price           Close       High        Low       Open   Volume News_Sentiment\n",
      "Ticker           PYPL       PYPL       PYPL       PYPL     PYPL               \n",
      "Date                                                                          \n",
      "2015-07-06  36.709999  39.750000  36.000000  38.000000  5866600           None\n",
      "2015-07-07  36.619999  37.810001  36.000000  37.720001  7359000           None\n",
      "2015-07-08  34.700001  36.360001  34.529999  36.340000  5387700           None\n",
      "2015-07-09  34.500000  35.520000  33.990002  35.099998  3760100           None\n",
      "2015-07-10  34.689999  35.189999  33.980000  34.660000  4472800           None\n"
     ]
    },
    {
     "name": "stderr",
     "output_type": "stream",
     "text": [
      "[*********************100%***********************]  1 of 1 completed\n"
     ]
    },
    {
     "name": "stdout",
     "output_type": "stream",
     "text": [
      "Data for PNR saved as PNR_30_years.csv\n",
      "Price          Close      High       Low      Open  Volume News_Sentiment\n",
      "Ticker           PNR       PNR       PNR       PNR     PNR               \n",
      "Date                                                                     \n",
      "1994-03-28  3.476239  3.476239  3.428944  3.452592   52413           None\n",
      "1994-03-29  3.428945  3.476240  3.428945  3.428945  110782           None\n",
      "1994-03-30  3.499889  3.499889  3.428945  3.428945  649800           None\n",
      "1994-03-31  3.428945  3.499888  3.358001  3.428945  597387           None\n",
      "1994-04-04  3.358001  3.405296  3.334353  3.334353  258490           None\n"
     ]
    },
    {
     "name": "stderr",
     "output_type": "stream",
     "text": [
      "[*********************100%***********************]  1 of 1 completed\n"
     ]
    },
    {
     "name": "stdout",
     "output_type": "stream",
     "text": [
      "Data for PEP saved as PEP_30_years.csv\n",
      "Price          Close      High       Low      Open   Volume News_Sentiment\n",
      "Ticker           PEP       PEP       PEP       PEP      PEP               \n",
      "Date                                                                      \n",
      "1994-03-28  8.324898  8.380770  8.269026  8.296962  1845600           None\n",
      "1994-03-29  8.269030  8.380773  8.241094  8.324901  3103000           None\n",
      "1994-03-30  8.157290  8.269033  8.157290  8.241097  3491600           None\n",
      "1994-03-31  8.185225  8.269033  8.045546  8.129354  4433200           None\n",
      "1994-04-04  8.101415  8.157287  8.017607  8.045543  3159600           None\n"
     ]
    },
    {
     "name": "stderr",
     "output_type": "stream",
     "text": [
      "[*********************100%***********************]  1 of 1 completed\n"
     ]
    },
    {
     "name": "stdout",
     "output_type": "stream",
     "text": [
      "Data for PFE saved as PFE_30_years.csv\n",
      "Price          Close      High       Low      Open    Volume News_Sentiment\n",
      "Ticker           PFE       PFE       PFE       PFE       PFE               \n",
      "Date                                                                       \n",
      "1994-03-28  1.624299  1.657373  1.616950  1.646348   9236834           None\n",
      "1994-03-29  1.624299  1.631649  1.616950  1.624299   8190845           None\n",
      "1994-03-30  1.587550  1.635323  1.580200  1.624298  15740436           None\n",
      "1994-03-31  1.587550  1.602249  1.561825  1.587550  16212206           None\n",
      "1994-04-04  1.576525  1.602249  1.565501  1.565501  12448162           None\n"
     ]
    },
    {
     "name": "stderr",
     "output_type": "stream",
     "text": [
      "[*********************100%***********************]  1 of 1 completed\n"
     ]
    },
    {
     "name": "stdout",
     "output_type": "stream",
     "text": [
      "Data for PCG saved as PCG_30_years.csv\n",
      "Price           Close       High        Low       Open   Volume News_Sentiment\n",
      "Ticker            PCG        PCG        PCG        PCG      PCG               \n",
      "Date                                                                          \n",
      "1994-03-28  12.831498  12.883659  12.622856  12.675016   356200           None\n",
      "1994-03-29  12.622855  12.883658  12.622855  12.883658   544300           None\n",
      "1994-03-30  12.101254  12.622859  12.101254  12.622859  1038500           None\n",
      "1994-03-31  12.101254  12.257735  11.892611  12.153414  1580300           None\n",
      "1994-04-04  11.892604  12.153407  11.840443  11.996925   598800           None\n"
     ]
    },
    {
     "name": "stderr",
     "output_type": "stream",
     "text": [
      "[*********************100%***********************]  1 of 1 completed\n",
      "[*********************100%***********************]  1 of 1 completed"
     ]
    },
    {
     "name": "stdout",
     "output_type": "stream",
     "text": [
      "Data for PM saved as PM_30_years.csv\n",
      "Price           Close       High        Low       Open   Volume News_Sentiment\n",
      "Ticker             PM         PM         PM         PM       PM               \n",
      "Date                                                                          \n",
      "2008-03-17  22.077959  23.535222  22.010908  22.350637  1988000           None\n",
      "2008-03-18  22.171822  23.244652  21.344849  22.283575  8067600           None\n",
      "2008-03-19  22.395338  22.797650  20.964899  22.171832  3007700           None\n",
      "2008-03-20  21.970671  22.440034  21.845506  22.440034  3007700           None\n",
      "2008-03-24  22.797647  22.797647  22.265703  22.265703  1437000           None\n",
      "Data for PSX saved as PSX_30_years.csv\n",
      "Price           Close       High        Low       Open   Volume News_Sentiment\n",
      "Ticker            PSX        PSX        PSX        PSX      PSX               \n",
      "Date                                                                          \n",
      "2012-04-12  22.093210  22.229668  20.793610  21.605860   654700           None\n",
      "2012-04-13  24.042614  24.335025  22.034731  22.093213  1685000           None\n",
      "2012-04-16  23.750200  24.042611  23.386314  24.042611   550200           None\n",
      "2012-04-17  23.392807  23.880157  23.392807  23.652728   179600           None\n",
      "2012-04-18  23.392807  23.678718  22.418107  23.392807   207100           None\n"
     ]
    },
    {
     "name": "stderr",
     "output_type": "stream",
     "text": [
      "\n",
      "[*********************100%***********************]  1 of 1 completed\n"
     ]
    },
    {
     "name": "stdout",
     "output_type": "stream",
     "text": [
      "Data for PNW saved as PNW_30_years.csv\n",
      "Price          Close      High       Low      Open  Volume News_Sentiment\n",
      "Ticker           PNW       PNW       PNW       PNW     PNW               \n",
      "Date                                                                     \n",
      "1994-03-28  5.618644  5.618644  5.484867  5.585200  126900           None\n",
      "1994-03-29  5.518312  5.685534  5.518312  5.685534   96300           None\n",
      "1994-03-30  5.451423  5.518312  5.417979  5.518312  356600           None\n",
      "1994-03-31  5.351089  5.451422  5.217312  5.451422  779000           None\n",
      "1994-04-04  5.250757  5.284201  5.116979  5.150424  129800           None\n"
     ]
    },
    {
     "name": "stderr",
     "output_type": "stream",
     "text": [
      "[*********************100%***********************]  1 of 1 completed\n"
     ]
    },
    {
     "name": "stdout",
     "output_type": "stream",
     "text": [
      "Data for PNC saved as PNC_30_years.csv\n",
      "Price           Close       High       Low       Open  Volume News_Sentiment\n",
      "Ticker            PNC        PNC       PNC        PNC     PNC               \n",
      "Date                                                                        \n",
      "1994-03-28  10.092949  10.092949  9.863564  10.047072  190600           None\n",
      "1994-03-29  10.047081  10.184712  9.955327  10.092958  436100           None\n",
      "1994-03-30   9.771809  10.047071  9.725932   9.955317  406300           None\n",
      "1994-03-31   9.771809   9.771809  9.267161   9.680055  328900           None\n",
      "1994-04-04   9.680058   9.817690  9.588304   9.634181  270300           None\n"
     ]
    },
    {
     "name": "stderr",
     "output_type": "stream",
     "text": [
      "[*********************100%***********************]  1 of 1 completed\n"
     ]
    },
    {
     "name": "stdout",
     "output_type": "stream",
     "text": [
      "Data for POOL saved as POOL_30_years.csv\n",
      "Price          Close      High       Low      Open   Volume News_Sentiment\n",
      "Ticker          POOL      POOL      POOL      POOL     POOL               \n",
      "Date                                                                      \n",
      "1995-10-13  0.679944  0.728511  0.679944  0.679944  6328631           None\n",
      "1995-10-16  0.688039  0.712322  0.679944  0.712322   993263           None\n",
      "1995-10-17  0.679944  0.712322  0.679944  0.679944   276792           None\n",
      "1995-10-18  0.647566  0.679944  0.631376  0.647566  5322839           None\n",
      "1995-10-19  0.655660  0.663755  0.647566  0.655660  1140202           None\n"
     ]
    },
    {
     "name": "stderr",
     "output_type": "stream",
     "text": [
      "[*********************100%***********************]  1 of 1 completed\n"
     ]
    },
    {
     "name": "stdout",
     "output_type": "stream",
     "text": [
      "Data for PPG saved as PPG_30_years.csv\n",
      "Price          Close      High       Low      Open   Volume News_Sentiment\n",
      "Ticker           PPG       PPG       PPG       PPG      PPG               \n",
      "Date                                                                      \n",
      "1994-03-28  8.765489  9.073307  8.765489  9.000017   961600           None\n",
      "1994-03-29  8.618909  8.765489  8.545619  8.765489  1770000           None\n",
      "1994-03-30  8.633563  8.794801  8.618905  8.618905  1285600           None\n",
      "1994-03-31  8.721517  8.736175  8.574936  8.618911   694400           None\n",
      "1994-04-04  8.662885  8.662885  8.560279  8.574937   808400           None\n"
     ]
    },
    {
     "name": "stderr",
     "output_type": "stream",
     "text": [
      "[*********************100%***********************]  1 of 1 completed\n"
     ]
    },
    {
     "name": "stdout",
     "output_type": "stream",
     "text": [
      "Data for PPL saved as PPL_30_years.csv\n",
      "Price          Close      High       Low      Open  Volume News_Sentiment\n",
      "Ticker           PPL       PPL       PPL       PPL     PPL               \n",
      "Date                                                                     \n",
      "1994-03-28  2.422935  2.422935  2.410182  2.422935  216663           None\n",
      "1994-03-29  2.410181  2.435686  2.410181  2.422933  254456           None\n",
      "1994-03-30  2.359172  2.422934  2.359172  2.410181  530814           None\n",
      "1994-03-31  2.346420  2.371924  2.308163  2.359172  400902           None\n",
      "1994-04-04  2.359172  2.371925  2.333668  2.346420  333691           None\n"
     ]
    },
    {
     "name": "stderr",
     "output_type": "stream",
     "text": [
      "[*********************100%***********************]  1 of 1 completed\n"
     ]
    },
    {
     "name": "stdout",
     "output_type": "stream",
     "text": [
      "Data for PFG saved as PFG_30_years.csv\n",
      "Price           Close       High        Low       Open    Volume  \\\n",
      "Ticker            PFG        PFG        PFG        PFG       PFG   \n",
      "Date                                                               \n",
      "2001-10-23  11.305689  11.515651  10.982669  11.036506  32584000   \n",
      "2001-10-24  11.924810  11.951729  11.305690  11.359526   5847500   \n",
      "2001-10-25  11.817136  11.924808  11.655625  11.844054   2038800   \n",
      "2001-10-26  11.574870  11.844053  11.521033  11.817135   3339100   \n",
      "2001-10-29  11.413364  11.844057  11.305691  11.844057   1758700   \n",
      "\n",
      "Price      News_Sentiment  \n",
      "Ticker                     \n",
      "Date                       \n",
      "2001-10-23           None  \n",
      "2001-10-24           None  \n",
      "2001-10-25           None  \n",
      "2001-10-26           None  \n",
      "2001-10-29           None  \n"
     ]
    },
    {
     "name": "stderr",
     "output_type": "stream",
     "text": [
      "[*********************100%***********************]  1 of 1 completed\n"
     ]
    },
    {
     "name": "stdout",
     "output_type": "stream",
     "text": [
      "Data for PG saved as PG_30_years.csv\n",
      "Price          Close      High       Low      Open   Volume News_Sentiment\n",
      "Ticker            PG        PG        PG        PG       PG               \n",
      "Date                                                                      \n",
      "1994-03-28  6.319308  6.377550  6.261065  6.304747  3897600           None\n",
      "1994-03-29  6.231944  6.348429  6.217383  6.290187  3462400           None\n",
      "1994-03-30  6.188261  6.319307  6.188261  6.231943  3923200           None\n",
      "1994-03-31  6.231944  6.290187  5.969853  6.202823  4791600           None\n",
      "1994-04-04  6.115462  6.319311  6.028098  6.071780  3906800           None\n"
     ]
    },
    {
     "name": "stderr",
     "output_type": "stream",
     "text": [
      "[*********************100%***********************]  1 of 1 completed\n"
     ]
    },
    {
     "name": "stdout",
     "output_type": "stream",
     "text": [
      "Data for PGR saved as PGR_30_years.csv\n",
      "Price          Close      High       Low      Open   Volume News_Sentiment\n",
      "Ticker           PGR       PGR       PGR       PGR      PGR               \n",
      "Date                                                                      \n",
      "1994-03-28  1.346625  1.368792  1.335542  1.363250  2236800           None\n",
      "1994-03-29  1.324457  1.352166  1.302291  1.341082  2307600           None\n",
      "1994-03-30  1.291208  1.324458  1.285666  1.313375  1974000           None\n",
      "1994-03-31  1.291208  1.296750  1.230250  1.296750  1302000           None\n",
      "1994-04-04  1.285666  1.291207  1.263499  1.269041   644400           None\n"
     ]
    },
    {
     "name": "stderr",
     "output_type": "stream",
     "text": [
      "[*********************100%***********************]  1 of 1 completed\n"
     ]
    },
    {
     "name": "stdout",
     "output_type": "stream",
     "text": [
      "Data for PLD saved as PLD_30_years.csv\n",
      "Price          Close      High       Low      Open   Volume News_Sentiment\n",
      "Ticker           PLD       PLD       PLD       PLD      PLD               \n",
      "Date                                                                      \n",
      "1997-11-21  7.746525  7.914928  7.662323  7.914928  3821400           None\n",
      "1997-11-24  7.662329  7.746530  7.493926  7.746530   541600           None\n",
      "1997-11-25  7.746525  7.746525  7.641273  7.704424   425000           None\n",
      "1997-11-26  7.662329  7.746530  7.662329  7.746530   165200           None\n",
      "1997-11-28  7.746525  7.746525  7.662323  7.662323    60500           None\n"
     ]
    },
    {
     "name": "stderr",
     "output_type": "stream",
     "text": [
      "[*********************100%***********************]  1 of 1 completed\n"
     ]
    },
    {
     "name": "stdout",
     "output_type": "stream",
     "text": [
      "Data for PRU saved as PRU_30_years.csv\n",
      "Price           Close       High        Low       Open    Volume  \\\n",
      "Ticker            PRU        PRU        PRU        PRU       PRU   \n",
      "Date                                                               \n",
      "2001-12-13  14.635997  14.985663  14.486141  14.536093  49466000   \n",
      "2001-12-14  14.825813  15.035613  14.745890  14.935708   9676300   \n",
      "2001-12-17  14.710925  14.960686  14.685948  14.960686   5110900   \n",
      "2001-12-18  14.960687  14.960687  14.680954  14.735901   5167700   \n",
      "2001-12-19  15.060595  15.080576  14.795848  14.910738   3693200   \n",
      "\n",
      "Price      News_Sentiment  \n",
      "Ticker                     \n",
      "Date                       \n",
      "2001-12-13           None  \n",
      "2001-12-14           None  \n",
      "2001-12-17           None  \n",
      "2001-12-18           None  \n",
      "2001-12-19           None  \n"
     ]
    },
    {
     "name": "stderr",
     "output_type": "stream",
     "text": [
      "[*********************100%***********************]  1 of 1 completed\n"
     ]
    },
    {
     "name": "stdout",
     "output_type": "stream",
     "text": [
      "Data for PEG saved as PEG_30_years.csv\n",
      "Price          Close      High       Low      Open   Volume News_Sentiment\n",
      "Ticker           PEG       PEG       PEG       PEG      PEG               \n",
      "Date                                                                      \n",
      "1994-03-28  3.503405  3.503405  3.444026  3.458871   742600           None\n",
      "1994-03-29  3.444026  3.503405  3.444026  3.488560   485400           None\n",
      "1994-03-30  3.384645  3.444025  3.369801  3.444025  1080800           None\n",
      "1994-03-31  3.310421  3.399491  3.236196  3.384646  1153800           None\n",
      "1994-04-04  3.310421  3.310421  3.206506  3.295576   773600           None\n"
     ]
    },
    {
     "name": "stderr",
     "output_type": "stream",
     "text": [
      "[*********************100%***********************]  1 of 1 completed\n"
     ]
    },
    {
     "name": "stdout",
     "output_type": "stream",
     "text": [
      "Data for PTC saved as PTC_30_years.csv\n",
      "Price           Close      High       Low      Open   Volume News_Sentiment\n",
      "Ticker            PTC       PTC       PTC       PTC      PTC               \n",
      "Date                                                                       \n",
      "1994-03-28  18.750000  19.53125  18.12500  19.53125  1216800           None\n",
      "1994-03-29  17.421875  18.75000  17.34375  18.75000  1429920           None\n",
      "1994-03-30  17.578125  17.96875  16.87500  17.18750  1435680           None\n",
      "1994-03-31  17.187500  17.81250  16.87500  17.65625   829760           None\n",
      "1994-04-04  17.421875  17.65625  16.56250  16.56250  1597600           None\n"
     ]
    },
    {
     "name": "stderr",
     "output_type": "stream",
     "text": [
      "[*********************100%***********************]  1 of 1 completed\n"
     ]
    },
    {
     "name": "stdout",
     "output_type": "stream",
     "text": [
      "Data for PSA saved as PSA_30_years.csv\n",
      "Price          Close      High       Low      Open  Volume News_Sentiment\n",
      "Ticker           PSA       PSA       PSA       PSA     PSA               \n",
      "Date                                                                     \n",
      "1994-03-28  4.575782  4.612388  4.502569  4.575782   55500           None\n",
      "1994-03-29  4.356145  4.539176  4.356145  4.502570   97800           None\n",
      "1994-03-30  4.282934  4.319540  4.246327  4.282934   82100           None\n",
      "1994-03-31  4.209720  4.246326  3.880263  4.246326  124200           None\n",
      "1994-04-04  4.136509  4.136509  3.916871  4.099903  595400           None\n"
     ]
    },
    {
     "name": "stderr",
     "output_type": "stream",
     "text": [
      "[*********************100%***********************]  1 of 1 completed\n"
     ]
    },
    {
     "name": "stdout",
     "output_type": "stream",
     "text": [
      "Data for PHM saved as PHM_30_years.csv\n",
      "Price          Close      High       Low      Open   Volume News_Sentiment\n",
      "Ticker           PHM       PHM       PHM       PHM      PHM               \n",
      "Date                                                                      \n",
      "1994-03-28  2.937124  3.010247  2.937124  3.010247   672800           None\n",
      "1994-03-29  2.912748  2.924935  2.839624  2.924935  1199200           None\n",
      "1994-03-30  2.876186  2.924935  2.863999  2.888373   417600           None\n",
      "1994-03-31  2.827439  2.876188  2.766503  2.864001  1822400           None\n",
      "1994-04-04  2.717752  2.790876  2.705565  2.778689   696000           None\n"
     ]
    },
    {
     "name": "stderr",
     "output_type": "stream",
     "text": [
      "[*********************100%***********************]  1 of 1 completed\n"
     ]
    },
    {
     "name": "stdout",
     "output_type": "stream",
     "text": [
      "Data for PWR saved as PWR_30_years.csv\n",
      "Price          Close      High       Low      Open   Volume News_Sentiment\n",
      "Ticker           PWR       PWR       PWR       PWR      PWR               \n",
      "Date                                                                      \n",
      "1998-02-12  7.365116  7.692454  7.201447  7.201447  3903750           None\n",
      "1998-02-13  7.365116  7.528786  7.283282  7.446950   504000           None\n",
      "1998-02-17  7.692456  7.774291  7.610621  7.610621   132600           None\n",
      "1998-02-18  8.183466  8.183466  7.733376  7.774293   140700           None\n",
      "1998-02-19  8.019794  8.510801  8.019794  8.265297   235050           None\n"
     ]
    },
    {
     "name": "stderr",
     "output_type": "stream",
     "text": [
      "[*********************100%***********************]  1 of 1 completed\n"
     ]
    },
    {
     "name": "stdout",
     "output_type": "stream",
     "text": [
      "Data for QCOM saved as QCOM_30_years.csv\n",
      "Price          Close      High       Low      Open   Volume News_Sentiment\n",
      "Ticker          QCOM      QCOM      QCOM      QCOM     QCOM               \n",
      "Date                                                                      \n",
      "1994-03-28  0.943422  1.030063  0.938609  1.030063  7006400           None\n",
      "1994-03-29  0.895288  0.972302  0.895288  0.943422  7643200           None\n",
      "1994-03-30  0.914542  0.924168  0.866408  0.895288  8185600           None\n",
      "1994-03-31  0.943422  0.943422  0.895289  0.924169  7176000           None\n",
      "1994-04-04  0.900102  0.943422  0.856781  0.895288  9300800           None\n"
     ]
    },
    {
     "name": "stderr",
     "output_type": "stream",
     "text": [
      "[*********************100%***********************]  1 of 1 completed\n"
     ]
    },
    {
     "name": "stdout",
     "output_type": "stream",
     "text": [
      "Data for DGX saved as DGX_30_years.csv\n",
      "Price          Close      High       Low      Open   Volume News_Sentiment\n",
      "Ticker           DGX       DGX       DGX       DGX      DGX               \n",
      "Date                                                                      \n",
      "1996-12-17  2.537845  2.719120  2.537845  2.719120  1272400           None\n",
      "1996-12-18  2.583162  2.605821  2.401887  2.537843  1186800           None\n",
      "1996-12-19  2.651140  2.696459  2.605822  2.605822   528800           None\n",
      "1996-12-20  2.696460  2.696460  2.628482  2.628482   233200           None\n",
      "1996-12-23  2.764436  2.787096  2.696458  2.719118    57200           None\n"
     ]
    },
    {
     "name": "stderr",
     "output_type": "stream",
     "text": [
      "[*********************100%***********************]  1 of 1 completed\n"
     ]
    },
    {
     "name": "stdout",
     "output_type": "stream",
     "text": [
      "Data for RL saved as RL_30_years.csv\n",
      "Price           Close       High        Low       Open    Volume  \\\n",
      "Ticker             RL         RL         RL         RL        RL   \n",
      "Date                                                               \n",
      "1997-06-12  23.820601  24.954915  23.347970  24.293231  19963800   \n",
      "1997-06-13  24.482285  24.860389  24.009654  24.009654   3661100   \n",
      "1997-06-16  23.347971  24.576812  23.158919  24.387759   2481700   \n",
      "1997-06-17  22.497234  22.875339  22.024603  22.780813   2283800   \n",
      "1997-06-18  21.457445  22.497233  21.268393  22.497233   1749900   \n",
      "\n",
      "Price      News_Sentiment  \n",
      "Ticker                     \n",
      "Date                       \n",
      "1997-06-12           None  \n",
      "1997-06-13           None  \n",
      "1997-06-16           None  \n",
      "1997-06-17           None  \n",
      "1997-06-18           None  \n"
     ]
    },
    {
     "name": "stderr",
     "output_type": "stream",
     "text": [
      "[*********************100%***********************]  1 of 1 completed\n"
     ]
    },
    {
     "name": "stdout",
     "output_type": "stream",
     "text": [
      "Data for RJF saved as RJF_30_years.csv\n",
      "Price          Close      High       Low      Open   Volume News_Sentiment\n",
      "Ticker           RJF       RJF       RJF       RJF      RJF               \n",
      "Date                                                                      \n",
      "1994-03-28  1.312482  1.344235  1.312482  1.323066   258947           None\n",
      "1994-03-29  1.280729  1.291312  1.270144  1.280729  2443669           None\n",
      "1994-03-30  1.312482  1.323066  1.270144  1.301897   410822           None\n",
      "1994-03-31  1.312482  1.333651  1.301897  1.333651   467775           None\n",
      "1994-04-04  1.291313  1.312483  1.280729  1.291313   394875           None\n"
     ]
    },
    {
     "name": "stderr",
     "output_type": "stream",
     "text": [
      "[*********************100%***********************]  1 of 1 completed\n"
     ]
    },
    {
     "name": "stdout",
     "output_type": "stream",
     "text": [
      "Data for RTX saved as RTX_30_years.csv\n",
      "Price          Close      High       Low      Open   Volume News_Sentiment\n",
      "Ticker           RTX       RTX       RTX       RTX      RTX               \n",
      "Date                                                                      \n",
      "1994-03-28  2.724362  2.750112  2.657412  2.750112  4492421           None\n",
      "1994-03-29  2.672861  2.719212  2.667711  2.719212  3022914           None\n",
      "1994-03-30  2.575010  2.672861  2.575010  2.667711  5861503           None\n",
      "1994-03-31  2.559560  2.580159  2.502909  2.575010  7756862           None\n",
      "1994-04-04  2.564711  2.564711  2.502911  2.523511  8539922           None\n"
     ]
    },
    {
     "name": "stderr",
     "output_type": "stream",
     "text": [
      "[*********************100%***********************]  1 of 1 completed\n"
     ]
    },
    {
     "name": "stdout",
     "output_type": "stream",
     "text": [
      "Data for O saved as O_30_years.csv\n",
      "Price          Close      High       Low      Open  Volume News_Sentiment\n",
      "Ticker             O         O         O         O       O               \n",
      "Date                                                                     \n",
      "1994-10-18  1.210661  1.220120  1.191745  1.210661  418166           None\n",
      "1994-10-19  1.314701  1.324159  1.220118  1.220118  249950           None\n",
      "1994-10-20  1.324159  1.371451  1.324159  1.333617  141590           None\n",
      "1994-10-21  1.305246  1.333620  1.295787  1.324162   68731           None\n",
      "1994-10-24  1.276869  1.333619  1.276869  1.305244   75749           None\n"
     ]
    },
    {
     "name": "stderr",
     "output_type": "stream",
     "text": [
      "[*********************100%***********************]  1 of 1 completed\n"
     ]
    },
    {
     "name": "stdout",
     "output_type": "stream",
     "text": [
      "Data for REG saved as REG_30_years.csv\n",
      "Price          Close      High       Low      Open  Volume News_Sentiment\n",
      "Ticker           REG       REG       REG       REG     REG               \n",
      "Date                                                                     \n",
      "1994-03-28  3.493139  3.517229  3.493139  3.517229    2400           None\n",
      "1994-03-29  3.493139  3.517229  3.493139  3.517229    1300           None\n",
      "1994-03-30  3.469047  3.493138  3.469047  3.493138  101300           None\n",
      "1994-03-31  3.444956  3.469047  3.444956  3.469047   16300           None\n",
      "1994-04-04  3.372684  3.420865  3.348593  3.420865    6300           None\n"
     ]
    },
    {
     "name": "stderr",
     "output_type": "stream",
     "text": [
      "[*********************100%***********************]  1 of 1 completed\n"
     ]
    },
    {
     "name": "stdout",
     "output_type": "stream",
     "text": [
      "Data for REGN saved as REGN_30_years.csv\n",
      "Price          Close      High       Low      Open  Volume News_Sentiment\n",
      "Ticker          REGN      REGN      REGN      REGN    REGN               \n",
      "Date                                                                     \n",
      "1994-03-28  7.115856  7.115856  6.866177  6.991016  118900           None\n",
      "1994-03-29  6.866177  7.115856  6.866177  7.115856   29200           None\n",
      "1994-03-30  6.741337  7.115856  6.491658  6.866176  132100           None\n",
      "1994-03-31  6.866177  6.866177  6.491658  6.491658   68500           None\n",
      "1994-04-04  6.366818  6.741337  6.117139  6.741337  287000           None\n"
     ]
    },
    {
     "name": "stderr",
     "output_type": "stream",
     "text": [
      "[*********************100%***********************]  1 of 1 completed\n"
     ]
    },
    {
     "name": "stdout",
     "output_type": "stream",
     "text": [
      "Data for RF saved as RF_30_years.csv\n",
      "Price          Close      High       Low      Open  Volume News_Sentiment\n",
      "Ticker            RF        RF        RF        RF      RF               \n",
      "Date                                                                     \n",
      "1994-03-28  4.680262  4.680262  4.606557  4.661835  285686           None\n",
      "1994-03-29  4.717114  4.717114  4.680262  4.698688  253834           None\n",
      "1994-03-30  4.680262  4.717114  4.680262  4.717114  439271           None\n",
      "1994-03-31  4.606558  4.717115  4.588132  4.717115  339268           None\n",
      "1994-04-04  4.551279  4.569705  4.496000  4.569705  268649           None\n"
     ]
    },
    {
     "name": "stderr",
     "output_type": "stream",
     "text": [
      "[*********************100%***********************]  1 of 1 completed\n"
     ]
    },
    {
     "name": "stdout",
     "output_type": "stream",
     "text": [
      "Data for RSG saved as RSG_30_years.csv\n",
      "Price           Close       High        Low       Open    Volume  \\\n",
      "Ticker            RSG        RSG        RSG        RSG       RSG   \n",
      "Date                                                               \n",
      "1998-07-01  10.806852  10.886314  10.568466  10.700902  20818650   \n",
      "1998-07-02  10.886311  10.912799  10.806848  10.833337   3037200   \n",
      "1998-07-06  10.965770  11.018744  10.806846  10.886308   1737750   \n",
      "1998-07-07  10.806852  11.018751  10.806852  11.018751   1077000   \n",
      "1998-07-08  10.886311  10.912799  10.806848  10.859822   1180500   \n",
      "\n",
      "Price      News_Sentiment  \n",
      "Ticker                     \n",
      "Date                       \n",
      "1998-07-01           None  \n",
      "1998-07-02           None  \n",
      "1998-07-06           None  \n",
      "1998-07-07           None  \n",
      "1998-07-08           None  \n"
     ]
    },
    {
     "name": "stderr",
     "output_type": "stream",
     "text": [
      "[*********************100%***********************]  1 of 1 completed\n"
     ]
    },
    {
     "name": "stdout",
     "output_type": "stream",
     "text": [
      "Data for RMD saved as RMD_30_years.csv\n",
      "Price          Close      High       Low      Open    Volume News_Sentiment\n",
      "Ticker           RMD       RMD       RMD       RMD       RMD               \n",
      "Date                                                                       \n",
      "1995-06-02  0.562052  0.627407  0.548981  0.627407  14915200           None\n",
      "1995-06-05  0.535910  0.568588  0.532642  0.562052   4787200           None\n",
      "1995-06-06  0.535910  0.555517  0.535910  0.548981   4769600           None\n",
      "1995-06-07  0.535910  0.535910  0.509768  0.535910   4793600           None\n",
      "1995-06-08  0.588194  0.588194  0.522839  0.535910   7235200           None\n"
     ]
    },
    {
     "name": "stderr",
     "output_type": "stream",
     "text": [
      "[*********************100%***********************]  1 of 1 completed\n"
     ]
    },
    {
     "name": "stdout",
     "output_type": "stream",
     "text": [
      "Data for RVTY saved as RVTY_30_years.csv\n",
      "Price          Close      High       Low      Open  Volume News_Sentiment\n",
      "Ticker          RVTY      RVTY      RVTY      RVTY    RVTY               \n",
      "Date                                                                     \n",
      "1994-03-28  5.792498  5.834171  5.625808  5.834171  192400           None\n",
      "1994-03-29  5.625809  5.917517  5.584136  5.792499  252000           None\n",
      "1994-03-30  5.542465  5.667483  5.542465  5.625811  327600           None\n",
      "1994-03-31  5.459116  5.667479  5.459116  5.542461  403000           None\n",
      "1994-04-04  5.209081  5.375771  5.084063  5.375771  497400           None\n"
     ]
    },
    {
     "name": "stderr",
     "output_type": "stream",
     "text": [
      "[*********************100%***********************]  1 of 1 completed\n"
     ]
    },
    {
     "name": "stdout",
     "output_type": "stream",
     "text": [
      "Data for ROK saved as ROK_30_years.csv\n",
      "Price          Close      High       Low      Open  Volume News_Sentiment\n",
      "Ticker           ROK       ROK       ROK       ROK     ROK               \n",
      "Date                                                                     \n",
      "1994-03-28  5.379752  5.464606  5.193073  5.464606  525900           None\n",
      "1994-03-29  5.379752  5.447635  5.345811  5.396723  166700           None\n",
      "1994-03-30  5.210043  5.379752  5.210043  5.362781  447100           None\n",
      "1994-03-31  5.379752  5.430665  4.972452  5.091248  671400           None\n",
      "1994-04-04  5.294898  5.379752  5.227015  5.227015  486000           None\n"
     ]
    },
    {
     "name": "stderr",
     "output_type": "stream",
     "text": [
      "[*********************100%***********************]  1 of 1 completed\n"
     ]
    },
    {
     "name": "stdout",
     "output_type": "stream",
     "text": [
      "Data for ROL saved as ROL_30_years.csv\n",
      "Price          Close      High       Low      Open  Volume News_Sentiment\n",
      "Ticker           ROL       ROL       ROL       ROL     ROL               \n",
      "Date                                                                     \n",
      "1994-03-28  1.025475  1.057521  1.020897  1.057521  642431           None\n",
      "1994-03-29  1.016320  1.025476  1.016320  1.025476  208448           None\n",
      "1994-03-30  1.020898  1.025476  0.998007  1.007163  387851           None\n",
      "1994-03-31  0.993429  1.011741  0.979695  1.011741  785953           None\n",
      "1994-04-04  0.975117  0.988852  0.975117  0.988852  476698           None\n"
     ]
    },
    {
     "name": "stderr",
     "output_type": "stream",
     "text": [
      "[*********************100%***********************]  1 of 1 completed\n"
     ]
    },
    {
     "name": "stdout",
     "output_type": "stream",
     "text": [
      "Data for ROP saved as ROP_30_years.csv\n",
      "Price          Close      High       Low      Open  Volume News_Sentiment\n",
      "Ticker           ROP       ROP       ROP       ROP     ROP               \n",
      "Date                                                                     \n",
      "1994-03-28  5.752562  5.752562  5.498023  5.752562  146000           None\n",
      "1994-03-29  5.650748  5.752564  5.447118  5.498025  113600           None\n",
      "1994-03-30  5.294389  5.599834  5.294389  5.396204   97200           None\n",
      "1994-03-31  5.498019  5.498019  5.090758  5.090758  118800           None\n",
      "1994-04-04  4.988945  5.294391  4.887130  5.039853  386400           None\n"
     ]
    },
    {
     "name": "stderr",
     "output_type": "stream",
     "text": [
      "[*********************100%***********************]  1 of 1 completed\n"
     ]
    },
    {
     "name": "stdout",
     "output_type": "stream",
     "text": [
      "Data for ROST saved as ROST_30_years.csv\n",
      "Price          Close      High       Low      Open   Volume News_Sentiment\n",
      "Ticker          ROST      ROST      ROST      ROST     ROST               \n",
      "Date                                                                      \n",
      "1994-03-28  0.368290  0.374135  0.368290  0.374135  3216000           None\n",
      "1994-03-29  0.362443  0.377058  0.362443  0.371212  4624000           None\n",
      "1994-03-30  0.359521  0.365366  0.353674  0.362443  9424000           None\n",
      "1994-03-31  0.356598  0.362443  0.350752  0.362443  7379200           None\n",
      "1994-04-04  0.353675  0.356598  0.347829  0.353675  5046400           None\n"
     ]
    },
    {
     "name": "stderr",
     "output_type": "stream",
     "text": [
      "[*********************100%***********************]  1 of 1 completed\n"
     ]
    },
    {
     "name": "stdout",
     "output_type": "stream",
     "text": [
      "Data for RCL saved as RCL_30_years.csv\n",
      "Price          Close      High       Low      Open  Volume News_Sentiment\n",
      "Ticker           RCL       RCL       RCL       RCL     RCL               \n",
      "Date                                                                     \n",
      "1994-03-28  8.731619  8.812467  8.731619  8.812467   58400           None\n",
      "1994-03-29  8.610350  8.812471  8.610350  8.772046   63000           None\n",
      "1994-03-30  8.367801  8.650770  8.367801  8.610346   76200           None\n",
      "1994-03-31  8.044409  8.408226  8.003985  8.367802   36200           None\n",
      "1994-04-04  7.761438  7.882710  7.640165  7.882710  274800           None\n"
     ]
    },
    {
     "name": "stderr",
     "output_type": "stream",
     "text": [
      "[*********************100%***********************]  1 of 1 completed\n"
     ]
    },
    {
     "name": "stdout",
     "output_type": "stream",
     "text": [
      "Data for SPGI saved as SPGI_30_years.csv\n",
      "Price          Close      High       Low      Open   Volume News_Sentiment\n",
      "Ticker          SPGI      SPGI      SPGI      SPGI     SPGI               \n",
      "Date                                                                      \n",
      "1994-03-28  4.856240  4.890804  4.847599  4.864881   911200           None\n",
      "1994-03-29  4.778471  4.890803  4.778471  4.873521   560800           None\n",
      "1994-03-30  4.631575  4.761190  4.614293  4.761190  1253600           None\n",
      "1994-03-31  4.519242  4.631575  4.458755  4.631575  1757600           None\n",
      "1994-04-04  4.380985  4.493318  4.320498  4.450113  1232800           None\n"
     ]
    },
    {
     "name": "stderr",
     "output_type": "stream",
     "text": [
      "[*********************100%***********************]  1 of 1 completed\n"
     ]
    },
    {
     "name": "stdout",
     "output_type": "stream",
     "text": [
      "Data for CRM saved as CRM_30_years.csv\n",
      "Price          Close      High       Low      Open    Volume News_Sentiment\n",
      "Ticker           CRM       CRM       CRM       CRM       CRM               \n",
      "Date                                                                       \n",
      "2004-06-23  4.276116  4.300977  3.667018  3.729171  43574400           None\n",
      "2004-06-24  4.166727  4.397936  4.102088  4.363130   8887200           None\n",
      "2004-06-25  3.928060  4.164241  3.925574  4.104574   6710000           None\n",
      "2004-06-28  3.977782  4.029991  3.838560  3.977782   2270800           None\n",
      "2004-06-29  4.077227  4.151811  3.935519  3.977783   2112000           None\n"
     ]
    },
    {
     "name": "stderr",
     "output_type": "stream",
     "text": [
      "[*********************100%***********************]  1 of 1 completed\n"
     ]
    },
    {
     "name": "stdout",
     "output_type": "stream",
     "text": [
      "Data for SBAC saved as SBAC_30_years.csv\n",
      "Price          Close      High       Low      Open   Volume News_Sentiment\n",
      "Ticker          SBAC      SBAC      SBAC      SBAC     SBAC               \n",
      "Date                                                                      \n",
      "1999-06-16  8.323847  8.734177  7.620423  8.499703  5718100           None\n",
      "1999-06-17  8.147992  8.323848  7.268712  8.206611   542200           None\n",
      "1999-06-18  8.441084  8.558321  8.030753  8.030753   557600           None\n",
      "1999-06-21  8.675559  9.144508  8.441084  8.499703   218000           None\n",
      "1999-06-22  8.499704  8.910035  8.441086  8.499704   281400           None\n"
     ]
    },
    {
     "name": "stderr",
     "output_type": "stream",
     "text": [
      "[*********************100%***********************]  1 of 1 completed\n"
     ]
    },
    {
     "name": "stdout",
     "output_type": "stream",
     "text": [
      "Data for SLB saved as SLB_30_years.csv\n",
      "Price          Close      High       Low      Open   Volume News_Sentiment\n",
      "Ticker           SLB       SLB       SLB       SLB      SLB               \n",
      "Date                                                                      \n",
      "1994-03-28  6.873752  7.076840  6.842508  7.076840  2942800           None\n",
      "1994-03-29  6.623802  6.905001  6.623802  6.858134  5237600           None\n",
      "1994-03-30  6.545689  6.701910  6.530066  6.655044  3100800           None\n",
      "1994-03-31  6.608177  6.608177  6.342600  6.545689  4519600           None\n",
      "1994-04-04  6.655043  6.655043  6.420711  6.420711  3760000           None\n"
     ]
    },
    {
     "name": "stderr",
     "output_type": "stream",
     "text": [
      "[*********************100%***********************]  1 of 1 completed\n"
     ]
    },
    {
     "name": "stdout",
     "output_type": "stream",
     "text": [
      "Data for STX saved as STX_30_years.csv\n",
      "Price          Close      High       Low      Open    Volume News_Sentiment\n",
      "Ticker           STX       STX       STX       STX       STX               \n",
      "Date                                                                       \n",
      "2002-12-11  5.343148  5.575459  5.226993  5.343148  36719700           None\n",
      "2002-12-12  5.194467  5.384962  5.120128  5.343146   9195600           None\n",
      "2002-12-13  5.305975  5.343145  5.087603  5.157296   7739400           None\n",
      "2002-12-16  5.394256  5.398902  5.171238  5.259516   3836400           None\n",
      "2002-12-17  5.343148  5.473242  5.319917  5.389611   2729900           None\n"
     ]
    },
    {
     "name": "stderr",
     "output_type": "stream",
     "text": [
      "[*********************100%***********************]  1 of 1 completed\n",
      "[*********************100%***********************]  1 of 1 completed"
     ]
    },
    {
     "name": "stdout",
     "output_type": "stream",
     "text": [
      "Data for SRE saved as SRE_30_years.csv\n",
      "Price          Close      High       Low      Open    Volume News_Sentiment\n",
      "Ticker           SRE       SRE       SRE       SRE       SRE               \n",
      "Date                                                                       \n",
      "1998-06-29  5.425162  5.484519  5.306450  5.365806  12615000           None\n",
      "1998-06-30  5.282705  5.401418  5.270834  5.401418   3075200           None\n",
      "1998-07-01  5.294578  5.318320  5.152123  5.270835   1186200           None\n",
      "1998-07-02  5.258963  5.270834  5.175864  5.270834   1127200           None\n",
      "1998-07-06  5.163991  5.258961  5.152120  5.258961   1233600           None\n",
      "Data for NOW saved as NOW_30_years.csv\n",
      "Price           Close       High        Low   Open    Volume News_Sentiment\n",
      "Ticker            NOW        NOW        NOW    NOW       NOW               \n",
      "Date                                                                       \n",
      "2012-06-29  24.600000  24.750000  22.830000  23.75  10922400           None\n",
      "2012-07-02  24.770000  25.200001  24.100000  24.75    656700           None\n",
      "2012-07-03  25.309999  25.320000  24.600000  24.85    401100           None\n",
      "2012-07-05  25.959999  26.260000  25.139999  25.50    541000           None\n",
      "2012-07-06  25.840000  26.120001  25.100000  25.75    355100           None\n"
     ]
    },
    {
     "name": "stderr",
     "output_type": "stream",
     "text": [
      "\n",
      "[*********************100%***********************]  1 of 1 completed\n"
     ]
    },
    {
     "name": "stdout",
     "output_type": "stream",
     "text": [
      "Data for SHW saved as SHW_30_years.csv\n",
      "Price          Close      High       Low      Open   Volume News_Sentiment\n",
      "Ticker           SHW       SHW       SHW       SHW      SHW               \n",
      "Date                                                                      \n",
      "1994-03-28  3.312481  3.325370  3.312481  3.325370   952200           None\n",
      "1994-03-29  3.273814  3.325370  3.273814  3.312481  1149600           None\n",
      "1994-03-30  3.260925  3.325370  3.248036  3.286703  1791600           None\n",
      "1994-03-31  3.286703  3.299592  3.222258  3.299592  3606600           None\n",
      "1994-04-04  3.235146  3.273813  3.209368  3.222257  1732200           None\n"
     ]
    },
    {
     "name": "stderr",
     "output_type": "stream",
     "text": [
      "[*********************100%***********************]  1 of 1 completed\n"
     ]
    },
    {
     "name": "stdout",
     "output_type": "stream",
     "text": [
      "Data for SPG saved as SPG_30_years.csv\n",
      "Price          Close      High       Low      Open  Volume News_Sentiment\n",
      "Ticker           SPG       SPG       SPG       SPG     SPG               \n",
      "Date                                                                     \n",
      "1994-03-28  4.996427  5.184086  4.996427  5.184086  212144           None\n",
      "1994-03-29  4.855684  4.996428  4.832227  4.996428  482792           None\n",
      "1994-03-30  4.855684  4.855684  4.503823  4.738397  314283           None\n",
      "1994-03-31  4.808769  4.902598  4.785311  4.855683  207942           None\n",
      "1994-04-04  4.691480  4.855681  4.433448  4.503820  224750           None\n"
     ]
    },
    {
     "name": "stderr",
     "output_type": "stream",
     "text": [
      "[*********************100%***********************]  1 of 1 completed\n"
     ]
    },
    {
     "name": "stdout",
     "output_type": "stream",
     "text": [
      "Data for SWKS saved as SWKS_30_years.csv\n",
      "Price          Close      High       Low      Open Volume News_Sentiment\n",
      "Ticker          SWKS      SWKS      SWKS      SWKS   SWKS               \n",
      "Date                                                                    \n",
      "1994-03-28  0.926791  0.961117  0.926791  0.961117   6900           None\n",
      "1994-03-29  0.926791  0.926791  0.892465  0.926791  70800           None\n",
      "1994-03-30  0.892465  0.926791  0.892465  0.926791   1800           None\n",
      "1994-03-31  0.858140  0.909628  0.858140  0.892465  18300           None\n",
      "1994-04-04  0.875303  0.892465  0.858140  0.875303  27900           None\n"
     ]
    },
    {
     "name": "stderr",
     "output_type": "stream",
     "text": [
      "[*********************100%***********************]  1 of 1 completed\n"
     ]
    },
    {
     "name": "stdout",
     "output_type": "stream",
     "text": [
      "Data for SJM saved as SJM_30_years.csv\n",
      "Price           Close       High        Low       Open Volume News_Sentiment\n",
      "Ticker            SJM        SJM        SJM        SJM    SJM               \n",
      "Date                                                                        \n",
      "1994-10-31  11.424306  11.664818  11.243922  11.243922  32800           None\n",
      "1994-11-01  11.243924  11.424308  11.243924  11.424308  13200           None\n",
      "1994-11-02  11.424306  11.424306  11.183794  11.243922   7000           None\n",
      "1994-11-03  11.364175  11.484431  11.364175  11.424303   5400           None\n",
      "1994-11-04  11.123671  11.424310  11.123671  11.364182   9800           None\n"
     ]
    },
    {
     "name": "stderr",
     "output_type": "stream",
     "text": [
      "[*********************100%***********************]  1 of 1 completed\n",
      "\n",
      "1 Failed download:\n",
      "['SW']: YFPricesMissingError('possibly delisted; no price data found  (1d 1994-03-28 -> 2024-03-28) (Yahoo error = \"Data doesn\\'t exist for startDate = 764830800, endDate = 1711598400\")')\n"
     ]
    },
    {
     "name": "stdout",
     "output_type": "stream",
     "text": [
      "Data for SW saved as SW_30_years.csv\n",
      "Empty DataFrame\n",
      "Columns: [(Adj Close, SW), (Close, SW), (High, SW), (Low, SW), (Open, SW), (Volume, SW), (News_Sentiment, )]\n",
      "Index: []\n"
     ]
    },
    {
     "name": "stderr",
     "output_type": "stream",
     "text": [
      "[*********************100%***********************]  1 of 1 completed\n"
     ]
    },
    {
     "name": "stdout",
     "output_type": "stream",
     "text": [
      "Data for SNA saved as SNA_30_years.csv\n",
      "Price           Close       High        Low       Open  Volume News_Sentiment\n",
      "Ticker            SNA        SNA        SNA        SNA     SNA               \n",
      "Date                                                                         \n",
      "1994-03-28  12.470184  12.507972  12.130088  12.167876  153450           None\n",
      "1994-03-29  12.432390  12.583543  12.356813  12.356813  137700           None\n",
      "1994-03-30  12.167875  12.319030  12.092300  12.281241   93750           None\n",
      "1994-03-31  12.092298  12.167873  11.941143  12.092298  258900           None\n",
      "1994-04-04  12.130085  12.205662  11.978932  12.167873  133200           None\n"
     ]
    },
    {
     "name": "stderr",
     "output_type": "stream",
     "text": [
      "[*********************100%***********************]  1 of 1 completed\n",
      "\n",
      "1 Failed download:\n",
      "['SOLV']: YFPricesMissingError('possibly delisted; no price data found  (1d 1994-03-28 -> 2024-03-28) (Yahoo error = \"Data doesn\\'t exist for startDate = 764830800, endDate = 1711598400\")')\n"
     ]
    },
    {
     "name": "stdout",
     "output_type": "stream",
     "text": [
      "Data for SOLV saved as SOLV_30_years.csv\n",
      "Empty DataFrame\n",
      "Columns: [(Adj Close, SOLV), (Close, SOLV), (High, SOLV), (Low, SOLV), (Open, SOLV), (Volume, SOLV), (News_Sentiment, )]\n",
      "Index: []\n"
     ]
    },
    {
     "name": "stderr",
     "output_type": "stream",
     "text": [
      "[*********************100%***********************]  1 of 1 completed\n"
     ]
    },
    {
     "name": "stdout",
     "output_type": "stream",
     "text": [
      "Data for SO saved as SO_30_years.csv\n",
      "Price          Close      High       Low      Open   Volume News_Sentiment\n",
      "Ticker            SO        SO        SO        SO       SO               \n",
      "Date                                                                      \n",
      "1994-03-28  2.815787  2.815787  2.728340  2.763318   824358           None\n",
      "1994-03-29  2.763319  2.815787  2.763319  2.798298  1028974           None\n",
      "1994-03-30  2.693362  2.780808  2.693362  2.780808  1309871           None\n",
      "1994-03-31  2.658383  2.728340  2.588425  2.710851  1488132           None\n",
      "1994-04-04  2.658383  2.675872  2.605915  2.623404  1224259           None\n"
     ]
    },
    {
     "name": "stderr",
     "output_type": "stream",
     "text": [
      "[*********************100%***********************]  1 of 1 completed\n"
     ]
    },
    {
     "name": "stdout",
     "output_type": "stream",
     "text": [
      "Data for LUV saved as LUV_30_years.csv\n",
      "Price          Close      High       Low      Open   Volume News_Sentiment\n",
      "Ticker           LUV       LUV       LUV       LUV      LUV               \n",
      "Date                                                                      \n",
      "1994-03-28  5.623181  5.792299  5.580902  5.750020  3071925           None\n",
      "1994-03-29  5.538626  5.644325  5.538626  5.623184  1598231           None\n",
      "1994-03-30  5.348367  5.496345  5.284948  5.496345  4235794           None\n",
      "1994-03-31  5.538626  5.538626  5.284948  5.348368  2245219           None\n",
      "1994-04-04  5.432925  5.475205  5.369506  5.411786  2559094           None\n"
     ]
    },
    {
     "name": "stderr",
     "output_type": "stream",
     "text": [
      "[*********************100%***********************]  1 of 1 completed\n"
     ]
    },
    {
     "name": "stdout",
     "output_type": "stream",
     "text": [
      "Data for SWK saved as SWK_30_years.csv\n",
      "Price          Close      High       Low      Open  Volume News_Sentiment\n",
      "Ticker           SWK       SWK       SWK       SWK     SWK               \n",
      "Date                                                                     \n",
      "1994-03-28  8.732105  8.732105  8.676487  8.704296   67800           None\n",
      "1994-03-29  8.787724  8.815534  8.704297  8.704297   57400           None\n",
      "1994-03-30  8.676487  8.759915  8.648678  8.676487   76600           None\n",
      "1994-03-31  8.759915  8.787725  8.593060  8.648678  144200           None\n",
      "1994-04-04  8.648682  8.759919  8.593063  8.704300  142200           None\n"
     ]
    },
    {
     "name": "stderr",
     "output_type": "stream",
     "text": [
      "[*********************100%***********************]  1 of 1 completed\n"
     ]
    },
    {
     "name": "stdout",
     "output_type": "stream",
     "text": [
      "Data for SBUX saved as SBUX_30_years.csv\n",
      "Price          Close      High       Low      Open    Volume News_Sentiment\n",
      "Ticker          SBUX      SBUX      SBUX      SBUX      SBUX               \n",
      "Date                                                                       \n",
      "1994-03-28  0.595705  0.595705  0.583791  0.583791  17526400           None\n",
      "1994-03-29  0.577835  0.601663  0.559963  0.601663  22563200           None\n",
      "1994-03-30  0.595705  0.601663  0.565921  0.571877  16764800           None\n",
      "1994-03-31  0.580813  0.601663  0.571877  0.589749  19068800           None\n",
      "1994-04-04  0.574856  0.583791  0.542092  0.559963  18598400           None\n"
     ]
    },
    {
     "name": "stderr",
     "output_type": "stream",
     "text": [
      "[*********************100%***********************]  1 of 1 completed\n"
     ]
    },
    {
     "name": "stdout",
     "output_type": "stream",
     "text": [
      "Data for STT saved as STT_30_years.csv\n",
      "Price          Close      High       Low      Open   Volume News_Sentiment\n",
      "Ticker           STT       STT       STT       STT      STT               \n",
      "Date                                                                      \n",
      "1994-03-28  5.426384  5.444779  5.334412  5.426384   912800           None\n",
      "1994-03-29  5.371202  5.444780  5.334413  5.389597  1165600           None\n",
      "1994-03-30  5.316017  5.371200  5.279228  5.334411  1949600           None\n",
      "1994-03-31  5.297622  5.316016  5.187255  5.297622  2563200           None\n",
      "1994-04-04  5.076889  5.279228  5.076889  5.242439  1433600           None\n"
     ]
    },
    {
     "name": "stderr",
     "output_type": "stream",
     "text": [
      "[*********************100%***********************]  1 of 1 completed\n"
     ]
    },
    {
     "name": "stdout",
     "output_type": "stream",
     "text": [
      "Data for STLD saved as STLD_30_years.csv\n",
      "Price          Close      High       Low      Open    Volume News_Sentiment\n",
      "Ticker          STLD      STLD      STLD      STLD      STLD               \n",
      "Date                                                                       \n",
      "1996-11-22  2.991243  2.991243  2.710186  2.810564  16753600           None\n",
      "1996-11-25  2.870788  2.971165  2.730260  2.910939   3246400           None\n",
      "1996-11-26  2.830639  2.910941  2.790488  2.910941   1731600           None\n",
      "1996-11-27  2.810564  2.890866  2.810564  2.890866    626400           None\n",
      "1996-11-29  2.931016  2.931016  2.810563  2.890865    374000           None\n"
     ]
    },
    {
     "name": "stderr",
     "output_type": "stream",
     "text": [
      "[*********************100%***********************]  1 of 1 completed\n"
     ]
    },
    {
     "name": "stdout",
     "output_type": "stream",
     "text": [
      "Data for STE saved as STE_30_years.csv\n",
      "Price          Close      High       Low      Open   Volume News_Sentiment\n",
      "Ticker           STE       STE       STE       STE      STE               \n",
      "Date                                                                      \n",
      "1994-03-28  4.489264  4.718308  4.443455  4.718308   346000           None\n",
      "1994-03-29  4.351840  4.535075  4.351840  4.535075   810800           None\n",
      "1994-03-30  4.122792  4.351836  4.122792  4.306027  1213200           None\n",
      "1994-03-31  4.306028  4.351837  4.054080  4.122793  1374800           None\n",
      "1994-04-04  4.306028  4.397646  4.168602  4.260220   945200           None\n"
     ]
    },
    {
     "name": "stderr",
     "output_type": "stream",
     "text": [
      "[*********************100%***********************]  1 of 1 completed\n",
      "[*********************100%***********************]  1 of 1 completed"
     ]
    },
    {
     "name": "stdout",
     "output_type": "stream",
     "text": [
      "Data for SYK saved as SYK_30_years.csv\n",
      "Price          Close      High       Low      Open   Volume News_Sentiment\n",
      "Ticker           SYK       SYK       SYK       SYK      SYK               \n",
      "Date                                                                      \n",
      "1994-03-28  2.747952  2.995515  2.747952  2.970759  3689600           None\n",
      "1994-03-29  2.673682  2.822220  2.574657  2.809842  6216800           None\n",
      "1994-03-30  2.648927  2.747953  2.574658  2.648927  9893600           None\n",
      "1994-03-31  2.723196  2.747953  2.648927  2.747953  2960800           None\n",
      "1994-04-04  2.797465  2.871734  2.624171  2.673683  2800000           None\n"
     ]
    },
    {
     "name": "stderr",
     "output_type": "stream",
     "text": [
      "\n",
      "[*********************100%***********************]  1 of 1 completed"
     ]
    },
    {
     "name": "stdout",
     "output_type": "stream",
     "text": [
      "Data for SMCI saved as SMCI_30_years.csv\n",
      "Price       Close   High    Low   Open    Volume News_Sentiment\n",
      "Ticker       SMCI   SMCI   SMCI   SMCI      SMCI               \n",
      "Date                                                           \n",
      "2007-03-29  0.876  0.931  0.866  0.885  60798000           None\n",
      "2007-03-30  0.899  0.900  0.855  0.883   4195000           None\n",
      "2007-04-02  1.038  1.059  0.899  0.900   7491000           None\n",
      "2007-04-03  1.058  1.166  1.040  1.070   8357000           None\n",
      "2007-04-04  1.016  1.099  1.003  1.040   3095000           None\n"
     ]
    },
    {
     "name": "stderr",
     "output_type": "stream",
     "text": [
      "\n"
     ]
    },
    {
     "name": "stdout",
     "output_type": "stream",
     "text": [
      "Data for SYF saved as SYF_30_years.csv\n",
      "Price           Close       High        Low       Open    Volume  \\\n",
      "Ticker            SYF        SYF        SYF        SYF       SYF   \n",
      "Date                                                               \n",
      "2014-07-31  18.611895  19.421107  18.288210  18.611895  56477500   \n",
      "2014-08-01  18.611895  18.611895  18.344854  18.530973   6458900   \n",
      "2014-08-04  18.611895  18.717092  18.530973  18.692816   3455900   \n",
      "2014-08-05  18.611895  18.619987  18.344854  18.603802   4450200   \n",
      "2014-08-06  18.595713  18.595713  18.344857  18.450054   6993400   \n",
      "\n",
      "Price      News_Sentiment  \n",
      "Ticker                     \n",
      "Date                       \n",
      "2014-07-31           None  \n",
      "2014-08-01           None  \n",
      "2014-08-04           None  \n",
      "2014-08-05           None  \n",
      "2014-08-06           None  \n"
     ]
    },
    {
     "name": "stderr",
     "output_type": "stream",
     "text": [
      "[*********************100%***********************]  1 of 1 completed\n"
     ]
    },
    {
     "name": "stdout",
     "output_type": "stream",
     "text": [
      "Data for SNPS saved as SNPS_30_years.csv\n",
      "Price          Close     High      Low     Open   Volume News_Sentiment\n",
      "Ticker          SNPS     SNPS     SNPS     SNPS     SNPS               \n",
      "Date                                                                   \n",
      "1994-03-28  11.31250  11.4375  11.0000  11.2500   753200           None\n",
      "1994-03-29  10.96875  11.3125  10.8125  11.2500  1583200           None\n",
      "1994-03-30  10.75000  10.8750  10.5625  10.6250   714400           None\n",
      "1994-03-31  10.93750  11.1250  10.2500  10.7500  1594800           None\n",
      "1994-04-04  10.65625  10.7500  10.3750  10.5625   628000           None\n"
     ]
    },
    {
     "name": "stderr",
     "output_type": "stream",
     "text": [
      "[*********************100%***********************]  1 of 1 completed\n"
     ]
    },
    {
     "name": "stdout",
     "output_type": "stream",
     "text": [
      "Data for SYY saved as SYY_30_years.csv\n",
      "Price          Close      High       Low      Open   Volume News_Sentiment\n",
      "Ticker           SYY       SYY       SYY       SYY      SYY               \n",
      "Date                                                                      \n",
      "1994-03-28  3.163467  3.193740  3.133195  3.178604  1601200           None\n",
      "1994-03-29  3.148329  3.163465  3.118057  3.148329  3674000           None\n",
      "1994-03-30  3.118058  3.148330  3.102922  3.133194  1644000           None\n",
      "1994-03-31  3.102922  3.118058  3.042377  3.118058  2350800           None\n",
      "1994-04-04  3.072649  3.087785  3.027240  3.042376  2104400           None\n"
     ]
    },
    {
     "name": "stderr",
     "output_type": "stream",
     "text": [
      "[*********************100%***********************]  1 of 1 completed\n"
     ]
    },
    {
     "name": "stdout",
     "output_type": "stream",
     "text": [
      "Data for TMUS saved as TMUS_30_years.csv\n",
      "Price           Close       High        Low       Open    Volume  \\\n",
      "Ticker           TMUS       TMUS       TMUS       TMUS      TMUS   \n",
      "Date                                                               \n",
      "2007-04-19  44.401421  44.741725  39.702001  40.674295  15862400   \n",
      "2007-04-20  46.264984  46.670107  43.915276  44.401421   3054700   \n",
      "2007-04-23  46.589088  46.896982  45.843665  46.346016   1876400   \n",
      "2007-04-24  47.318302  47.642398  46.200163  46.200163   1532950   \n",
      "2007-04-25  46.362217  48.209574  46.200167  47.885475   1225350   \n",
      "\n",
      "Price      News_Sentiment  \n",
      "Ticker                     \n",
      "Date                       \n",
      "2007-04-19           None  \n",
      "2007-04-20           None  \n",
      "2007-04-23           None  \n",
      "2007-04-24           None  \n",
      "2007-04-25           None  \n"
     ]
    },
    {
     "name": "stderr",
     "output_type": "stream",
     "text": [
      "[*********************100%***********************]  1 of 1 completed\n"
     ]
    },
    {
     "name": "stdout",
     "output_type": "stream",
     "text": [
      "Data for TROW saved as TROW_30_years.csv\n",
      "Price          Close      High       Low      Open   Volume News_Sentiment\n",
      "Ticker          TROW      TROW      TROW      TROW     TROW               \n",
      "Date                                                                      \n",
      "1994-03-28  1.921242  2.039472  1.921242  2.009914   654400           None\n",
      "1994-03-29  1.810400  1.921241  1.788232  1.906462  1592000           None\n",
      "1994-03-30  1.729118  1.817790  1.721728  1.788233  4251200           None\n",
      "1994-03-31  1.655224  1.729118  1.640446  1.729118  5905600           None\n",
      "1994-04-04  1.610886  1.655223  1.588718  1.633054  2128000           None\n"
     ]
    },
    {
     "name": "stderr",
     "output_type": "stream",
     "text": [
      "[*********************100%***********************]  1 of 1 completed\n"
     ]
    },
    {
     "name": "stdout",
     "output_type": "stream",
     "text": [
      "Data for TTWO saved as TTWO_30_years.csv\n",
      "Price          Close      High       Low      Open   Volume News_Sentiment\n",
      "Ticker          TTWO      TTWO      TTWO      TTWO     TTWO               \n",
      "Date                                                                      \n",
      "1997-04-15  3.916425  3.916425  3.416456  3.666441  1785600           None\n",
      "1997-04-16  3.708104  4.166410  3.583112  3.916425   443700           None\n",
      "1997-04-17  3.833096  4.083081  3.749768  3.749768   252150           None\n",
      "1997-04-18  3.999753  3.999753  3.833096  3.833096   165900           None\n",
      "1997-04-21  3.999753  3.999753  3.916425  3.916425    77400           None\n"
     ]
    },
    {
     "name": "stderr",
     "output_type": "stream",
     "text": [
      "[*********************100%***********************]  1 of 1 completed\n",
      "[*********************100%***********************]  1 of 1 completed"
     ]
    },
    {
     "name": "stdout",
     "output_type": "stream",
     "text": [
      "Data for TPR saved as TPR_30_years.csv\n",
      "Price          Close      High       Low      Open   Volume News_Sentiment\n",
      "Ticker           TPR       TPR       TPR       TPR      TPR               \n",
      "Date                                                                      \n",
      "2000-10-06  1.595780  1.687844  1.534404  1.667385  7776800           None\n",
      "2000-10-09  1.483258  1.590667  1.483258  1.590667  2759200           None\n",
      "2000-10-10  1.503716  1.554863  1.473028  1.473028  2257600           None\n",
      "2000-10-11  1.452569  1.498602  1.442340  1.498602  3709600           None\n",
      "2000-10-12  1.380964  1.432110  1.309358  1.432110  4552000           None\n"
     ]
    },
    {
     "name": "stderr",
     "output_type": "stream",
     "text": [
      "\n"
     ]
    },
    {
     "name": "stdout",
     "output_type": "stream",
     "text": [
      "Data for TRGP saved as TRGP_30_years.csv\n",
      "Price           Close       High        Low       Open    Volume  \\\n",
      "Ticker           TRGP       TRGP       TRGP       TRGP      TRGP   \n",
      "Date                                                               \n",
      "2010-12-07  13.177806  13.444563  12.537588  12.857697  10577600   \n",
      "2010-12-08  13.684646  13.871376  13.017753  13.076439    865200   \n",
      "2010-12-09  13.641964  14.004754  13.519256  13.524591    877800   \n",
      "2010-12-10  13.679309  13.759337  13.492580  13.535261    436900   \n",
      "2010-12-13  14.148806  14.239503  13.599285  13.604621    397800   \n",
      "\n",
      "Price      News_Sentiment  \n",
      "Ticker                     \n",
      "Date                       \n",
      "2010-12-07           None  \n",
      "2010-12-08           None  \n",
      "2010-12-09           None  \n",
      "2010-12-10           None  \n",
      "2010-12-13           None  \n"
     ]
    },
    {
     "name": "stderr",
     "output_type": "stream",
     "text": [
      "[*********************100%***********************]  1 of 1 completed\n"
     ]
    },
    {
     "name": "stdout",
     "output_type": "stream",
     "text": [
      "Data for TGT saved as TGT_30_years.csv\n",
      "Price          Close      High       Low      Open   Volume News_Sentiment\n",
      "Ticker           TGT       TGT       TGT       TGT      TGT               \n",
      "Date                                                                      \n",
      "1994-03-28  3.429469  3.476128  3.423636  3.470296  3304800           None\n",
      "1994-03-29  3.406142  3.429472  3.394477  3.423639  2967600           None\n",
      "1994-03-30  3.441135  3.452801  3.394476  3.406141  4016400           None\n",
      "1994-03-31  3.406142  3.429472  3.382813  3.423639  5403600           None\n",
      "1994-04-04  3.417804  3.435301  3.336149  3.347815  4393200           None\n"
     ]
    },
    {
     "name": "stderr",
     "output_type": "stream",
     "text": [
      "[*********************100%***********************]  1 of 1 completed\n"
     ]
    },
    {
     "name": "stdout",
     "output_type": "stream",
     "text": [
      "Data for TEL saved as TEL_30_years.csv\n",
      "Price           Close       High        Low       Open   Volume News_Sentiment\n",
      "Ticker            TEL        TEL        TEL        TEL      TEL               \n",
      "Date                                                                          \n",
      "2007-06-14  27.354355  27.643036  26.051768  26.051768   662600           None\n",
      "2007-06-15  27.319157  27.530387  26.931901  27.530387  1150000           None\n",
      "2007-06-18  26.157398  27.530395  26.157398  27.495191   853600           None\n",
      "2007-06-19  25.840544  26.544646  25.418081  26.157390   951000           None\n",
      "2007-06-20  25.312469  25.932080  24.875927  25.932080  1721800           None\n"
     ]
    },
    {
     "name": "stderr",
     "output_type": "stream",
     "text": [
      "[*********************100%***********************]  1 of 1 completed\n"
     ]
    },
    {
     "name": "stdout",
     "output_type": "stream",
     "text": [
      "Data for TDY saved as TDY_30_years.csv\n",
      "Price         Close     High      Low     Open   Volume News_Sentiment\n",
      "Ticker          TDY      TDY      TDY      TDY      TDY               \n",
      "Date                                                                  \n",
      "1999-11-23   8.4375   8.4375   8.4375   8.4375    60000           None\n",
      "1999-11-24  10.5000  10.6875   8.4375   8.4375   917700           None\n",
      "1999-11-26  10.5000  10.5000  10.5000  10.5000    32700           None\n",
      "1999-11-29   9.2500  10.6250   9.2500  10.6250   511000           None\n",
      "1999-11-30   8.8125   9.3750   8.5000   9.3750  2424000           None\n"
     ]
    },
    {
     "name": "stderr",
     "output_type": "stream",
     "text": [
      "[*********************100%***********************]  1 of 1 completed\n",
      "[*********************100%***********************]  1 of 1 completed"
     ]
    },
    {
     "name": "stdout",
     "output_type": "stream",
     "text": [
      "Data for TER saved as TER_30_years.csv\n",
      "Price          Close      High       Low      Open   Volume News_Sentiment\n",
      "Ticker           TER       TER       TER       TER      TER               \n",
      "Date                                                                      \n",
      "1994-03-28  5.771929  6.002806  5.685350  5.916227   628400           None\n",
      "1994-03-29  5.743068  5.887366  5.743068  5.800787   408400           None\n",
      "1994-03-30  5.569912  5.685351  5.512193  5.685351   830800           None\n",
      "1994-03-31  5.829648  5.829648  5.425613  5.569911  1166400           None\n",
      "1994-04-04  5.800789  5.829649  5.569912  5.656491   487200           None\n"
     ]
    },
    {
     "name": "stderr",
     "output_type": "stream",
     "text": [
      "\n"
     ]
    },
    {
     "name": "stdout",
     "output_type": "stream",
     "text": [
      "Data for TSLA saved as TSLA_30_years.csv\n",
      "Price          Close      High       Low      Open     Volume News_Sentiment\n",
      "Ticker          TSLA      TSLA      TSLA      TSLA       TSLA               \n",
      "Date                                                                        \n",
      "2010-06-29  1.592667  1.666667  1.169333  1.266667  281494500           None\n",
      "2010-06-30  1.588667  2.028000  1.553333  1.719333  257806500           None\n",
      "2010-07-01  1.464000  1.728000  1.351333  1.666667  123282000           None\n",
      "2010-07-02  1.280000  1.540000  1.247333  1.533333   77097000           None\n",
      "2010-07-06  1.074000  1.333333  1.055333  1.333333  103003500           None\n"
     ]
    },
    {
     "name": "stderr",
     "output_type": "stream",
     "text": [
      "[*********************100%***********************]  1 of 1 completed\n"
     ]
    },
    {
     "name": "stdout",
     "output_type": "stream",
     "text": [
      "Data for TXN saved as TXN_30_years.csv\n",
      "Price          Close      High       Low      Open    Volume News_Sentiment\n",
      "Ticker           TXN       TXN       TXN       TXN       TXN               \n",
      "Date                                                                       \n",
      "1994-03-28  2.930849  3.019522  2.809508  3.014854  22988800           None\n",
      "1994-03-29  2.795507  2.944850  2.790840  2.930849  15540800           None\n",
      "1994-03-30  2.797564  2.895807  2.722713  2.788208  27891200           None\n",
      "1994-03-31  2.891130  2.891130  2.792888  2.863061  17884800           None\n",
      "1994-04-04  2.919201  2.947270  2.797568  2.825637  15400000           None\n"
     ]
    },
    {
     "name": "stderr",
     "output_type": "stream",
     "text": [
      "[*********************100%***********************]  1 of 1 completed\n"
     ]
    },
    {
     "name": "stdout",
     "output_type": "stream",
     "text": [
      "Data for TPL saved as TPL_30_years.csv\n",
      "Price          Close      High       Low      Open Volume News_Sentiment\n",
      "Ticker           TPL       TPL       TPL       TPL    TPL               \n",
      "Date                                                                    \n",
      "1994-03-28  0.963874  0.963874  0.963874  0.963874   1500           None\n",
      "1994-03-29  0.963874  0.963874  0.963874  0.963874  31500           None\n",
      "1994-03-30  0.969975  0.969975  0.969975  0.969975   3000           None\n",
      "1994-03-31  0.951673  0.969975  0.951673  0.969975  22500           None\n",
      "1994-04-04  0.945573  0.963874  0.939472  0.963874  43500           None\n"
     ]
    },
    {
     "name": "stderr",
     "output_type": "stream",
     "text": [
      "[*********************100%***********************]  1 of 1 completed\n"
     ]
    },
    {
     "name": "stdout",
     "output_type": "stream",
     "text": [
      "Data for TXT saved as TXT_30_years.csv\n",
      "Price          Close      High       Low      Open   Volume News_Sentiment\n",
      "Ticker           TXT       TXT       TXT       TXT      TXT               \n",
      "Date                                                                      \n",
      "1994-03-28  9.312143  9.375635  9.269815  9.375635   986400           None\n",
      "1994-03-29  9.290981  9.354473  9.269817  9.269817   376000           None\n",
      "1994-03-30  9.269820  9.354476  9.248656  9.333312   936400           None\n",
      "1994-03-31  9.142838  9.333313  9.100510  9.227493  1230400           None\n",
      "1994-04-04  9.037013  9.100505  9.015849  9.015849   539600           None\n"
     ]
    },
    {
     "name": "stderr",
     "output_type": "stream",
     "text": [
      "[*********************100%***********************]  1 of 1 completed\n"
     ]
    },
    {
     "name": "stdout",
     "output_type": "stream",
     "text": [
      "Data for TMO saved as TMO_30_years.csv\n",
      "Price           Close       High        Low       Open  Volume News_Sentiment\n",
      "Ticker            TMO        TMO        TMO        TMO     TMO               \n",
      "Date                                                                         \n",
      "1994-03-28  14.883927  15.201572  14.747794  15.110817  257850           None\n",
      "1994-03-29  14.657038  14.974681  14.657038  14.929305  158175           None\n",
      "1994-03-30  14.067123  14.611658  14.067123  14.566279  537975           None\n",
      "1994-03-31  14.112503  14.203258  13.794858  14.112503  589275           None\n",
      "1994-04-04  13.976373  14.112507  13.477217  13.885617  329850           None\n"
     ]
    },
    {
     "name": "stderr",
     "output_type": "stream",
     "text": [
      "[*********************100%***********************]  1 of 1 completed\n"
     ]
    },
    {
     "name": "stdout",
     "output_type": "stream",
     "text": [
      "Data for TJX saved as TJX_30_years.csv\n",
      "Price          Close      High       Low      Open    Volume News_Sentiment\n",
      "Ticker           TJX       TJX       TJX       TJX       TJX               \n",
      "Date                                                                       \n",
      "1994-03-28  0.582335  0.590276  0.571747  0.587629   6787200           None\n",
      "1994-03-29  0.561159  0.579688  0.561159  0.579688   4204800           None\n",
      "1994-03-30  0.555865  0.563806  0.547924  0.563806  15059200           None\n",
      "1994-03-31  0.558512  0.563806  0.545277  0.555865  16252800           None\n",
      "1994-04-04  0.547925  0.569100  0.547925  0.550571  11897600           None\n"
     ]
    },
    {
     "name": "stderr",
     "output_type": "stream",
     "text": [
      "[*********************100%***********************]  1 of 1 completed\n"
     ]
    },
    {
     "name": "stdout",
     "output_type": "stream",
     "text": [
      "Data for TKO saved as TKO_30_years.csv\n",
      "Price           Close       High        Low       Open    Volume  \\\n",
      "Ticker            TKO        TKO        TKO        TKO       TKO   \n",
      "Date                                                               \n",
      "1999-10-19  10.689683  14.394029  10.213410  12.912290  22356000   \n",
      "1999-10-20  10.134030  11.774526   9.551919  11.324713   5330900   \n",
      "1999-10-21   9.102112   9.816522   8.890435   9.816522   2329900   \n",
      "1999-10-22  10.160490  10.372167   8.599373   9.102106   1627400   \n",
      "1999-10-25  10.107576  10.636769   9.842980  10.372173    583700   \n",
      "\n",
      "Price      News_Sentiment  \n",
      "Ticker                     \n",
      "Date                       \n",
      "1999-10-19           None  \n",
      "1999-10-20           None  \n",
      "1999-10-21           None  \n",
      "1999-10-22           None  \n",
      "1999-10-25           None  \n"
     ]
    },
    {
     "name": "stderr",
     "output_type": "stream",
     "text": [
      "[*********************100%***********************]  1 of 1 completed\n"
     ]
    },
    {
     "name": "stdout",
     "output_type": "stream",
     "text": [
      "Data for TSCO saved as TSCO_30_years.csv\n",
      "Price          Close      High       Low      Open    Volume News_Sentiment\n",
      "Ticker          TSCO      TSCO      TSCO      TSCO      TSCO               \n",
      "Date                                                                       \n",
      "1994-03-28  0.167702  0.176719  0.167702  0.171309   5280000           None\n",
      "1994-03-29  0.165899  0.169506  0.165899  0.165899    912000           None\n",
      "1994-03-30  0.169505  0.169505  0.164096  0.165899   1936000           None\n",
      "1994-03-31  0.165899  0.165899  0.156883  0.162293   7640000           None\n",
      "1994-04-04  0.158686  0.165899  0.158686  0.164096  11352000           None\n"
     ]
    },
    {
     "name": "stderr",
     "output_type": "stream",
     "text": [
      "[*********************100%***********************]  1 of 1 completed\n",
      "[*********************100%***********************]  1 of 1 completed"
     ]
    },
    {
     "name": "stdout",
     "output_type": "stream",
     "text": [
      "Data for TT saved as TT_30_years.csv\n",
      "Price          Close      High       Low      Open   Volume News_Sentiment\n",
      "Ticker            TT        TT        TT        TT       TT               \n",
      "Date                                                                      \n",
      "1994-03-28  4.841068  4.841068  4.747370  4.794219   577589           None\n",
      "1994-03-29  4.762988  4.825453  4.716138  4.809836   843387           None\n",
      "1994-03-30  4.638055  4.684905  4.528741  4.669288  2009216           None\n",
      "1994-03-31  4.653672  4.653672  4.325729  4.622439  2087648           None\n",
      "1994-04-04  4.513124  4.606822  4.372577  4.591207  1502312           None\n"
     ]
    },
    {
     "name": "stderr",
     "output_type": "stream",
     "text": [
      "\n"
     ]
    },
    {
     "name": "stdout",
     "output_type": "stream",
     "text": [
      "Data for TDG saved as TDG_30_years.csv\n",
      "Price          Close      High       Low      Open   Volume News_Sentiment\n",
      "Ticker           TDG       TDG       TDG       TDG      TDG               \n",
      "Date                                                                      \n",
      "2006-03-15  9.355854  9.584898  9.103518  9.297623  7251200           None\n",
      "2006-03-16  9.421851  9.452908  9.274331  9.355855   649100           None\n",
      "2006-03-17  9.709125  9.751828  9.375264  9.414085   287000           None\n",
      "2006-03-20  9.666423  9.942052  9.608192  9.771240   282800           None\n",
      "2006-03-21  9.394675  9.662539  9.317033  9.662539   274700           None\n"
     ]
    },
    {
     "name": "stderr",
     "output_type": "stream",
     "text": [
      "[*********************100%***********************]  1 of 1 completed\n"
     ]
    },
    {
     "name": "stdout",
     "output_type": "stream",
     "text": [
      "Data for TRV saved as TRV_30_years.csv\n",
      "Price          Close      High       Low      Open  Volume News_Sentiment\n",
      "Ticker           TRV       TRV       TRV       TRV     TRV               \n",
      "Date                                                                     \n",
      "1994-03-28  8.820493  8.848539  8.778424  8.792447  624000           None\n",
      "1994-03-29  8.778423  8.820492  8.750377  8.820492  251600           None\n",
      "1994-03-30  8.750376  8.806468  8.694284  8.806468  668000           None\n",
      "1994-03-31  8.722331  8.750377  8.638193  8.750377  362800           None\n",
      "1994-04-04  8.750376  8.750376  8.568076  8.624168  626000           None\n"
     ]
    },
    {
     "name": "stderr",
     "output_type": "stream",
     "text": [
      "[*********************100%***********************]  1 of 1 completed\n"
     ]
    },
    {
     "name": "stdout",
     "output_type": "stream",
     "text": [
      "Data for TRMB saved as TRMB_30_years.csv\n",
      "Price          Close      High       Low      Open  Volume News_Sentiment\n",
      "Ticker          TRMB      TRMB      TRMB      TRMB    TRMB               \n",
      "Date                                                                     \n",
      "1994-03-28  1.666667  1.687500  1.625000  1.666667   61800           None\n",
      "1994-03-29  1.604167  1.687500  1.604167  1.687500  375600           None\n",
      "1994-03-30  1.562500  1.625000  1.541667  1.583333  518400           None\n",
      "1994-03-31  1.541667  1.604167  1.500000  1.541667  336600           None\n",
      "1994-04-04  1.520833  1.583333  1.520833  1.520833   53400           None\n"
     ]
    },
    {
     "name": "stderr",
     "output_type": "stream",
     "text": [
      "[*********************100%***********************]  1 of 1 completed\n"
     ]
    },
    {
     "name": "stdout",
     "output_type": "stream",
     "text": [
      "Data for TFC saved as TFC_30_years.csv\n",
      "Price          Close      High       Low      Open  Volume News_Sentiment\n",
      "Ticker           TFC       TFC       TFC       TFC     TFC               \n",
      "Date                                                                     \n",
      "1994-03-28  3.299934  3.299934  3.237277  3.237277   28200           None\n",
      "1994-03-29  3.279048  3.299934  3.237277  3.299934   61400           None\n",
      "1994-03-30  3.216392  3.258163  3.216392  3.216392  111400           None\n",
      "1994-03-31  3.195505  3.258162  3.195505  3.216391  109000           None\n",
      "1994-04-04  3.174621  3.195507  3.153735  3.153735   79200           None\n"
     ]
    },
    {
     "name": "stderr",
     "output_type": "stream",
     "text": [
      "[*********************100%***********************]  1 of 1 completed\n"
     ]
    },
    {
     "name": "stdout",
     "output_type": "stream",
     "text": [
      "Data for TYL saved as TYL_30_years.csv\n",
      "Price       Close   High   Low   Open Volume News_Sentiment\n",
      "Ticker        TYL    TYL   TYL    TYL    TYL               \n",
      "Date                                                       \n",
      "1994-03-28  5.750  6.000  5.75  5.750  11300           None\n",
      "1994-03-29  5.750  5.875  5.75  5.750   3400           None\n",
      "1994-03-30  5.375  5.625  5.25  5.625  35700           None\n",
      "1994-03-31  5.375  5.500  5.25  5.250  20500           None\n",
      "1994-04-04  5.500  5.500  5.25  5.250   5900           None\n"
     ]
    },
    {
     "name": "stderr",
     "output_type": "stream",
     "text": [
      "[*********************100%***********************]  1 of 1 completed\n"
     ]
    },
    {
     "name": "stdout",
     "output_type": "stream",
     "text": [
      "Data for TSN saved as TSN_30_years.csv\n",
      "Price          Close      High       Low      Open  Volume News_Sentiment\n",
      "Ticker           TSN       TSN       TSN       TSN     TSN               \n",
      "Date                                                                     \n",
      "1994-03-28  8.771998  8.989936  8.717514  8.880967  665700           None\n",
      "1994-03-29  8.771998  8.771998  8.608545  8.771998  906150           None\n",
      "1994-03-30  8.554056  8.717509  8.554056  8.717509  509850           None\n",
      "1994-03-31  8.608542  8.663027  8.445089  8.554058  588750           None\n",
      "1994-04-04  8.499573  8.608542  8.445089  8.499573  317400           None\n"
     ]
    },
    {
     "name": "stderr",
     "output_type": "stream",
     "text": [
      "[*********************100%***********************]  1 of 1 completed\n",
      "[*********************100%***********************]  1 of 1 completed"
     ]
    },
    {
     "name": "stdout",
     "output_type": "stream",
     "text": [
      "Data for USB saved as USB_30_years.csv\n",
      "Price          Close      High       Low      Open   Volume News_Sentiment\n",
      "Ticker           USB       USB       USB       USB      USB               \n",
      "Date                                                                      \n",
      "1994-03-28  1.551705  1.572961  1.551705  1.572961   134100           None\n",
      "1994-03-29  1.551705  1.572961  1.551705  1.551705    72900           None\n",
      "1994-03-30  1.572962  1.572962  1.551706  1.551706  1514700           None\n",
      "1994-03-31  1.551705  1.572961  1.551705  1.551705   812700           None\n",
      "1994-04-04  1.562334  1.572962  1.541078  1.541078   428400           None\n",
      "Data for UBER saved as UBER_30_years.csv\n",
      "Price           Close       High        Low       Open     Volume  \\\n",
      "Ticker           UBER       UBER       UBER       UBER       UBER   \n",
      "Date                                                                \n",
      "2019-05-10  41.570000  45.000000  41.060001  42.000000  186322500   \n",
      "2019-05-13  37.099998  39.240002  36.080002  38.790001   79442400   \n",
      "2019-05-14  39.959999  39.959999  36.849998  38.310001   46661100   \n",
      "2019-05-15  41.290001  41.880001  38.950001  39.369999   36086100   \n",
      "2019-05-16  43.000000  44.060001  41.250000  41.480000   38115500   \n",
      "\n",
      "Price      News_Sentiment  \n",
      "Ticker                     \n",
      "Date                       \n",
      "2019-05-10           None  \n",
      "2019-05-13           None  \n",
      "2019-05-14           None  \n",
      "2019-05-15           None  \n",
      "2019-05-16           None  \n"
     ]
    },
    {
     "name": "stderr",
     "output_type": "stream",
     "text": [
      "\n",
      "[*********************100%***********************]  1 of 1 completed\n"
     ]
    },
    {
     "name": "stdout",
     "output_type": "stream",
     "text": [
      "Data for UDR saved as UDR_30_years.csv\n",
      "Price          Close      High       Low      Open Volume News_Sentiment\n",
      "Ticker           UDR       UDR       UDR       UDR    UDR               \n",
      "Date                                                                    \n",
      "1994-03-28  2.726631  2.772075  2.726631  2.772075  18500           None\n",
      "1994-03-29  2.726631  2.772075  2.681187  2.726631  51700           None\n",
      "1994-03-30  2.658466  2.726632  2.635744  2.726632  79800           None\n",
      "1994-03-31  2.544856  2.703909  2.544856  2.658465  70400           None\n",
      "1994-04-04  2.522135  2.522135  2.453969  2.522135  54000           None\n"
     ]
    },
    {
     "name": "stderr",
     "output_type": "stream",
     "text": [
      "[*********************100%***********************]  1 of 1 completed\n"
     ]
    },
    {
     "name": "stdout",
     "output_type": "stream",
     "text": [
      "Data for ULTA saved as ULTA_30_years.csv\n",
      "Price           Close       High        Low       Open   Volume News_Sentiment\n",
      "Ticker           ULTA       ULTA       ULTA       ULTA     ULTA               \n",
      "Date                                                                          \n",
      "2007-10-25  29.490023  34.612703  28.570313  32.634834  7486900           None\n",
      "2007-10-26  31.645901  32.615056  28.926331  29.361463  1625600           None\n",
      "2007-10-29  34.316025  34.612704  32.288710  33.623770   667900           None\n",
      "2007-10-30  35.037945  35.206062  32.634834  34.830269   455600           None\n",
      "2007-10-31  33.821556  35.235733  32.585388  34.543478   393200           None\n"
     ]
    },
    {
     "name": "stderr",
     "output_type": "stream",
     "text": [
      "[*********************100%***********************]  1 of 1 completed\n"
     ]
    },
    {
     "name": "stdout",
     "output_type": "stream",
     "text": [
      "Data for UNP saved as UNP_30_years.csv\n",
      "Price          Close      High       Low      Open   Volume News_Sentiment\n",
      "Ticker           UNP       UNP       UNP       UNP      UNP               \n",
      "Date                                                                      \n",
      "1994-03-28  5.199187  5.243912  5.165644  5.232730  1812017           None\n",
      "1994-03-29  5.098556  5.176824  5.098556  5.154461  1995836           None\n",
      "1994-03-30  5.031468  5.087374  5.009107  5.076193  2900059           None\n",
      "1994-03-31  5.076194  5.076194  4.964383  5.031470  2351576           None\n",
      "1994-04-04  5.053834  5.098558  4.986748  5.076196  2446758           None\n"
     ]
    },
    {
     "name": "stderr",
     "output_type": "stream",
     "text": [
      "[*********************100%***********************]  1 of 1 completed\n"
     ]
    },
    {
     "name": "stdout",
     "output_type": "stream",
     "text": [
      "Data for UAL saved as UAL_30_years.csv\n",
      "Price           Close       High        Low       Open   Volume News_Sentiment\n",
      "Ticker            UAL        UAL        UAL        UAL      UAL               \n",
      "Date                                                                          \n",
      "2006-02-06  31.701359  32.673905  31.514329  32.561689  1940300           None\n",
      "2006-02-07  30.850378  31.701358  29.672096  31.701358  3224600           None\n",
      "2006-02-08  29.924585  30.298644  28.877224  29.419607  8960500           None\n",
      "2006-02-09  32.262444  32.711312  27.596079  27.867269  8016600           None\n",
      "2006-02-10  32.019306  33.263045  31.420812  31.720057  2229100           None\n"
     ]
    },
    {
     "name": "stderr",
     "output_type": "stream",
     "text": [
      "[*********************100%***********************]  1 of 1 completed\n"
     ]
    },
    {
     "name": "stdout",
     "output_type": "stream",
     "text": [
      "Data for UPS saved as UPS_30_years.csv\n",
      "Price           Close       High        Low       Open    Volume  \\\n",
      "Ticker            UPS        UPS        UPS        UPS       UPS   \n",
      "Date                                                               \n",
      "1999-11-10  34.524441  35.567762  32.627493  32.880420  80793700   \n",
      "1999-11-11  37.938938  38.919027  34.777360  34.777360  28309000   \n",
      "1999-11-12  35.662590  38.760936  35.030275  38.444778  14768100   \n",
      "1999-11-15  34.903828  35.852301  34.050201  35.662607   8675100   \n",
      "1999-11-16  33.386272  34.397978  32.880420  34.334746   6978600   \n",
      "\n",
      "Price      News_Sentiment  \n",
      "Ticker                     \n",
      "Date                       \n",
      "1999-11-10           None  \n",
      "1999-11-11           None  \n",
      "1999-11-12           None  \n",
      "1999-11-15           None  \n",
      "1999-11-16           None  \n"
     ]
    },
    {
     "name": "stderr",
     "output_type": "stream",
     "text": [
      "[*********************100%***********************]  1 of 1 completed\n"
     ]
    },
    {
     "name": "stdout",
     "output_type": "stream",
     "text": [
      "Data for URI saved as URI_30_years.csv\n",
      "Price           Close       High        Low       Open   Volume News_Sentiment\n",
      "Ticker            URI        URI        URI        URI      URI               \n",
      "Date                                                                          \n",
      "1997-12-18  14.622759  15.719466  14.013477  14.135334  1905200           None\n",
      "1997-12-19  15.110183  15.232039  14.318117  14.622758   275200           None\n",
      "1997-12-22  14.622759  15.475753  14.622759  15.110184    88300           None\n",
      "1997-12-23  15.110183  15.414824  14.622758  14.622758    74500           None\n",
      "1997-12-24  15.841323  15.841323  15.597610  15.597610    45400           None\n"
     ]
    },
    {
     "name": "stderr",
     "output_type": "stream",
     "text": [
      "[*********************100%***********************]  1 of 1 completed\n"
     ]
    },
    {
     "name": "stdout",
     "output_type": "stream",
     "text": [
      "Data for UNH saved as UNH_30_years.csv\n",
      "Price          Close      High       Low      Open   Volume News_Sentiment\n",
      "Ticker           UNH       UNH       UNH       UNH      UNH               \n",
      "Date                                                                      \n",
      "1994-03-28  4.490726  4.651109  4.466052  4.651109  4002400           None\n",
      "1994-03-29  4.330345  4.429042  4.293333  4.392030  5220800           None\n",
      "1994-03-30  4.169964  4.342684  4.169964  4.330347  5392000           None\n",
      "1994-03-31  4.219311  4.231648  4.058928  4.182299  7267200           None\n",
      "1994-04-04  4.330345  4.330345  4.108276  4.120613  5636800           None\n"
     ]
    },
    {
     "name": "stderr",
     "output_type": "stream",
     "text": [
      "[*********************100%***********************]  1 of 1 completed\n"
     ]
    },
    {
     "name": "stdout",
     "output_type": "stream",
     "text": [
      "Data for UHS saved as UHS_30_years.csv\n",
      "Price          Close      High       Low      Open  Volume News_Sentiment\n",
      "Ticker           UHS       UHS       UHS       UHS     UHS               \n",
      "Date                                                                     \n",
      "1994-03-28  2.713124  2.825006  2.685154  2.797035  360800           None\n",
      "1994-03-29  2.657184  2.699139  2.629214  2.685154  392800           None\n",
      "1994-03-30  2.685154  2.685154  2.615228  2.629213  255200           None\n",
      "1994-03-31  2.629214  2.657184  2.573273  2.657184  828000           None\n",
      "1994-04-04  2.615229  2.643199  2.601243  2.601243   92000           None\n"
     ]
    },
    {
     "name": "stderr",
     "output_type": "stream",
     "text": [
      "[*********************100%***********************]  1 of 1 completed\n"
     ]
    },
    {
     "name": "stdout",
     "output_type": "stream",
     "text": [
      "Data for VLO saved as VLO_30_years.csv\n",
      "Price          Close      High       Low      Open   Volume News_Sentiment\n",
      "Ticker           VLO       VLO       VLO       VLO      VLO               \n",
      "Date                                                                      \n",
      "1994-03-28  1.731373  1.750399  1.721860  1.740886   663402           None\n",
      "1994-03-29  1.721860  1.740887  1.721860  1.721860   340015           None\n",
      "1994-03-30  1.645757  1.674296  1.645757  1.674296  1416949           None\n",
      "1994-03-31  1.588678  1.636244  1.550626  1.636244   510679           None\n",
      "1994-04-04  1.541114  1.569653  1.531601  1.569653   511117           None\n"
     ]
    },
    {
     "name": "stderr",
     "output_type": "stream",
     "text": [
      "[*********************100%***********************]  1 of 1 completed\n",
      "[*********************100%***********************]  1 of 1 completed\n"
     ]
    },
    {
     "name": "stdout",
     "output_type": "stream",
     "text": [
      "Data for VTR saved as VTR_30_years.csv\n",
      "Price          Close      High       Low      Open   Volume News_Sentiment\n",
      "Ticker           VTR       VTR       VTR       VTR      VTR               \n",
      "Date                                                                      \n",
      "1997-05-05  5.942185  5.976834  5.855565  5.872889   907050           None\n",
      "1997-05-06  5.959508  5.994157  5.924860  5.959508   536629           None\n",
      "1997-05-07  5.526408  5.647677  5.457111  5.543732   747322           None\n",
      "1997-05-08  5.231896  5.578379  5.127951  5.474434  2761432           None\n",
      "1997-05-09  5.231896  5.335841  5.197247  5.197247   880954           None\n",
      "Data for VLTO saved as VLTO_30_years.csv\n",
      "Price           Close       High        Low       Open    Volume  \\\n",
      "Ticker           VLTO       VLTO       VLTO       VLTO      VLTO   \n",
      "Date                                                               \n",
      "2023-10-04  77.419617  80.225829  75.976702  76.295137   8358300   \n",
      "2023-10-05  74.085991  76.613573  72.294796  75.628416  15351900   \n",
      "2023-10-06  77.598740  78.086342  72.682890  72.682890   7781100   \n",
      "2023-10-09  74.245209  77.618633  73.373492  76.275235   7000900   \n",
      "2023-10-10  74.633308  75.140817  72.145531  73.598392   5385600   \n",
      "\n",
      "Price      News_Sentiment  \n",
      "Ticker                     \n",
      "Date                       \n",
      "2023-10-04           None  \n",
      "2023-10-05           None  \n",
      "2023-10-06           None  \n",
      "2023-10-09           None  \n",
      "2023-10-10           None  \n"
     ]
    },
    {
     "name": "stderr",
     "output_type": "stream",
     "text": [
      "[*********************100%***********************]  1 of 1 completed\n"
     ]
    },
    {
     "name": "stdout",
     "output_type": "stream",
     "text": [
      "Data for VRSN saved as VRSN_30_years.csv\n",
      "Price          Close      High       Low      Open    Volume News_Sentiment\n",
      "Ticker          VRSN      VRSN      VRSN      VRSN      VRSN               \n",
      "Date                                                                       \n",
      "1998-01-30  5.413338  5.572554  4.351899  4.404971  18256800           None\n",
      "1998-02-02  6.580921  7.907719  5.625626  5.811378  10127200           None\n",
      "1998-02-03  7.005497  7.456608  6.793209  7.005497   6244800           None\n",
      "1998-02-04  6.713601  7.032033  6.474777  6.978961   2106800           None\n",
      "1998-02-05  6.488045  7.005496  6.474777  6.846280    890800           None\n"
     ]
    },
    {
     "name": "stderr",
     "output_type": "stream",
     "text": [
      "[*********************100%***********************]  1 of 1 completed\n"
     ]
    },
    {
     "name": "stdout",
     "output_type": "stream",
     "text": [
      "Data for VRSK saved as VRSK_30_years.csv\n",
      "Price           Close       High        Low       Open    Volume  \\\n",
      "Ticker           VRSK       VRSK       VRSK       VRSK      VRSK   \n",
      "Date                                                               \n",
      "2009-10-07  26.151804  27.833129  25.373591  25.940438  63739500   \n",
      "2009-10-08  25.556139  26.363175  25.460063  26.257491   6906700   \n",
      "2009-10-09  25.363981  26.411206  25.344766  25.777107   3361300   \n",
      "2009-10-12  25.219875  26.805124  25.075762  26.219064   7177000   \n",
      "2009-10-13  26.122984  26.190237  25.498492  25.623390   3296000   \n",
      "\n",
      "Price      News_Sentiment  \n",
      "Ticker                     \n",
      "Date                       \n",
      "2009-10-07           None  \n",
      "2009-10-08           None  \n",
      "2009-10-09           None  \n",
      "2009-10-12           None  \n",
      "2009-10-13           None  \n"
     ]
    },
    {
     "name": "stderr",
     "output_type": "stream",
     "text": [
      "[*********************100%***********************]  1 of 1 completed\n"
     ]
    },
    {
     "name": "stdout",
     "output_type": "stream",
     "text": [
      "Data for VZ saved as VZ_30_years.csv\n",
      "Price          Close      High       Low      Open   Volume News_Sentiment\n",
      "Ticker            VZ        VZ        VZ        VZ       VZ               \n",
      "Date                                                                      \n",
      "1994-03-28  5.852451  5.920503  5.838841  5.920503  1852283           None\n",
      "1994-03-29  5.757179  5.852451  5.757179  5.852451  1218028           None\n",
      "1994-03-30  5.593854  5.757179  5.593854  5.743569  2762523           None\n",
      "1994-03-31  5.634684  5.661905  5.553022  5.621074  2492320           None\n",
      "1994-04-04  5.566632  5.566632  5.498581  5.525801  1952136           None\n"
     ]
    },
    {
     "name": "stderr",
     "output_type": "stream",
     "text": [
      "[*********************100%***********************]  1 of 1 completed\n"
     ]
    },
    {
     "name": "stdout",
     "output_type": "stream",
     "text": [
      "Data for VRTX saved as VRTX_30_years.csv\n",
      "Price        Close    High     Low   Open  Volume News_Sentiment\n",
      "Ticker        VRTX    VRTX    VRTX   VRTX    VRTX               \n",
      "Date                                                            \n",
      "1994-03-28  6.6250  7.1250  6.6250  7.125  299600           None\n",
      "1994-03-29  6.5000  6.8125  6.3750  6.500  470800           None\n",
      "1994-03-30  6.1250  6.5000  6.1250  6.375  175600           None\n",
      "1994-03-31  6.6875  6.6875  6.0625  6.375  312000           None\n",
      "1994-04-04  6.7500  6.7500  6.2500  6.500   65600           None\n"
     ]
    },
    {
     "name": "stderr",
     "output_type": "stream",
     "text": [
      "[*********************100%***********************]  1 of 1 completed\n",
      "[*********************100%***********************]  1 of 1 completed"
     ]
    },
    {
     "name": "stdout",
     "output_type": "stream",
     "text": [
      "Data for VTRS saved as VTRS_30_years.csv\n",
      "Price          Close      High       Low      Open   Volume News_Sentiment\n",
      "Ticker          VTRS      VTRS      VTRS      VTRS     VTRS               \n",
      "Date                                                                      \n",
      "1994-03-28  4.149494  4.177915  4.007388  4.177915  2288250           None\n",
      "1994-03-29  3.922126  4.092653  3.922126  4.092653  2447550           None\n",
      "1994-03-30  3.808439  3.950545  3.609491  3.950545  3731738           None\n",
      "1994-03-31  3.978968  4.007389  3.723178  3.836862  2644313           None\n",
      "1994-04-04  3.893703  3.978967  3.780019  3.836861  1609875           None\n",
      "Data for VICI saved as VICI_30_years.csv\n",
      "Price           Close       High        Low       Open  Volume News_Sentiment\n",
      "Ticker           VICI       VICI       VICI       VICI    VICI               \n",
      "Date                                                                         \n",
      "2018-01-02  13.747355  14.089328  13.644763  13.678959  427900           None\n",
      "2018-01-03  13.788392  14.089330  13.678960  14.020934  231300           None\n",
      "2018-01-04  13.815752  14.020936  13.747357  13.781554  447800           None\n",
      "2018-01-05  13.815752  13.815752  13.781554  13.815752   78300           None\n",
      "2018-01-08  13.815752  13.815752  13.713159  13.815752   59200           None\n"
     ]
    },
    {
     "name": "stderr",
     "output_type": "stream",
     "text": [
      "\n",
      "[*********************100%***********************]  1 of 1 completed\n",
      "[*********************100%***********************]  1 of 1 completed"
     ]
    },
    {
     "name": "stdout",
     "output_type": "stream",
     "text": [
      "Data for V saved as V_30_years.csv\n",
      "Price           Close       High        Low       Open     Volume  \\\n",
      "Ticker              V          V          V          V          V   \n",
      "Date                                                                \n",
      "2008-03-19  12.535026  15.308261  12.202237  13.200602  708486000   \n",
      "2008-03-20  14.276619  14.420828  12.756886  12.956559  198985200   \n",
      "2008-03-24  13.251636  15.019851  13.089679  14.917796  149566400   \n",
      "2008-03-25  14.032575  14.254434  13.271599  13.440212   87092000   \n",
      "2008-03-26  14.190098  14.305465  13.659855  13.917211   43111600   \n",
      "\n",
      "Price      News_Sentiment  \n",
      "Ticker                     \n",
      "Date                       \n",
      "2008-03-19           None  \n",
      "2008-03-20           None  \n",
      "2008-03-24           None  \n",
      "2008-03-25           None  \n",
      "2008-03-26           None  \n",
      "Data for VST saved as VST_30_years.csv\n",
      "Price           Close       High        Low       Open  Volume News_Sentiment\n",
      "Ticker            VST        VST        VST        VST     VST               \n",
      "Date                                                                         \n",
      "2016-10-05  11.411549  12.147778  11.411549  11.779663  569700           None\n",
      "2016-10-06  11.595611  11.706045  11.411553  11.411553  264900           None\n",
      "2016-10-07  11.706044  11.706044  11.558798  11.706044  110900           None\n",
      "2016-10-10  11.779667  18.582424  11.706044  11.742855    6300           None\n",
      "2016-10-11  12.037346  12.147780  11.779665  11.853289  158400           None\n"
     ]
    },
    {
     "name": "stderr",
     "output_type": "stream",
     "text": [
      "\n",
      "[*********************100%***********************]  1 of 1 completed\n"
     ]
    },
    {
     "name": "stdout",
     "output_type": "stream",
     "text": [
      "Data for VMC saved as VMC_30_years.csv\n",
      "Price           Close       High        Low       Open  Volume News_Sentiment\n",
      "Ticker            VMC        VMC        VMC        VMC     VMC               \n",
      "Date                                                                         \n",
      "1994-03-28  10.123639  10.224624  10.098395  10.098395   26400           None\n",
      "1994-03-29  10.073153  10.199383  10.073153  10.174138   99300           None\n",
      "1994-03-30   9.845937  10.022659   9.744952  10.022659   72000           None\n",
      "1994-03-31   9.795444   9.820689   9.719707   9.820689   88800           None\n",
      "1994-04-04   9.643970   9.795446   9.618723   9.795446  100800           None\n"
     ]
    },
    {
     "name": "stderr",
     "output_type": "stream",
     "text": [
      "[*********************100%***********************]  1 of 1 completed\n"
     ]
    },
    {
     "name": "stdout",
     "output_type": "stream",
     "text": [
      "Data for WRB saved as WRB_30_years.csv\n",
      "Price          Close      High       Low      Open   Volume News_Sentiment\n",
      "Ticker           WRB       WRB       WRB       WRB      WRB               \n",
      "Date                                                                      \n",
      "1994-03-28  0.896464  0.896464  0.881322  0.896464   435691           None\n",
      "1994-03-29  0.878294  0.896465  0.878294  0.896465    97390           None\n",
      "1994-03-30  0.860122  0.884351  0.854065  0.884351  1391650           None\n",
      "1994-03-31  0.848007  0.860122  0.848007  0.854065   758616           None\n",
      "1994-04-04  0.851036  0.851036  0.841951  0.848008  4100625           None\n"
     ]
    },
    {
     "name": "stderr",
     "output_type": "stream",
     "text": [
      "[*********************100%***********************]  1 of 1 completed\n"
     ]
    },
    {
     "name": "stdout",
     "output_type": "stream",
     "text": [
      "Data for GWW saved as GWW_30_years.csv\n",
      "Price           Close       High        Low       Open  Volume News_Sentiment\n",
      "Ticker            GWW        GWW        GWW        GWW     GWW               \n",
      "Date                                                                         \n",
      "1994-03-28  20.181721  20.523784  20.181721  20.485777  191800           None\n",
      "1994-03-29  19.459581  20.219721  19.459581  20.181714  121000           None\n",
      "1994-03-30  19.003502  19.307558  18.851474  19.079516  273600           None\n",
      "1994-03-31  19.307558  19.307558  18.585425  19.041509  193000           None\n",
      "1994-04-04  19.345572  19.763649  19.307565  19.611621  392800           None\n"
     ]
    },
    {
     "name": "stderr",
     "output_type": "stream",
     "text": [
      "[*********************100%***********************]  1 of 1 completed\n"
     ]
    },
    {
     "name": "stdout",
     "output_type": "stream",
     "text": [
      "Data for WAB saved as WAB_30_years.csv\n",
      "Price          Close      High       Low      Open   Volume News_Sentiment\n",
      "Ticker           WAB       WAB       WAB       WAB      WAB               \n",
      "Date                                                                      \n",
      "1995-06-16  6.796031  7.249099  6.739397  6.796031  6212400           None\n",
      "1995-06-19  6.512865  6.909300  6.399597  6.852666  1528200           None\n",
      "1995-06-20  6.512865  6.626132  6.512865  6.569498   863000           None\n",
      "1995-06-21  6.399597  6.569498  6.342964  6.569498   629000           None\n",
      "1995-06-22  6.626129  6.852663  6.342961  6.399595   546200           None\n"
     ]
    },
    {
     "name": "stderr",
     "output_type": "stream",
     "text": [
      "[*********************100%***********************]  1 of 1 completed\n"
     ]
    },
    {
     "name": "stdout",
     "output_type": "stream",
     "text": [
      "Data for WBA saved as WBA_30_years.csv\n",
      "Price          Close      High       Low      Open   Volume News_Sentiment\n",
      "Ticker           WBA       WBA       WBA       WBA      WBA               \n",
      "Date                                                                      \n",
      "1994-03-28  2.794629  2.836216  2.769677  2.794629  2392800           None\n",
      "1994-03-29  2.744725  2.794629  2.744725  2.777994  1288800           None\n",
      "1994-03-30  2.711456  2.769677  2.703138  2.728090  3298400           None\n",
      "1994-03-31  2.653234  2.711456  2.653234  2.711456  1979200           None\n",
      "1994-04-04  2.653234  2.669869  2.619965  2.653234  2299200           None\n"
     ]
    },
    {
     "name": "stderr",
     "output_type": "stream",
     "text": [
      "[*********************100%***********************]  1 of 1 completed\n"
     ]
    },
    {
     "name": "stdout",
     "output_type": "stream",
     "text": [
      "Data for WMT saved as WMT_30_years.csv\n",
      "Price          Close      High       Low      Open    Volume News_Sentiment\n",
      "Ticker           WMT       WMT       WMT       WMT       WMT               \n",
      "Date                                                                       \n",
      "1994-03-28  2.794384  2.807262  2.755752  2.807262   9288000           None\n",
      "1994-03-29  2.742876  2.807263  2.742876  2.781508   8673600           None\n",
      "1994-03-30  2.678488  2.768630  2.678488  2.755752  17275800           None\n",
      "1994-03-31  2.665612  2.691367  2.511084  2.678489  22195200           None\n",
      "1994-04-04  2.614101  2.626978  2.549714  2.588346  21169200           None\n"
     ]
    },
    {
     "name": "stderr",
     "output_type": "stream",
     "text": [
      "[*********************100%***********************]  1 of 1 completed\n",
      "[*********************100%***********************]  1 of 1 completed"
     ]
    },
    {
     "name": "stdout",
     "output_type": "stream",
     "text": [
      "Data for DIS saved as DIS_30_years.csv\n",
      "Price           Close       High        Low       Open   Volume News_Sentiment\n",
      "Ticker            DIS        DIS        DIS        DIS      DIS               \n",
      "Date                                                                          \n",
      "1994-03-28  10.742857  11.017532  10.681818  10.987012  4019970           None\n",
      "1994-03-29  10.529223  10.742860  10.498704  10.742860  3879169           None\n",
      "1994-03-30  10.315588  10.803900  10.285069  10.529225  5293259           None\n",
      "1994-03-31  10.254549  10.407147   9.979874  10.315588  6473492           None\n",
      "1994-04-04  10.162992  10.376629  10.010395  10.254551  5226964           None\n"
     ]
    },
    {
     "name": "stderr",
     "output_type": "stream",
     "text": [
      "\n"
     ]
    },
    {
     "name": "stdout",
     "output_type": "stream",
     "text": [
      "Data for WBD saved as WBD_30_years.csv\n",
      "Price          Close      High       Low      Open   Volume News_Sentiment\n",
      "Ticker           WBD       WBD       WBD       WBD      WBD               \n",
      "Date                                                                      \n",
      "2005-07-08  7.818089  8.048033  7.537046  7.920286  4067624           None\n",
      "2005-07-11  7.843638  7.894737  7.715892  7.818089  1382425           None\n",
      "2005-07-12  8.252427  8.329075  7.971385  8.022483  1230170           None\n",
      "2005-07-13  8.124681  8.303526  8.124681  8.303526  1233889           None\n",
      "2005-07-14  8.124681  8.175779  8.073582  8.175779  2311608           None\n"
     ]
    },
    {
     "name": "stderr",
     "output_type": "stream",
     "text": [
      "[*********************100%***********************]  1 of 1 completed\n"
     ]
    },
    {
     "name": "stdout",
     "output_type": "stream",
     "text": [
      "Data for WM saved as WM_30_years.csv\n",
      "Price          Close      High       Low      Open Volume News_Sentiment\n",
      "Ticker            WM        WM        WM        WM     WM               \n",
      "Date                                                                    \n",
      "1994-03-28  7.671446  7.671446  7.671446  7.671446  14000           None\n",
      "1994-03-29  7.530686  7.741827  7.530686  7.671447  55400           None\n",
      "1994-03-30  7.319545  7.601066  7.319545  7.601066  17900           None\n",
      "1994-03-31  7.108405  7.319545  7.108405  7.319545   9100           None\n",
      "1994-04-04  7.178786  7.249166  6.897265  7.038025   7400           None\n"
     ]
    },
    {
     "name": "stderr",
     "output_type": "stream",
     "text": [
      "[*********************100%***********************]  1 of 1 completed\n"
     ]
    },
    {
     "name": "stdout",
     "output_type": "stream",
     "text": [
      "Data for WAT saved as WAT_30_years.csv\n",
      "Price         Close     High   Low  Open    Volume News_Sentiment\n",
      "Ticker          WAT      WAT   WAT   WAT       WAT               \n",
      "Date                                                             \n",
      "1995-11-17  3.78125  3.81250  3.75  3.75  12706000           None\n",
      "1995-11-20  3.75000  3.78125  3.75  3.75   1213200           None\n",
      "1995-11-21  3.75000  3.78125  3.75  3.75    909600           None\n",
      "1995-11-22  3.75000  3.78125  3.75  3.75   1314800           None\n",
      "1995-11-24  3.75000  3.78125  3.75  3.75    275200           None\n"
     ]
    },
    {
     "name": "stderr",
     "output_type": "stream",
     "text": [
      "[*********************100%***********************]  1 of 1 completed\n"
     ]
    },
    {
     "name": "stdout",
     "output_type": "stream",
     "text": [
      "Data for WEC saved as WEC_30_years.csv\n",
      "Price          Close      High       Low      Open  Volume News_Sentiment\n",
      "Ticker           WEC       WEC       WEC       WEC     WEC               \n",
      "Date                                                                     \n",
      "1994-03-28  4.112545  4.112545  3.992178  4.012239  101200           None\n",
      "1994-03-29  4.072422  4.112544  4.012238  4.112544   98000           None\n",
      "1994-03-30  4.032298  4.072420  4.012236  4.032298  118400           None\n",
      "1994-03-31  4.052360  4.052360  3.911932  4.032299  444000           None\n",
      "1994-04-04  3.952055  3.992177  3.931994  3.931994  242800           None\n"
     ]
    },
    {
     "name": "stderr",
     "output_type": "stream",
     "text": [
      "[*********************100%***********************]  1 of 1 completed\n"
     ]
    },
    {
     "name": "stdout",
     "output_type": "stream",
     "text": [
      "Data for WFC saved as WFC_30_years.csv\n",
      "Price          Close      High       Low      Open   Volume News_Sentiment\n",
      "Ticker           WFC       WFC       WFC       WFC      WFC               \n",
      "Date                                                                      \n",
      "1994-03-28  2.698044  2.698044  2.616696  2.698044  3156000           None\n",
      "1994-03-29  2.657371  2.698045  2.643813  2.684487  1488000           None\n",
      "1994-03-30  2.589581  2.630255  2.589581  2.603139  1651200           None\n",
      "1994-03-31  2.589581  2.616697  2.535349  2.589581  2494000           None\n",
      "1994-04-04  2.521791  2.562465  2.508233  2.548907  3907200           None\n"
     ]
    },
    {
     "name": "stderr",
     "output_type": "stream",
     "text": [
      "[*********************100%***********************]  1 of 1 completed\n"
     ]
    },
    {
     "name": "stdout",
     "output_type": "stream",
     "text": [
      "Data for WELL saved as WELL_30_years.csv\n",
      "Price          Close      High       Low      Open Volume News_Sentiment\n",
      "Ticker          WELL      WELL      WELL      WELL   WELL               \n",
      "Date                                                                    \n",
      "1994-03-28  3.331301  3.331301  3.297821  3.314561  16600           None\n",
      "1994-03-29  3.281081  3.331302  3.281081  3.314561  13700           None\n",
      "1994-03-30  3.264338  3.297818  3.264338  3.297818  10900           None\n",
      "1994-03-31  3.230859  3.281079  3.180638  3.264339   8200           None\n",
      "1994-04-04  3.147159  3.197380  3.113679  3.197380  11700           None\n"
     ]
    },
    {
     "name": "stderr",
     "output_type": "stream",
     "text": [
      "[*********************100%***********************]  1 of 1 completed\n"
     ]
    },
    {
     "name": "stdout",
     "output_type": "stream",
     "text": [
      "Data for WST saved as WST_30_years.csv\n",
      "Price          Close      High       Low      Open  Volume News_Sentiment\n",
      "Ticker           WST       WST       WST       WST     WST               \n",
      "Date                                                                     \n",
      "1994-03-28  3.964230  3.964230  3.944209  3.944209  128000           None\n",
      "1994-03-29  3.984254  3.984254  3.944211  3.944211   24400           None\n",
      "1994-03-30  4.004276  4.004276  3.944212  3.964233   63200           None\n",
      "1994-03-31  3.964230  4.004273  3.964230  4.004273  188000           None\n",
      "1994-04-04  3.924189  3.924189  3.924189  3.924189   42400           None\n"
     ]
    },
    {
     "name": "stderr",
     "output_type": "stream",
     "text": [
      "[*********************100%***********************]  1 of 1 completed\n"
     ]
    },
    {
     "name": "stdout",
     "output_type": "stream",
     "text": [
      "Data for WDC saved as WDC_30_years.csv\n",
      "Price          Close      High       Low      Open   Volume News_Sentiment\n",
      "Ticker           WDC       WDC       WDC       WDC      WDC               \n",
      "Date                                                                      \n",
      "1994-03-28  5.367668  5.367668  4.926490  5.220609  3111167           None\n",
      "1994-03-29  5.036783  5.294137  4.963253  5.294137  2299639           None\n",
      "1994-03-30  4.963253  5.073548  4.558841  4.852959  3346661           None\n",
      "1994-03-31  4.963253  5.000018  4.705899  4.963253  1327234           None\n",
      "1994-04-04  4.742664  4.852959  4.522076  4.558840  2295934           None\n"
     ]
    },
    {
     "name": "stderr",
     "output_type": "stream",
     "text": [
      "[*********************100%***********************]  1 of 1 completed\n"
     ]
    },
    {
     "name": "stdout",
     "output_type": "stream",
     "text": [
      "Data for WY saved as WY_30_years.csv\n",
      "Price          Close      High       Low      Open  Volume News_Sentiment\n",
      "Ticker            WY        WY        WY        WY      WY               \n",
      "Date                                                                     \n",
      "1994-03-28  5.870110  5.936816  5.803404  5.836757  347500           None\n",
      "1994-03-29  5.786728  5.920139  5.786728  5.903463  344000           None\n",
      "1994-03-30  5.753376  5.820081  5.619964  5.753376  676000           None\n",
      "1994-03-31  5.770050  5.803403  5.720021  5.753374  475600           None\n",
      "1994-04-04  5.603289  5.720024  5.586612  5.686671  515200           None\n"
     ]
    },
    {
     "name": "stderr",
     "output_type": "stream",
     "text": [
      "[*********************100%***********************]  1 of 1 completed\n"
     ]
    },
    {
     "name": "stdout",
     "output_type": "stream",
     "text": [
      "Data for WSM saved as WSM_30_years.csv\n",
      "Price          Close      High       Low      Open    Volume News_Sentiment\n",
      "Ticker           WSM       WSM       WSM       WSM       WSM               \n",
      "Date                                                                       \n",
      "1994-03-28  1.823504  1.944177  1.810096  1.944177   3194400           None\n",
      "1994-03-29  1.810096  1.877137  1.676015  1.863729  12190800           None\n",
      "1994-03-30  1.716239  1.823503  1.716239  1.810095   2446800           None\n",
      "1994-03-31  1.689422  1.743054  1.582157  1.743054   4285200           None\n",
      "1994-04-04  1.783279  1.796688  1.595566  1.649198   3645600           None\n"
     ]
    },
    {
     "name": "stderr",
     "output_type": "stream",
     "text": [
      "[*********************100%***********************]  1 of 1 completed\n"
     ]
    },
    {
     "name": "stdout",
     "output_type": "stream",
     "text": [
      "Data for WMB saved as WMB_30_years.csv\n",
      "Price          Close      High       Low      Open   Volume News_Sentiment\n",
      "Ticker           WMB       WMB       WMB       WMB      WMB               \n",
      "Date                                                                      \n",
      "1994-03-28  2.160589  2.181668  2.107892  2.118431  1657639           None\n",
      "1994-03-29  2.034117  2.150051  2.034117  2.150051  1425930           None\n",
      "1994-03-30  1.918182  2.044656  1.907643  2.044656  4529142           None\n",
      "1994-03-31  2.023576  2.023576  1.897103  1.939261  3478837           None\n",
      "1994-04-04  1.865485  2.023577  1.865485  1.991958  1182195           None\n"
     ]
    },
    {
     "name": "stderr",
     "output_type": "stream",
     "text": [
      "[*********************100%***********************]  1 of 1 completed\n",
      "[*********************100%***********************]  1 of 1 completed"
     ]
    },
    {
     "name": "stdout",
     "output_type": "stream",
     "text": [
      "Data for WTW saved as WTW_30_years.csv\n",
      "Price           Close       High        Low       Open   Volume News_Sentiment\n",
      "Ticker            WTW        WTW        WTW        WTW      WTW               \n",
      "Date                                                                          \n",
      "2001-06-12  26.899776  27.628986  25.927495  26.737730  3894441           None\n",
      "2001-06-13  26.818754  27.061824  26.737731  26.818754   758020           None\n",
      "2001-06-14  26.251589  26.737731  25.927496  26.737731   501093           None\n",
      "2001-06-15  26.656704  26.656704  25.927492  26.170562   382823           None\n",
      "2001-06-18  27.612785  28.196155  26.818757  27.547966   358398           None\n",
      "Data for WDAY saved as WDAY_30_years.csv\n",
      "Price           Close       High        Low       Open    Volume  \\\n",
      "Ticker           WDAY       WDAY       WDAY       WDAY      WDAY   \n",
      "Date                                                               \n",
      "2012-10-12  48.689999  51.369999  45.049999  48.049999  18132800   \n",
      "2012-10-15  51.939999  53.000000  48.599998  48.740002   3091900   \n",
      "2012-10-16  52.160000  53.500000  51.910000  53.490002    805200   \n",
      "2012-10-17  55.410000  57.209999  52.000000  52.020000   1386400   \n",
      "2012-10-18  53.419998  55.099998  50.869999  55.080002   1523300   \n",
      "\n",
      "Price      News_Sentiment  \n",
      "Ticker                     \n",
      "Date                       \n",
      "2012-10-12           None  \n",
      "2012-10-15           None  \n",
      "2012-10-16           None  \n",
      "2012-10-17           None  \n",
      "2012-10-18           None  \n"
     ]
    },
    {
     "name": "stderr",
     "output_type": "stream",
     "text": [
      "\n",
      "[*********************100%***********************]  1 of 1 completed\n"
     ]
    },
    {
     "name": "stdout",
     "output_type": "stream",
     "text": [
      "Data for WYNN saved as WYNN_30_years.csv\n",
      "Price          Close      High       Low      Open    Volume News_Sentiment\n",
      "Ticker          WYNN      WYNN      WYNN      WYNN      WYNN               \n",
      "Date                                                                       \n",
      "2002-10-25  7.026728  7.102342  6.940312  7.021327  13965800           None\n",
      "2002-10-28  7.026728  7.048332  6.999723  7.026728   5505900           None\n",
      "2002-10-29  6.826891  7.026729  6.502830  7.021328   2235800           None\n",
      "2002-10-30  6.751278  6.816091  6.551441  6.810689    905800           None\n",
      "2002-10-31  6.810688  7.032130  6.751277  6.783683    298900           None\n"
     ]
    },
    {
     "name": "stderr",
     "output_type": "stream",
     "text": [
      "[*********************100%***********************]  1 of 1 completed\n",
      "[*********************100%***********************]  1 of 1 completed"
     ]
    },
    {
     "name": "stdout",
     "output_type": "stream",
     "text": [
      "Data for XEL saved as XEL_30_years.csv\n",
      "Price          Close      High       Low      Open  Volume News_Sentiment\n",
      "Ticker           XEL       XEL       XEL       XEL     XEL               \n",
      "Date                                                                     \n",
      "1994-03-28  5.282609  5.282609  5.157577  5.220093  197600           None\n",
      "1994-03-29  5.235723  5.251352  5.204465  5.251352  215800           None\n",
      "1994-03-30  5.188834  5.266979  5.188834  5.235721  217400           None\n",
      "1994-03-31  5.110691  5.157578  5.016916  5.157578  253600           None\n",
      "1994-04-04  5.033832  5.081471  5.017952  5.081471  225200           None\n"
     ]
    },
    {
     "name": "stderr",
     "output_type": "stream",
     "text": [
      "\n"
     ]
    },
    {
     "name": "stdout",
     "output_type": "stream",
     "text": [
      "Data for XYL saved as XYL_30_years.csv\n",
      "Price           Close       High        Low       Open  Volume News_Sentiment\n",
      "Ticker            XYL        XYL        XYL        XYL     XYL               \n",
      "Date                                                                         \n",
      "2011-10-13  20.236570  20.253261  19.193448  19.610697  396800           None\n",
      "2011-10-14  21.154524  21.271353  20.328371  20.328371  402600           None\n",
      "2011-10-17  20.995970  21.530048  20.995970  21.279699  583400           None\n",
      "2011-10-18  21.062727  21.162867  20.778998  20.912517  423500           None\n",
      "2011-10-19  20.653826  21.154525  20.653826  21.071075  722200           None\n"
     ]
    },
    {
     "name": "stderr",
     "output_type": "stream",
     "text": [
      "[*********************100%***********************]  1 of 1 completed\n"
     ]
    },
    {
     "name": "stdout",
     "output_type": "stream",
     "text": [
      "Data for YUM saved as YUM_30_years.csv\n",
      "Price          Close      High       Low      Open    Volume News_Sentiment\n",
      "Ticker           YUM       YUM       YUM       YUM       YUM               \n",
      "Date                                                                       \n",
      "1997-09-17  3.583009  3.721409  3.536876  3.536876  29185406           None\n",
      "1997-09-18  3.706031  3.706031  3.598387  3.629142   6731884           None\n",
      "1997-09-19  3.721407  3.813673  3.698340  3.698340   3440221           None\n",
      "1997-09-22  3.690654  3.736787  3.682965  3.690654   5831072           None\n",
      "1997-09-23  3.690654  3.706031  3.682965  3.690654   2738601           None\n"
     ]
    },
    {
     "name": "stderr",
     "output_type": "stream",
     "text": [
      "[*********************100%***********************]  1 of 1 completed\n"
     ]
    },
    {
     "name": "stdout",
     "output_type": "stream",
     "text": [
      "Data for ZBRA saved as ZBRA_30_years.csv\n",
      "Price          Close      High       Low      Open   Volume News_Sentiment\n",
      "Ticker          ZBRA      ZBRA      ZBRA      ZBRA     ZBRA               \n",
      "Date                                                                      \n",
      "1994-03-28  8.250000  8.611111  8.000000  8.611111  2715750           None\n",
      "1994-03-29  8.027778  8.500000  8.027778  8.333333  1125000           None\n",
      "1994-03-30  7.861111  7.944444  7.611111  7.722222  2080350           None\n",
      "1994-03-31  8.777778  8.777778  7.833333  7.833333  2123100           None\n",
      "1994-04-04  7.888889  8.388889  7.777778  8.000000  1023300           None\n"
     ]
    },
    {
     "name": "stderr",
     "output_type": "stream",
     "text": [
      "[*********************100%***********************]  1 of 1 completed\n",
      "[*********************100%***********************]  1 of 1 completed"
     ]
    },
    {
     "name": "stdout",
     "output_type": "stream",
     "text": [
      "Data for ZBH saved as ZBH_30_years.csv\n",
      "Price           Close       High        Low       Open   Volume News_Sentiment\n",
      "Ticker            ZBH        ZBH        ZBH        ZBH      ZBH               \n",
      "Date                                                                          \n",
      "2001-07-25  25.900669  26.936348  25.674387  25.674387  2512582           None\n",
      "2001-07-26  24.455935  25.152189  24.368902  25.152189  2755662           None\n",
      "2001-07-27  24.717035  25.247928  24.542971  24.542971  1440146           None\n",
      "2001-07-30  24.769251  24.847580  24.717034  24.717034   789907           None\n",
      "2001-07-31  24.891102  24.934618  24.743148  24.769256  1003838           None\n",
      "Data for ZTS saved as ZTS_30_years.csv\n",
      "Price           Close       High        Low       Open    Volume  \\\n",
      "Ticker            ZTS        ZTS        ZTS        ZTS       ZTS   \n",
      "Date                                                               \n",
      "2013-02-01  28.324259  28.991034  27.831027  28.771820  66789100   \n",
      "2013-02-04  28.333387  29.219376  28.095906  28.397324   7695400   \n",
      "2013-02-05  28.351660  29.210246  28.178115  28.543471   5013200   \n",
      "2013-02-06  28.342524  28.707880  28.086773  28.296853   2126100   \n",
      "2013-02-07  29.228512  29.895287  28.315121  28.315121   3800800   \n",
      "\n",
      "Price      News_Sentiment  \n",
      "Ticker                     \n",
      "Date                       \n",
      "2013-02-01           None  \n",
      "2013-02-04           None  \n",
      "2013-02-05           None  \n",
      "2013-02-06           None  \n",
      "2013-02-07           None  \n"
     ]
    },
    {
     "name": "stderr",
     "output_type": "stream",
     "text": [
      "\n"
     ]
    }
   ],
   "source": [
    "csv_files = []\n",
    "\n",
    "for ticker in sp500_tickers:\n",
    "    \n",
    "    try:\n",
    "        # Download stock data for the company\n",
    "        data = yf.download(ticker, start=\"1994-03-28\", end=\"2024-03-28\")\n",
    "\n",
    "        #add additional features to be used \n",
    "        data['News_Sentiment'] = None \n",
    "        #data['Economy_Health'] = None\n",
    "        \n",
    "        \n",
    "        # Save the data to a CSV file named after the ticker\n",
    "        filename = f\"{ticker}_30_years.csv\"\n",
    "        data.to_csv(filename)\n",
    "\n",
    "        csv_files.append(filename)\n",
    "        \n",
    "        # Print the first few rows of the data\n",
    "        print(f\"Data for {ticker} saved as {filename}\")\n",
    "        print(data.head())  # Display first few rows of the data\n",
    "    \n",
    "    except Exception as e:\n",
    "        print(f\"Error downloading data for {ticker}: {e}\")\n"
   ]
  },
  {
   "cell_type": "code",
   "execution_count": 18,
   "id": "6fbe5272-418c-4d47-b80a-088dbf60e716",
   "metadata": {},
   "outputs": [
    {
     "name": "stdout",
     "output_type": "stream",
     "text": [
      "Wall Street tumbles, and S&P 500 drops 2% on worries about slower economy and higher inflation - The Associated Press\n",
      "{'neg': 0.135, 'neu': 0.865, 'pos': 0.0, 'compound': -0.4215}\n",
      "\n",
      "Navigating Trump-Era Market Volatility: How to Invest Amid Uncertain Times - The New York Times\n",
      "{'neg': 0.145, 'neu': 0.855, 'pos': 0.0, 'compound': -0.296}\n",
      "\n",
      "The Stock Market Correction Is Over, Now Comes The Bear Market - Seeking Alpha\n",
      "{'neg': 0.0, 'neu': 1.0, 'pos': 0.0, 'compound': 0.0}\n",
      "\n",
      "Do you fear a stock-market crash? Why your worrying is a plus for stocks. - MarketWatch\n",
      "{'neg': 0.454, 'neu': 0.546, 'pos': 0.0, 'compound': -0.8074}\n",
      "\n",
      "CoreWeave Stock Ends Flat on First Day of Trading After Scaled-Back IPO - The Wall Street Journal\n",
      "{'neg': 0.0, 'neu': 1.0, 'pos': 0.0, 'compound': 0.0}\n",
      "\n"
     ]
    }
   ],
   "source": [
    "#exmple of assigning sentiment values to articles\n",
    "analyzer = SentimentIntensityAnalyzer()\n",
    "news_headline = \"Stock market surges as Fed signals lower interest rates.\"\n",
    "\n",
    "for entry in feed.entries[:5]:  # Show first 5 news articles as example\n",
    "    \n",
    "    print(entry.title)\n",
    "    \n",
    "    sentiment = analyzer.polarity_scores(entry.title)\n",
    "    print(sentiment)  # {'neg': 0.0, 'neu': 0.58, 'pos': 0.42, 'compound': 0.658}\n",
    "    print()"
   ]
  },
  {
   "cell_type": "code",
   "execution_count": null,
   "id": "42e40ceb-e85c-44a9-888b-1ea58de0f199",
   "metadata": {},
   "outputs": [
    {
     "name": "stdout",
     "output_type": "stream",
     "text": [
      "YF.download() has changed argument auto_adjust default to True\n"
     ]
    },
    {
     "name": "stderr",
     "output_type": "stream",
     "text": [
      "[*********************100%***********************]  1 of 1 completed\n",
      "[*********************100%***********************]  1 of 1 completed\n",
      "\n",
      "\n",
      "\n"
     ]
    },
    {
     "name": "stdout",
     "output_type": "stream",
     "text": [
      "Data for AOS saved as AOS_30_years.csv\n",
      "Price            Close        High         Low        Open   Volume  \\\n",
      "Ticker            ABBV        ABBV        ABBV        ABBV     ABBV   \n",
      "Date                                                                  \n",
      "2023-03-28  146.752151  147.076727  146.010274  146.334850  3532500   \n",
      "2023-03-29  146.520294  148.096776  144.999451  147.429087  3959900   \n",
      "2023-03-30  146.446121  147.011801  145.982449  146.529579  3635800   \n",
      "2023-03-31  147.790756  147.976236  146.269913  146.919051  4957300   \n",
      "2023-04-03  148.764481  148.810851  146.325562  146.752146  4389400   \n",
      "\n",
      "Price      News_Sentiment  \n",
      "Ticker                     \n",
      "Date                       \n",
      "2023-03-28           None  \n",
      "2023-03-29           None  \n",
      "2023-03-30           None  \n",
      "2023-03-31           None  \n",
      "2023-04-03           None  \n"
     ]
    },
    {
     "name": "stderr",
     "output_type": "stream",
     "text": [
      "[*********************100%***********************]  1 of 1 completed\n",
      "[*********************100%***********************]  1 of 1 completed"
     ]
    },
    {
     "name": "stdout",
     "output_type": "stream",
     "text": [
      "Data for ACN saved as ACN_30_years.csv\n",
      "Price            Close        High         Low        Open   Volume  \\\n",
      "Ticker            ABBV        ABBV        ABBV        ABBV     ABBV   \n",
      "Date                                                                  \n",
      "2023-03-28  146.752151  147.076727  146.010274  146.334850  3532500   \n",
      "2023-03-29  146.520294  148.096776  144.999451  147.429087  3959900   \n",
      "2023-03-30  146.446121  147.011801  145.982449  146.529579  3635800   \n",
      "2023-03-31  147.790756  147.976236  146.269913  146.919051  4957300   \n",
      "2023-04-03  148.764481  148.810851  146.325562  146.752146  4389400   \n",
      "\n",
      "Price      News_Sentiment  \n",
      "Ticker                     \n",
      "Date                       \n",
      "2023-03-28            0.4  \n",
      "2023-03-29           None  \n",
      "2023-03-30            1.0  \n",
      "2023-03-31            0.0  \n",
      "2023-04-03            0.0  \n"
     ]
    },
    {
     "name": "stderr",
     "output_type": "stream",
     "text": [
      "\n",
      "[*********************100%***********************]  1 of 1 completed"
     ]
    },
    {
     "name": "stdout",
     "output_type": "stream",
     "text": [
      "Data for MMM saved as MMM_30_years.csv\n",
      "Price            Close                               High              \\\n",
      "Ticker            ABBV         ACN        AOS        ABBV         ACN   \n",
      "Date                                                                    \n",
      "2023-03-28  146.752151  267.506165  65.848831  147.076727  268.634558   \n",
      "2023-03-29  146.520294  272.311584  66.592819  148.096776  272.622872   \n",
      "2023-03-30  146.446121  274.957428  65.607262  147.011801  275.327078   \n",
      "2023-03-31  147.790756  278.021606  66.815056  147.976236  278.167513   \n",
      "2023-04-03  148.764481  278.050751  66.525192  148.810851  278.653851   \n",
      "\n",
      "Price                         Low                               Open  \\\n",
      "Ticker            AOS        ABBV         ACN        AOS        ABBV   \n",
      "Date                                                                   \n",
      "2023-03-28  66.322284  146.010274  265.171571  65.317400  146.334850   \n",
      "2023-03-29  66.766742  144.999451  268.478948  66.167681  147.429087   \n",
      "2023-03-30  67.153234  145.982449  273.128654  65.558947  146.529579   \n",
      "2023-03-31  66.863363  146.269913  274.908795  65.848822  146.919051   \n",
      "2023-04-03  66.844051  146.325562  275.443789  65.877817  146.752146   \n",
      "\n",
      "Price                               Volume                  News_Sentiment  \n",
      "Ticker             ACN        AOS     ABBV      ACN     AOS                 \n",
      "Date                                                                        \n",
      "2023-03-28  266.455608  65.394700  3532500  2869400  895800       0.333333  \n",
      "2023-03-29  268.478948  66.505862  3959900  2431500  817400            1.0  \n",
      "2023-03-30  273.342660  67.153234  3635800  2293600  930200            0.0  \n",
      "2023-03-31  275.404907  66.148352  4957300  3009300  973100            0.0  \n",
      "2023-04-03  275.667532  66.583171  4389400  2417300  860100           None  \n"
     ]
    },
    {
     "name": "stderr",
     "output_type": "stream",
     "text": [
      "\n"
     ]
    },
    {
     "name": "stdout",
     "output_type": "stream",
     "text": [
      "Data for ABBV saved as ABBV_30_years.csv\n",
      "Price            Close        High         Low        Open   Volume  \\\n",
      "Ticker            ABBV        ABBV        ABBV        ABBV     ABBV   \n",
      "Date                                                                  \n",
      "2023-03-28  146.752151  147.076727  146.010274  146.334850  3532500   \n",
      "2023-03-29  146.520294  148.096776  144.999451  147.429087  3959900   \n",
      "2023-03-30  146.446121  147.011801  145.982449  146.529579  3635800   \n",
      "2023-03-31  147.790756  147.976236  146.269913  146.919051  4957300   \n",
      "2023-04-03  148.764481  148.810851  146.325562  146.752146  4389400   \n",
      "\n",
      "Price      News_Sentiment  \n",
      "Ticker                     \n",
      "Date                       \n",
      "2023-03-28            0.0  \n",
      "2023-03-29       0.666667  \n",
      "2023-03-30            1.0  \n",
      "2023-03-31            0.5  \n",
      "2023-04-03           None  \n"
     ]
    },
    {
     "name": "stderr",
     "output_type": "stream",
     "text": [
      "[*********************100%***********************]  1 of 1 completed\n",
      "[*********************100%***********************]  1 of 1 completed"
     ]
    },
    {
     "name": "stdout",
     "output_type": "stream",
     "text": [
      "Data for ABT saved as ABT_30_years.csv\n",
      "Price            Close                               High              \\\n",
      "Ticker            ABBV         ACN        AOS        ABBV         ACN   \n",
      "Date                                                                    \n",
      "2023-03-28  146.752151  267.506165  65.848831  147.076727  268.634558   \n",
      "2023-03-29  146.520294  272.311584  66.592819  148.096776  272.622872   \n",
      "2023-03-30  146.446121  274.957428  65.607262  147.011801  275.327078   \n",
      "2023-03-31  147.790756  278.021606  66.815056  147.976236  278.167513   \n",
      "2023-04-03  148.764481  278.050751  66.525192  148.810851  278.653851   \n",
      "\n",
      "Price                         Low                               Open  \\\n",
      "Ticker            AOS        ABBV         ACN        AOS        ABBV   \n",
      "Date                                                                   \n",
      "2023-03-28  66.322284  146.010274  265.171571  65.317400  146.334850   \n",
      "2023-03-29  66.766742  144.999451  268.478948  66.167681  147.429087   \n",
      "2023-03-30  67.153234  145.982449  273.128654  65.558947  146.529579   \n",
      "2023-03-31  66.863363  146.269913  274.908795  65.848822  146.919051   \n",
      "2023-04-03  66.844051  146.325562  275.443789  65.877817  146.752146   \n",
      "\n",
      "Price                               Volume                  News_Sentiment  \n",
      "Ticker             ACN        AOS     ABBV      ACN     AOS                 \n",
      "Date                                                                        \n",
      "2023-03-28  266.455608  65.394700  3532500  2869400  895800            0.0  \n",
      "2023-03-29  268.478948  66.505862  3959900  2431500  817400            0.6  \n",
      "2023-03-30  273.342660  67.153234  3635800  2293600  930200            0.4  \n",
      "2023-03-31  275.404907  66.148352  4957300  3009300  973100            0.2  \n",
      "2023-04-03  275.667532  66.583171  4389400  2417300  860100           -0.4  \n"
     ]
    },
    {
     "name": "stderr",
     "output_type": "stream",
     "text": [
      "\n",
      "[*********************100%***********************]  1 of 1 completed"
     ]
    },
    {
     "name": "stdout",
     "output_type": "stream",
     "text": [
      "Data for AES saved as AES_30_years.csv\n",
      "Price           Close       High        Low       Open   Volume News_Sentiment\n",
      "Ticker            AES        AES        AES        AES      AES               \n",
      "Date                                                                          \n",
      "2023-03-28  21.125782  21.300833  20.840174  20.904666  3687500            0.0\n",
      "2023-03-29  21.614080  21.632507  21.190276  21.337686  4271000            1.0\n",
      "2023-03-30  21.715425  22.074738  21.696999  21.816771  5041500           None\n",
      "2023-03-31  22.185297  22.240575  21.844409  21.872049  4311000           None\n",
      "2023-04-03  21.945751  22.305064  21.816767  22.111588  3467700            1.0\n"
     ]
    },
    {
     "name": "stderr",
     "output_type": "stream",
     "text": [
      "\n",
      "[*********************100%***********************]  1 of 1 completed"
     ]
    },
    {
     "name": "stdout",
     "output_type": "stream",
     "text": [
      "Data for ADBE saved as ADBE_30_years.csv\n",
      "Price            Close        High         Low        Open   Volume  \\\n",
      "Ticker            ADBE        ADBE        ADBE        ADBE     ADBE   \n",
      "Date                                                                  \n",
      "2023-03-28  373.399994  374.000000  367.820007  373.420013  1780800   \n",
      "2023-03-29  379.160004  380.119995  375.559998  376.679993  2497600   \n",
      "2023-03-30  381.899994  382.579987  378.079987  381.649994  2139000   \n",
      "2023-03-31  385.369995  385.730011  380.260010  382.290009  3063400   \n",
      "2023-04-03  380.079987  383.730011  378.149994  380.880005  2712600   \n",
      "\n",
      "Price      News_Sentiment  \n",
      "Ticker                     \n",
      "Date                       \n",
      "2023-03-28            0.0  \n",
      "2023-03-29            0.2  \n",
      "2023-03-30            0.0  \n",
      "2023-03-31           -0.2  \n",
      "2023-04-03            0.0  \n"
     ]
    },
    {
     "name": "stderr",
     "output_type": "stream",
     "text": [
      "\n"
     ]
    },
    {
     "name": "stdout",
     "output_type": "stream",
     "text": [
      "Data for AFL saved as AFL_30_years.csv\n",
      "Price           Close       High        Low       Open   Volume News_Sentiment\n",
      "Ticker            AFL        AFL        AFL        AFL      AFL               \n",
      "Date                                                                          \n",
      "2023-03-28  60.817238  60.884217  60.233560  60.539751  1667400            0.2\n",
      "2023-03-29  61.515732  61.697535  60.970329  61.563570  1682800           -0.2\n",
      "2023-03-30  61.515732  61.994156  61.152129  61.879331  1905000           -0.6\n",
      "2023-03-31  61.735806  61.879334  61.238248  61.726242  2709800            0.2\n",
      "2023-04-03  61.869770  62.367328  61.314797  61.668826  2457300            1.0\n"
     ]
    },
    {
     "name": "stderr",
     "output_type": "stream",
     "text": [
      "[*********************100%***********************]  1 of 1 completed\n",
      "[*********************100%***********************]  1 of 1 completed"
     ]
    },
    {
     "name": "stdout",
     "output_type": "stream",
     "text": [
      "Data for AMD saved as AMD_30_years.csv\n",
      "Price           Close       High        Low       Open    Volume  \\\n",
      "Ticker            AMD        AMD        AMD        AMD       AMD   \n",
      "Date                                                               \n",
      "2023-03-28  94.559998  96.940002  92.870003  96.769997  59150100   \n",
      "2023-03-29  96.089996  96.910004  94.870003  96.070000  55326000   \n",
      "2023-03-30  97.879997  99.529999  97.250000  98.000000  59678500   \n",
      "2023-03-31  98.010002  98.360001  95.269997  96.339996  55861100   \n",
      "2023-04-03  96.559998  96.790001  94.809998  96.699997  50655300   \n",
      "\n",
      "Price      News_Sentiment  \n",
      "Ticker                     \n",
      "Date                       \n",
      "2023-03-28            0.0  \n",
      "2023-03-29            0.0  \n",
      "2023-03-30            0.6  \n",
      "2023-03-31            0.4  \n",
      "2023-04-03            0.0  \n"
     ]
    },
    {
     "name": "stderr",
     "output_type": "stream",
     "text": [
      "\n",
      "[*********************100%***********************]  1 of 1 completed"
     ]
    },
    {
     "name": "stdout",
     "output_type": "stream",
     "text": [
      "Data for A saved as A_30_years.csv\n",
      "Price            Close        High         Low        Open   Volume  \\\n",
      "Ticker               A           A           A           A        A   \n",
      "Date                                                                  \n",
      "2023-03-28  130.765930  131.436366  130.154634  130.677184   942600   \n",
      "2023-03-29  131.968781  132.353299  130.765926  132.067366  1002800   \n",
      "2023-03-30  132.599792  133.635023  131.446238  133.368829  1468200   \n",
      "2023-03-31  136.395691  136.780209  132.964605  133.497009  2579800   \n",
      "2023-04-03  136.143845  136.370977  134.316868  135.709320  1551800   \n",
      "\n",
      "Price      News_Sentiment  \n",
      "Ticker                     \n",
      "Date                       \n",
      "2023-03-28            0.0  \n",
      "2023-03-29            0.6  \n",
      "2023-03-30            0.6  \n",
      "2023-03-31            0.0  \n",
      "2023-04-03           -0.4  \n"
     ]
    },
    {
     "name": "stderr",
     "output_type": "stream",
     "text": [
      "\n",
      "[*********************100%***********************]  1 of 1 completed"
     ]
    },
    {
     "name": "stdout",
     "output_type": "stream",
     "text": [
      "Data for APD saved as APD_30_years.csv\n",
      "Price            Close        High         Low        Open   Volume  \\\n",
      "Ticker             APD         APD         APD         APD      APD   \n",
      "Date                                                                  \n",
      "2023-03-28  259.932465  261.177295  256.197945  256.701607   743400   \n",
      "2023-03-29  262.583679  263.467437  261.319854  262.555173   751800   \n",
      "2023-03-30  265.804993  266.432164  263.286826  264.465131   808600   \n",
      "2023-03-31  274.640656  274.965772  265.967613  266.665647  1487400   \n",
      "2023-04-03  276.390564  276.658309  273.024593  274.028659  1173700   \n",
      "\n",
      "Price      News_Sentiment  \n",
      "Ticker                     \n",
      "Date                       \n",
      "2023-03-28           None  \n",
      "2023-03-29           None  \n",
      "2023-03-30           None  \n",
      "2023-03-31            0.5  \n",
      "2023-04-03           None  \n"
     ]
    },
    {
     "name": "stderr",
     "output_type": "stream",
     "text": [
      "\n",
      "[*********************100%***********************]  1 of 1 completed"
     ]
    },
    {
     "name": "stdout",
     "output_type": "stream",
     "text": [
      "Data for AKAM saved as AKAM_30_years.csv\n",
      "Price           Close       High        Low       Open   Volume News_Sentiment\n",
      "Ticker           AKAM       AKAM       AKAM       AKAM     AKAM               \n",
      "Date                                                                          \n",
      "2023-03-28  76.580002  76.690002  75.879997  76.050003   953100           None\n",
      "2023-03-29  76.730003  77.209999  76.330002  76.989998  1625500           None\n",
      "2023-03-30  76.550003  77.059998  76.279999  76.970001  1108000           None\n",
      "2023-03-31  78.300003  78.400002  76.760002  76.849998  1406400           None\n",
      "2023-04-03  77.879997  78.500000  77.519997  78.300003  1255900           None\n"
     ]
    },
    {
     "name": "stderr",
     "output_type": "stream",
     "text": [
      "\n",
      "[*********************100%***********************]  1 of 1 completed"
     ]
    },
    {
     "name": "stdout",
     "output_type": "stream",
     "text": [
      "Data for ALB saved as ALB_30_years.csv\n",
      "Price            Close        High         Low        Open   Volume  \\\n",
      "Ticker             ALB         ALB         ALB         ALB      ALB   \n",
      "Date                                                                  \n",
      "2023-03-28  212.177185  218.547561  210.533529  216.203649  1817500   \n",
      "2023-03-29  218.304428  218.547572  212.566220  216.884461  1373900   \n",
      "2023-03-30  216.339828  223.031157  216.330093  222.389253  1294000   \n",
      "2023-03-31  214.978195  218.411402  213.208115  217.108139  1835400   \n",
      "2023-04-03  212.439789  217.166509  211.350508  215.153284  1507600   \n",
      "\n",
      "Price      News_Sentiment  \n",
      "Ticker                     \n",
      "Date                       \n",
      "2023-03-28           None  \n",
      "2023-03-29           None  \n",
      "2023-03-30            1.0  \n",
      "2023-03-31           None  \n",
      "2023-04-03           -1.0  \n"
     ]
    },
    {
     "name": "stderr",
     "output_type": "stream",
     "text": [
      "\n"
     ]
    },
    {
     "name": "stdout",
     "output_type": "stream",
     "text": [
      "Data for ABNB saved as ABNB_30_years.csv\n",
      "Price            Close        High         Low        Open   Volume  \\\n",
      "Ticker            ABNB        ABNB        ABNB        ABNB     ABNB   \n",
      "Date                                                                  \n",
      "2023-03-28  116.610001  118.309998  116.014999  117.970001  2941000   \n",
      "2023-03-29  118.800003  119.190002  117.151001  118.339996  2711500   \n",
      "2023-03-30  122.279999  122.650002  120.110001  120.800003  5437900   \n",
      "2023-03-31  124.400002  125.940002  122.800003  123.300003  5533800   \n",
      "2023-04-03  121.459999  123.089996  119.710999  123.000000  4230600   \n",
      "\n",
      "Price      News_Sentiment  \n",
      "Ticker                     \n",
      "Date                       \n",
      "2023-03-28           -0.4  \n",
      "2023-03-29            0.0  \n",
      "2023-03-30            0.0  \n",
      "2023-03-31            0.2  \n",
      "2023-04-03           -0.5  \n"
     ]
    },
    {
     "name": "stderr",
     "output_type": "stream",
     "text": [
      "[*********************100%***********************]  1 of 1 completed\n",
      "[*********************100%***********************]  1 of 1 completed"
     ]
    },
    {
     "name": "stdout",
     "output_type": "stream",
     "text": [
      "Data for ALLE saved as ALLE_30_years.csv\n",
      "Price            Close        High         Low        Open  Volume  \\\n",
      "Ticker            ALLE        ALLE        ALLE        ALLE    ALLE   \n",
      "Date                                                                 \n",
      "2023-03-28  101.862976  102.107322  100.074361  100.426220  987900   \n",
      "2023-03-29  103.016296  103.221546  102.009592  103.016296  625500   \n",
      "2023-03-30  102.664429  103.876383  102.361442  103.876383  460000   \n",
      "2023-03-31  104.316216  104.433497  102.957645  103.397472  726500   \n",
      "2023-04-03  103.661369  104.325991  102.371222  103.788434  859900   \n",
      "\n",
      "Price      News_Sentiment  \n",
      "Ticker                     \n",
      "Date                       \n",
      "2023-03-28           0.25  \n",
      "2023-03-29            0.0  \n",
      "2023-03-30            0.0  \n",
      "2023-03-31       0.333333  \n",
      "2023-04-03           None  \n"
     ]
    },
    {
     "name": "stderr",
     "output_type": "stream",
     "text": [
      "\n"
     ]
    },
    {
     "name": "stdout",
     "output_type": "stream",
     "text": [
      "Data for ALGN saved as ALGN_30_years.csv\n",
      "Price            Close        High         Low        Open   Volume  \\\n",
      "Ticker            ALGN        ALGN        ALGN        ALGN     ALGN   \n",
      "Date                                                                  \n",
      "2023-03-28  305.290009  309.869995  304.309998  306.429993   616700   \n",
      "2023-03-29  306.209991  310.049988  303.709991  309.369995   499900   \n",
      "2023-03-30  311.850006  314.549988  309.510010  311.190002   565900   \n",
      "2023-03-31  334.140015  335.149994  315.000000  315.040009  1215100   \n",
      "2023-04-03  327.350006  335.079987  324.299988  333.290009   645900   \n",
      "\n",
      "Price      News_Sentiment  \n",
      "Ticker                     \n",
      "Date                       \n",
      "2023-03-28           -0.2  \n",
      "2023-03-29           None  \n",
      "2023-03-30            1.0  \n",
      "2023-03-31            0.2  \n",
      "2023-04-03           None  \n"
     ]
    },
    {
     "name": "stderr",
     "output_type": "stream",
     "text": [
      "[*********************100%***********************]  1 of 1 completed\n"
     ]
    },
    {
     "name": "stdout",
     "output_type": "stream",
     "text": [
      "Data for ARE saved as ARE_30_years.csv\n",
      "Price            Close        High         Low        Open   Volume  \\\n",
      "Ticker             ARE         ARE         ARE         ARE      ARE   \n",
      "Date                                                                  \n",
      "2023-03-28  108.361511  109.532096  106.742813  107.538442   989600   \n",
      "2023-03-29  112.513428  112.879237  110.080807  110.117389  1096000   \n",
      "2023-03-30  114.508423  115.432027  113.603288  113.908079  1119700   \n",
      "2023-03-31  115.995407  116.078535  113.529386  114.942499  1307200   \n",
      "2023-04-03  114.859383  117.103740  113.917303  115.090284   922400   \n",
      "\n",
      "Price      News_Sentiment  \n",
      "Ticker                     \n",
      "Date                       \n",
      "2023-03-28            0.0  \n",
      "2023-03-29            0.6  \n",
      "2023-03-30            0.6  \n",
      "2023-03-31            0.4  \n",
      "2023-04-03           -0.4  \n"
     ]
    },
    {
     "name": "stderr",
     "output_type": "stream",
     "text": [
      "[*********************100%***********************]  1 of 1 completed\n"
     ]
    },
    {
     "name": "stdout",
     "output_type": "stream",
     "text": [
      "Data for LNT saved as LNT_30_years.csv\n",
      "Price           Close       High        Low       Open   Volume News_Sentiment\n",
      "Ticker            LNT        LNT        LNT        LNT      LNT               \n",
      "Date                                                                          \n",
      "2023-03-28  48.418194  48.902656  47.831249  47.896465  1627900            0.8\n",
      "2023-03-29  49.210102  49.284636  48.557942  48.641791  1318900            0.8\n",
      "2023-03-30  49.293949  49.675928  49.163518  49.452333  1203500            1.0\n",
      "2023-03-31  49.750465  49.964746  49.182154  49.452336  1495400            1.0\n",
      "2023-04-03  49.116932  49.573442  48.911966  49.536174  2133200            0.6\n"
     ]
    },
    {
     "name": "stderr",
     "output_type": "stream",
     "text": [
      "[*********************100%***********************]  1 of 1 completed\n"
     ]
    },
    {
     "name": "stdout",
     "output_type": "stream",
     "text": [
      "Data for ALL saved as ALL_30_years.csv\n",
      "Price            Close        High         Low        Open   Volume  \\\n",
      "Ticker             ALL         ALL         ALL         ALL      ALL   \n",
      "Date                                                                  \n",
      "2023-03-28  101.268303  102.201567  100.611216  101.220692  1585200   \n",
      "2023-03-29  104.468063  104.610911  101.944456  102.458695  2263500   \n",
      "2023-03-30  103.887169  105.134696  102.849158  104.991849  1324100   \n",
      "2023-03-31  105.525124  105.972709  104.610910  104.725189  1901100   \n",
      "2023-04-03  108.801071  109.810514  106.858364  107.305950  2381600   \n",
      "\n",
      "Price      News_Sentiment  \n",
      "Ticker                     \n",
      "Date                       \n",
      "2023-03-28            0.2  \n",
      "2023-03-29            0.6  \n",
      "2023-03-30            0.6  \n",
      "2023-03-31            0.2  \n",
      "2023-04-03           -0.4  \n"
     ]
    },
    {
     "name": "stderr",
     "output_type": "stream",
     "text": [
      "[*********************100%***********************]  1 of 1 completed\n"
     ]
    },
    {
     "name": "stdout",
     "output_type": "stream",
     "text": [
      "Data for GOOGL saved as GOOGL_30_years.csv\n",
      "Price            Close        High         Low        Open    Volume  \\\n",
      "Ticker           GOOGL       GOOGL       GOOGL       GOOGL     GOOGL   \n",
      "Date                                                                   \n",
      "2023-03-28  100.549278  101.962520   99.265415  101.952573  32057900   \n",
      "2023-03-29  100.907562  102.002327  100.171085  101.793327  28779600   \n",
      "2023-03-30  100.409943  100.678662   99.305224  100.429852  33086200   \n",
      "2023-03-31  103.236435  103.395670  100.559232  100.817997  36863400   \n",
      "2023-04-03  103.863434  104.032623  101.444996  101.902806  25035400   \n",
      "\n",
      "Price      News_Sentiment  \n",
      "Ticker                     \n",
      "Date                       \n",
      "2023-03-28            0.8  \n",
      "2023-03-29           -0.2  \n",
      "2023-03-30            0.6  \n",
      "2023-03-31           -0.2  \n",
      "2023-04-03            0.0  \n"
     ]
    },
    {
     "name": "stderr",
     "output_type": "stream",
     "text": [
      "[*********************100%***********************]  1 of 1 completed\n",
      "[*********************100%***********************]  1 of 1 completed"
     ]
    },
    {
     "name": "stdout",
     "output_type": "stream",
     "text": [
      "Data for GOOG saved as GOOG_30_years.csv\n",
      "Price            Close        High         Low        Open    Volume  \\\n",
      "Ticker            GOOG        GOOG        GOOG        GOOG      GOOG   \n",
      "Date                                                                   \n",
      "2023-03-28  100.882179  102.514448   99.807269  102.514448  24913500   \n",
      "2023-03-29  101.419632  102.335293  100.553731  102.235766  26148300   \n",
      "2023-03-30  100.842369  101.131003   99.817226  100.961806  25009800   \n",
      "2023-03-31  103.509735  103.698842  100.961806  101.230529  28108000   \n",
      "2023-04-03  104.415443  104.455248  101.897364  102.185998  20719900   \n",
      "\n",
      "Price      News_Sentiment  \n",
      "Ticker                     \n",
      "Date                       \n",
      "2023-03-28            0.4  \n",
      "2023-03-29            0.4  \n",
      "2023-03-30            0.6  \n",
      "2023-03-31           -0.2  \n",
      "2023-04-03           -0.6  \n"
     ]
    },
    {
     "name": "stderr",
     "output_type": "stream",
     "text": [
      "\n",
      "[*********************100%***********************]  1 of 1 completed"
     ]
    },
    {
     "name": "stdout",
     "output_type": "stream",
     "text": [
      "Data for MO saved as MO_30_years.csv\n",
      "Price           Close       High        Low       Open   Volume News_Sentiment\n",
      "Ticker             MO         MO         MO         MO       MO               \n",
      "Date                                                                          \n",
      "2023-03-28  37.555542  37.877254  37.420085  37.496280  8796700            0.2\n",
      "2023-03-29  37.691006  37.834928  37.504751  37.784133  7530500           -0.2\n",
      "2023-03-30  37.674072  37.953455  37.547080  37.792597  6862400            0.0\n",
      "2023-03-31  37.775661  37.860324  37.614807  37.784129  7711500            0.2\n",
      "2023-04-03  38.080444  38.376759  37.758732  37.860328  8385800            0.0\n"
     ]
    },
    {
     "name": "stderr",
     "output_type": "stream",
     "text": [
      "\n"
     ]
    },
    {
     "name": "stdout",
     "output_type": "stream",
     "text": [
      "Data for AMCR saved as AMCR_30_years.csv\n",
      "Price           Close       High        Low       Open   Volume News_Sentiment\n",
      "Ticker           AMCR       AMCR       AMCR       AMCR     AMCR               \n",
      "Date                                                                          \n",
      "2023-03-28   9.970974  10.007133   9.898655   9.925774  3733700           None\n",
      "2023-03-29  10.043293  10.097533   9.989054  10.070413  7749100           None\n",
      "2023-03-30  10.070413  10.115611  10.016173  10.097532  4744100           None\n",
      "2023-03-31  10.287370  10.296410  10.106573  10.133692  6976800           None\n",
      "2023-04-03  10.215051  10.296410  10.151771  10.187931  8741700           None\n"
     ]
    },
    {
     "name": "stderr",
     "output_type": "stream",
     "text": [
      "[*********************100%***********************]  1 of 1 completed\n",
      "[*********************100%***********************]  1 of 1 completed"
     ]
    },
    {
     "name": "stdout",
     "output_type": "stream",
     "text": [
      "Data for AMZN saved as AMZN_30_years.csv\n",
      "Price            Close        High         Low        Open    Volume  \\\n",
      "Ticker            AMZN        AMZN        AMZN        AMZN      AMZN   \n",
      "Date                                                                   \n",
      "2023-03-28   97.239998   98.440002   96.290001   98.110001  38720100   \n",
      "2023-03-29  100.250000  100.419998   98.559998   98.690002  49783300   \n",
      "2023-03-30  102.000000  103.040001  101.010002  101.550003  53633400   \n",
      "2023-03-31  103.290001  103.489998  101.949997  102.160004  56750300   \n",
      "2023-04-03  102.410004  103.290001  101.430000  102.300003  41135700   \n",
      "\n",
      "Price      News_Sentiment  \n",
      "Ticker                     \n",
      "Date                       \n",
      "2023-03-28           -0.2  \n",
      "2023-03-29            0.6  \n",
      "2023-03-30            0.6  \n",
      "2023-03-31           -0.2  \n",
      "2023-04-03           -0.4  \n"
     ]
    },
    {
     "name": "stderr",
     "output_type": "stream",
     "text": [
      "\n",
      "[*********************100%***********************]  1 of 1 completed"
     ]
    },
    {
     "name": "stdout",
     "output_type": "stream",
     "text": [
      "Data for AEE saved as AEE_30_years.csv\n",
      "Price           Close       High        Low       Open   Volume News_Sentiment\n",
      "Ticker            AEE        AEE        AEE        AEE      AEE               \n",
      "Date                                                                          \n",
      "2023-03-28  79.273933  79.883230  78.505285  78.505285   871500           None\n",
      "2023-03-29  80.623764  80.726876  79.826995  79.826995  1278400           None\n",
      "2023-03-30  81.036217  81.420545  80.417552  80.792504  1515800           None\n",
      "2023-03-31  80.979965  81.533021  80.398789  81.308046  1251700           None\n",
      "2023-04-03  80.764359  81.495511  80.051950  80.530014  1370700           None\n"
     ]
    },
    {
     "name": "stderr",
     "output_type": "stream",
     "text": [
      "\n",
      "[*********************100%***********************]  1 of 1 completed"
     ]
    },
    {
     "name": "stdout",
     "output_type": "stream",
     "text": [
      "Data for AEP saved as AEP_30_years.csv\n",
      "Price           Close       High        Low       Open   Volume News_Sentiment\n",
      "Ticker            AEP        AEP        AEP        AEP      AEP               \n",
      "Date                                                                          \n",
      "2023-03-28  82.098320  82.984571  81.664425  81.729047  2158900           None\n",
      "2023-03-29  83.178444  83.196911  82.356815  82.430671  3185900           None\n",
      "2023-03-30  83.483078  84.175462  81.775198  83.446150  3617600            0.5\n",
      "2023-03-31  84.000053  84.138532  83.372291  83.870809  2210600            0.0\n",
      "2023-04-03  83.916977  84.581667  83.187665  83.520010  2926200            0.0\n"
     ]
    },
    {
     "name": "stderr",
     "output_type": "stream",
     "text": [
      "\n",
      "[*********************100%***********************]  1 of 1 completed"
     ]
    },
    {
     "name": "stdout",
     "output_type": "stream",
     "text": [
      "Data for AIG saved as AIG_30_years.csv\n",
      "Price           Close       High        Low       Open   Volume News_Sentiment\n",
      "Ticker            AIG        AIG        AIG        AIG      AIG               \n",
      "Date                                                                          \n",
      "2023-03-28  45.464687  45.761406  45.043542  45.206256  5140700           None\n",
      "2023-03-29  46.613266  46.641979  45.933689  46.412265  5201600            1.0\n",
      "2023-03-30  47.685272  47.780986  46.986552  46.986552  5933600            1.0\n",
      "2023-03-31  48.202133  48.326564  47.819271  48.068133  5071600            0.0\n",
      "2023-04-03  48.259560  48.661565  47.914988  48.297847  4324800           None\n"
     ]
    },
    {
     "name": "stderr",
     "output_type": "stream",
     "text": [
      "\n",
      "[*********************100%***********************]  1 of 1 completed"
     ]
    },
    {
     "name": "stdout",
     "output_type": "stream",
     "text": [
      "Data for AXP saved as AXP_30_years.csv\n",
      "Price            Close        High         Low        Open   Volume  \\\n",
      "Ticker             AXP         AXP         AXP         AXP      AXP   \n",
      "Date                                                                  \n",
      "2023-03-28  155.205750  158.500730  154.211399  158.130297  4883700   \n",
      "2023-03-29  159.475586  160.060501  157.028720  157.633121  3884800   \n",
      "2023-03-30  158.325287  160.811156  157.740371  159.836306  2644800   \n",
      "2023-03-31  160.801392  160.928127  157.681877  159.553586  3594300   \n",
      "2023-04-03  159.660797  161.084083  158.588457  159.982499  2704400   \n",
      "\n",
      "Price      News_Sentiment  \n",
      "Ticker                     \n",
      "Date                       \n",
      "2023-03-28           -1.0  \n",
      "2023-03-29            1.0  \n",
      "2023-03-30      -0.333333  \n",
      "2023-03-31       0.666667  \n",
      "2023-04-03           -1.0  \n"
     ]
    },
    {
     "name": "stderr",
     "output_type": "stream",
     "text": [
      "\n",
      "[*********************100%***********************]  1 of 1 completed"
     ]
    },
    {
     "name": "stdout",
     "output_type": "stream",
     "text": [
      "Data for AMT saved as AMT_30_years.csv\n",
      "Price            Close        High         Low        Open   Volume  \\\n",
      "Ticker             AMT         AMT         AMT         AMT      AMT   \n",
      "Date                                                                  \n",
      "2023-03-28  180.402908  181.693710  178.616381  179.579801  1480200   \n",
      "2023-03-29  185.659622  185.734453  182.470041  182.731941  1784100   \n",
      "2023-03-30  188.175751  189.634925  187.090744  188.624734  1477800   \n",
      "2023-03-31  191.131485  191.271798  188.016734  188.138335  2558000   \n",
      "2023-04-03  188.100952  191.702081  186.248929  190.055852  2876200   \n",
      "\n",
      "Price      News_Sentiment  \n",
      "Ticker                     \n",
      "Date                       \n",
      "2023-03-28            0.4  \n",
      "2023-03-29           None  \n",
      "2023-03-30           None  \n",
      "2023-03-31           None  \n",
      "2023-04-03           None  \n"
     ]
    },
    {
     "name": "stderr",
     "output_type": "stream",
     "text": [
      "\n",
      "[*********************100%***********************]  1 of 1 completed"
     ]
    },
    {
     "name": "stdout",
     "output_type": "stream",
     "text": [
      "Data for AWK saved as AWK_30_years.csv\n",
      "Price            Close        High         Low        Open   Volume  \\\n",
      "Ticker             AWK         AWK         AWK         AWK      AWK   \n",
      "Date                                                                  \n",
      "2023-03-28  135.107285  137.030276  134.667189  135.135985   675500   \n",
      "2023-03-29  137.900909  138.168788  135.748301  135.748301   608800   \n",
      "2023-03-30  139.575165  139.689966  137.958314  138.168792   766900   \n",
      "2023-03-31  140.149185  140.876283  138.274017  140.130047  1060700   \n",
      "2023-04-03  139.144638  140.168316  137.776528  138.781082   583200   \n",
      "\n",
      "Price      News_Sentiment  \n",
      "Ticker                     \n",
      "Date                       \n",
      "2023-03-28           None  \n",
      "2023-03-29           None  \n",
      "2023-03-30           None  \n",
      "2023-03-31            0.0  \n",
      "2023-04-03           None  \n"
     ]
    },
    {
     "name": "stderr",
     "output_type": "stream",
     "text": [
      "\n"
     ]
    },
    {
     "name": "stdout",
     "output_type": "stream",
     "text": [
      "Data for AMP saved as AMP_30_years.csv\n",
      "Price            Close        High         Low        Open  Volume  \\\n",
      "Ticker             AMP         AMP         AMP         AMP     AMP   \n",
      "Date                                                                 \n",
      "2023-03-28  290.767334  291.748356  288.203011  289.135508  648300   \n",
      "2023-03-29  292.991608  293.069301  289.038293  293.069301  511100   \n",
      "2023-03-30  292.010620  296.498155  290.757598  295.915352  446300   \n",
      "2023-03-31  297.712280  297.935697  293.399578  295.517068  511800   \n",
      "2023-04-03  297.488922  299.907551  295.264600  298.139726  399000   \n",
      "\n",
      "Price      News_Sentiment  \n",
      "Ticker                     \n",
      "Date                       \n",
      "2023-03-28            0.0  \n",
      "2023-03-29            0.8  \n",
      "2023-03-30            0.4  \n",
      "2023-03-31            0.8  \n",
      "2023-04-03            0.0  \n"
     ]
    },
    {
     "name": "stderr",
     "output_type": "stream",
     "text": [
      "[*********************100%***********************]  1 of 1 completed\n",
      "[*********************100%***********************]  1 of 1 completed"
     ]
    },
    {
     "name": "stdout",
     "output_type": "stream",
     "text": [
      "Data for AMGN saved as AMGN_30_years.csv\n",
      "Price            Close        High         Low        Open   Volume  \\\n",
      "Ticker            AMGN        AMGN        AMGN        AMGN     AMGN   \n",
      "Date                                                                  \n",
      "2023-03-28  223.895187  224.082953  222.421212  222.505704  1887800   \n",
      "2023-03-29  226.289230  226.814980  223.754358  225.049966  2744000   \n",
      "2023-03-30  226.730499  227.960381  225.425509  227.697506  2577000   \n",
      "2023-03-31  226.965210  227.575452  224.524213  226.664773  2762500   \n",
      "2023-04-03  229.490707  229.781746  226.599070  227.199929  2478700   \n",
      "\n",
      "Price      News_Sentiment  \n",
      "Ticker                     \n",
      "Date                       \n",
      "2023-03-28       0.333333  \n",
      "2023-03-29            1.0  \n",
      "2023-03-30       0.666667  \n",
      "2023-03-31           None  \n",
      "2023-04-03            0.5  \n"
     ]
    },
    {
     "name": "stderr",
     "output_type": "stream",
     "text": [
      "\n"
     ]
    },
    {
     "name": "stdout",
     "output_type": "stream",
     "text": [
      "Data for AME saved as AME_30_years.csv\n",
      "Price            Close        High         Low        Open   Volume  \\\n",
      "Ticker             AME         AME         AME         AME      AME   \n",
      "Date                                                                  \n",
      "2023-03-28  139.318558  139.397527  137.571396  138.143913   673900   \n",
      "2023-03-29  140.404358  140.621520  139.338294  140.167450   799200   \n",
      "2023-03-30  140.986755  142.112043  140.305658  141.667853   585200   \n",
      "2023-03-31  143.454468  143.632138  141.223639  141.657948  1159700   \n",
      "2023-04-03  142.388443  143.553208  141.509929  142.575993  1104500   \n",
      "\n",
      "Price      News_Sentiment  \n",
      "Ticker                     \n",
      "Date                       \n",
      "2023-03-28            0.2  \n",
      "2023-03-29            0.0  \n",
      "2023-03-30            0.8  \n",
      "2023-03-31           -0.2  \n",
      "2023-04-03           None  \n"
     ]
    },
    {
     "name": "stderr",
     "output_type": "stream",
     "text": [
      "[*********************100%***********************]  1 of 1 completed\n",
      "[*********************100%***********************]  1 of 1 completed"
     ]
    },
    {
     "name": "stdout",
     "output_type": "stream",
     "text": [
      "Data for APH saved as APH_30_years.csv\n",
      "Price           Close       High        Low       Open   Volume News_Sentiment\n",
      "Ticker            APH        APH        APH        APH      APH               \n",
      "Date                                                                          \n",
      "2023-03-28  38.339397  38.447410  38.133193  38.349219  4601200           None\n",
      "2023-03-29  39.183857  39.282052  38.604519  38.761627  4438000           None\n",
      "2023-03-30  39.601177  39.625723  39.252589  39.434247  5310600           -1.0\n",
      "2023-03-31  40.121605  40.160883  39.674826  39.719014  5347400           None\n",
      "2023-04-03  39.876125  40.028323  39.645371  39.851576  5360400           None\n"
     ]
    },
    {
     "name": "stderr",
     "output_type": "stream",
     "text": [
      "\n"
     ]
    },
    {
     "name": "stdout",
     "output_type": "stream",
     "text": [
      "Data for ADI saved as ADI_30_years.csv\n",
      "Price            Close        High         Low        Open   Volume  \\\n",
      "Ticker             ADI         ADI         ADI         ADI      ADI   \n",
      "Date                                                                  \n",
      "2023-03-28  177.217087  177.603175  174.591647  177.332910  3319900   \n",
      "2023-03-29  182.593430  183.684149  179.572241  179.572241  3577800   \n",
      "2023-03-30  187.458221  188.346236  184.253635  184.601120  4367100   \n",
      "2023-03-31  190.363556  190.691732  186.531574  186.792191  3873000   \n",
      "2023-04-03  189.456238  190.875134  187.506460  189.639635  3120700   \n",
      "\n",
      "Price      News_Sentiment  \n",
      "Ticker                     \n",
      "Date                       \n",
      "2023-03-28           0.75  \n",
      "2023-03-29            1.0  \n",
      "2023-03-30            0.0  \n",
      "2023-03-31            0.5  \n",
      "2023-04-03           None  \n"
     ]
    },
    {
     "name": "stderr",
     "output_type": "stream",
     "text": [
      "[*********************100%***********************]  1 of 1 completed\n",
      "[*********************100%***********************]  1 of 1 completed"
     ]
    },
    {
     "name": "stdout",
     "output_type": "stream",
     "text": [
      "Data for ANSS saved as ANSS_30_years.csv\n",
      "Price            Close        High         Low        Open  Volume  \\\n",
      "Ticker            ANSS        ANSS        ANSS        ANSS    ANSS   \n",
      "Date                                                                 \n",
      "2023-03-28  317.709991  318.119995  314.429993  315.790009  576400   \n",
      "2023-03-29  320.070007  321.209991  317.570007  320.000000  360500   \n",
      "2023-03-30  326.040009  327.549988  323.130005  324.040009  453900   \n",
      "2023-03-31  332.799988  333.890015  326.950012  327.549988  726600   \n",
      "2023-04-03  329.399994  330.920013  327.079987  329.989990  456300   \n",
      "\n",
      "Price      News_Sentiment  \n",
      "Ticker                     \n",
      "Date                       \n",
      "2023-03-28           None  \n",
      "2023-03-29            0.0  \n",
      "2023-03-30            1.0  \n",
      "2023-03-31            0.5  \n",
      "2023-04-03           None  \n"
     ]
    },
    {
     "name": "stderr",
     "output_type": "stream",
     "text": [
      "\n",
      "[*********************100%***********************]  1 of 1 completed"
     ]
    },
    {
     "name": "stdout",
     "output_type": "stream",
     "text": [
      "Data for AON saved as AON_30_years.csv\n",
      "Price            Close        High         Low        Open   Volume  \\\n",
      "Ticker             AON         AON         AON         AON      AON   \n",
      "Date                                                                  \n",
      "2023-03-28  304.664154  305.078274  302.080922  303.757050   573500   \n",
      "2023-03-29  308.302399  308.391132  305.748745  306.448774   507000   \n",
      "2023-03-30  308.608063  310.205326  305.817786  309.672895   517100   \n",
      "2023-03-31  310.865875  311.023634  308.479819  310.589805   606700   \n",
      "2023-04-03  312.630768  314.050564  309.820783  310.126430  1135200   \n",
      "\n",
      "Price      News_Sentiment  \n",
      "Ticker                     \n",
      "Date                       \n",
      "2023-03-28            1.0  \n",
      "2023-03-29           None  \n",
      "2023-03-30           None  \n",
      "2023-03-31            0.0  \n",
      "2023-04-03           None  \n"
     ]
    },
    {
     "name": "stderr",
     "output_type": "stream",
     "text": [
      "\n",
      "[*********************100%***********************]  1 of 1 completed"
     ]
    },
    {
     "name": "stdout",
     "output_type": "stream",
     "text": [
      "Data for APO saved as APO_30_years.csv\n",
      "Price           Close       High        Low       Open   Volume News_Sentiment\n",
      "Ticker            APO        APO        APO        APO      APO               \n",
      "Date                                                                          \n",
      "2023-03-28  57.080658  57.370410  56.423892  56.906808  1269200            1.0\n",
      "2023-03-29  58.587357  58.625991  57.428358  57.978882  2869700            0.0\n",
      "2023-03-30  59.350365  59.630457  58.635648  59.331048  2559800            1.0\n",
      "2023-03-31  61.001930  61.166124  59.746350  59.958834  2414400            0.4\n",
      "2023-04-03  60.267906  61.117836  59.562846  60.934329  1798500           None\n"
     ]
    },
    {
     "name": "stderr",
     "output_type": "stream",
     "text": [
      "\n",
      "[*********************100%***********************]  1 of 1 completed"
     ]
    },
    {
     "name": "stdout",
     "output_type": "stream",
     "text": [
      "Data for APA saved as APA_30_years.csv\n",
      "Price           Close       High        Low       Open   Volume News_Sentiment\n",
      "Ticker            APA        APA        APA        APA      APA               \n",
      "Date                                                                          \n",
      "2023-03-28  33.700539  34.076030  32.855677  32.977713  4842000            1.0\n",
      "2023-03-29  33.709919  34.254386  33.522172  34.151125  7361000           0.25\n",
      "2023-03-30  33.212391  34.338872  33.109130  34.263771  6746500           -1.0\n",
      "2023-03-31  33.850731  33.878892  33.231167  33.569108  6416300            0.2\n",
      "2023-04-03  36.798351  37.051810  35.869004  35.897168  9725600            1.0\n"
     ]
    },
    {
     "name": "stderr",
     "output_type": "stream",
     "text": [
      "\n"
     ]
    },
    {
     "name": "stdout",
     "output_type": "stream",
     "text": [
      "Data for AMAT saved as AMAT_30_years.csv\n",
      "Price            Close        High         Low        Open   Volume  \\\n",
      "Ticker            AMAT        AMAT        AMAT        AMAT     AMAT   \n",
      "Date                                                                  \n",
      "2023-03-28  114.441833  117.057081  113.635628  116.889943  5523800   \n",
      "2023-03-29  117.833786  118.974275  115.385677  116.722798  7865300   \n",
      "2023-03-30  120.055763  121.304395  119.298713  119.947613  6213800   \n",
      "2023-03-31  120.763657  121.442044  118.964441  119.475689  5016500   \n",
      "2023-04-03  120.262245  120.380229  118.571179  119.583850  5146800   \n",
      "\n",
      "Price      News_Sentiment  \n",
      "Ticker                     \n",
      "Date                       \n",
      "2023-03-28           None  \n",
      "2023-03-29           None  \n",
      "2023-03-30           None  \n",
      "2023-03-31           None  \n",
      "2023-04-03           None  \n"
     ]
    },
    {
     "name": "stderr",
     "output_type": "stream",
     "text": [
      "[*********************100%***********************]  1 of 1 completed\n",
      "[*********************100%***********************]  1 of 1 completed"
     ]
    },
    {
     "name": "stdout",
     "output_type": "stream",
     "text": [
      "Data for ACGL saved as ACGL_30_years.csv\n",
      "Price           Close       High        Low       Open   Volume News_Sentiment\n",
      "Ticker           ACGL       ACGL       ACGL       ACGL     ACGL               \n",
      "Date                                                                          \n",
      "2023-03-28  63.529530  63.577077  62.550105  63.006540  1056100           None\n",
      "2023-03-29  64.470924  64.623064  63.881365  64.166637  1304300           None\n",
      "2023-03-30  64.527977  64.898827  63.596093  64.518466  1315200           None\n",
      "2023-03-31  64.537483  65.497885  63.719710  64.566009  2787600            0.0\n",
      "2023-04-03  65.241150  65.631015  64.594539  64.594539  1773800           None\n"
     ]
    },
    {
     "name": "stderr",
     "output_type": "stream",
     "text": [
      "\n",
      "[*********************100%***********************]  1 of 1 completed"
     ]
    },
    {
     "name": "stdout",
     "output_type": "stream",
     "text": [
      "Data for APTV saved as APTV_30_years.csv\n",
      "Price            Close        High         Low        Open   Volume  \\\n",
      "Ticker            APTV        APTV        APTV        APTV     APTV   \n",
      "Date                                                                  \n",
      "2023-03-28  107.980003  109.169998  107.500000  108.570000  1292600   \n",
      "2023-03-29  109.559998  109.900002  108.120003  109.680000  1934100   \n",
      "2023-03-30  109.900002  111.870003  109.430000  111.349998  1379100   \n",
      "2023-03-31  112.190002  112.309998  110.279999  110.750000  2585000   \n",
      "2023-04-03  110.489998  112.580002  109.779999  111.120003  1927000   \n",
      "\n",
      "Price      News_Sentiment  \n",
      "Ticker                     \n",
      "Date                       \n",
      "2023-03-28            0.0  \n",
      "2023-03-29           None  \n",
      "2023-03-30           None  \n",
      "2023-03-31           -1.0  \n",
      "2023-04-03           None  \n"
     ]
    },
    {
     "name": "stderr",
     "output_type": "stream",
     "text": [
      "\n",
      "[*********************100%***********************]  1 of 1 completed"
     ]
    },
    {
     "name": "stdout",
     "output_type": "stream",
     "text": [
      "Data for AAPL saved as AAPL_30_years.csv\n",
      "Price            Close        High         Low        Open    Volume  \\\n",
      "Ticker            AAPL        AAPL        AAPL        AAPL      AAPL   \n",
      "Date                                                                   \n",
      "2023-03-28  156.076004  156.907629  154.422679  156.392816  45992200   \n",
      "2023-03-29  159.164902  159.442105  157.759081  157.778870  51305700   \n",
      "2023-03-30  160.738983  160.847886  159.659869  159.917268  49501700   \n",
      "2023-03-31  163.253632  163.352639  160.293493  160.818201  68749800   \n",
      "2023-04-03  164.510941  164.629738  162.580413  162.629916  56976200   \n",
      "\n",
      "Price      News_Sentiment  \n",
      "Ticker                     \n",
      "Date                       \n",
      "2023-03-28           -0.2  \n",
      "2023-03-29            0.0  \n",
      "2023-03-30            0.0  \n",
      "2023-03-31           -0.2  \n",
      "2023-04-03           -0.6  \n"
     ]
    },
    {
     "name": "stderr",
     "output_type": "stream",
     "text": [
      "\n",
      "[*********************100%***********************]  1 of 1 completed"
     ]
    },
    {
     "name": "stdout",
     "output_type": "stream",
     "text": [
      "Data for ADM saved as ADM_30_years.csv\n",
      "Price           Close       High        Low       Open   Volume News_Sentiment\n",
      "Ticker            ADM        ADM        ADM        ADM      ADM               \n",
      "Date                                                                          \n",
      "2023-03-28  73.680336  74.149339  73.051867  73.061249  2037000           None\n",
      "2023-03-29  74.093056  74.740282  73.867936  74.543302  2011800           -1.0\n",
      "2023-03-30  74.543297  74.759034  74.064912  74.336934  2526000            1.0\n",
      "2023-03-31  74.721519  75.462537  74.243135  75.002917  3416600            1.0\n",
      "2023-04-03  75.434410  76.194200  74.665246  74.665246  2094500           None\n"
     ]
    },
    {
     "name": "stderr",
     "output_type": "stream",
     "text": [
      "\n",
      "[*********************100%***********************]  1 of 1 completed"
     ]
    },
    {
     "name": "stdout",
     "output_type": "stream",
     "text": [
      "Data for AJG saved as AJG_30_years.csv\n",
      "Price            Close        High         Low        Open   Volume  \\\n",
      "Ticker             AJG         AJG         AJG         AJG      AJG   \n",
      "Date                                                                  \n",
      "2023-03-28  183.166779  183.304261  182.096363  182.263320   628500   \n",
      "2023-03-29  185.602158  185.690536  183.559550  184.197873   653600   \n",
      "2023-03-30  186.260147  186.427089  183.520312  186.142309   921600   \n",
      "2023-03-31  187.870636  187.929555  186.053904  186.996637   935600   \n",
      "2023-04-03  189.785583  190.374803  186.584197  187.418922  1001400   \n",
      "\n",
      "Price      News_Sentiment  \n",
      "Ticker                     \n",
      "Date                       \n",
      "2023-03-28           None  \n",
      "2023-03-29           None  \n",
      "2023-03-30           None  \n",
      "2023-03-31           None  \n",
      "2023-04-03           None  \n"
     ]
    },
    {
     "name": "stderr",
     "output_type": "stream",
     "text": [
      "\n",
      "[*********************100%***********************]  1 of 1 completed"
     ]
    },
    {
     "name": "stdout",
     "output_type": "stream",
     "text": [
      "Data for AIZ saved as AIZ_30_years.csv\n",
      "Price            Close        High         Low        Open  Volume  \\\n",
      "Ticker             AIZ         AIZ         AIZ         AIZ     AIZ   \n",
      "Date                                                                 \n",
      "2023-03-28  112.221695  112.395607  110.096097  110.096097  509400   \n",
      "2023-03-29  114.202339  114.588812  112.511526  113.854514  469000   \n",
      "2023-03-30  114.637138  115.564669  113.902840  114.840035  490900   \n",
      "2023-03-31  116.009102  116.511512  114.820699  115.439060  476200   \n",
      "2023-04-03  114.782066  116.994610  114.356945  115.980126  462800   \n",
      "\n",
      "Price      News_Sentiment  \n",
      "Ticker                     \n",
      "Date                       \n",
      "2023-03-28           None  \n",
      "2023-03-29           -1.0  \n",
      "2023-03-30           None  \n",
      "2023-03-31           None  \n",
      "2023-04-03           None  \n"
     ]
    },
    {
     "name": "stderr",
     "output_type": "stream",
     "text": [
      "\n",
      "[*********************100%***********************]  1 of 1 completed"
     ]
    },
    {
     "name": "stdout",
     "output_type": "stream",
     "text": [
      "Data for ANET saved as ANET_30_years.csv\n",
      "Price           Close       High        Low       Open    Volume  \\\n",
      "Ticker           ANET       ANET       ANET       ANET      ANET   \n",
      "Date                                                               \n",
      "2023-03-28  40.750000  41.590000  40.259998  41.497501  15169600   \n",
      "2023-03-29  40.625000  41.257500  40.334999  41.212502  14022400   \n",
      "2023-03-30  40.622501  40.974998  40.452499  40.875000  11673200   \n",
      "2023-03-31  41.965000  42.014999  40.182499  40.636250  12121600   \n",
      "2023-04-03  41.935001  42.080002  41.257500  41.412498  12870800   \n",
      "\n",
      "Price      News_Sentiment  \n",
      "Ticker                     \n",
      "Date                       \n",
      "2023-03-28           None  \n",
      "2023-03-29            1.0  \n",
      "2023-03-30           None  \n",
      "2023-03-31      -0.333333  \n",
      "2023-04-03           None  \n"
     ]
    },
    {
     "name": "stderr",
     "output_type": "stream",
     "text": [
      "\n",
      "[*********************100%***********************]  1 of 1 completed"
     ]
    },
    {
     "name": "stdout",
     "output_type": "stream",
     "text": [
      "Data for ATO saved as ATO_30_years.csv\n",
      "Price            Close        High         Low        Open   Volume  \\\n",
      "Ticker             ATO         ATO         ATO         ATO      ATO   \n",
      "Date                                                                  \n",
      "2023-03-28  104.494240  105.481648  104.019525  104.437276   584200   \n",
      "2023-03-29  105.889908  106.250696  105.016434  105.044916   577000   \n",
      "2023-03-30  106.279182  106.753897  105.643059  105.984854   690400   \n",
      "2023-03-31  106.677948  106.734911  105.158862  106.668452  1245300   \n",
      "2023-04-03  105.491158  107.057718  105.291778  106.307668   645500   \n",
      "\n",
      "Price      News_Sentiment  \n",
      "Ticker                     \n",
      "Date                       \n",
      "2023-03-28            0.8  \n",
      "2023-03-29            0.0  \n",
      "2023-03-30            0.0  \n",
      "2023-03-31            0.6  \n",
      "2023-04-03           -1.0  \n"
     ]
    },
    {
     "name": "stderr",
     "output_type": "stream",
     "text": [
      "\n",
      "[*********************100%***********************]  1 of 1 completed"
     ]
    },
    {
     "name": "stdout",
     "output_type": "stream",
     "text": [
      "Data for T saved as T_30_years.csv\n",
      "Price           Close       High        Low       Open    Volume  \\\n",
      "Ticker              T          T          T          T         T   \n",
      "Date                                                               \n",
      "2023-03-28  16.547197  16.785859  16.547197  16.653270  21547200   \n",
      "2023-03-29  16.794701  16.838897  16.644432  16.670951  23149400   \n",
      "2023-03-30  16.865416  16.918451  16.777022  16.803541  19736300   \n",
      "2023-03-31  17.015682  17.015682  16.821218  16.900772  27130900   \n",
      "2023-04-03  17.139433  17.218987  16.971487  17.033362  31102500   \n",
      "\n",
      "Price      News_Sentiment  \n",
      "Ticker                     \n",
      "Date                       \n",
      "2023-03-28            0.2  \n",
      "2023-03-29            0.2  \n",
      "2023-03-30            0.6  \n",
      "2023-03-31           -0.2  \n",
      "2023-04-03           -0.2  \n"
     ]
    },
    {
     "name": "stderr",
     "output_type": "stream",
     "text": [
      "\n",
      "[*********************100%***********************]  1 of 1 completed"
     ]
    },
    {
     "name": "stdout",
     "output_type": "stream",
     "text": [
      "Data for ADSK saved as ADSK_30_years.csv\n",
      "Price            Close        High         Low        Open   Volume  \\\n",
      "Ticker            ADSK        ADSK        ADSK        ADSK     ADSK   \n",
      "Date                                                                  \n",
      "2023-03-28  197.270004  197.820007  195.130005  196.750000  1463000   \n",
      "2023-03-29  199.160004  199.940002  197.619995  199.610001  1206600   \n",
      "2023-03-30  201.610001  202.820007  200.119995  201.070007  1072900   \n",
      "2023-03-31  208.160004  208.380005  202.009995  202.779999  1871100   \n",
      "2023-04-03  207.580002  207.860001  204.339996  205.089996  1472600   \n",
      "\n",
      "Price      News_Sentiment  \n",
      "Ticker                     \n",
      "Date                       \n",
      "2023-03-28           None  \n",
      "2023-03-29           None  \n",
      "2023-03-30            0.0  \n",
      "2023-03-31           None  \n",
      "2023-04-03           None  \n"
     ]
    },
    {
     "name": "stderr",
     "output_type": "stream",
     "text": [
      "\n",
      "[*********************100%***********************]  1 of 1 completed"
     ]
    },
    {
     "name": "stdout",
     "output_type": "stream",
     "text": [
      "Data for AZO saved as AZO_30_years.csv\n",
      "Price             Close         High          Low         Open  Volume  \\\n",
      "Ticker              AZO          AZO          AZO          AZO     AZO   \n",
      "Date                                                                     \n",
      "2023-03-28  2405.219971  2411.489990  2370.919922  2370.919922  139900   \n",
      "2023-03-29  2395.370117  2406.070068  2380.530029  2394.449951  167100   \n",
      "2023-03-30  2406.189941  2418.330078  2395.729980  2398.199951  132300   \n",
      "2023-03-31  2458.149902  2460.149902  2414.340088  2416.209961  186700   \n",
      "2023-04-03  2511.540039  2530.320068  2465.000000  2466.439941  207100   \n",
      "\n",
      "Price      News_Sentiment  \n",
      "Ticker                     \n",
      "Date                       \n",
      "2023-03-28           None  \n",
      "2023-03-29            1.0  \n",
      "2023-03-30           None  \n",
      "2023-03-31           -1.0  \n",
      "2023-04-03            0.0  \n"
     ]
    },
    {
     "name": "stderr",
     "output_type": "stream",
     "text": [
      "\n",
      "[*********************100%***********************]  1 of 1 completed"
     ]
    },
    {
     "name": "stdout",
     "output_type": "stream",
     "text": [
      "Data for ADP saved as ADP_30_years.csv\n",
      "Price            Close        High         Low        Open   Volume  \\\n",
      "Ticker             ADP         ADP         ADP         ADP      ADP   \n",
      "Date                                                                  \n",
      "2023-03-28  204.960800  206.654853  203.716595  205.372356  1130100   \n",
      "2023-03-29  210.464066  211.277598  205.774331  206.836701  1724400   \n",
      "2023-03-30  210.071671  212.282546  209.353853  211.105329  1408600   \n",
      "2023-03-31  213.076904  213.210896  210.377904  211.440274  1782800   \n",
      "2023-04-03  207.506668  209.650555  205.908330  209.162430  2592000   \n",
      "\n",
      "Price      News_Sentiment  \n",
      "Ticker                     \n",
      "Date                       \n",
      "2023-03-28            0.2  \n",
      "2023-03-29           -1.0  \n",
      "2023-03-30            0.0  \n",
      "2023-03-31            0.0  \n",
      "2023-04-03       0.333333  \n"
     ]
    },
    {
     "name": "stderr",
     "output_type": "stream",
     "text": [
      "\n",
      "[*********************100%***********************]  1 of 1 completed"
     ]
    },
    {
     "name": "stdout",
     "output_type": "stream",
     "text": [
      "Data for AVB saved as AVB_30_years.csv\n",
      "Price            Close        High         Low        Open   Volume  \\\n",
      "Ticker             AVB         AVB         AVB         AVB      AVB   \n",
      "Date                                                                  \n",
      "2023-03-28  146.606659  148.526373  145.879763  146.485507   805300   \n",
      "2023-03-29  151.154327  151.387303  148.703438  149.188016   814500   \n",
      "2023-03-30  153.705719  154.308264  152.773665  153.009034   520700   \n",
      "2023-03-31  158.224792  158.431919  154.562444  154.562444  1381400   \n",
      "2023-04-03  157.302170  160.361974  156.850264  158.413107  1225000   \n",
      "\n",
      "Price      News_Sentiment  \n",
      "Ticker                     \n",
      "Date                       \n",
      "2023-03-28           None  \n",
      "2023-03-29           None  \n",
      "2023-03-30           None  \n",
      "2023-03-31           None  \n",
      "2023-04-03           None  \n"
     ]
    },
    {
     "name": "stderr",
     "output_type": "stream",
     "text": [
      "\n"
     ]
    },
    {
     "name": "stdout",
     "output_type": "stream",
     "text": [
      "Data for AVY saved as AVY_30_years.csv\n",
      "Price            Close        High         Low        Open  Volume  \\\n",
      "Ticker             AVY         AVY         AVY         AVY     AVY   \n",
      "Date                                                                 \n",
      "2023-03-28  166.777878  167.869941  165.772776  166.352644  305000   \n",
      "2023-03-29  167.367401  168.633445  166.903516  168.498144  406200   \n",
      "2023-03-30  168.314514  169.309942  168.014921  168.459474  298400   \n",
      "2023-03-31  172.924423  173.185365  168.904060  169.474254  420800   \n",
      "2023-04-03  172.373535  173.890832  171.368448  171.755017  433600   \n",
      "\n",
      "Price      News_Sentiment  \n",
      "Ticker                     \n",
      "Date                       \n",
      "2023-03-28            0.0  \n",
      "2023-03-29           -0.4  \n",
      "2023-03-30           -1.0  \n",
      "2023-03-31            1.0  \n",
      "2023-04-03           None  \n"
     ]
    },
    {
     "name": "stderr",
     "output_type": "stream",
     "text": [
      "[*********************100%***********************]  1 of 1 completed\n"
     ]
    },
    {
     "name": "stdout",
     "output_type": "stream",
     "text": [
      "Data for AXON saved as AXON_30_years.csv\n",
      "Price            Close        High         Low        Open   Volume  \\\n",
      "Ticker            AXON        AXON        AXON        AXON     AXON   \n",
      "Date                                                                  \n",
      "2023-03-28  215.600006  218.990005  214.779999  217.619995   448000   \n",
      "2023-03-29  216.830002  219.070007  215.820007  217.860001   835400   \n",
      "2023-03-30  217.699997  219.389999  216.250000  219.300003   572600   \n",
      "2023-03-31  224.850006  227.559998  218.410004  219.639999  1411200   \n",
      "2023-04-03  227.389999  227.490005  221.990005  223.979996   537100   \n",
      "\n",
      "Price      News_Sentiment  \n",
      "Ticker                     \n",
      "Date                       \n",
      "2023-03-28           None  \n",
      "2023-03-29           None  \n",
      "2023-03-30           None  \n",
      "2023-03-31           None  \n",
      "2023-04-03           None  \n"
     ]
    },
    {
     "name": "stderr",
     "output_type": "stream",
     "text": [
      "[*********************100%***********************]  1 of 1 completed\n"
     ]
    },
    {
     "name": "stdout",
     "output_type": "stream",
     "text": [
      "Data for BKR saved as BKR_30_years.csv\n",
      "Price           Close       High        Low       Open    Volume  \\\n",
      "Ticker            BKR        BKR        BKR        BKR       BKR   \n",
      "Date                                                               \n",
      "2023-03-28  26.274673  26.331833  25.836446  25.845971   9917300   \n",
      "2023-03-29  26.836754  26.874860  26.369945  26.712907  11312700   \n",
      "2023-03-30  27.389297  27.522671  27.036808  27.236870  10210400   \n",
      "2023-03-31  27.494095  27.646522  27.236873  27.551255   7258500   \n",
      "2023-04-03  28.494398  29.075528  28.361025  28.751620   8779400   \n",
      "\n",
      "Price      News_Sentiment  \n",
      "Ticker                     \n",
      "Date                       \n",
      "2023-03-28           None  \n",
      "2023-03-29           None  \n",
      "2023-03-30           None  \n",
      "2023-03-31           None  \n",
      "2023-04-03           None  \n"
     ]
    },
    {
     "name": "stderr",
     "output_type": "stream",
     "text": [
      "[*********************100%***********************]  1 of 1 completed\n",
      "\n",
      "1 Failed download:\n",
      "['BRK.B']: YFTzMissingError('possibly delisted; no timezone found')\n",
      "[*********************100%***********************]  1 of 1 completed\n"
     ]
    },
    {
     "name": "stdout",
     "output_type": "stream",
     "text": [
      "Data for BRK.B saved as BRK.B_30_years.csv\n",
      "Empty DataFrame\n",
      "Columns: [(Adj Close, BRK.B), (Close, BRK.B), (High, BRK.B), (Low, BRK.B), (Open, BRK.B), (Volume, BRK.B), (News_Sentiment, )]\n",
      "Index: []\n"
     ]
    },
    {
     "name": "stderr",
     "output_type": "stream",
     "text": [
      "[*********************100%***********************]  1 of 1 completed"
     ]
    },
    {
     "name": "stdout",
     "output_type": "stream",
     "text": [
      "Data for BALL saved as BALL_30_years.csv\n",
      "Price           Close       High        Low       Open   Volume News_Sentiment\n",
      "Ticker           BALL       BALL       BALL       BALL     BALL               \n",
      "Date                                                                          \n",
      "2023-03-28  51.857910  51.887101  50.972531  51.050369  1009300           None\n",
      "2023-03-29  52.441677  52.860043  52.169250  52.295734  1286200           None\n",
      "2023-03-30  52.811390  53.113004  52.354109  52.996252  1002100           None\n",
      "2023-03-31  53.618938  53.657857  52.908690  53.142194  1101900           None\n",
      "2023-04-03  53.589752  53.998387  53.288138  53.434078  1384500           None\n"
     ]
    },
    {
     "name": "stderr",
     "output_type": "stream",
     "text": [
      "\n",
      "[*********************100%***********************]  1 of 1 completed"
     ]
    },
    {
     "name": "stdout",
     "output_type": "stream",
     "text": [
      "Data for BAC saved as BAC_30_years.csv\n",
      "Price           Close       High        Low       Open    Volume  \\\n",
      "Ticker            BAC        BAC        BAC        BAC       BAC   \n",
      "Date                                                               \n",
      "2023-03-28  26.598761  27.100087  26.466333  26.844693  63416500   \n",
      "2023-03-29  27.119007  27.213598  26.712269  26.948744  62666400   \n",
      "2023-03-30  26.769024  27.487910  26.589304  27.355484  67427100   \n",
      "2023-03-31  27.052795  27.128467  26.731189  27.071714  56482100   \n",
      "2023-04-03  27.043333  27.412234  26.797398  27.090627  51996800   \n",
      "\n",
      "Price      News_Sentiment  \n",
      "Ticker                     \n",
      "Date                       \n",
      "2023-03-28           None  \n",
      "2023-03-29           None  \n",
      "2023-03-30           None  \n",
      "2023-03-31           None  \n",
      "2023-04-03           None  \n"
     ]
    },
    {
     "name": "stderr",
     "output_type": "stream",
     "text": [
      "\n"
     ]
    },
    {
     "name": "stdout",
     "output_type": "stream",
     "text": [
      "Data for BAX saved as BAX_30_years.csv\n",
      "Price           Close       High        Low       Open   Volume News_Sentiment\n",
      "Ticker            BAX        BAX        BAX        BAX      BAX               \n",
      "Date                                                                          \n",
      "2023-03-28  37.702530  38.052594  37.532230  37.740375  2860400           None\n",
      "2023-03-29  38.355347  38.421574  37.579536  37.759296  4161700           None\n",
      "2023-03-30  38.137733  38.894621  38.090425  38.781089  4395800           None\n",
      "2023-03-31  38.374268  38.449955  38.099894  38.298577  4620100           None\n",
      "2023-04-03  37.825523  38.648639  37.693068  38.629720  6032200           None\n"
     ]
    },
    {
     "name": "stderr",
     "output_type": "stream",
     "text": [
      "[*********************100%***********************]  1 of 1 completed\n"
     ]
    }
   ],
   "source": [
    "\n",
    "# Initialize sentiment analyzer\n",
    "analyzer = SentimentIntensityAnalyzer()\n",
    "\n",
    "# List to store CSV filenames\n",
    "csvs = []\n",
    "\n",
    "# Function to process each ticker\n",
    "def process_ticker(ticker):\n",
    "    try:\n",
    "        # Download stock data for the company\n",
    "        data = yf.download(ticker, start=\"1994-03-28\", end=\"2024-03-28\")\n",
    "\n",
    "        # Add a column for News_Sentiment (initialize with None)\n",
    "        data['News_Sentiment'] = None\n",
    "\n",
    "        # Loop through all dates in the data (rows)\n",
    "        for idx, row in data.iterrows():\n",
    "            date = row.name.date()  # Extract date from the index\n",
    "            \n",
    "            # Fetch news articles related to the ticker (adjust for date)\n",
    "            url = f\"https://news.google.com/rss/search?q={ticker}+stock+market+news+{date}\"\n",
    "            feed = feedparser.parse(url)\n",
    "\n",
    "            # Check if feed entries exist\n",
    "            if feed.entries:\n",
    "                # List to store sentiment values for news articles on that date\n",
    "                news_sentiments = []\n",
    "\n",
    "                # Loop through the articles (top 5 articles)\n",
    "                for entry in feed.entries[:5]:\n",
    "                    # Perform sentiment analysis on the article title\n",
    "                    sentiment_score = analyzer.polarity_scores(entry.title)['compound']  # Compound score: -1 to 1\n",
    "                    \n",
    "                    # Classify sentiment into three categories: Negative, Neutral, Positive\n",
    "                    if sentiment_score <= -0.05:\n",
    "                        sentiment = -1  # Negative\n",
    "                    elif sentiment_score >= 0.05:\n",
    "                        sentiment = 1  # Positive\n",
    "                    else:\n",
    "                        sentiment = 0  # Neutral\n",
    "                    \n",
    "                    news_sentiments.append(sentiment)\n",
    "\n",
    "                # If fewer than 5 articles, fill with None\n",
    "                news_sentiments = news_sentiments[:5]\n",
    "                news_sentiments.extend([None] * (5 - len(news_sentiments)))  # Pad with None if fewer than 5\n",
    "\n",
    "                # Add the average sentiment score for the articles for this date\n",
    "                # Filter out None values before summing them to avoid errors\n",
    "                valid_sentiments = [s for s in news_sentiments if s is not None]\n",
    "                if valid_sentiments:  # Check if there are any valid sentiments\n",
    "                    data.at[idx, 'News_Sentiment'] = sum(valid_sentiments) / len(valid_sentiments)\n",
    "                else:\n",
    "                    data.at[idx, 'News_Sentiment'] = None  # Assign None if no valid sentiments\n",
    "\n",
    "        # Save the updated data back to the CSV file\n",
    "        filename = f\"{ticker}_30_years.csv\"\n",
    "        data.to_csv(filename)\n",
    "\n",
    "        # Add the CSV file name to the list\n",
    "        csvs.append(filename)\n",
    "\n",
    "        # Print the data with News_Sentiment as the last column\n",
    "        print(f\"Data for {ticker} saved as {filename}\")\n",
    "        print(data[['Close', 'High', 'Low', 'Open', 'Volume', 'News_Sentiment']].tail(10))  # Display last 10 rows of the data\n",
    "\n",
    "    except Exception as e:\n",
    "        print(f\"Error downloading data for {ticker}: {e}\")\n",
    "\n",
    "# Use ThreadPoolExecutor to process tickers concurrently\n",
    "with concurrent.futures.ThreadPoolExecutor(max_workers=5) as executor:\n",
    "    # Submit all tasks to the executor (using map to process tickers concurrently)\n",
    "    executor.map(process_ticker, sp500_tickers)\n",
    "\n",
    "# Now csvs list contains all the file names of the saved CSVs"
   ]
  },
  {
   "cell_type": "code",
   "execution_count": 24,
   "id": "4e67d79e-7e1c-4a1a-8698-20be9b0c2aa4",
   "metadata": {
    "scrolled": true
   },
   "outputs": [
    {
     "name": "stdout",
     "output_type": "stream",
     "text": [
      "{'BEAAPI': {'Request': {'RequestParam': [{'ParameterName': 'USERID', 'ParameterValue': '23805343-5968-48CB-8CDF-66DF31BF6430'}, {'ParameterName': 'METHOD', 'ParameterValue': 'GETDATA'}, {'ParameterName': 'DATASETNAME', 'ParameterValue': 'REGIONALDATA'}, {'ParameterName': 'TABLENAME', 'ParameterValue': 'T10301'}, {'ParameterName': 'FREQUENCY', 'ParameterValue': 'A'}, {'ParameterName': 'YEAR', 'ParameterValue': 'ALL'}, {'ParameterName': 'RESULTFORMAT', 'ParameterValue': 'JSON'}, {'ParameterName': 'SHOWMILLIONS', 'ParameterValue': 'N'}]}, 'Results': {'Error': {'APIErrorCode': '21', 'APIErrorDescription': 'The Dataset requested is currently disabled - try again later.'}}}}\n",
      "  TableName SeriesCode LineNumber         LineDescription TimePeriod  \\\n",
      "0    T10106     A191RX          1  Gross domestic product       1929   \n",
      "1    T10106     A191RX          1  Gross domestic product       1930   \n",
      "2    T10106     A191RX          1  Gross domestic product       1931   \n",
      "3    T10106     A191RX          1  Gross domestic product       1932   \n",
      "4    T10106     A191RX          1  Gross domestic product       1933   \n",
      "\n",
      "       METRIC_NAME CL_UNIT UNIT_MULT  DataValue NoteRef  Year  \n",
      "0  Chained Dollars   Level         6  1,191,124  T10106  1929  \n",
      "1  Chained Dollars   Level         6  1,089,785  T10106  1930  \n",
      "2  Chained Dollars   Level         6  1,019,977  T10106  1931  \n",
      "3  Chained Dollars   Level         6    888,414  T10106  1932  \n",
      "4  Chained Dollars   Level         6    877,431  T10106  1933  \n"
     ]
    }
   ],
   "source": [
    "#BEA Key 23805343-5968-48CB-8CDF-66DF31BF6430\n",
    "\n",
    "import numpy as np\n",
    "\n",
    "url = \"https://apps.bea.gov/api/data\"\n",
    "\n",
    "def fetch_bea_data(params):\n",
    "   \n",
    "    response = requests.get(url, params=params)\n",
    "    \n",
    "    # Check if the response is successful and contains the expected data\n",
    "    if response.status_code == 200:\n",
    "        data = response.json()\n",
    "        \n",
    "        # Ensure 'Results' key exists and contains 'Data'\n",
    "        if 'BEAAPI' in data and 'Results' in data['BEAAPI']:\n",
    "            results = data['BEAAPI']['Results']\n",
    "            if 'Data' in results:\n",
    "                return results['Data']\n",
    "            else:\n",
    "                print(\"Error: 'Data' key not found in the response.\")\n",
    "        else:\n",
    "            print(\"Error: 'Results' key not found in the response.\")\n",
    "    else:\n",
    "        print(f\"Error fetching data: {response.status_code}\")\n",
    "    return []\n",
    "\n",
    "# Define parameters for the state income data\n",
    "gdp_params = {\n",
    "    'USERID': '23805343-5968-48CB-8CDF-66DF31BF6430',\n",
    "    'METHOD': 'GETDATA',\n",
    "    'DATASETNAME': 'NIPA',\n",
    "    'TABLENAME': 'T10106',  # GDP data\n",
    "    'FREQUENCY': 'A',  # Annual frequency\n",
    "    'YEAR': 'ALL',  # All available years\n",
    "    'RESULTFORMAT': 'JSON',  # Return data in JSON format\n",
    "    'ShowMillions': 'N'  # Data in actual values, not millions\n",
    "}\n",
    "\n",
    "params = {'USERID': '23805343-5968-48CB-8CDF-66DF31BF6430',  # Your unique API key\n",
    "    'METHOD': 'GETDATA',\n",
    "    'DATASETNAME': 'RegionalData',\n",
    "    'TABLENAME': 'T10301',  # State GDP data\n",
    "    'FREQUENCY': 'A',  # Annual frequency\n",
    "    'YEAR': 'ALL',  # Get data for all available years\n",
    "    'RESULTFORMAT': 'JSON',  # Return data in JSON format\n",
    "    'ShowMillions': 'N'  # Data in actual values, not millions\n",
    "}\n",
    "\n",
    "response = requests.get(base_url, params=params)\n",
    "\n",
    "if response.status_code == 200:\n",
    "    data = response.json()  # Parse the JSON response\n",
    "    print(data)\n",
    "else:\n",
    "    print(f\"Error: {response.status_code}, {response.text}\")\n",
    "\n",
    "# Fetch GDP data\n",
    "gdp_data = fetch_bea_data(gdp_params)\n",
    "\n",
    "# Check if any data was returned before proceeding\n",
    "if gdp_data:\n",
    "    gdp_df = pd.DataFrame(gdp_data)\n",
    "    gdp_df['Year'] = gdp_df['TimePeriod'].astype(int)\n",
    "    print(gdp_df.head())\n",
    "else:\n",
    "    print(\"No data found for GDP.\")"
   ]
  },
  {
   "cell_type": "code",
   "execution_count": null,
   "id": "c3598b9f-86ca-43c9-8341-993dbacfc193",
   "metadata": {},
   "outputs": [],
   "source": []
  }
 ],
 "metadata": {
  "kernelspec": {
   "display_name": "Python 3 (ipykernel)",
   "language": "python",
   "name": "python3"
  },
  "language_info": {
   "codemirror_mode": {
    "name": "ipython",
    "version": 3
   },
   "file_extension": ".py",
   "mimetype": "text/x-python",
   "name": "python",
   "nbconvert_exporter": "python",
   "pygments_lexer": "ipython3",
   "version": "3.10.5"
  }
 },
 "nbformat": 4,
 "nbformat_minor": 5
}
